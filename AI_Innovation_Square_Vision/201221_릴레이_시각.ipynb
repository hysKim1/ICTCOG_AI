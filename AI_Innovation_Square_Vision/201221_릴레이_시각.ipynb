{
 "cells": [
  {
   "cell_type": "markdown",
   "metadata": {
    "id": "jI9B9NkWggMA"
   },
   "source": [
    "# [AI Innovation Square 릴레이 온라인 특강: 시각] \n",
    "\n",
    "\n",
    "##  5. Transfer Learning\n",
    "\n",
    "인공지능의 미래\n",
    "- Andrew Ng : Transfer Learning\n",
    "- Yann LeCun: Unsupervised Learning\n",
    "\n",
    "\n",
    "### Transfer Learning\n",
    "- 기존에 학습한 모델을 가져와서 새로운 모델을 만듦\n",
    "    - 기존의 학습된 모델의 가중치가 변함\n",
    "- 단순한 feature에서 점점더 구체적인 추상화된 feature 추출해서 영상에서는 잘 됨\n",
    "    - Fully connected 교체\n",
    "        - 데이터가 적고 유사한 경우\n",
    "        - 이미 학습된 데이터의 feature map 그대로 사용\n",
    "        - 재훈련 불필요\n",
    "            - include_top=False\n",
    "            - trainalbe =False\n",
    "    - Feature Extrat 일부 교체(미세 조정)\n",
    "        - 데이터가 많고 유사한 경우\n",
    "    - 구조 \n",
    "        - 데이터가 많고 상이한 경우\n",
    "\n",
    "### Incremental Learning\n",
    "- 기존의 모델에 추가해서 학습\n",
    "- eg. Knowledge Distillation 지식 증류 기술 :선생님 모델이 제자에게 필요한 액기스만\n",
    "\n",
    "> 피터노빅: 데이터가 알고리즘보다 중요하다\n",
    "\n",
    "\n",
    "#### 경량화\n",
    "- TF Lite: 모바일, IoT용 으로 학습 용도가 아님\n",
    "- ETRI 경량 딥러닝 기술 동향.pdf 참고\n",
    "- feasibility 테스트 이후 경량화\n",
    "- 단순화, 정확도 낮음\n",
    "\n",
    "\n",
    "\n",
    "## 1. tf.keras.applications\n",
    "\n",
    "\n",
    "- [전이학습 및 미세조정 참고](https://www.tensorflow.org/tutorials/images/transfer_learning?hl=ko)\n",
    "- 개, 고양이 모델\n",
    "    - imagenet에 이미 개,고양이 데이터 학습 시켰어서 높은 정확도\n",
    "    - 데이터가 유사하고 적은 경우\n",
    "- binary classificaiton ( 개1, 고양이 0)"
   ]
  },
  {
   "cell_type": "code",
   "execution_count": 1,
   "metadata": {
    "id": "_qw0Jv6SggMI"
   },
   "outputs": [],
   "source": [
    "import tensorflow as tf\n",
    "import tensorflow_datasets as tfds"
   ]
  },
  {
   "cell_type": "markdown",
   "metadata": {
    "id": "iof-fXqmggMJ"
   },
   "source": [
    "tensorflow_datasets\n",
    "- tf.data.Dataset 오브젝트를 리턴\n",
    "    - prefetch 사용 가능\n",
    "- holdout"
   ]
  },
  {
   "cell_type": "code",
   "execution_count": null,
   "metadata": {
    "id": "WSYuLlWkggMK"
   },
   "outputs": [],
   "source": [
    "(raw_train, raw_validation, raw_test), metadata = tfds.load(\n",
    "    'cats_vs_dogs',\n",
    "    split=['train[:80%]', 'train[80%:90%]', 'train[90%:]'],\n",
    "    with_info=True,\n",
    "    as_supervised=True,\n",
    ")"
   ]
  },
  {
   "cell_type": "markdown",
   "metadata": {
    "id": "b3nYq5aOggMK"
   },
   "source": [
    "### imbalanced dataset\n",
    "- 과적합 발생 가능\n",
    "- 층화계층법(stratified sampling)\n",
    "- data shift : 학습, 검정 데이터 비율 상이\n",
    "- 클래스 비율에 맞춰 나누어"
   ]
  },
  {
   "cell_type": "code",
   "execution_count": null,
   "metadata": {
    "id": "mvOlhm4fggML"
   },
   "outputs": [],
   "source": [
    "import mglearn"
   ]
  },
  {
   "cell_type": "code",
   "execution_count": null,
   "metadata": {
    "id": "okU1vVDOggMM",
    "outputId": "382c57b3-03ad-47c6-aee6-255ee1c5d27e"
   },
   "outputs": [
    {
     "data": {
      "image/png": "[encoded data removed]",
      "text/plain": [
       "<Figure size 864x360 with 2 Axes>"
      ]
     },
     "metadata": {
      "needs_background": "light",
      "tags": []
     },
     "output_type": "display_data"
    }
   ],
   "source": [
    "mglearn.plot_cross_validation.plot_stratified_cross_validation()"
   ]
  },
  {
   "cell_type": "code",
   "execution_count": null,
   "metadata": {},
   "outputs": [],
   "source": [
    "IMG_SIZE = 160 # 모든 이미지는 160x160으로 크기가 조정됩니다\n",
    "\n",
    "def format_example(image, label):\n",
    "  image = tf.cast(image, tf.float32)\n",
    "  image = (image/127.5) - 1\n",
    "  image = tf.image.resize(image, (IMG_SIZE, IMG_SIZE))\n",
    "  return image, label"
   ]
  },
  {
   "cell_type": "code",
   "execution_count": null,
   "metadata": {},
   "outputs": [],
   "source": [
    "train = raw_train.map(format_example)\n",
    "validation = raw_validation.map(format_example)\n",
    "test = raw_test.map(format_example)"
   ]
  },
  {
   "cell_type": "code",
   "execution_count": null,
   "metadata": {},
   "outputs": [],
   "source": [
    "BATCH_SIZE = 32\n",
    "SHUFFLE_BUFFER_SIZE = 1000\n",
    "\n",
    "train_batches = train.shuffle(SHUFFLE_BUFFER_SIZE).batch(BATCH_SIZE)\n",
    "validation_batches = validation.batch(BATCH_SIZE)\n",
    "test_batches = test.batch(BATCH_SIZE)\n"
   ]
  },
  {
   "cell_type": "code",
   "execution_count": null,
   "metadata": {},
   "outputs": [],
   "source": [
    "for image_batch, label_batch in train_batches.take(1):\n",
    "   pass\n",
    "\n",
    "image_batch.shape"
   ]
  },
  {
   "cell_type": "markdown",
   "metadata": {},
   "source": [
    "#### 1. Fully connected 교체"
   ]
  },
  {
   "cell_type": "code",
   "execution_count": null,
   "metadata": {},
   "outputs": [],
   "source": [
    "IMG_SIZE = 160\n",
    "IMG_SHAPE = (IMG_SIZE, IMG_SIZE, 3)\n",
    "\n",
    "# 사전 훈련된 모델 MobileNet V2에서 기본 모델을 생성합니다.\n",
    "base_model = tf.keras.applications.MobileNetV2(input_shape=IMG_SHAPE,\n",
    "                                               include_top=False,\n",
    "                                               weights='imagenet')\n",
    "feature_batch = base_model(image_batch)\n",
    "print(feature_batch.shape)"
   ]
  },
  {
   "cell_type": "code",
   "execution_count": null,
   "metadata": {},
   "outputs": [],
   "source": [
    "base_model.trainable = False\n",
    "# 기본 모델 아키텍처를 살펴봅니다.\n",
    "base_model.summary()"
   ]
  },
  {
   "cell_type": "code",
   "execution_count": null,
   "metadata": {},
   "outputs": [],
   "source": [
    "global_average_layer = tf.keras.layers.GlobalAveragePooling2D()\n",
    "feature_batch_average = global_average_layer(feature_batch)\n",
    "print(feature_batch_average.shape)"
   ]
  },
  {
   "cell_type": "code",
   "execution_count": null,
   "metadata": {},
   "outputs": [],
   "source": [
    "model = tf.keras.Sequential([\n",
    "  base_model,\n",
    "  tf.keras.layers.GlobalAveragePooling2D(),\n",
    "  tf.keras.layers.Dense(1)\n",
    "])"
   ]
  },
  {
   "cell_type": "markdown",
   "metadata": {},
   "source": [
    "#### 2. Finetuning "
   ]
  },
  {
   "cell_type": "code",
   "execution_count": null,
   "metadata": {},
   "outputs": [],
   "source": [
    "base_model.trainable = True\n",
    "\n",
    "fine_tune_at = 100\n",
    "for layer in base_model.layers[:fine_tune_at]:\n",
    "  layer.trainable =  False"
   ]
  },
  {
   "cell_type": "markdown",
   "metadata": {},
   "source": [
    "---\n",
    "## 2. Tensorflow Hub\n",
    "- https://www.tensorflow.org/hub\n",
    "    - TensorFlow로 만들어진 모델, 데이터셋 제공\n",
    "    - 사용 쉬움\n",
    "    - https://tfhub.dev/s?subtype=module,placeholder\n",
    "    \n",
    "- ImageNet 분류기\n",
    "    - classification: 전체\n",
    "    - feature_vector: feature extractor  "
   ]
  },
  {
   "cell_type": "code",
   "execution_count": null,
   "metadata": {},
   "outputs": [],
   "source": [
    "classifier_url =\"https://tfhub.dev/google/tf2-preview/mobilenet_v2/classification/2\" \n",
    "IMAGE_SHAPE = (224, 224)\n",
    "\n",
    "classifier = tf.keras.Sequential([\n",
    "    hub.KerasLayer(classifier_url, input_shape=IMAGE_SHAPE+(3,))\n",
    "])"
   ]
  },
  {
   "cell_type": "markdown",
   "metadata": {
    "id": "9d6QYTynggMe"
   },
   "source": [
    "### headless model\n",
    "- 분류기 없이 feature extractor만 존재        \n",
    "- mobilenet_v2 \n",
    "- image classification\n",
    "- fine tunable            \n",
    "- feature_vector"
   ]
  },
  {
   "cell_type": "code",
   "execution_count": 3,
   "metadata": {
    "id": "NeIBO7GNggMe"
   },
   "outputs": [],
   "source": [
    "#함수형 패러다임\n",
    "feature_extractor_url = \"https://tfhub.dev/google/tf2-preview/mobilenet_v2/feature_vector/2\" \n",
    "\n",
    "feature_extractor_layer = hub.KerasLayer(feature_extractor_url,\n",
    "                                         input_shape=(224,224,3))"
   ]
  },
  {
   "cell_type": "code",
   "execution_count": 14,
   "metadata": {
    "colab": {
     "base_uri": "https://localhost:8080/"
    },
    "id": "sR3Gm9aAggMf",
    "outputId": "c8bf30ca-677d-4214-d5f2-f0c3f81423d3"
   },
   "outputs": [
    {
     "name": "stdout",
     "output_type": "stream",
     "text": [
      "Model: \"sequential\"\n",
      "_________________________________________________________________\n",
      "Layer (type)                 Output Shape              Param #   \n",
      "=================================================================\n",
      "keras_layer_1 (KerasLayer)   (None, 1280)              2257984   \n",
      "_________________________________________________________________\n",
      "dense (Dense)                (None, 5)                 6405      \n",
      "=================================================================\n",
      "Total params: 2,264,389\n",
      "Trainable params: 6,405\n",
      "Non-trainable params: 2,257,984\n",
      "_________________________________________________________________\n"
     ]
    }
   ],
   "source": [
    "feature_extractor_layer.trainable = False\n",
    "\n",
    "model = tf.keras.Sequential([\n",
    "  feature_extractor_layer,\n",
    "  tf.keras.layers.Dense(image_data.num_classes, activation='softmax')\n",
    "])\n",
    "\n",
    "model.summary()"
   ]
  },
  {
   "cell_type": "markdown",
   "metadata": {
    "id": "8x80MrUjggMM"
   },
   "source": [
    "boosting\n",
    "- 데이터 랜덤 샘플링해서 모델 생성\n",
    "- 모델이 잘 분류 못하는 데이터에 가중치 "
   ]
  },
  {
   "cell_type": "markdown",
   "metadata": {
    "id": "g8s1r_3BggMO"
   },
   "source": [
    "\n",
    "\n",
    "### Data Augmentation\n",
    "- Augmentor\n",
    "    - 외부 라이브러리\n",
    "- OpenCV : 하나하나 구현해서 만듦\n",
    "- Scikit-image\n",
    "- pytorch, TensorFlow에서 제공 \n",
    "\n",
    "1. tf.keras.preprocessing.image.image.ImageDataGenerator\n",
    "    -  keras에서 제공\n",
    "    - GPU 활용 가능\n",
    "    > Python Iterator, Generator\n",
    "    - 데이터가 많은 경우 하나식 메모리에 올려서 효율적 관리"
   ]
  },
  {
   "cell_type": "markdown",
   "metadata": {
    "id": "tbVyJecMggMP"
   },
   "source": [
    "### ImageDataGenerator\n",
    "- 데이터 생성, 정해진 타겟 사이즈 만큼 생성,\n",
    "- 데이터가 많은 경우 하나식 메모리에 올려서 효율적 관리"
   ]
  },
  {
   "cell_type": "markdown",
   "metadata": {
    "id": "2kiKj6seggMP"
   },
   "source": [
    "generator\n",
    "1. tuple comp\n",
    "2. yield"
   ]
  },
  {
   "cell_type": "code",
   "execution_count": null,
   "metadata": {
    "id": "iGIoZHoSggMP"
   },
   "outputs": [],
   "source": [
    "a=(x for x in range(10))"
   ]
  },
  {
   "cell_type": "code",
   "execution_count": null,
   "metadata": {
    "id": "m3IifwQvggMQ",
    "outputId": "f6597506-a134-43b1-a52e-49a70d0f7006"
   },
   "outputs": [
    {
     "data": {
      "text/plain": [
       "0"
      ]
     },
     "execution_count": 9,
     "metadata": {
      "tags": []
     },
     "output_type": "execute_result"
    }
   ],
   "source": [
    "next(a)"
   ]
  },
  {
   "cell_type": "code",
   "execution_count": null,
   "metadata": {
    "id": "_9-qIJ0CggMQ",
    "outputId": "cd127bbd-a59d-4dba-8fdc-08af466fffe6",
    "scrolled": true
   },
   "outputs": [
    {
     "name": "stdout",
     "output_type": "stream",
     "text": [
      "1\n",
      "2\n",
      "3\n",
      "4\n",
      "5\n",
      "6\n",
      "7\n",
      "8\n",
      "9\n"
     ]
    }
   ],
   "source": [
    "for i in a:\n",
    "    print(i)"
   ]
  },
  {
   "cell_type": "code",
   "execution_count": null,
   "metadata": {
    "id": "nEyFwzdHggMR",
    "outputId": "b5005cc4-8f85-42c3-de65-c33e7056ecc6"
   },
   "outputs": [
    {
     "data": {
      "text/plain": [
       "['__class__',\n",
       " '__del__',\n",
       " '__delattr__',\n",
       " '__dir__',\n",
       " '__doc__',\n",
       " '__eq__',\n",
       " '__format__',\n",
       " '__ge__',\n",
       " '__getattribute__',\n",
       " '__gt__',\n",
       " '__hash__',\n",
       " '__init__',\n",
       " '__init_subclass__',\n",
       " '__iter__',\n",
       " '__le__',\n",
       " '__lt__',\n",
       " '__name__',\n",
       " '__ne__',\n",
       " '__new__',\n",
       " '__next__',\n",
       " '__qualname__',\n",
       " '__reduce__',\n",
       " '__reduce_ex__',\n",
       " '__repr__',\n",
       " '__setattr__',\n",
       " '__sizeof__',\n",
       " '__str__',\n",
       " '__subclasshook__',\n",
       " 'close',\n",
       " 'gi_code',\n",
       " 'gi_frame',\n",
       " 'gi_running',\n",
       " 'gi_yieldfrom',\n",
       " 'send',\n",
       " 'throw']"
      ]
     },
     "execution_count": 28,
     "metadata": {
      "tags": []
     },
     "output_type": "execute_result"
    }
   ],
   "source": [
    "dir(a) #__next__"
   ]
  },
  {
   "cell_type": "code",
   "execution_count": null,
   "metadata": {
    "id": "A_Qe9WdGggMS"
   },
   "outputs": [],
   "source": [
    "def x():\n",
    "    yield 1\n",
    "    yield 2"
   ]
  },
  {
   "cell_type": "code",
   "execution_count": null,
   "metadata": {
    "id": "NtcBrXh1ggMT",
    "outputId": "173f6888-cd2d-4304-f09a-24c83fa7a457"
   },
   "outputs": [
    {
     "data": {
      "text/plain": [
       "1"
      ]
     },
     "execution_count": 7,
     "metadata": {
      "tags": []
     },
     "output_type": "execute_result"
    }
   ],
   "source": [
    "t=x()\n",
    "next(t)"
   ]
  },
  {
   "cell_type": "markdown",
   "metadata": {
    "id": "0HegvRjtkB7h"
   },
   "source": [
    "- scaling \n",
    "    - zero-centered [-1,1]\n",
    "        - [0,1] 에서 항상 양수이면 zigzag현상 방지\n",
    "        \n",
    "        \n",
    "- 텐서플로 허브와 전이학습 참고: https://www.tensorflow.org/tutorials/images/transfer_learning_with_hub?hl=kozz"
   ]
  },
  {
   "cell_type": "code",
   "execution_count": 9,
   "metadata": {
    "colab": {
     "base_uri": "https://localhost:8080/"
    },
    "id": "Su5MIGYwggMU",
    "outputId": "69bcbfac-d51f-4d0a-de69-35233a16a7e7"
   },
   "outputs": [
    {
     "name": "stdout",
     "output_type": "stream",
     "text": [
      "Downloading data from https://storage.googleapis.com/download.tensorflow.org/example_images/flower_photos.tgz\n",
      "228818944/228813984 [==============================] - 1s 0us/step\n"
     ]
    }
   ],
   "source": [
    "data_root = tf.keras.utils.get_file(\n",
    "  'flower_photos','https://storage.googleapis.com/download.tensorflow.org/example_images/flower_photos.tgz',\n",
    "   untar=True)\n",
    "\n",
    "image_generator = tf.keras.preprocessing.image.ImageDataGenerator(rescale=1/255)"
   ]
  },
  {
   "cell_type": "markdown",
   "metadata": {
    "id": "_vjJBE3IggMV"
   },
   "source": [
    "데이터 구성\n",
    "- flow_from_dataframe\n",
    "- flow_from_directory"
   ]
  },
  {
   "cell_type": "code",
   "execution_count": 12,
   "metadata": {
    "colab": {
     "base_uri": "https://localhost:8080/"
    },
    "id": "KYi4R93UggMV",
    "outputId": "6717e38b-4002-4516-8e50-5bdc650cf3f6"
   },
   "outputs": [
    {
     "name": "stdout",
     "output_type": "stream",
     "text": [
      "Found 3670 images belonging to 5 classes.\n"
     ]
    }
   ],
   "source": [
    "#해당 directory에서 \n",
    "IMAGE_SHAPE = (224, 224)\n",
    "\n",
    "image_data = image_generator.flow_from_directory(str(data_root), target_size=IMAGE_SHAPE)"
   ]
  },
  {
   "cell_type": "markdown",
   "metadata": {},
   "source": [
    "이미지 dataset batch 만큼 나눔"
   ]
  },
  {
   "cell_type": "code",
   "execution_count": 13,
   "metadata": {
    "colab": {
     "base_uri": "https://localhost:8080/"
    },
    "id": "LC7ctyFGimB3",
    "outputId": "909d4628-b6eb-4e77-c6de-a141d6fb979f"
   },
   "outputs": [
    {
     "name": "stdout",
     "output_type": "stream",
     "text": [
      "Image batch shape:  (32, 224, 224, 3)\n",
      "Label batch shape:  (32, 5)\n"
     ]
    }
   ],
   "source": [
    "for image_batch, label_batch in image_data:\n",
    "  print(\"Image batch shape: \", image_batch.shape)\n",
    "  print(\"Label batch shape: \", label_batch.shape)\n",
    "  break"
   ]
  },
  {
   "cell_type": "markdown",
   "metadata": {},
   "source": [
    "load_files\n",
    "- 폴더명 기반을 분류\n",
    "- EDA에 load_files불편"
   ]
  },
  {
   "cell_type": "code",
   "execution_count": 1,
   "metadata": {
    "id": "ErKztW23ggMW"
   },
   "outputs": [],
   "source": [
    "from sklearn.datasets import load_digits, load_files"
   ]
  },
  {
   "cell_type": "code",
   "execution_count": null,
   "metadata": {
    "id": "Ps7ODl0vggMW"
   },
   "outputs": [],
   "source": [
    "data=load_digits()"
   ]
  },
  {
   "cell_type": "code",
   "execution_count": null,
   "metadata": {
    "id": "apiTD2h0ggMX",
    "outputId": "855e6235-0585-4504-99f5-0fb5e3b5508c"
   },
   "outputs": [
    {
     "data": {
      "text/plain": [
       "['DESCR', 'data', 'feature_names', 'frame', 'images', 'target', 'target_names']"
      ]
     },
     "execution_count": 21,
     "metadata": {
      "tags": []
     },
     "output_type": "execute_result"
    }
   ],
   "source": [
    "dir(data)"
   ]
  },
  {
   "cell_type": "code",
   "execution_count": null,
   "metadata": {
    "id": "nvHvFh7ZggMX"
   },
   "outputs": [],
   "source": [
    "fi=load_files( ) #파일별로 저장하면 판다스에서 "
   ]
  },
  {
   "cell_type": "code",
   "execution_count": null,
   "metadata": {
    "id": "qJZFxkDqggMY",
    "outputId": "de078481-a53f-4aa7-c4fe-a559dd9c1146",
    "scrolled": true
   },
   "outputs": [
    {
     "data": {
      "text/html": [
       "<div>\n",
       "<style scoped>\n",
       "    .dataframe tbody tr th:only-of-type {\n",
       "        vertical-align: middle;\n",
       "    }\n",
       "\n",
       "    .dataframe tbody tr th {\n",
       "        vertical-align: top;\n",
       "    }\n",
       "\n",
       "    .dataframe thead th {\n",
       "        text-align: right;\n",
       "    }\n",
       "</style>\n",
       "<table border=\"1\" class=\"dataframe\">\n",
       "  <thead>\n",
       "    <tr style=\"text-align: right;\">\n",
       "      <th></th>\n",
       "      <th>0</th>\n",
       "      <th>1</th>\n",
       "      <th>2</th>\n",
       "      <th>3</th>\n",
       "      <th>4</th>\n",
       "      <th>5</th>\n",
       "      <th>6</th>\n",
       "      <th>7</th>\n",
       "      <th>8</th>\n",
       "      <th>9</th>\n",
       "      <th>...</th>\n",
       "      <th>56</th>\n",
       "      <th>57</th>\n",
       "      <th>58</th>\n",
       "      <th>59</th>\n",
       "      <th>60</th>\n",
       "      <th>61</th>\n",
       "      <th>62</th>\n",
       "      <th>63</th>\n",
       "      <th>target</th>\n",
       "      <th>location</th>\n",
       "    </tr>\n",
       "  </thead>\n",
       "  <tbody>\n",
       "    <tr>\n",
       "      <th>0</th>\n",
       "      <td>0.0</td>\n",
       "      <td>0.0</td>\n",
       "      <td>5.0</td>\n",
       "      <td>13.0</td>\n",
       "      <td>9.0</td>\n",
       "      <td>1.0</td>\n",
       "      <td>0.0</td>\n",
       "      <td>0.0</td>\n",
       "      <td>0.0</td>\n",
       "      <td>0.0</td>\n",
       "      <td>...</td>\n",
       "      <td>0.0</td>\n",
       "      <td>0.0</td>\n",
       "      <td>6.0</td>\n",
       "      <td>13.0</td>\n",
       "      <td>10.0</td>\n",
       "      <td>0.0</td>\n",
       "      <td>0.0</td>\n",
       "      <td>0.0</td>\n",
       "      <td>0</td>\n",
       "      <td>/example</td>\n",
       "    </tr>\n",
       "    <tr>\n",
       "      <th>1</th>\n",
       "      <td>0.0</td>\n",
       "      <td>0.0</td>\n",
       "      <td>0.0</td>\n",
       "      <td>12.0</td>\n",
       "      <td>13.0</td>\n",
       "      <td>5.0</td>\n",
       "      <td>0.0</td>\n",
       "      <td>0.0</td>\n",
       "      <td>0.0</td>\n",
       "      <td>0.0</td>\n",
       "      <td>...</td>\n",
       "      <td>0.0</td>\n",
       "      <td>0.0</td>\n",
       "      <td>0.0</td>\n",
       "      <td>11.0</td>\n",
       "      <td>16.0</td>\n",
       "      <td>10.0</td>\n",
       "      <td>0.0</td>\n",
       "      <td>0.0</td>\n",
       "      <td>1</td>\n",
       "      <td>/example</td>\n",
       "    </tr>\n",
       "    <tr>\n",
       "      <th>2</th>\n",
       "      <td>0.0</td>\n",
       "      <td>0.0</td>\n",
       "      <td>0.0</td>\n",
       "      <td>4.0</td>\n",
       "      <td>15.0</td>\n",
       "      <td>12.0</td>\n",
       "      <td>0.0</td>\n",
       "      <td>0.0</td>\n",
       "      <td>0.0</td>\n",
       "      <td>0.0</td>\n",
       "      <td>...</td>\n",
       "      <td>0.0</td>\n",
       "      <td>0.0</td>\n",
       "      <td>0.0</td>\n",
       "      <td>3.0</td>\n",
       "      <td>11.0</td>\n",
       "      <td>16.0</td>\n",
       "      <td>9.0</td>\n",
       "      <td>0.0</td>\n",
       "      <td>2</td>\n",
       "      <td>/example</td>\n",
       "    </tr>\n",
       "    <tr>\n",
       "      <th>3</th>\n",
       "      <td>0.0</td>\n",
       "      <td>0.0</td>\n",
       "      <td>7.0</td>\n",
       "      <td>15.0</td>\n",
       "      <td>13.0</td>\n",
       "      <td>1.0</td>\n",
       "      <td>0.0</td>\n",
       "      <td>0.0</td>\n",
       "      <td>0.0</td>\n",
       "      <td>8.0</td>\n",
       "      <td>...</td>\n",
       "      <td>0.0</td>\n",
       "      <td>0.0</td>\n",
       "      <td>7.0</td>\n",
       "      <td>13.0</td>\n",
       "      <td>13.0</td>\n",
       "      <td>9.0</td>\n",
       "      <td>0.0</td>\n",
       "      <td>0.0</td>\n",
       "      <td>3</td>\n",
       "      <td>/example</td>\n",
       "    </tr>\n",
       "    <tr>\n",
       "      <th>4</th>\n",
       "      <td>0.0</td>\n",
       "      <td>0.0</td>\n",
       "      <td>0.0</td>\n",
       "      <td>1.0</td>\n",
       "      <td>11.0</td>\n",
       "      <td>0.0</td>\n",
       "      <td>0.0</td>\n",
       "      <td>0.0</td>\n",
       "      <td>0.0</td>\n",
       "      <td>0.0</td>\n",
       "      <td>...</td>\n",
       "      <td>0.0</td>\n",
       "      <td>0.0</td>\n",
       "      <td>0.0</td>\n",
       "      <td>2.0</td>\n",
       "      <td>16.0</td>\n",
       "      <td>4.0</td>\n",
       "      <td>0.0</td>\n",
       "      <td>0.0</td>\n",
       "      <td>4</td>\n",
       "      <td>/example</td>\n",
       "    </tr>\n",
       "    <tr>\n",
       "      <th>...</th>\n",
       "      <td>...</td>\n",
       "      <td>...</td>\n",
       "      <td>...</td>\n",
       "      <td>...</td>\n",
       "      <td>...</td>\n",
       "      <td>...</td>\n",
       "      <td>...</td>\n",
       "      <td>...</td>\n",
       "      <td>...</td>\n",
       "      <td>...</td>\n",
       "      <td>...</td>\n",
       "      <td>...</td>\n",
       "      <td>...</td>\n",
       "      <td>...</td>\n",
       "      <td>...</td>\n",
       "      <td>...</td>\n",
       "      <td>...</td>\n",
       "      <td>...</td>\n",
       "      <td>...</td>\n",
       "      <td>...</td>\n",
       "      <td>...</td>\n",
       "    </tr>\n",
       "    <tr>\n",
       "      <th>1792</th>\n",
       "      <td>0.0</td>\n",
       "      <td>0.0</td>\n",
       "      <td>4.0</td>\n",
       "      <td>10.0</td>\n",
       "      <td>13.0</td>\n",
       "      <td>6.0</td>\n",
       "      <td>0.0</td>\n",
       "      <td>0.0</td>\n",
       "      <td>0.0</td>\n",
       "      <td>1.0</td>\n",
       "      <td>...</td>\n",
       "      <td>0.0</td>\n",
       "      <td>0.0</td>\n",
       "      <td>2.0</td>\n",
       "      <td>14.0</td>\n",
       "      <td>15.0</td>\n",
       "      <td>9.0</td>\n",
       "      <td>0.0</td>\n",
       "      <td>0.0</td>\n",
       "      <td>9</td>\n",
       "      <td>/example</td>\n",
       "    </tr>\n",
       "    <tr>\n",
       "      <th>1793</th>\n",
       "      <td>0.0</td>\n",
       "      <td>0.0</td>\n",
       "      <td>6.0</td>\n",
       "      <td>16.0</td>\n",
       "      <td>13.0</td>\n",
       "      <td>11.0</td>\n",
       "      <td>1.0</td>\n",
       "      <td>0.0</td>\n",
       "      <td>0.0</td>\n",
       "      <td>0.0</td>\n",
       "      <td>...</td>\n",
       "      <td>0.0</td>\n",
       "      <td>0.0</td>\n",
       "      <td>6.0</td>\n",
       "      <td>16.0</td>\n",
       "      <td>14.0</td>\n",
       "      <td>6.0</td>\n",
       "      <td>0.0</td>\n",
       "      <td>0.0</td>\n",
       "      <td>0</td>\n",
       "      <td>/example</td>\n",
       "    </tr>\n",
       "    <tr>\n",
       "      <th>1794</th>\n",
       "      <td>0.0</td>\n",
       "      <td>0.0</td>\n",
       "      <td>1.0</td>\n",
       "      <td>11.0</td>\n",
       "      <td>15.0</td>\n",
       "      <td>1.0</td>\n",
       "      <td>0.0</td>\n",
       "      <td>0.0</td>\n",
       "      <td>0.0</td>\n",
       "      <td>0.0</td>\n",
       "      <td>...</td>\n",
       "      <td>0.0</td>\n",
       "      <td>0.0</td>\n",
       "      <td>2.0</td>\n",
       "      <td>9.0</td>\n",
       "      <td>13.0</td>\n",
       "      <td>6.0</td>\n",
       "      <td>0.0</td>\n",
       "      <td>0.0</td>\n",
       "      <td>8</td>\n",
       "      <td>/example</td>\n",
       "    </tr>\n",
       "    <tr>\n",
       "      <th>1795</th>\n",
       "      <td>0.0</td>\n",
       "      <td>0.0</td>\n",
       "      <td>2.0</td>\n",
       "      <td>10.0</td>\n",
       "      <td>7.0</td>\n",
       "      <td>0.0</td>\n",
       "      <td>0.0</td>\n",
       "      <td>0.0</td>\n",
       "      <td>0.0</td>\n",
       "      <td>0.0</td>\n",
       "      <td>...</td>\n",
       "      <td>0.0</td>\n",
       "      <td>0.0</td>\n",
       "      <td>5.0</td>\n",
       "      <td>12.0</td>\n",
       "      <td>16.0</td>\n",
       "      <td>12.0</td>\n",
       "      <td>0.0</td>\n",
       "      <td>0.0</td>\n",
       "      <td>9</td>\n",
       "      <td>/example</td>\n",
       "    </tr>\n",
       "    <tr>\n",
       "      <th>1796</th>\n",
       "      <td>0.0</td>\n",
       "      <td>0.0</td>\n",
       "      <td>10.0</td>\n",
       "      <td>14.0</td>\n",
       "      <td>8.0</td>\n",
       "      <td>1.0</td>\n",
       "      <td>0.0</td>\n",
       "      <td>0.0</td>\n",
       "      <td>0.0</td>\n",
       "      <td>2.0</td>\n",
       "      <td>...</td>\n",
       "      <td>0.0</td>\n",
       "      <td>1.0</td>\n",
       "      <td>8.0</td>\n",
       "      <td>12.0</td>\n",
       "      <td>14.0</td>\n",
       "      <td>12.0</td>\n",
       "      <td>1.0</td>\n",
       "      <td>0.0</td>\n",
       "      <td>8</td>\n",
       "      <td>/example</td>\n",
       "    </tr>\n",
       "  </tbody>\n",
       "</table>\n",
       "<p>1797 rows × 66 columns</p>\n",
       "</div>"
      ],
      "text/plain": [
       "        0    1     2     3     4     5    6    7    8    9  ...   56   57  \\\n",
       "0     0.0  0.0   5.0  13.0   9.0   1.0  0.0  0.0  0.0  0.0  ...  0.0  0.0   \n",
       "1     0.0  0.0   0.0  12.0  13.0   5.0  0.0  0.0  0.0  0.0  ...  0.0  0.0   \n",
       "2     0.0  0.0   0.0   4.0  15.0  12.0  0.0  0.0  0.0  0.0  ...  0.0  0.0   \n",
       "3     0.0  0.0   7.0  15.0  13.0   1.0  0.0  0.0  0.0  8.0  ...  0.0  0.0   \n",
       "4     0.0  0.0   0.0   1.0  11.0   0.0  0.0  0.0  0.0  0.0  ...  0.0  0.0   \n",
       "...   ...  ...   ...   ...   ...   ...  ...  ...  ...  ...  ...  ...  ...   \n",
       "1792  0.0  0.0   4.0  10.0  13.0   6.0  0.0  0.0  0.0  1.0  ...  0.0  0.0   \n",
       "1793  0.0  0.0   6.0  16.0  13.0  11.0  1.0  0.0  0.0  0.0  ...  0.0  0.0   \n",
       "1794  0.0  0.0   1.0  11.0  15.0   1.0  0.0  0.0  0.0  0.0  ...  0.0  0.0   \n",
       "1795  0.0  0.0   2.0  10.0   7.0   0.0  0.0  0.0  0.0  0.0  ...  0.0  0.0   \n",
       "1796  0.0  0.0  10.0  14.0   8.0   1.0  0.0  0.0  0.0  2.0  ...  0.0  1.0   \n",
       "\n",
       "       58    59    60    61   62   63  target  location  \n",
       "0     6.0  13.0  10.0   0.0  0.0  0.0       0  /example  \n",
       "1     0.0  11.0  16.0  10.0  0.0  0.0       1  /example  \n",
       "2     0.0   3.0  11.0  16.0  9.0  0.0       2  /example  \n",
       "3     7.0  13.0  13.0   9.0  0.0  0.0       3  /example  \n",
       "4     0.0   2.0  16.0   4.0  0.0  0.0       4  /example  \n",
       "...   ...   ...   ...   ...  ...  ...     ...       ...  \n",
       "1792  2.0  14.0  15.0   9.0  0.0  0.0       9  /example  \n",
       "1793  6.0  16.0  14.0   6.0  0.0  0.0       0  /example  \n",
       "1794  2.0   9.0  13.0   6.0  0.0  0.0       8  /example  \n",
       "1795  5.0  12.0  16.0  12.0  0.0  0.0       9  /example  \n",
       "1796  8.0  12.0  14.0  12.0  1.0  0.0       8  /example  \n",
       "\n",
       "[1797 rows x 66 columns]"
      ]
     },
     "execution_count": 25,
     "metadata": {
      "tags": []
     },
     "output_type": "execute_result"
    }
   ],
   "source": [
    "# load_files 예시\n",
    "import pandas as pd\n",
    "data2=pd.DataFrame(data.data )\n",
    "data2['target']=data.target\n",
    "data2['location']='/example'\n",
    "data2#각 8x8 이미지를 한 줄에 저장"
   ]
  },
  {
   "cell_type": "markdown",
   "metadata": {
    "id": "_viPSKiHggMY"
   },
   "source": [
    "- EDA에 load_files불편"
   ]
  },
  {
   "cell_type": "markdown",
   "metadata": {
    "id": "6LvsEz8OggMZ"
   },
   "source": [
    "### closure\n",
    "- ()()\n",
    "- 함수형 패러다임"
   ]
  },
  {
   "cell_type": "code",
   "execution_count": null,
   "metadata": {
    "id": "O3EL1g7kggMa"
   },
   "outputs": [],
   "source": [
    "class A:\n",
    "    def __call__(self):\n",
    "        print('call')"
   ]
  },
  {
   "cell_type": "code",
   "execution_count": null,
   "metadata": {
    "id": "OHHZlhDKggMa"
   },
   "outputs": [],
   "source": [
    "a=A()"
   ]
  },
  {
   "cell_type": "code",
   "execution_count": null,
   "metadata": {
    "id": "AEuBwDhEggMa",
    "outputId": "a06c9a21-82f4-4e84-baee-a4c35daac06d"
   },
   "outputs": [
    {
     "name": "stdout",
     "output_type": "stream",
     "text": [
      "call\n"
     ]
    }
   ],
   "source": [
    "a()"
   ]
  },
  {
   "cell_type": "code",
   "execution_count": null,
   "metadata": {
    "id": "d3BqZ6ecggMb"
   },
   "outputs": [],
   "source": [
    "def x(m):\n",
    "  def y(n):\n",
    "    return m+n\n",
    "  return y"
   ]
  },
  {
   "cell_type": "code",
   "execution_count": null,
   "metadata": {
    "id": "fZ4noa29ggMb",
    "outputId": "d36f1cbc-8f4b-495f-b70b-911d84f76495"
   },
   "outputs": [
    {
     "data": {
      "text/plain": [
       "8"
      ]
     },
     "execution_count": 33,
     "metadata": {
      "tags": []
     },
     "output_type": "execute_result"
    }
   ],
   "source": [
    "x(3)(5)"
   ]
  },
  {
   "cell_type": "code",
   "execution_count": null,
   "metadata": {
    "id": "KzDGfONNggMc"
   },
   "outputs": [],
   "source": [
    "class A:\n",
    "    def __init__(self,m):\n",
    "        self.m=m\n",
    "    def __call__(self,n):\n",
    "        self.m+n"
   ]
  },
  {
   "cell_type": "code",
   "execution_count": null,
   "metadata": {
    "id": "mVWQ2hJUggMc"
   },
   "outputs": [],
   "source": [
    "a=A(3)"
   ]
  },
  {
   "cell_type": "code",
   "execution_count": null,
   "metadata": {
    "id": "MdKyXxfOggMd"
   },
   "outputs": [],
   "source": [
    "a(5)"
   ]
  },
  {
   "cell_type": "markdown",
   "metadata": {
    "id": "E3tOBNdwggMf"
   },
   "source": [
    "- feature extractor 부분은 재학습 하지 않음\n",
    "- feature extractor가 성능이 좋아서 간단한 예측모델 추가"
   ]
  },
  {
   "cell_type": "code",
   "execution_count": 15,
   "metadata": {
    "id": "L7SfLFxYggMf"
   },
   "outputs": [],
   "source": [
    "layers=hub.KerasLayer(\"https://tfhub.dev/google/tf2-preview/mobilenet_v2/feature_vector/2\" )"
   ]
  },
  {
   "cell_type": "code",
   "execution_count": 16,
   "metadata": {
    "colab": {
     "base_uri": "https://localhost:8080/"
    },
    "id": "WtjmbuY9ggMg",
    "outputId": "38935517-ab3c-4448-933a-d4e5929f0791"
   },
   "outputs": [
    {
     "data": {
      "text/plain": [
       "['_TF_MODULE_IGNORED_PROPERTIES',\n",
       " '__call__',\n",
       " '__class__',\n",
       " '__delattr__',\n",
       " '__dict__',\n",
       " '__dir__',\n",
       " '__doc__',\n",
       " '__eq__',\n",
       " '__format__',\n",
       " '__ge__',\n",
       " '__getattribute__',\n",
       " '__getstate__',\n",
       " '__gt__',\n",
       " '__hash__',\n",
       " '__init__',\n",
       " '__init_subclass__',\n",
       " '__le__',\n",
       " '__lt__',\n",
       " '__module__',\n",
       " '__ne__',\n",
       " '__new__',\n",
       " '__reduce__',\n",
       " '__reduce_ex__',\n",
       " '__repr__',\n",
       " '__setattr__',\n",
       " '__setstate__',\n",
       " '__sizeof__',\n",
       " '__str__',\n",
       " '__subclasshook__',\n",
       " '__weakref__',\n",
       " '_activity_regularizer',\n",
       " '_add_existing_weight',\n",
       " '_add_trackable',\n",
       " '_add_variable_with_custom_getter',\n",
       " '_apply_output_shape_if_set',\n",
       " '_arguments',\n",
       " '_auto_track_sub_layers',\n",
       " '_autocast',\n",
       " '_autographed_call',\n",
       " '_build_input_shape',\n",
       " '_call_accepts_kwargs',\n",
       " '_call_arg_was_passed',\n",
       " '_call_fn_arg_defaults',\n",
       " '_call_fn_arg_positions',\n",
       " '_call_fn_args',\n",
       " '_call_full_argspec',\n",
       " '_call_loss_if_trainable',\n",
       " '_callable',\n",
       " '_callable_losses',\n",
       " '_cast_single_input',\n",
       " '_check_trainability',\n",
       " '_checkpoint_dependencies',\n",
       " '_clear_losses',\n",
       " '_compute_dtype',\n",
       " '_compute_dtype_object',\n",
       " '_dedup_weights',\n",
       " '_default_training_arg',\n",
       " '_deferred_dependencies',\n",
       " '_dtype',\n",
       " '_dtype_policy',\n",
       " '_dynamic',\n",
       " '_eager_losses',\n",
       " '_expects_mask_arg',\n",
       " '_expects_training_arg',\n",
       " '_flatten',\n",
       " '_flatten_layers',\n",
       " '_func',\n",
       " '_functional_construction_call',\n",
       " '_gather_children_attribute',\n",
       " '_gather_saveables_for_checkpoint',\n",
       " '_get_call_arg_value',\n",
       " '_get_callable',\n",
       " '_get_existing_metric',\n",
       " '_get_input_masks',\n",
       " '_get_node_attribute_at_index',\n",
       " '_get_save_spec',\n",
       " '_get_trainable_state',\n",
       " '_handle',\n",
       " '_handle_activity_regularization',\n",
       " '_handle_deferred_dependencies',\n",
       " '_handle_weight_regularization',\n",
       " '_has_training_argument',\n",
       " '_inbound_nodes',\n",
       " '_inbound_nodes_value',\n",
       " '_infer_output_signature',\n",
       " '_init_call_fn_args',\n",
       " '_init_set_name',\n",
       " '_initial_weights',\n",
       " '_input_spec',\n",
       " '_instrument_layer_creation',\n",
       " '_instrumented_keras_api',\n",
       " '_instrumented_keras_layer_class',\n",
       " '_instrumented_keras_model_class',\n",
       " '_is_hub_module_v1',\n",
       " '_is_layer',\n",
       " '_keras_api_names',\n",
       " '_keras_api_names_v1',\n",
       " '_keras_tensor_symbolic_call',\n",
       " '_layers',\n",
       " '_list_extra_dependencies_for_serialization',\n",
       " '_list_functions_for_serialization',\n",
       " '_load_options',\n",
       " '_lookup_dependency',\n",
       " '_losses',\n",
       " '_map_resources',\n",
       " '_maybe_build',\n",
       " '_maybe_cast_inputs',\n",
       " '_maybe_create_attribute',\n",
       " '_maybe_initialize_trackable',\n",
       " '_metrics',\n",
       " '_metrics_lock',\n",
       " '_must_restore_from_config',\n",
       " '_name',\n",
       " '_name_based_attribute_restore',\n",
       " '_name_based_restores',\n",
       " '_name_scope',\n",
       " '_no_dependency',\n",
       " '_non_trainable_weights',\n",
       " '_obj_reference_counts',\n",
       " '_obj_reference_counts_dict',\n",
       " '_object_identifier',\n",
       " '_outbound_nodes',\n",
       " '_outbound_nodes_value',\n",
       " '_output_key',\n",
       " '_preload_simple_restoration',\n",
       " '_preserve_input_structure_in_config',\n",
       " '_restore_from_checkpoint_position',\n",
       " '_saved_model_inputs_spec',\n",
       " '_self_name_based_restores',\n",
       " '_self_saveable_object_factories',\n",
       " '_self_setattr_tracking',\n",
       " '_self_unconditional_checkpoint_dependencies',\n",
       " '_self_unconditional_deferred_dependencies',\n",
       " '_self_unconditional_dependency_names',\n",
       " '_self_update_uid',\n",
       " '_set_call_arg_value',\n",
       " '_set_connectivity_metadata',\n",
       " '_set_dtype_policy',\n",
       " '_set_mask_keras_history_checked',\n",
       " '_set_mask_metadata',\n",
       " '_set_save_spec',\n",
       " '_set_trainable_state',\n",
       " '_set_training_mode',\n",
       " '_setattr_tracking',\n",
       " '_setup_layer',\n",
       " '_should_cast_single_input',\n",
       " '_signature',\n",
       " '_signature_outputs_as_dict',\n",
       " '_single_restoration_from_checkpoint_position',\n",
       " '_split_out_first_arg',\n",
       " '_stateful',\n",
       " '_supports_masking',\n",
       " '_symbolic_call',\n",
       " '_tf_api_names',\n",
       " '_tf_api_names_v1',\n",
       " '_thread_local',\n",
       " '_track_trackable',\n",
       " '_trackable_saved_model_saver',\n",
       " '_tracking_metadata',\n",
       " '_trainable',\n",
       " '_trainable_weights',\n",
       " '_unconditional_checkpoint_dependencies',\n",
       " '_unconditional_dependency_names',\n",
       " '_update_uid',\n",
       " '_updates',\n",
       " 'activity_regularizer',\n",
       " 'add_loss',\n",
       " 'add_metric',\n",
       " 'add_update',\n",
       " 'add_variable',\n",
       " 'add_weight',\n",
       " 'apply',\n",
       " 'build',\n",
       " 'built',\n",
       " 'call',\n",
       " 'compute_dtype',\n",
       " 'compute_mask',\n",
       " 'compute_output_shape',\n",
       " 'compute_output_signature',\n",
       " 'count_params',\n",
       " 'dtype',\n",
       " 'dtype_policy',\n",
       " 'dynamic',\n",
       " 'from_config',\n",
       " 'get_config',\n",
       " 'get_input_at',\n",
       " 'get_input_mask_at',\n",
       " 'get_input_shape_at',\n",
       " 'get_losses_for',\n",
       " 'get_output_at',\n",
       " 'get_output_mask_at',\n",
       " 'get_output_shape_at',\n",
       " 'get_updates_for',\n",
       " 'get_weights',\n",
       " 'inbound_nodes',\n",
       " 'input',\n",
       " 'input_mask',\n",
       " 'input_shape',\n",
       " 'input_spec',\n",
       " 'losses',\n",
       " 'metrics',\n",
       " 'name',\n",
       " 'name_scope',\n",
       " 'non_trainable_variables',\n",
       " 'non_trainable_weights',\n",
       " 'outbound_nodes',\n",
       " 'output',\n",
       " 'output_mask',\n",
       " 'output_shape',\n",
       " 'resolved_object',\n",
       " 'set_weights',\n",
       " 'stateful',\n",
       " 'submodules',\n",
       " 'supports_masking',\n",
       " 'trainable',\n",
       " 'trainable_variables',\n",
       " 'trainable_weights',\n",
       " 'updates',\n",
       " 'variable_dtype',\n",
       " 'variables',\n",
       " 'weights',\n",
       " 'with_name_scope']"
      ]
     },
     "execution_count": 16,
     "metadata": {
      "tags": []
     },
     "output_type": "execute_result"
    }
   ],
   "source": [
    "dir(layers)"
   ]
  },
  {
   "cell_type": "code",
   "execution_count": 17,
   "metadata": {
    "colab": {
     "base_uri": "https://localhost:8080/",
     "height": 164
    },
    "id": "ERS7YMLfggMg",
    "outputId": "b65cbd14-90d6-4cfa-e137-1458926297db"
   },
   "outputs": [
    {
     "ename": "NameError",
     "evalue": "ignored",
     "output_type": "error",
     "traceback": [
      "\u001b[0;31m---------------------------------------------------------------------------\u001b[0m",
      "\u001b[0;31mNameError\u001b[0m                                 Traceback (most recent call last)",
      "\u001b[0;32m<ipython-input-17-3798ad3bd626>\u001b[0m in \u001b[0;36m<module>\u001b[0;34m()\u001b[0m\n\u001b[0;32m----> 1\u001b[0;31m \u001b[0mleyers\u001b[0m\u001b[0;34m.\u001b[0m\u001b[0mweights\u001b[0m \u001b[0;31m#260개 layer\u001b[0m\u001b[0;34m\u001b[0m\u001b[0;34m\u001b[0m\u001b[0m\n\u001b[0m",
      "\u001b[0;31mNameError\u001b[0m: name 'leyers' is not defined"
     ]
    }
   ],
   "source": [
    "leyers.weights #260개 layer"
   ]
  },
  {
   "cell_type": "code",
   "execution_count": null,
   "metadata": {
    "id": "hN-7HhoTggMg"
   },
   "outputs": [],
   "source": [
    "len(layers.weights)"
   ]
  },
  {
   "cell_type": "code",
   "execution_count": null,
   "metadata": {
    "id": "7SXzRZ5kggMh"
   },
   "outputs": [],
   "source": [
    "layers.weights[-1] #맨 끝의 레이어는 1차원, Flatten 불필요"
   ]
  },
  {
   "cell_type": "markdown",
   "metadata": {
    "id": "pXn9B4Y9ggMh"
   },
   "source": [
    "모델\n",
    "- 레이어를 list형식으로 저장\n",
    "- 각 레이어별 weight 있음"
   ]
  },
  {
   "cell_type": "code",
   "execution_count": null,
   "metadata": {
    "id": "BapWzZxeggMh"
   },
   "outputs": [],
   "source": [
    " model=tf.keras.models.Sequential([\n",
    "     tf.keras.layers.Conv2D(64,3, input_shape=(20,20,1)),\n",
    "     tf.keras.layers.Conv2D(64,3),\n",
    "     tf.keras.layers.Flatten(),\n",
    "     tf.keras.layers.Dense(1)\n",
    " ])"
   ]
  },
  {
   "cell_type": "code",
   "execution_count": null,
   "metadata": {
    "id": "TRYLb5uLggMi",
    "outputId": "b656df10-d0d3-465d-972a-04641560db38"
   },
   "outputs": [
    {
     "data": {
      "text/plain": [
       "['_TF_MODULE_IGNORED_PROPERTIES',\n",
       " '__call__',\n",
       " '__class__',\n",
       " '__delattr__',\n",
       " '__dict__',\n",
       " '__dir__',\n",
       " '__doc__',\n",
       " '__eq__',\n",
       " '__format__',\n",
       " '__ge__',\n",
       " '__getattribute__',\n",
       " '__getstate__',\n",
       " '__gt__',\n",
       " '__hash__',\n",
       " '__init__',\n",
       " '__init_subclass__',\n",
       " '__le__',\n",
       " '__lt__',\n",
       " '__module__',\n",
       " '__ne__',\n",
       " '__new__',\n",
       " '__reduce__',\n",
       " '__reduce_ex__',\n",
       " '__repr__',\n",
       " '__setattr__',\n",
       " '__setstate__',\n",
       " '__sizeof__',\n",
       " '__str__',\n",
       " '__subclasshook__',\n",
       " '__weakref__',\n",
       " '_activity_regularizer',\n",
       " '_add_trackable',\n",
       " '_add_variable_with_custom_getter',\n",
       " '_assert_compile_was_called',\n",
       " '_assert_weights_created',\n",
       " '_auto_track_sub_layers',\n",
       " '_autocast',\n",
       " '_autographed_call',\n",
       " '_base_model_initialized',\n",
       " '_build_graph_network_for_inferred_shape',\n",
       " '_build_input_shape',\n",
       " '_call_accepts_kwargs',\n",
       " '_call_arg_was_passed',\n",
       " '_call_fn_arg_defaults',\n",
       " '_call_fn_arg_positions',\n",
       " '_call_fn_args',\n",
       " '_call_full_argspec',\n",
       " '_callable_losses',\n",
       " '_cast_single_input',\n",
       " '_check_call_args',\n",
       " '_checkpoint_dependencies',\n",
       " '_clear_losses',\n",
       " '_compile_was_called',\n",
       " '_compiled_trainable_state',\n",
       " '_compute_dtype',\n",
       " '_compute_dtype_object',\n",
       " '_compute_output_and_mask_jointly',\n",
       " '_compute_tensor_usage_count',\n",
       " '_configure_steps_per_execution',\n",
       " '_conform_to_reference_input',\n",
       " '_created_nodes',\n",
       " '_dedup_weights',\n",
       " '_default_training_arg',\n",
       " '_deferred_dependencies',\n",
       " '_distribution_strategy',\n",
       " '_dtype',\n",
       " '_dtype_defaulted_to_floatx',\n",
       " '_dtype_policy',\n",
       " '_dynamic',\n",
       " '_eager_losses',\n",
       " '_enable_dict_to_input_mapping',\n",
       " '_expects_mask_arg',\n",
       " '_expects_training_arg',\n",
       " '_feed_input_names',\n",
       " '_feed_input_shapes',\n",
       " '_feed_inputs',\n",
       " '_flatten',\n",
       " '_flatten_layers',\n",
       " '_flatten_to_reference_inputs',\n",
       " '_functional_construction_call',\n",
       " '_gather_children_attribute',\n",
       " '_gather_saveables_for_checkpoint',\n",
       " '_get_call_arg_value',\n",
       " '_get_callback_model',\n",
       " '_get_compile_args',\n",
       " '_get_distribution_strategy',\n",
       " '_get_existing_metric',\n",
       " '_get_input_masks',\n",
       " '_get_node_attribute_at_index',\n",
       " '_get_optimizer',\n",
       " '_get_save_spec',\n",
       " '_get_trainable_state',\n",
       " '_graph_initialized',\n",
       " '_graph_network_add_loss',\n",
       " '_graph_network_add_metric',\n",
       " '_handle_activity_regularization',\n",
       " '_handle_deferred_dependencies',\n",
       " '_handle_deferred_layer_dependencies',\n",
       " '_handle_weight_regularization',\n",
       " '_has_explicit_input_shape',\n",
       " '_in_multi_worker_mode',\n",
       " '_inbound_nodes',\n",
       " '_infer_output_signature',\n",
       " '_inferred_input_shape',\n",
       " '_init_batch_counters',\n",
       " '_init_call_fn_args',\n",
       " '_init_graph_network',\n",
       " '_init_set_name',\n",
       " '_initial_weights',\n",
       " '_input_coordinates',\n",
       " '_input_dtype',\n",
       " '_input_layers',\n",
       " '_input_spec',\n",
       " '_insert_layers',\n",
       " '_is_compiled',\n",
       " '_is_graph_network',\n",
       " '_is_layer',\n",
       " '_is_layer_name_unique',\n",
       " '_keras_api_names',\n",
       " '_keras_api_names_v1',\n",
       " '_keras_tensor_symbolic_call',\n",
       " '_layer_call_argspecs',\n",
       " '_layer_checkpoint_dependencies',\n",
       " '_layers',\n",
       " '_list_extra_dependencies_for_serialization',\n",
       " '_list_functions_for_serialization',\n",
       " '_lookup_dependency',\n",
       " '_losses',\n",
       " '_map_resources',\n",
       " '_maybe_build',\n",
       " '_maybe_cast_inputs',\n",
       " '_maybe_create_attribute',\n",
       " '_maybe_initialize_trackable',\n",
       " '_maybe_load_initial_epoch_from_ckpt',\n",
       " '_metrics',\n",
       " '_metrics_lock',\n",
       " '_must_restore_from_config',\n",
       " '_name',\n",
       " '_name_based_attribute_restore',\n",
       " '_name_based_restores',\n",
       " '_name_scope',\n",
       " '_nested_inputs',\n",
       " '_nested_outputs',\n",
       " '_network_nodes',\n",
       " '_no_dependency',\n",
       " '_nodes_by_depth',\n",
       " '_non_trainable_weights',\n",
       " '_obj_reference_counts',\n",
       " '_object_identifier',\n",
       " '_outbound_nodes',\n",
       " '_output_coordinates',\n",
       " '_output_layers',\n",
       " '_output_mask_cache',\n",
       " '_output_shape_cache',\n",
       " '_output_tensor_cache',\n",
       " '_predict_counter',\n",
       " '_preload_simple_restoration',\n",
       " '_reset_compile_cache',\n",
       " '_restore_from_checkpoint_position',\n",
       " '_run_eagerly',\n",
       " '_run_internal_graph',\n",
       " '_saved_model_inputs_spec',\n",
       " '_self_setattr_tracking',\n",
       " '_set_call_arg_value',\n",
       " '_set_connectivity_metadata',\n",
       " '_set_dtype_policy',\n",
       " '_set_inputs',\n",
       " '_set_mask_keras_history_checked',\n",
       " '_set_mask_metadata',\n",
       " '_set_output_names',\n",
       " '_set_save_spec',\n",
       " '_set_trainable_state',\n",
       " '_set_training_mode',\n",
       " '_setattr_tracking',\n",
       " '_should_cast_single_input',\n",
       " '_should_compute_mask',\n",
       " '_should_eval',\n",
       " '_single_restoration_from_checkpoint_position',\n",
       " '_split_out_first_arg',\n",
       " '_stateful',\n",
       " '_steps_per_execution',\n",
       " '_supports_masking',\n",
       " '_symbolic_call',\n",
       " '_tensor_usage_count',\n",
       " '_test_counter',\n",
       " '_tf_api_names',\n",
       " '_tf_api_names_v1',\n",
       " '_thread_local',\n",
       " '_track_trackable',\n",
       " '_trackable_saved_model_saver',\n",
       " '_trackable_saver',\n",
       " '_tracking_metadata',\n",
       " '_train_counter',\n",
       " '_trainable',\n",
       " '_trainable_weights',\n",
       " '_training_state',\n",
       " '_unconditional_checkpoint_dependencies',\n",
       " '_unconditional_dependency_names',\n",
       " '_undeduplicated_weights',\n",
       " '_update_uid',\n",
       " '_updated_config',\n",
       " '_updates',\n",
       " '_use_legacy_deferred_behavior',\n",
       " '_validate_compile',\n",
       " '_validate_graph_inputs_and_outputs',\n",
       " '_warn_about_input_casting',\n",
       " 'activity_regularizer',\n",
       " 'add',\n",
       " 'add_loss',\n",
       " 'add_metric',\n",
       " 'add_update',\n",
       " 'add_variable',\n",
       " 'add_weight',\n",
       " 'apply',\n",
       " 'build',\n",
       " 'built',\n",
       " 'call',\n",
       " 'compile',\n",
       " 'compiled_loss',\n",
       " 'compiled_metrics',\n",
       " 'compute_mask',\n",
       " 'compute_output_shape',\n",
       " 'compute_output_signature',\n",
       " 'count_params',\n",
       " 'distribute_strategy',\n",
       " 'dtype',\n",
       " 'dynamic',\n",
       " 'evaluate',\n",
       " 'evaluate_generator',\n",
       " 'fit',\n",
       " 'fit_generator',\n",
       " 'from_config',\n",
       " 'get_config',\n",
       " 'get_input_at',\n",
       " 'get_input_mask_at',\n",
       " 'get_input_shape_at',\n",
       " 'get_layer',\n",
       " 'get_losses_for',\n",
       " 'get_output_at',\n",
       " 'get_output_mask_at',\n",
       " 'get_output_shape_at',\n",
       " 'get_updates_for',\n",
       " 'get_weights',\n",
       " 'history',\n",
       " 'inbound_nodes',\n",
       " 'input',\n",
       " 'input_mask',\n",
       " 'input_names',\n",
       " 'input_shape',\n",
       " 'input_spec',\n",
       " 'inputs',\n",
       " 'layers',\n",
       " 'load_weights',\n",
       " 'losses',\n",
       " 'make_predict_function',\n",
       " 'make_test_function',\n",
       " 'make_train_function',\n",
       " 'metrics',\n",
       " 'metrics_names',\n",
       " 'name',\n",
       " 'name_scope',\n",
       " 'non_trainable_variables',\n",
       " 'non_trainable_weights',\n",
       " 'optimizer',\n",
       " 'outbound_nodes',\n",
       " 'output',\n",
       " 'output_mask',\n",
       " 'output_names',\n",
       " 'output_shape',\n",
       " 'outputs',\n",
       " 'pop',\n",
       " 'predict',\n",
       " 'predict_classes',\n",
       " 'predict_function',\n",
       " 'predict_generator',\n",
       " 'predict_on_batch',\n",
       " 'predict_proba',\n",
       " 'predict_step',\n",
       " 'reset_metrics',\n",
       " 'reset_states',\n",
       " 'run_eagerly',\n",
       " 'save',\n",
       " 'save_weights',\n",
       " 'set_weights',\n",
       " 'state_updates',\n",
       " 'stateful',\n",
       " 'stop_training',\n",
       " 'submodules',\n",
       " 'summary',\n",
       " 'supports_masking',\n",
       " 'test_function',\n",
       " 'test_on_batch',\n",
       " 'test_step',\n",
       " 'to_json',\n",
       " 'to_yaml',\n",
       " 'train_function',\n",
       " 'train_on_batch',\n",
       " 'train_step',\n",
       " 'trainable',\n",
       " 'trainable_variables',\n",
       " 'trainable_weights',\n",
       " 'updates',\n",
       " 'variables',\n",
       " 'weights',\n",
       " 'with_name_scope']"
      ]
     },
     "execution_count": 39,
     "metadata": {
      "tags": []
     },
     "output_type": "execute_result"
    }
   ],
   "source": [
    "dir(model)"
   ]
  },
  {
   "cell_type": "code",
   "execution_count": null,
   "metadata": {
    "id": "bYzuNg8sggMi",
    "outputId": "6ddd24e8-3b24-4a1d-bec4-631261eace81"
   },
   "outputs": [
    {
     "data": {
      "text/plain": [
       "[<tensorflow.python.keras.layers.convolutional.Conv2D at 0x7fe040239f90>,\n",
       " <tensorflow.python.keras.layers.convolutional.Conv2D at 0x7fe041736e10>,\n",
       " <tensorflow.python.keras.layers.core.Flatten at 0x7fe041757690>,\n",
       " <tensorflow.python.keras.layers.core.Dense at 0x7fe041757a10>]"
      ]
     },
     "execution_count": 40,
     "metadata": {
      "tags": []
     },
     "output_type": "execute_result"
    }
   ],
   "source": [
    "model.layers #list"
   ]
  },
  {
   "cell_type": "code",
   "execution_count": null,
   "metadata": {
    "id": "DJw95hTCggMj",
    "outputId": "b740a455-03f1-4431-aeda-009822f12826"
   },
   "outputs": [
    {
     "data": {
      "text/plain": [
       "[<tf.Variable 'conv2d/kernel:0' shape=(3, 3, 1, 64) dtype=float32, numpy=\n",
       " array([[[[-0.07979907, -0.0731146 , -0.07701214,  0.02394105,\n",
       "            0.0221897 , -0.03268258,  0.01338206, -0.02231006,\n",
       "            0.06882338, -0.09744184, -0.03877231, -0.08249616,\n",
       "           -0.07314911, -0.09609616,  0.06468894,  0.10112453,\n",
       "            0.00788815,  0.05014218, -0.04672886,  0.0630293 ,\n",
       "            0.04956587, -0.07703051,  0.0913876 , -0.10071765,\n",
       "            0.07592081,  0.00346789, -0.01722044, -0.07574592,\n",
       "           -0.0945994 , -0.09701931, -0.08427899,  0.01627202,\n",
       "            0.07033879,  0.05075298, -0.05185876,  0.07913567,\n",
       "            0.09940603, -0.09625509,  0.08338954,  0.05682541,\n",
       "            0.0528347 ,  0.02838726, -0.08840139,  0.09825441,\n",
       "           -0.02553517, -0.0868928 , -0.00714106, -0.07976864,\n",
       "           -0.00766323, -0.05434846,  0.0717005 ,  0.04476182,\n",
       "           -0.09515683, -0.00126482,  0.06715859,  0.01553305,\n",
       "            0.0305146 ,  0.04485781, -0.04270015,  0.07616852,\n",
       "           -0.0741569 ,  0.02901131, -0.02988311,  0.01317938]],\n",
       " \n",
       "         [[ 0.07566941,  0.00703281,  0.03451784, -0.10068114,\n",
       "            0.00358922, -0.03816606,  0.00809773,  0.07861777,\n",
       "           -0.09333127,  0.07896723,  0.0954078 , -0.08190874,\n",
       "           -0.0588179 ,  0.08429517,  0.01103656, -0.05724506,\n",
       "            0.0095808 , -0.00688719, -0.05622781,  0.08473441,\n",
       "            0.0609221 ,  0.06222677, -0.03102452, -0.09557112,\n",
       "           -0.04690602,  0.06845722, -0.07967733, -0.04786798,\n",
       "           -0.07469279, -0.01824928, -0.03588882,  0.0734469 ,\n",
       "           -0.05760136, -0.01292238, -0.01947103,  0.08941266,\n",
       "           -0.03574435, -0.04419309,  0.05418164,  0.01620432,\n",
       "           -0.06447703, -0.09600035,  0.0332201 ,  0.03659749,\n",
       "           -0.04208624,  0.05257706,  0.04994145,  0.0999826 ,\n",
       "            0.09663811,  0.04079778, -0.07091641,  0.03487472,\n",
       "           -0.07455257, -0.0072797 ,  0.08024961, -0.10082553,\n",
       "            0.0581695 ,  0.02006984,  0.07024932,  0.00067774,\n",
       "           -0.01472886,  0.08179872,  0.00228179, -0.07412536]],\n",
       " \n",
       "         [[ 0.07797013, -0.04835164, -0.02628921,  0.0872542 ,\n",
       "           -0.00684807, -0.00834447, -0.09332707, -0.06498498,\n",
       "            0.08156085, -0.0025406 , -0.01799923,  0.0794428 ,\n",
       "            0.01786276,  0.05554187,  0.08682632,  0.06560646,\n",
       "           -0.06984131,  0.05529507, -0.02890239, -0.08687071,\n",
       "            0.04989819, -0.09996462,  0.0090692 ,  0.04847904,\n",
       "            0.06279367,  0.05956934, -0.02560166, -0.05238146,\n",
       "           -0.00622343,  0.06576821, -0.09795602, -0.00430226,\n",
       "           -0.07698376, -0.03475854,  0.04070012,  0.09304988,\n",
       "           -0.06718556, -0.07465657,  0.03251217,  0.08732404,\n",
       "           -0.04388417, -0.03899682, -0.09230258, -0.08910688,\n",
       "            0.04959719, -0.05664181, -0.04793824,  0.03510334,\n",
       "            0.03300035,  0.02223835, -0.07619083,  0.08502205,\n",
       "           -0.04614681, -0.0423179 ,  0.016091  ,  0.01908813,\n",
       "            0.05973905, -0.04954112,  0.04190351, -0.01123402,\n",
       "            0.0417051 , -0.08228616, -0.03137118,  0.01311883]]],\n",
       " \n",
       " \n",
       "        [[[ 0.00376   , -0.02762192, -0.09580639, -0.06431971,\n",
       "           -0.02250867,  0.00387993,  0.08036639,  0.06383395,\n",
       "           -0.04004201,  0.01556514, -0.04179741, -0.09168468,\n",
       "           -0.08094232, -0.04366201, -0.09769674,  0.02994972,\n",
       "            0.01791156,  0.03957929, -0.02949195,  0.02674428,\n",
       "            0.00277399, -0.03944394, -0.08121718, -0.00364985,\n",
       "            0.06749061,  0.06251083, -0.09878025, -0.03231682,\n",
       "           -0.02465714,  0.09937385, -0.07283159,  0.06551208,\n",
       "           -0.05700291, -0.09750269,  0.0570377 , -0.04416564,\n",
       "            0.00902717,  0.04524755,  0.03310359, -0.05339193,\n",
       "           -0.0261784 ,  0.03386158,  0.03019258, -0.10009119,\n",
       "           -0.04408673, -0.0185435 ,  0.08538677, -0.05539462,\n",
       "           -0.06880107,  0.01041839, -0.05297156, -0.00362746,\n",
       "            0.07931355, -0.08976673, -0.08641878,  0.08972694,\n",
       "           -0.07059316, -0.06603493, -0.0772894 , -0.08764535,\n",
       "            0.00081938,  0.03527124,  0.09045643, -0.00890177]],\n",
       " \n",
       "         [[ 0.04618341, -0.06356236, -0.02029912, -0.02791344,\n",
       "           -0.00286536, -0.06755054, -0.05333717,  0.05593966,\n",
       "            0.03197393,  0.05821717,  0.04897852,  0.01135127,\n",
       "           -0.05988925, -0.04459396, -0.03056252,  0.02137698,\n",
       "            0.01971958, -0.01067276, -0.0588031 ,  0.00133011,\n",
       "           -0.06912024,  0.08115663, -0.07063007,  0.07261248,\n",
       "           -0.0584682 , -0.09802112, -0.06480089, -0.08495396,\n",
       "           -0.09406909,  0.08327638, -0.00623778, -0.06011247,\n",
       "            0.00743445,  0.06009074,  0.06561585, -0.01482672,\n",
       "           -0.02114651, -0.05227899, -0.03325685, -0.06876183,\n",
       "           -0.04147285,  0.04069702, -0.0954534 , -0.0645542 ,\n",
       "           -0.09790736,  0.09748605, -0.00684422,  0.09161392,\n",
       "            0.07986329, -0.00599178,  0.09564689,  0.04167664,\n",
       "            0.04562508,  0.09903902,  0.0696947 , -0.04939502,\n",
       "           -0.04933499, -0.09133972,  0.05230297, -0.08416817,\n",
       "           -0.09947217,  0.06977858,  0.10037498, -0.01175746]],\n",
       " \n",
       "         [[ 0.04451838, -0.04474895,  0.05811976, -0.03558449,\n",
       "            0.01547467, -0.08987225,  0.00327627,  0.03733908,\n",
       "            0.10062514, -0.05636169,  0.00868244, -0.06990363,\n",
       "           -0.04924319, -0.06153008, -0.023135  ,  0.03742018,\n",
       "            0.06572603, -0.01448938, -0.09366888, -0.07975112,\n",
       "           -0.07279745, -0.00011947,  0.02686873,  0.0503684 ,\n",
       "           -0.03280289,  0.08701406,  0.01580215,  0.01985202,\n",
       "            0.07018957,  0.08298616, -0.01078171,  0.03091229,\n",
       "           -0.00589053,  0.03006177,  0.02817245,  0.02817404,\n",
       "            0.07665111,  0.02211125, -0.05863689,  0.03888656,\n",
       "            0.05207974,  0.0291791 , -0.02647424, -0.06906421,\n",
       "            0.09277213,  0.06483221, -0.01307128, -0.01457901,\n",
       "            0.08462232, -0.07280032, -0.09391963,  0.01507375,\n",
       "           -0.09971865, -0.05782323,  0.01777893, -0.08777574,\n",
       "           -0.0473255 , -0.0584593 ,  0.06813017, -0.03416622,\n",
       "            0.07248013,  0.03362466,  0.00622369, -0.03926889]]],\n",
       " \n",
       " \n",
       "        [[[-0.02627835,  0.05163331, -0.01855499,  0.09421259,\n",
       "            0.07420489,  0.01578419, -0.06133037, -0.00796254,\n",
       "            0.05221587, -0.0564442 ,  0.02013322, -0.03110809,\n",
       "           -0.01438241, -0.00366125, -0.03742289, -0.02275647,\n",
       "            0.0001822 , -0.08134736,  0.02855983, -0.02450657,\n",
       "            0.09451436, -0.02902073, -0.05714877, -0.03925088,\n",
       "           -0.07606544,  0.03274067, -0.09451525,  0.0751882 ,\n",
       "           -0.07932849, -0.00732742, -0.0288182 , -0.05699704,\n",
       "           -0.02383802, -0.04726934, -0.0808983 , -0.04079119,\n",
       "           -0.05972368,  0.03763455,  0.09637171,  0.03943953,\n",
       "           -0.07150989, -0.0867594 , -0.09295262,  0.09484506,\n",
       "            0.01435764,  0.02486041,  0.09889185, -0.09952121,\n",
       "            0.0713982 , -0.00593844,  0.03333887, -0.06603698,\n",
       "           -0.07427599,  0.10073593, -0.02480947,  0.02831712,\n",
       "           -0.05366142,  0.03512953,  0.07795876, -0.03559014,\n",
       "           -0.04713646, -0.00856159, -0.02069268,  0.06446901]],\n",
       " \n",
       "         [[-0.02432892,  0.00669535,  0.033455  , -0.06637236,\n",
       "            0.05763003, -0.04225374, -0.06933109,  0.09413201,\n",
       "           -0.06304131, -0.02102641, -0.06518713,  0.0539885 ,\n",
       "           -0.09234826,  0.08156809,  0.00437588, -0.0111266 ,\n",
       "           -0.0964539 ,  0.05867997,  0.04685056, -0.09259621,\n",
       "            0.07618117, -0.05386905,  0.07286936,  0.002715  ,\n",
       "           -0.03752884,  0.00199708,  0.04901096,  0.00461934,\n",
       "           -0.06987981,  0.02843443, -0.03832612,  0.07480569,\n",
       "            0.0175488 ,  0.05305773, -0.01818245, -0.10049251,\n",
       "            0.041765  , -0.0611878 , -0.09348337,  0.0788382 ,\n",
       "            0.02531339,  0.09480475,  0.00746801,  0.08056751,\n",
       "            0.04792294,  0.07914622, -0.05057651, -0.07292914,\n",
       "            0.07292086, -0.03043472, -0.08145761, -0.09611414,\n",
       "           -0.03215289, -0.02182075, -0.05256963,  0.07535082,\n",
       "            0.02798393, -0.094136  ,  0.09200285,  0.07420745,\n",
       "           -0.05867504, -0.06486391, -0.04501051,  0.08926909]],\n",
       " \n",
       "         [[ 0.06703667,  0.02554727,  0.08673587,  0.00162888,\n",
       "           -0.06895646,  0.06436883, -0.08057366,  0.09038337,\n",
       "           -0.09988045, -0.06820226,  0.0697047 , -0.0847057 ,\n",
       "            0.07964091, -0.02145835, -0.06401344, -0.07006835,\n",
       "            0.00275395, -0.03759683,  0.02053285, -0.08325703,\n",
       "           -0.04208663,  0.07997122,  0.06928237, -0.06948219,\n",
       "            0.082249  , -0.04025842,  0.09837601,  0.04151905,\n",
       "           -0.02904475, -0.04038227, -0.04533296, -0.07605655,\n",
       "            0.0053108 ,  0.08261976,  0.01679425, -0.07485577,\n",
       "            0.04052448, -0.02424347,  0.03028108, -0.03805885,\n",
       "           -0.01840756,  0.02197412, -0.01642535, -0.09438163,\n",
       "            0.01982773,  0.01644109, -0.03219686, -0.06625496,\n",
       "            0.05383994,  0.06553122, -0.0105127 , -0.04466859,\n",
       "            0.04965951,  0.05065821,  0.08460641,  0.07393046,\n",
       "           -0.05205031, -0.01001902, -0.05057535, -0.03789916,\n",
       "           -0.08052751,  0.06280193,  0.1008365 ,  0.09504589]]]],\n",
       "       dtype=float32)>,\n",
       " <tf.Variable 'conv2d/bias:0' shape=(64,) dtype=float32, numpy=\n",
       " array([0., 0., 0., 0., 0., 0., 0., 0., 0., 0., 0., 0., 0., 0., 0., 0., 0.,\n",
       "        0., 0., 0., 0., 0., 0., 0., 0., 0., 0., 0., 0., 0., 0., 0., 0., 0.,\n",
       "        0., 0., 0., 0., 0., 0., 0., 0., 0., 0., 0., 0., 0., 0., 0., 0., 0.,\n",
       "        0., 0., 0., 0., 0., 0., 0., 0., 0., 0., 0., 0., 0.], dtype=float32)>,\n",
       " <tf.Variable 'conv2d_1/kernel:0' shape=(3, 3, 64, 64) dtype=float32, numpy=\n",
       " array([[[[-3.54537778e-02,  1.34270340e-02, -5.63272648e-02, ...,\n",
       "            5.13938367e-02,  4.37473059e-02, -3.67373377e-02],\n",
       "          [ 2.91809514e-02, -4.96163666e-02,  8.58904421e-03, ...,\n",
       "           -4.08419222e-02,  4.56980094e-02, -6.38594255e-02],\n",
       "          [ 1.07891560e-02,  1.37867630e-02, -6.15895949e-02, ...,\n",
       "            3.36226076e-02,  3.97472531e-02, -5.58799505e-02],\n",
       "          ...,\n",
       "          [-5.56211919e-03, -4.08672132e-02, -2.61929929e-02, ...,\n",
       "            1.58022344e-02,  4.39711586e-02,  2.40974128e-02],\n",
       "          [ 6.78322911e-02, -4.53229249e-02,  8.83042812e-05, ...,\n",
       "           -3.11520807e-02,  7.19575584e-03,  3.79493833e-03],\n",
       "          [ 5.88556230e-02,  6.07210845e-02, -5.17891347e-02, ...,\n",
       "            2.29318663e-02,  6.32904172e-02,  6.70169443e-02]],\n",
       " \n",
       "         [[-1.10240243e-02, -5.27976863e-02, -7.19566122e-02, ...,\n",
       "           -4.49801572e-02, -1.73164979e-02, -4.26297337e-02],\n",
       "          [ 2.30954364e-02,  4.03334722e-02,  5.18673062e-02, ...,\n",
       "           -4.43831831e-02,  1.23684779e-02,  6.91258162e-02],\n",
       "          [ 7.61125982e-03, -4.42632362e-02,  5.23084551e-02, ...,\n",
       "           -3.33313346e-02, -3.29193622e-02, -3.48073356e-02],\n",
       "          ...,\n",
       "          [-4.43128943e-02,  5.20305261e-02, -4.79349047e-02, ...,\n",
       "            6.82130754e-02,  5.96442074e-03,  6.05413765e-02],\n",
       "          [ 3.03091854e-03, -2.32851692e-02, -5.67325950e-02, ...,\n",
       "            9.31710005e-04, -7.06275031e-02,  4.41446900e-03],\n",
       "          [ 6.90622628e-02, -3.91770825e-02,  2.89202929e-02, ...,\n",
       "            6.87138438e-02, -4.81971502e-02,  5.08644953e-02]],\n",
       " \n",
       "         [[ 5.26349992e-02, -4.95539084e-02, -2.93332450e-02, ...,\n",
       "            3.01157236e-02, -2.13691704e-02,  4.88543659e-02],\n",
       "          [-9.96799767e-03, -1.52351819e-02, -5.88492565e-02, ...,\n",
       "            3.77182886e-02, -5.66487312e-02, -4.72979248e-03],\n",
       "          [-8.18679482e-03, -1.32186115e-02,  5.52642494e-02, ...,\n",
       "            6.88018203e-02,  5.36579043e-02, -5.97988926e-02],\n",
       "          ...,\n",
       "          [-8.44796747e-03,  4.52869162e-02, -3.23668867e-03, ...,\n",
       "            6.00311458e-02,  3.44800204e-02, -6.01017587e-02],\n",
       "          [ 1.58168972e-02,  6.40495121e-03, -7.14704096e-02, ...,\n",
       "           -2.94984765e-02, -4.69249077e-02, -1.47337206e-02],\n",
       "          [-2.70083547e-02,  7.17249513e-02, -4.02081236e-02, ...,\n",
       "           -1.40711516e-02,  3.10744122e-02, -2.71076337e-02]]],\n",
       " \n",
       " \n",
       "        [[[ 6.29082322e-03,  3.79385054e-03,  4.61154506e-02, ...,\n",
       "           -3.98729965e-02, -5.41191548e-02, -4.22242656e-02],\n",
       "          [ 6.54025823e-02, -4.46145982e-03, -2.04025321e-02, ...,\n",
       "           -5.36253452e-02,  8.99787247e-03,  4.42900583e-02],\n",
       "          [-8.44991207e-03,  2.64981315e-02,  4.39563245e-02, ...,\n",
       "            2.11679265e-02,  5.37878722e-02, -1.51903927e-02],\n",
       "          ...,\n",
       "          [-2.04777941e-02, -2.03171708e-02,  6.53102100e-02, ...,\n",
       "           -1.84300095e-02,  3.18644270e-02, -5.70329838e-02],\n",
       "          [ 1.28007233e-02,  5.25474176e-02, -2.22770311e-02, ...,\n",
       "           -2.17723474e-02, -6.86667487e-02, -3.93453240e-03],\n",
       "          [ 5.07951528e-03, -2.50442289e-02,  7.14421123e-02, ...,\n",
       "           -6.66872114e-02,  2.70732194e-02,  3.84153724e-02]],\n",
       " \n",
       "         [[ 2.99392641e-03,  1.29573867e-02, -9.59742814e-03, ...,\n",
       "            7.06575960e-02, -4.90112528e-02, -6.58745691e-02],\n",
       "          [-2.77642645e-02,  9.99169052e-03, -6.03333116e-03, ...,\n",
       "           -3.38974446e-02,  4.79926839e-02, -6.73858374e-02],\n",
       "          [-4.33647186e-02, -1.09130442e-02,  1.98997632e-02, ...,\n",
       "            4.24561054e-02, -2.49817967e-03,  3.73445526e-02],\n",
       "          ...,\n",
       "          [-1.89339146e-02,  6.33747429e-02,  2.25019529e-02, ...,\n",
       "            5.11320904e-02, -7.34488666e-03,  3.18340361e-02],\n",
       "          [ 3.88418660e-02,  4.22266051e-02, -1.28594115e-02, ...,\n",
       "            2.36087143e-02,  6.52184188e-02, -1.31604373e-02],\n",
       "          [ 6.67063892e-03, -2.95030735e-02,  2.08131298e-02, ...,\n",
       "           -3.48724090e-02,  5.80260158e-02,  5.49055338e-02]],\n",
       " \n",
       "         [[ 2.54973397e-02, -5.91154732e-02, -1.44281834e-02, ...,\n",
       "            6.40124530e-02,  1.84081718e-02,  6.13626540e-02],\n",
       "          [ 7.17207491e-02,  3.93136591e-03, -5.01159504e-02, ...,\n",
       "            5.26804924e-02,  3.20165083e-02, -4.94296923e-02],\n",
       "          [ 3.48244011e-02, -3.54465842e-02,  2.79623419e-02, ...,\n",
       "           -4.43159565e-02,  5.89648634e-02,  5.05721271e-02],\n",
       "          ...,\n",
       "          [-2.65774541e-02,  4.68712971e-02,  2.60242820e-03, ...,\n",
       "           -4.15932387e-02, -4.68746312e-02, -3.05230655e-02],\n",
       "          [ 3.18690538e-02,  7.42123276e-03,  3.82535681e-02, ...,\n",
       "            3.63298580e-02,  5.75494915e-02, -5.15759476e-02],\n",
       "          [ 4.29681838e-02, -5.00198379e-02,  1.06903240e-02, ...,\n",
       "           -6.32795021e-02, -6.71284869e-02, -4.60421182e-02]]],\n",
       " \n",
       " \n",
       "        [[[-6.51617050e-02,  1.78308338e-02,  3.13572660e-02, ...,\n",
       "           -6.52924106e-02, -4.30742577e-02,  5.02856895e-02],\n",
       "          [-1.45537555e-02,  8.15376639e-04,  5.56249171e-03, ...,\n",
       "           -5.37293404e-02,  5.05692735e-02, -6.16249889e-02],\n",
       "          [-5.92187122e-02,  4.29078415e-02,  3.13130245e-02, ...,\n",
       "           -6.58956617e-02,  1.67347342e-02, -1.42927878e-02],\n",
       "          ...,\n",
       "          [-1.87763385e-02, -2.67534405e-02, -4.55679297e-02, ...,\n",
       "           -6.94274828e-02, -5.02497666e-02,  4.89261821e-02],\n",
       "          [-1.61380321e-03,  6.39471561e-02, -4.56221104e-02, ...,\n",
       "            4.79594767e-02,  6.13978356e-02,  6.96305931e-03],\n",
       "          [-4.92964312e-02, -3.92281525e-02, -2.57834494e-02, ...,\n",
       "            6.57533109e-02, -2.04742141e-02,  4.60977778e-02]],\n",
       " \n",
       "         [[-7.01293796e-02,  5.98654002e-02, -5.43630347e-02, ...,\n",
       "           -4.51985411e-02, -1.67365931e-02, -6.55100197e-02],\n",
       "          [-3.78947780e-02,  5.97982109e-03,  1.73732638e-02, ...,\n",
       "           -1.84256583e-02,  3.52083594e-02,  3.67025509e-02],\n",
       "          [ 5.03760576e-02, -4.93233576e-02,  3.85068581e-02, ...,\n",
       "           -1.04747973e-02, -4.69368845e-02,  4.96307984e-02],\n",
       "          ...,\n",
       "          [ 6.58867061e-02, -3.78817506e-02, -7.04591572e-02, ...,\n",
       "           -1.70551017e-02,  5.58111668e-02, -5.10736778e-02],\n",
       "          [ 1.34424865e-02, -3.91846523e-02, -3.27194445e-02, ...,\n",
       "            4.22500223e-02, -3.77872363e-02, -7.15539306e-02],\n",
       "          [ 4.97883931e-02,  6.92557096e-02,  3.96280959e-02, ...,\n",
       "            3.56887281e-02,  6.62491322e-02,  7.17228949e-02]],\n",
       " \n",
       "         [[-3.48232687e-02, -1.12029016e-02, -1.99926607e-02, ...,\n",
       "           -5.42952269e-02,  1.20600685e-02, -1.24236755e-02],\n",
       "          [-4.05555218e-02, -2.41173878e-02,  2.48167217e-02, ...,\n",
       "           -2.71491706e-02,  6.82406574e-02, -6.11134097e-02],\n",
       "          [ 2.27726623e-02, -4.26771715e-02,  1.16855428e-02, ...,\n",
       "           -5.78465387e-02, -1.11994408e-02,  4.18531373e-02],\n",
       "          ...,\n",
       "          [ 4.57478687e-02,  1.07932836e-02, -2.06768550e-02, ...,\n",
       "            6.25710785e-02, -6.28863871e-02, -3.36210057e-02],\n",
       "          [-3.07148844e-02,  5.67351282e-02,  9.84660536e-03, ...,\n",
       "            8.97870213e-03, -3.67420018e-02, -1.02908425e-02],\n",
       "          [-4.37499881e-02, -5.40624559e-02,  2.54437104e-02, ...,\n",
       "           -4.75096665e-02,  2.40455568e-03,  5.80878556e-02]]]],\n",
       "       dtype=float32)>,\n",
       " <tf.Variable 'conv2d_1/bias:0' shape=(64,) dtype=float32, numpy=\n",
       " array([0., 0., 0., 0., 0., 0., 0., 0., 0., 0., 0., 0., 0., 0., 0., 0., 0.,\n",
       "        0., 0., 0., 0., 0., 0., 0., 0., 0., 0., 0., 0., 0., 0., 0., 0., 0.,\n",
       "        0., 0., 0., 0., 0., 0., 0., 0., 0., 0., 0., 0., 0., 0., 0., 0., 0.,\n",
       "        0., 0., 0., 0., 0., 0., 0., 0., 0., 0., 0., 0., 0.], dtype=float32)>,\n",
       " <tf.Variable 'dense/kernel:0' shape=(16384, 1) dtype=float32, numpy=\n",
       " array([[ 0.00679705],\n",
       "        [ 0.0128906 ],\n",
       "        [-0.00741389],\n",
       "        ...,\n",
       "        [ 0.0072728 ],\n",
       "        [-0.01608574],\n",
       "        [-0.01106621]], dtype=float32)>,\n",
       " <tf.Variable 'dense/bias:0' shape=(1,) dtype=float32, numpy=array([0.], dtype=float32)>]"
      ]
     },
     "execution_count": 41,
     "metadata": {
      "tags": []
     },
     "output_type": "execute_result"
    }
   ],
   "source": [
    "model.weights"
   ]
  },
  {
   "cell_type": "code",
   "execution_count": null,
   "metadata": {
    "id": "3uwr_whzggMj",
    "outputId": "4e02b3a3-2e51-4bc6-9927-8f838688700d"
   },
   "outputs": [
    {
     "data": {
      "text/plain": [
       "<tf.Variable 'conv2d/bias:0' shape=(64,) dtype=float32, numpy=\n",
       "array([0., 0., 0., 0., 0., 0., 0., 0., 0., 0., 0., 0., 0., 0., 0., 0., 0.,\n",
       "       0., 0., 0., 0., 0., 0., 0., 0., 0., 0., 0., 0., 0., 0., 0., 0., 0.,\n",
       "       0., 0., 0., 0., 0., 0., 0., 0., 0., 0., 0., 0., 0., 0., 0., 0., 0.,\n",
       "       0., 0., 0., 0., 0., 0., 0., 0., 0., 0., 0., 0., 0.], dtype=float32)>"
      ]
     },
     "execution_count": 42,
     "metadata": {
      "tags": []
     },
     "output_type": "execute_result"
    }
   ],
   "source": [
    "model.layers[0].bias"
   ]
  },
  {
   "cell_type": "code",
   "execution_count": null,
   "metadata": {
    "id": "dLGFHlkZggMk",
    "outputId": "703bace3-4991-4d83-c5ee-b81e7c124380"
   },
   "outputs": [
    {
     "data": {
      "text/plain": [
       "<tf.Variable 'conv2d/kernel:0' shape=(3, 3, 1, 64) dtype=float32, numpy=\n",
       "array([[[[-0.07979907, -0.0731146 , -0.07701214,  0.02394105,\n",
       "           0.0221897 , -0.03268258,  0.01338206, -0.02231006,\n",
       "           0.06882338, -0.09744184, -0.03877231, -0.08249616,\n",
       "          -0.07314911, -0.09609616,  0.06468894,  0.10112453,\n",
       "           0.00788815,  0.05014218, -0.04672886,  0.0630293 ,\n",
       "           0.04956587, -0.07703051,  0.0913876 , -0.10071765,\n",
       "           0.07592081,  0.00346789, -0.01722044, -0.07574592,\n",
       "          -0.0945994 , -0.09701931, -0.08427899,  0.01627202,\n",
       "           0.07033879,  0.05075298, -0.05185876,  0.07913567,\n",
       "           0.09940603, -0.09625509,  0.08338954,  0.05682541,\n",
       "           0.0528347 ,  0.02838726, -0.08840139,  0.09825441,\n",
       "          -0.02553517, -0.0868928 , -0.00714106, -0.07976864,\n",
       "          -0.00766323, -0.05434846,  0.0717005 ,  0.04476182,\n",
       "          -0.09515683, -0.00126482,  0.06715859,  0.01553305,\n",
       "           0.0305146 ,  0.04485781, -0.04270015,  0.07616852,\n",
       "          -0.0741569 ,  0.02901131, -0.02988311,  0.01317938]],\n",
       "\n",
       "        [[ 0.07566941,  0.00703281,  0.03451784, -0.10068114,\n",
       "           0.00358922, -0.03816606,  0.00809773,  0.07861777,\n",
       "          -0.09333127,  0.07896723,  0.0954078 , -0.08190874,\n",
       "          -0.0588179 ,  0.08429517,  0.01103656, -0.05724506,\n",
       "           0.0095808 , -0.00688719, -0.05622781,  0.08473441,\n",
       "           0.0609221 ,  0.06222677, -0.03102452, -0.09557112,\n",
       "          -0.04690602,  0.06845722, -0.07967733, -0.04786798,\n",
       "          -0.07469279, -0.01824928, -0.03588882,  0.0734469 ,\n",
       "          -0.05760136, -0.01292238, -0.01947103,  0.08941266,\n",
       "          -0.03574435, -0.04419309,  0.05418164,  0.01620432,\n",
       "          -0.06447703, -0.09600035,  0.0332201 ,  0.03659749,\n",
       "          -0.04208624,  0.05257706,  0.04994145,  0.0999826 ,\n",
       "           0.09663811,  0.04079778, -0.07091641,  0.03487472,\n",
       "          -0.07455257, -0.0072797 ,  0.08024961, -0.10082553,\n",
       "           0.0581695 ,  0.02006984,  0.07024932,  0.00067774,\n",
       "          -0.01472886,  0.08179872,  0.00228179, -0.07412536]],\n",
       "\n",
       "        [[ 0.07797013, -0.04835164, -0.02628921,  0.0872542 ,\n",
       "          -0.00684807, -0.00834447, -0.09332707, -0.06498498,\n",
       "           0.08156085, -0.0025406 , -0.01799923,  0.0794428 ,\n",
       "           0.01786276,  0.05554187,  0.08682632,  0.06560646,\n",
       "          -0.06984131,  0.05529507, -0.02890239, -0.08687071,\n",
       "           0.04989819, -0.09996462,  0.0090692 ,  0.04847904,\n",
       "           0.06279367,  0.05956934, -0.02560166, -0.05238146,\n",
       "          -0.00622343,  0.06576821, -0.09795602, -0.00430226,\n",
       "          -0.07698376, -0.03475854,  0.04070012,  0.09304988,\n",
       "          -0.06718556, -0.07465657,  0.03251217,  0.08732404,\n",
       "          -0.04388417, -0.03899682, -0.09230258, -0.08910688,\n",
       "           0.04959719, -0.05664181, -0.04793824,  0.03510334,\n",
       "           0.03300035,  0.02223835, -0.07619083,  0.08502205,\n",
       "          -0.04614681, -0.0423179 ,  0.016091  ,  0.01908813,\n",
       "           0.05973905, -0.04954112,  0.04190351, -0.01123402,\n",
       "           0.0417051 , -0.08228616, -0.03137118,  0.01311883]]],\n",
       "\n",
       "\n",
       "       [[[ 0.00376   , -0.02762192, -0.09580639, -0.06431971,\n",
       "          -0.02250867,  0.00387993,  0.08036639,  0.06383395,\n",
       "          -0.04004201,  0.01556514, -0.04179741, -0.09168468,\n",
       "          -0.08094232, -0.04366201, -0.09769674,  0.02994972,\n",
       "           0.01791156,  0.03957929, -0.02949195,  0.02674428,\n",
       "           0.00277399, -0.03944394, -0.08121718, -0.00364985,\n",
       "           0.06749061,  0.06251083, -0.09878025, -0.03231682,\n",
       "          -0.02465714,  0.09937385, -0.07283159,  0.06551208,\n",
       "          -0.05700291, -0.09750269,  0.0570377 , -0.04416564,\n",
       "           0.00902717,  0.04524755,  0.03310359, -0.05339193,\n",
       "          -0.0261784 ,  0.03386158,  0.03019258, -0.10009119,\n",
       "          -0.04408673, -0.0185435 ,  0.08538677, -0.05539462,\n",
       "          -0.06880107,  0.01041839, -0.05297156, -0.00362746,\n",
       "           0.07931355, -0.08976673, -0.08641878,  0.08972694,\n",
       "          -0.07059316, -0.06603493, -0.0772894 , -0.08764535,\n",
       "           0.00081938,  0.03527124,  0.09045643, -0.00890177]],\n",
       "\n",
       "        [[ 0.04618341, -0.06356236, -0.02029912, -0.02791344,\n",
       "          -0.00286536, -0.06755054, -0.05333717,  0.05593966,\n",
       "           0.03197393,  0.05821717,  0.04897852,  0.01135127,\n",
       "          -0.05988925, -0.04459396, -0.03056252,  0.02137698,\n",
       "           0.01971958, -0.01067276, -0.0588031 ,  0.00133011,\n",
       "          -0.06912024,  0.08115663, -0.07063007,  0.07261248,\n",
       "          -0.0584682 , -0.09802112, -0.06480089, -0.08495396,\n",
       "          -0.09406909,  0.08327638, -0.00623778, -0.06011247,\n",
       "           0.00743445,  0.06009074,  0.06561585, -0.01482672,\n",
       "          -0.02114651, -0.05227899, -0.03325685, -0.06876183,\n",
       "          -0.04147285,  0.04069702, -0.0954534 , -0.0645542 ,\n",
       "          -0.09790736,  0.09748605, -0.00684422,  0.09161392,\n",
       "           0.07986329, -0.00599178,  0.09564689,  0.04167664,\n",
       "           0.04562508,  0.09903902,  0.0696947 , -0.04939502,\n",
       "          -0.04933499, -0.09133972,  0.05230297, -0.08416817,\n",
       "          -0.09947217,  0.06977858,  0.10037498, -0.01175746]],\n",
       "\n",
       "        [[ 0.04451838, -0.04474895,  0.05811976, -0.03558449,\n",
       "           0.01547467, -0.08987225,  0.00327627,  0.03733908,\n",
       "           0.10062514, -0.05636169,  0.00868244, -0.06990363,\n",
       "          -0.04924319, -0.06153008, -0.023135  ,  0.03742018,\n",
       "           0.06572603, -0.01448938, -0.09366888, -0.07975112,\n",
       "          -0.07279745, -0.00011947,  0.02686873,  0.0503684 ,\n",
       "          -0.03280289,  0.08701406,  0.01580215,  0.01985202,\n",
       "           0.07018957,  0.08298616, -0.01078171,  0.03091229,\n",
       "          -0.00589053,  0.03006177,  0.02817245,  0.02817404,\n",
       "           0.07665111,  0.02211125, -0.05863689,  0.03888656,\n",
       "           0.05207974,  0.0291791 , -0.02647424, -0.06906421,\n",
       "           0.09277213,  0.06483221, -0.01307128, -0.01457901,\n",
       "           0.08462232, -0.07280032, -0.09391963,  0.01507375,\n",
       "          -0.09971865, -0.05782323,  0.01777893, -0.08777574,\n",
       "          -0.0473255 , -0.0584593 ,  0.06813017, -0.03416622,\n",
       "           0.07248013,  0.03362466,  0.00622369, -0.03926889]]],\n",
       "\n",
       "\n",
       "       [[[-0.02627835,  0.05163331, -0.01855499,  0.09421259,\n",
       "           0.07420489,  0.01578419, -0.06133037, -0.00796254,\n",
       "           0.05221587, -0.0564442 ,  0.02013322, -0.03110809,\n",
       "          -0.01438241, -0.00366125, -0.03742289, -0.02275647,\n",
       "           0.0001822 , -0.08134736,  0.02855983, -0.02450657,\n",
       "           0.09451436, -0.02902073, -0.05714877, -0.03925088,\n",
       "          -0.07606544,  0.03274067, -0.09451525,  0.0751882 ,\n",
       "          -0.07932849, -0.00732742, -0.0288182 , -0.05699704,\n",
       "          -0.02383802, -0.04726934, -0.0808983 , -0.04079119,\n",
       "          -0.05972368,  0.03763455,  0.09637171,  0.03943953,\n",
       "          -0.07150989, -0.0867594 , -0.09295262,  0.09484506,\n",
       "           0.01435764,  0.02486041,  0.09889185, -0.09952121,\n",
       "           0.0713982 , -0.00593844,  0.03333887, -0.06603698,\n",
       "          -0.07427599,  0.10073593, -0.02480947,  0.02831712,\n",
       "          -0.05366142,  0.03512953,  0.07795876, -0.03559014,\n",
       "          -0.04713646, -0.00856159, -0.02069268,  0.06446901]],\n",
       "\n",
       "        [[-0.02432892,  0.00669535,  0.033455  , -0.06637236,\n",
       "           0.05763003, -0.04225374, -0.06933109,  0.09413201,\n",
       "          -0.06304131, -0.02102641, -0.06518713,  0.0539885 ,\n",
       "          -0.09234826,  0.08156809,  0.00437588, -0.0111266 ,\n",
       "          -0.0964539 ,  0.05867997,  0.04685056, -0.09259621,\n",
       "           0.07618117, -0.05386905,  0.07286936,  0.002715  ,\n",
       "          -0.03752884,  0.00199708,  0.04901096,  0.00461934,\n",
       "          -0.06987981,  0.02843443, -0.03832612,  0.07480569,\n",
       "           0.0175488 ,  0.05305773, -0.01818245, -0.10049251,\n",
       "           0.041765  , -0.0611878 , -0.09348337,  0.0788382 ,\n",
       "           0.02531339,  0.09480475,  0.00746801,  0.08056751,\n",
       "           0.04792294,  0.07914622, -0.05057651, -0.07292914,\n",
       "           0.07292086, -0.03043472, -0.08145761, -0.09611414,\n",
       "          -0.03215289, -0.02182075, -0.05256963,  0.07535082,\n",
       "           0.02798393, -0.094136  ,  0.09200285,  0.07420745,\n",
       "          -0.05867504, -0.06486391, -0.04501051,  0.08926909]],\n",
       "\n",
       "        [[ 0.06703667,  0.02554727,  0.08673587,  0.00162888,\n",
       "          -0.06895646,  0.06436883, -0.08057366,  0.09038337,\n",
       "          -0.09988045, -0.06820226,  0.0697047 , -0.0847057 ,\n",
       "           0.07964091, -0.02145835, -0.06401344, -0.07006835,\n",
       "           0.00275395, -0.03759683,  0.02053285, -0.08325703,\n",
       "          -0.04208663,  0.07997122,  0.06928237, -0.06948219,\n",
       "           0.082249  , -0.04025842,  0.09837601,  0.04151905,\n",
       "          -0.02904475, -0.04038227, -0.04533296, -0.07605655,\n",
       "           0.0053108 ,  0.08261976,  0.01679425, -0.07485577,\n",
       "           0.04052448, -0.02424347,  0.03028108, -0.03805885,\n",
       "          -0.01840756,  0.02197412, -0.01642535, -0.09438163,\n",
       "           0.01982773,  0.01644109, -0.03219686, -0.06625496,\n",
       "           0.05383994,  0.06553122, -0.0105127 , -0.04466859,\n",
       "           0.04965951,  0.05065821,  0.08460641,  0.07393046,\n",
       "          -0.05205031, -0.01001902, -0.05057535, -0.03789916,\n",
       "          -0.08052751,  0.06280193,  0.1008365 ,  0.09504589]]]],\n",
       "      dtype=float32)>"
      ]
     },
     "execution_count": 43,
     "metadata": {
      "tags": []
     },
     "output_type": "execute_result"
    }
   ],
   "source": [
    "model.layers[0].kernel"
   ]
  },
  {
   "cell_type": "code",
   "execution_count": null,
   "metadata": {
    "id": "d94PmCK0ggMk",
    "outputId": "72feac74-3c16-4f98-8bbf-dd4b00c7c18f"
   },
   "outputs": [
    {
     "ename": "NameError",
     "evalue": "name 'layers' is not defined",
     "output_type": "error",
     "traceback": [
      "\u001b[0;31m---------------------------------------------------------------------------\u001b[0m",
      "\u001b[0;31mNameError\u001b[0m                                 Traceback (most recent call last)",
      "\u001b[0;32m<ipython-input-44-7441b3bcc749>\u001b[0m in \u001b[0;36m<module>\u001b[0;34m\u001b[0m\n\u001b[0;32m----> 1\u001b[0;31m \u001b[0mlayers\u001b[0m\u001b[0;34m.\u001b[0m\u001b[0mweights\u001b[0m\u001b[0;34m[\u001b[0m\u001b[0;34m-\u001b[0m\u001b[0;36m1\u001b[0m\u001b[0;34m]\u001b[0m\u001b[0;34m\u001b[0m\u001b[0;34m\u001b[0m\u001b[0m\n\u001b[0m",
      "\u001b[0;31mNameError\u001b[0m: name 'layers' is not defined"
     ]
    }
   ],
   "source": [
    "layers.weights[-1]"
   ]
  },
  {
   "cell_type": "code",
   "execution_count": null,
   "metadata": {
    "id": "5DvefAWzggMl"
   },
   "outputs": [],
   "source": [
    "layers.weights[-2] #이미 1차원화"
   ]
  },
  {
   "cell_type": "markdown",
   "metadata": {
    "id": "xhuel9RDggMl"
   },
   "source": [
    "### TensorFlow 학습 방법\n",
    "1. fit\n",
    "    - 세부적으로 조절 불가\n",
    "2. fit_generator\n",
    "    - ImageDataGenerator \n",
    "3. train_on_batch\n",
    "    - batch size만큼 학습\n",
    "4. train\n",
    "    - Estimator \n",
    "5. with tf.GradientTape\n",
    "    - 어디에든 사용 가능"
   ]
  },
  {
   "cell_type": "code",
   "execution_count": null,
   "metadata": {
    "id": "5_gH5qFaggMm"
   },
   "outputs": [],
   "source": [
    "model.compile(\n",
    "  optimizer=tf.keras.optimizers.Adam(),\n",
    "  loss='categorical_crossentropy',\n",
    "  metrics=['acc'])\n",
    "\n",
    "class CollectBatchStats(tf.keras.callbacks.Callback):\n",
    "  def __init__(self):\n",
    "    self.batch_losses = []\n",
    "    self.batch_acc = []\n",
    "\n",
    "  def on_train_batch_end(self, batch, logs=None):\n",
    "    self.batch_losses.append(logs['loss'])\n",
    "    self.batch_acc.append(logs['acc'])\n",
    "    self.model.reset_metrics()\n",
    "    \n",
    "\n",
    "steps_per_epoch = np.ceil(image_data.samples/image_data.batch_size)\n",
    "\n",
    "batch_stats_callback = CollectBatchStats()\n",
    "\n",
    "history = model.fit_generator(image_data, epochs=2,\n",
    "                              steps_per_epoch=steps_per_epoch,\n",
    "                              callbacks = [batch_stats_callback])"
   ]
  },
  {
   "cell_type": "markdown",
   "metadata": {
    "id": "F0zT3VMpggMm"
   },
   "source": [
    "fit 예시"
   ]
  },
  {
   "cell_type": "code",
   "execution_count": null,
   "metadata": {
    "id": "L9ShPBHgggMn"
   },
   "outputs": [],
   "source": [
    "from sklearn.datasets import load_iris"
   ]
  },
  {
   "cell_type": "code",
   "execution_count": null,
   "metadata": {
    "id": "m1lMyH0yggMn"
   },
   "outputs": [],
   "source": [
    "data=load_iris()"
   ]
  },
  {
   "cell_type": "code",
   "execution_count": null,
   "metadata": {
    "id": "nmB-hAW8ggMn"
   },
   "outputs": [],
   "source": [
    "iris=pd.DataFrame(data.data,columns=data.feature_names)\n",
    "iris['target']=data.target\n",
    "model=tf.keras.models.Sequential([\n",
    "    tf.keras.layers.Dense(16,input_shape=(4,),activation='relu'),\n",
    "     tf.keras.layers.Dense(16,'relu'),\n",
    "     tf.keras.layers.Dense(3,'softmax')\n",
    "])"
   ]
  },
  {
   "cell_type": "code",
   "execution_count": null,
   "metadata": {
    "id": "Yg7XWVWpggMo"
   },
   "outputs": [],
   "source": [
    "model.compile(\n",
    "  optimizer=tf.keras.optimizers.Adam(),\n",
    "  loss='sparse_categorical_crossentropy',\n",
    "  metrics=['acc'])"
   ]
  },
  {
   "cell_type": "markdown",
   "metadata": {
    "id": "6NNpKO-UggMo"
   },
   "source": [
    "- 15/15 : batch size 10"
   ]
  },
  {
   "cell_type": "code",
   "execution_count": null,
   "metadata": {
    "id": "GfmFFkPJggMp",
    "outputId": "46f7eecd-a7c9-4c76-b301-32a9a6d83249"
   },
   "outputs": [
    {
     "name": "stdout",
     "output_type": "stream",
     "text": [
      "Epoch 1/5\n",
      "15/15 [==============================] - 0s 2ms/step - loss: 0.9710 - acc: 0.6600\n",
      "Epoch 2/5\n",
      "15/15 [==============================] - 0s 5ms/step - loss: 0.8955 - acc: 0.8333\n",
      "Epoch 3/5\n",
      "15/15 [==============================] - 0s 4ms/step - loss: 0.8434 - acc: 0.8067\n",
      "Epoch 4/5\n",
      "15/15 [==============================] - 0s 5ms/step - loss: 0.8015 - acc: 0.8933\n",
      "Epoch 5/5\n",
      "15/15 [==============================] - 0s 5ms/step - loss: 0.7633 - acc: 0.7800\n"
     ]
    },
    {
     "data": {
      "text/plain": [
       "<tensorflow.python.keras.callbacks.History at 0x7fe044764510>"
      ]
     },
     "execution_count": 60,
     "metadata": {
      "tags": []
     },
     "output_type": "execute_result"
    }
   ],
   "source": [
    "model.fit(iris.iloc[:,:-1],iris.target,epochs=5, batch_size=10)"
   ]
  },
  {
   "cell_type": "markdown",
   "metadata": {
    "id": "uZRGq7oBggMp"
   },
   "source": [
    "- batch size만큼 실행됨\n",
    "- 1 epoch 당 train_on_batch 가 여러번 실행"
   ]
  },
  {
   "cell_type": "code",
   "execution_count": null,
   "metadata": {
    "id": "VGfn-sELggMr",
    "outputId": "5e0c9b63-a35b-4cee-a1f1-ee3464676423"
   },
   "outputs": [
    {
     "data": {
      "text/plain": [
       "[0.7526882886886597, 0.7699999809265137]"
      ]
     },
     "execution_count": 61,
     "metadata": {
      "tags": []
     },
     "output_type": "execute_result"
    }
   ],
   "source": [
    "model.train_on_batch(iris.iloc[:,:-1],iris.target)"
   ]
  },
  {
   "cell_type": "markdown",
   "metadata": {
    "id": "HpAOayX7ggMr"
   },
   "source": [
    "- zigzag\n",
    "테스트 데이터가 작아서\n",
    "overfitting -> variance"
   ]
  }
 ],
 "metadata": {
  "colab": {
   "collapsed_sections": [
    "xhuel9RDggMl",
    "HpAOayX7ggMr"
   ],
   "name": "201221_릴레이_시각.ipynb",
   "provenance": []
  },
  "kernelspec": {
   "display_name": "Python 3",
   "language": "python",
   "name": "python3"
  },
  "language_info": {
   "codemirror_mode": {
    "name": "ipython",
    "version": 3
   },
   "file_extension": ".py",
   "mimetype": "text/x-python",
   "name": "python",
   "nbconvert_exporter": "python",
   "pygments_lexer": "ipython3",
   "version": "3.7.6"
  }
 },
 "nbformat": 4,
 "nbformat_minor": 1
}
