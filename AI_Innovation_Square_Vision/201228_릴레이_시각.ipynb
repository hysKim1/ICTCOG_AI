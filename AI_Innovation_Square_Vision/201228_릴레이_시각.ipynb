{
 "cells": [
  {
   "cell_type": "markdown",
   "metadata": {},
   "source": [
    "# [AI Innovation Square 릴레이 온라인 특강: 시각] \n",
    "\n",
    "\n",
    "## 8. 생성모델1\n",
    "\n",
    "\n",
    "1. AI(Artificial Intelligence) \n",
    "2. ML(Machine Learning) \n",
    "3. **RL(Representation Learning)**\n",
    "4. DL(Deep Learning)\n",
    "\n",
    "\n",
    "### Representation Learning\n",
    "- 추상적인 특징을 추출\n",
    "    - Auto-encoder, Variational Auto-encoder\n",
    "    - GAN\n",
    "- 학습 잘 안되고 느림\n",
    "- 데이터가 없는 경우 생성모델을 이용해서 데이터 확보 실제로는 불가\n",
    "\n",
    "\n",
    "#### AutoEncoder\n",
    "- 학습을 통해서 데이터의 추상적인 특징을 추출해서 다시 복원 \n",
    "    - Encoder: 이미지의 특징을 추상화해서 간략하게 표현\n",
    "    - Decoder: 간략하게 표현한 것을 다시 원본처럼 복원\n",
    "> abstraction(추상화) : 불필요한 것을 제거해서 작게 표현\n",
    "\n",
    "\n",
    "> 시사인 얀르쿤 인터뷰(2008) 참고:https://www.sisain.co.kr/news/articleView.html?idxno=32487\n",
    "\n",
    "\n",
    "#### Autoencoder 3요소 \n",
    "1. loss function\n",
    "    - 비지도학습:자기 자신와 생성된 이미지와 비교\n",
    "2. encoding function\n",
    "    - 원본에 대한 압축된 표현\n",
    "3. decoding function\n",
    "    - 원본에 가깝게압축 해제 복원\n",
    "\n",
    "-  활용\n",
    "    - 고유의 특성을 학습해서 복원하기 때문에 노이즈 제거, 이상치 탐색 가능\n",
    "#### 구조\n",
    "- Deep/stacked Autoencoder: 여러개의 encoder, decoder\n",
    "    - 추상화 단계가 급격하지 않음\n",
    "    \n",
    "- Keras autoencoder(2016): https://keraskorea.github.io/posts/2018-10-23-keras_autoencoder/"
   ]
  },
  {
   "cell_type": "markdown",
   "metadata": {},
   "source": [
    "##### simple autoencoder\n",
    "- mnst 입력 784 - 압축 32 - 복원 784 (sigmoid : 0,1 )"
   ]
  },
  {
   "cell_type": "code",
   "execution_count": 10,
   "metadata": {},
   "outputs": [],
   "source": [
    "import tensorflow as tf\n",
    "\n",
    "(X_train,_),(X_test,_)=tf.keras.datasets.mnist.load_data() # y값 불필요\n",
    "#scaling\n",
    "X_train=X_train/255\n",
    "X_test=X_test/255\n",
    "#input=784\n",
    "X_train=X_train.reshape(-1,28*28)\n",
    "X_test=X_test.reshape(-1,28*28)"
   ]
  },
  {
   "cell_type": "code",
   "execution_count": 7,
   "metadata": {},
   "outputs": [],
   "source": [
    "##함수형 패러다임 \n",
    "input_img = tf.keras.Input(shape=(784,))\n",
    "encoded = tf.keras.layers.Dense(32, activation='relu')(input_img)\n",
    "decoded = tf.keras.layers.Dense(784, activation='sigmoid')(encoded)\n",
    "\n",
    "#multi-inputs,multi-outputs 지원\n",
    "autoencoder = tf.keras.Model(input_img, decoded)"
   ]
  },
  {
   "cell_type": "code",
   "execution_count": 15,
   "metadata": {},
   "outputs": [],
   "source": [
    " autoencoder.compile(loss='binary_crossentropy',optimizer='adam') "
   ]
  },
  {
   "cell_type": "markdown",
   "metadata": {},
   "source": [
    "loss가 0.0921에서 변하지 않음(Plateau)"
   ]
  },
  {
   "cell_type": "code",
   "execution_count": 17,
   "metadata": {},
   "outputs": [
    {
     "name": "stdout",
     "output_type": "stream",
     "text": [
      "Epoch 1/100\n",
      "469/469 [==============================] - 3s 6ms/step - loss: 0.0946\n",
      "Epoch 2/100\n",
      "469/469 [==============================] - 3s 6ms/step - loss: 0.0943\n",
      "Epoch 3/100\n",
      "469/469 [==============================] - 3s 6ms/step - loss: 0.0941\n",
      "Epoch 4/100\n",
      "469/469 [==============================] - 3s 6ms/step - loss: 0.0940A: 0s - loss: 0.0\n",
      "Epoch 5/100\n",
      "469/469 [==============================] - 3s 6ms/step - loss: 0.0938\n",
      "Epoch 6/100\n",
      "469/469 [==============================] - 3s 6ms/step - loss: 0.0937\n",
      "Epoch 7/100\n",
      "469/469 [==============================] - 3s 6ms/step - loss: 0.0936\n",
      "Epoch 8/100\n",
      "469/469 [==============================] - 3s 6ms/step - loss: 0.0935\n",
      "Epoch 9/100\n",
      "469/469 [==============================] - 3s 6ms/step - loss: 0.0934\n",
      "Epoch 10/100\n",
      "469/469 [==============================] - 3s 6ms/step - loss: 0.0934\n",
      "Epoch 11/100\n",
      "469/469 [==============================] - 3s 6ms/step - loss: 0.0933\n",
      "Epoch 12/100\n",
      "469/469 [==============================] - 3s 6ms/step - loss: 0.0932\n",
      "Epoch 13/100\n",
      "469/469 [==============================] - 3s 7ms/step - loss: 0.0932\n",
      "Epoch 14/100\n",
      "469/469 [==============================] - 3s 6ms/step - loss: 0.0931\n",
      "Epoch 15/100\n",
      "469/469 [==============================] - 3s 6ms/step - loss: 0.0931\n",
      "Epoch 16/100\n",
      "469/469 [==============================] - 3s 6ms/step - loss: 0.0931\n",
      "Epoch 17/100\n",
      "469/469 [==============================] - 3s 6ms/step - loss: 0.0930\n",
      "Epoch 18/100\n",
      "469/469 [==============================] - 3s 6ms/step - loss: 0.0930\n",
      "Epoch 19/100\n",
      "469/469 [==============================] - 3s 6ms/step - loss: 0.0929\n",
      "Epoch 20/100\n",
      "469/469 [==============================] - 3s 7ms/step - loss: 0.0929\n",
      "Epoch 21/100\n",
      "469/469 [==============================] - 3s 6ms/step - loss: 0.0929\n",
      "Epoch 22/100\n",
      "469/469 [==============================] - 3s 7ms/step - loss: 0.0929\n",
      "Epoch 23/100\n",
      "469/469 [==============================] - 3s 6ms/step - loss: 0.0929\n",
      "Epoch 24/100\n",
      "469/469 [==============================] - 3s 7ms/step - loss: 0.0929\n",
      "Epoch 25/100\n",
      "469/469 [==============================] - 4s 8ms/step - loss: 0.0928\n",
      "Epoch 26/100\n",
      "469/469 [==============================] - 4s 8ms/step - loss: 0.0928\n",
      "Epoch 27/100\n",
      "469/469 [==============================] - 4s 8ms/step - loss: 0.0928\n",
      "Epoch 28/100\n",
      "469/469 [==============================] - 2s 5ms/step - loss: 0.0928\n",
      "Epoch 29/100\n",
      "469/469 [==============================] - 3s 6ms/step - loss: 0.0928\n",
      "Epoch 30/100\n",
      "469/469 [==============================] - 3s 7ms/step - loss: 0.0927\n",
      "Epoch 31/100\n",
      "469/469 [==============================] - 3s 7ms/step - loss: 0.0927\n",
      "Epoch 32/100\n",
      "469/469 [==============================] - 4s 8ms/step - loss: 0.0927\n",
      "Epoch 33/100\n",
      "469/469 [==============================] - 3s 6ms/step - loss: 0.0927\n",
      "Epoch 34/100\n",
      "469/469 [==============================] - 3s 6ms/step - loss: 0.0927\n",
      "Epoch 35/100\n",
      "469/469 [==============================] - 3s 6ms/step - loss: 0.0927\n",
      "Epoch 36/100\n",
      "469/469 [==============================] - 3s 6ms/step - loss: 0.0927\n",
      "Epoch 37/100\n",
      "469/469 [==============================] - 3s 7ms/step - loss: 0.0926\n",
      "Epoch 38/100\n",
      "469/469 [==============================] - 3s 6ms/step - loss: 0.0926\n",
      "Epoch 39/100\n",
      "469/469 [==============================] - 3s 6ms/step - loss: 0.0926\n",
      "Epoch 40/100\n",
      "469/469 [==============================] - 3s 6ms/step - loss: 0.0926\n",
      "Epoch 41/100\n",
      "469/469 [==============================] - 3s 6ms/step - loss: 0.0926\n",
      "Epoch 42/100\n",
      "469/469 [==============================] - 3s 6ms/step - loss: 0.0926\n",
      "Epoch 43/100\n",
      "469/469 [==============================] - 3s 6ms/step - loss: 0.0926\n",
      "Epoch 44/100\n",
      "469/469 [==============================] - 3s 6ms/step - loss: 0.0926\n",
      "Epoch 45/100\n",
      "469/469 [==============================] - 3s 5ms/step - loss: 0.0926\n",
      "Epoch 46/100\n",
      "469/469 [==============================] - 3s 7ms/step - loss: 0.0926\n",
      "Epoch 47/100\n",
      "469/469 [==============================] - 3s 7ms/step - loss: 0.0925\n",
      "Epoch 48/100\n",
      "469/469 [==============================] - 3s 7ms/step - loss: 0.0925\n",
      "Epoch 49/100\n",
      "469/469 [==============================] - 3s 7ms/step - loss: 0.0925\n",
      "Epoch 50/100\n",
      "469/469 [==============================] - 3s 5ms/step - loss: 0.0925\n",
      "Epoch 51/100\n",
      "469/469 [==============================] - 3s 6ms/step - loss: 0.0925\n",
      "Epoch 52/100\n",
      "469/469 [==============================] - 3s 6ms/step - loss: 0.0925\n",
      "Epoch 53/100\n",
      "469/469 [==============================] - 3s 6ms/step - loss: 0.0925\n",
      "Epoch 54/100\n",
      "469/469 [==============================] - 3s 6ms/step - loss: 0.0925\n",
      "Epoch 55/100\n",
      "469/469 [==============================] - 3s 6ms/step - loss: 0.0925\n",
      "Epoch 56/100\n",
      "469/469 [==============================] - 3s 6ms/step - loss: 0.0924\n",
      "Epoch 57/100\n",
      "469/469 [==============================] - 3s 5ms/step - loss: 0.0924\n",
      "Epoch 58/100\n",
      "469/469 [==============================] - 3s 6ms/step - loss: 0.0924\n",
      "Epoch 59/100\n",
      "469/469 [==============================] - 3s 5ms/step - loss: 0.0924\n",
      "Epoch 60/100\n",
      "469/469 [==============================] - 3s 5ms/step - loss: 0.0924\n",
      "Epoch 61/100\n",
      "469/469 [==============================] - 3s 6ms/step - loss: 0.0924\n",
      "Epoch 62/100\n",
      "469/469 [==============================] - 3s 6ms/step - loss: 0.0924\n",
      "Epoch 63/100\n",
      "469/469 [==============================] - 3s 5ms/step - loss: 0.0924\n",
      "Epoch 64/100\n",
      "469/469 [==============================] - 3s 6ms/step - loss: 0.0924\n",
      "Epoch 65/100\n",
      "469/469 [==============================] - 3s 6ms/step - loss: 0.0924\n",
      "Epoch 66/100\n",
      "469/469 [==============================] - 3s 7ms/step - loss: 0.0923\n",
      "Epoch 67/100\n",
      "469/469 [==============================] - 3s 6ms/step - loss: 0.0923\n",
      "Epoch 68/100\n",
      "469/469 [==============================] - 3s 7ms/step - loss: 0.0923\n",
      "Epoch 69/100\n",
      "469/469 [==============================] - 4s 8ms/step - loss: 0.0923\n",
      "Epoch 70/100\n",
      "469/469 [==============================] - 3s 7ms/step - loss: 0.0923A: 0s - loss: 0.0\n",
      "Epoch 71/100\n",
      "469/469 [==============================] - 3s 7ms/step - loss: 0.0923\n",
      "Epoch 72/100\n",
      "469/469 [==============================] - 3s 6ms/step - loss: 0.0923\n",
      "Epoch 73/100\n",
      "469/469 [==============================] - 3s 6ms/step - loss: 0.0923\n",
      "Epoch 74/100\n",
      "469/469 [==============================] - 3s 7ms/step - loss: 0.0923\n",
      "Epoch 75/100\n",
      "469/469 [==============================] - 3s 6ms/step - loss: 0.0923\n",
      "Epoch 76/100\n",
      "469/469 [==============================] - 3s 7ms/step - loss: 0.0923\n",
      "Epoch 77/100\n",
      "469/469 [==============================] - 3s 6ms/step - loss: 0.0923\n",
      "Epoch 78/100\n",
      "469/469 [==============================] - 3s 6ms/step - loss: 0.0922\n",
      "Epoch 79/100\n",
      "469/469 [==============================] - 3s 6ms/step - loss: 0.0922\n",
      "Epoch 80/100\n",
      "469/469 [==============================] - 3s 5ms/step - loss: 0.0922\n",
      "Epoch 81/100\n",
      "469/469 [==============================] - 3s 5ms/step - loss: 0.0922\n",
      "Epoch 82/100\n",
      "469/469 [==============================] - 3s 6ms/step - loss: 0.0922\n",
      "Epoch 83/100\n",
      "469/469 [==============================] - 3s 6ms/step - loss: 0.0922\n",
      "Epoch 84/100\n",
      "469/469 [==============================] - 3s 6ms/step - loss: 0.0922\n",
      "Epoch 85/100\n",
      "469/469 [==============================] - 3s 6ms/step - loss: 0.0922\n",
      "Epoch 86/100\n",
      "469/469 [==============================] - 3s 6ms/step - loss: 0.0922\n",
      "Epoch 87/100\n",
      "469/469 [==============================] - 3s 6ms/step - loss: 0.0922\n",
      "Epoch 88/100\n",
      "469/469 [==============================] - 3s 6ms/step - loss: 0.0922\n",
      "Epoch 89/100\n",
      "469/469 [==============================] - ETA: 0s - loss: 0.092 - 3s 6ms/step - loss: 0.0922\n",
      "Epoch 90/100\n",
      "469/469 [==============================] - 3s 6ms/step - loss: 0.0922\n",
      "Epoch 91/100\n",
      "469/469 [==============================] - 3s 5ms/step - loss: 0.0921\n",
      "Epoch 92/100\n",
      "469/469 [==============================] - 3s 5ms/step - loss: 0.0921\n",
      "Epoch 93/100\n",
      "469/469 [==============================] - 3s 6ms/step - loss: 0.0921\n",
      "Epoch 94/100\n",
      "469/469 [==============================] - 3s 6ms/step - loss: 0.0921\n",
      "Epoch 95/100\n",
      "469/469 [==============================] - 3s 6ms/step - loss: 0.0921\n",
      "Epoch 96/100\n",
      "469/469 [==============================] - 3s 5ms/step - loss: 0.0921\n",
      "Epoch 97/100\n",
      "469/469 [==============================] - 2s 5ms/step - loss: 0.0921\n",
      "Epoch 98/100\n",
      "469/469 [==============================] - 3s 5ms/step - loss: 0.0921\n",
      "Epoch 99/100\n"
     ]
    },
    {
     "name": "stdout",
     "output_type": "stream",
     "text": [
      "469/469 [==============================] - 2s 5ms/step - loss: 0.0921\n",
      "Epoch 100/100\n",
      "469/469 [==============================] - 2s 5ms/step - loss: 0.0921\n"
     ]
    },
    {
     "data": {
      "text/plain": [
       "<tensorflow.python.keras.callbacks.History at 0x7ff3ae97b910>"
      ]
     },
     "execution_count": 17,
     "metadata": {},
     "output_type": "execute_result"
    }
   ],
   "source": [
    "autoencoder.fit(X_train,X_train, epochs=100, batch_size=128)"
   ]
  },
  {
   "cell_type": "markdown",
   "metadata": {},
   "source": [
    " 원래이미지와 autoencoder 통해 복원된 이미지 비교"
   ]
  },
  {
   "cell_type": "code",
   "execution_count": 19,
   "metadata": {},
   "outputs": [
    {
     "data": {
      "text/plain": [
       "<matplotlib.image.AxesImage at 0x7ff3ae208a10>"
      ]
     },
     "execution_count": 19,
     "metadata": {},
     "output_type": "execute_result"
    },
    {
     "data": {
      "image/png": "[encoded data removed]",
      "text/plain": [
       "<Figure size 432x288 with 1 Axes>"
      ]
     },
     "metadata": {
      "needs_background": "light"
     },
     "output_type": "display_data"
    }
   ],
   "source": [
    "import matplotlib.pyplot as plt\n",
    "plt.imshow(X_test[0].reshape(28,28))"
   ]
  },
  {
   "cell_type": "markdown",
   "metadata": {},
   "source": [
    "- 압축,해제과정에서 손실이 있어서 흐릿함\n",
    "- 실제처럼 표현하기 힘듦"
   ]
  },
  {
   "cell_type": "code",
   "execution_count": 21,
   "metadata": {},
   "outputs": [
    {
     "data": {
      "text/plain": [
       "<matplotlib.image.AxesImage at 0x7ff3443667d0>"
      ]
     },
     "execution_count": 21,
     "metadata": {},
     "output_type": "execute_result"
    },
    {
     "data": {
      "image/png": "[encoded data removed]",
      "text/plain": [
       "<Figure size 432x288 with 1 Axes>"
      ]
     },
     "metadata": {
      "needs_background": "light"
     },
     "output_type": "display_data"
    }
   ],
   "source": [
    "plt.imshow(autoencoder(X_test[0][tf.newaxis]).numpy().reshape(28,28))"
   ]
  },
  {
   "cell_type": "markdown",
   "metadata": {},
   "source": [
    "#### regularizer\n",
    "- 급격하게 변하는것을 막음\n",
    "    - L1,L2: weight decay \n",
    "    - kernel, bias regularizer  : overfitting 방지\n",
    "    - activity regularizer\n",
    "    \n",
    "#### activity regularizer\n",
    "- 표현을 더 간결하게 제한"
   ]
  },
  {
   "cell_type": "code",
   "execution_count": 25,
   "metadata": {},
   "outputs": [],
   "source": [
    "import tensorflow as tf\n",
    "\n",
    "##activity_regularizer  \n",
    "input_img = tf.keras.Input(shape=(784,))\n",
    "encoded = tf.keras.layers.Dense(32, activation='relu',\n",
    "                                activity_regularizer=tf.keras.regularizers.l1(10e-5))(input_img)\n",
    "decoded = tf.keras.layers.Dense(784, activation='sigmoid')(encoded)\n",
    "\n",
    "autoencoder = tf.keras.Model(input_img, decoded)"
   ]
  },
  {
   "cell_type": "code",
   "execution_count": 26,
   "metadata": {},
   "outputs": [
    {
     "name": "stdout",
     "output_type": "stream",
     "text": [
      "Epoch 1/100\n",
      "469/469 [==============================] - 3s 6ms/step - loss: 0.2365\n",
      "Epoch 2/100\n",
      "469/469 [==============================] - 3s 6ms/step - loss: 0.1498\n",
      "Epoch 3/100\n",
      "469/469 [==============================] - 3s 6ms/step - loss: 0.1291\n",
      "Epoch 4/100\n",
      "469/469 [==============================] - 2s 5ms/step - loss: 0.1183\n",
      "Epoch 5/100\n",
      "469/469 [==============================] - 3s 6ms/step - loss: 0.1125\n",
      "Epoch 6/100\n",
      "469/469 [==============================] - 3s 6ms/step - loss: 0.1094\n",
      "Epoch 7/100\n",
      "469/469 [==============================] - 2s 5ms/step - loss: 0.1076\n",
      "Epoch 8/100\n",
      "469/469 [==============================] - 3s 6ms/step - loss: 0.1064\n",
      "Epoch 9/100\n",
      "469/469 [==============================] - 3s 6ms/step - loss: 0.1055\n",
      "Epoch 10/100\n",
      "469/469 [==============================] - 2s 5ms/step - loss: 0.1047\n",
      "Epoch 11/100\n",
      "469/469 [==============================] - 3s 5ms/step - loss: 0.1041\n",
      "Epoch 12/100\n",
      "469/469 [==============================] - 3s 6ms/step - loss: 0.1036\n",
      "Epoch 13/100\n",
      "469/469 [==============================] - 3s 6ms/step - loss: 0.1031\n",
      "Epoch 14/100\n",
      "469/469 [==============================] - 2s 5ms/step - loss: 0.1027\n",
      "Epoch 15/100\n",
      "469/469 [==============================] - 3s 6ms/step - loss: 0.1023\n",
      "Epoch 16/100\n",
      "469/469 [==============================] - 3s 6ms/step - loss: 0.1020\n",
      "Epoch 17/100\n",
      "469/469 [==============================] - 3s 6ms/step - loss: 0.1017\n",
      "Epoch 18/100\n",
      "469/469 [==============================] - 3s 6ms/step - loss: 0.1014\n",
      "Epoch 19/100\n",
      "469/469 [==============================] - 3s 6ms/step - loss: 0.1012\n",
      "Epoch 20/100\n",
      "469/469 [==============================] - 2s 5ms/step - loss: 0.1010\n",
      "Epoch 21/100\n",
      "469/469 [==============================] - 3s 7ms/step - loss: 0.1007\n",
      "Epoch 22/100\n",
      "469/469 [==============================] - 3s 6ms/step - loss: 0.1005\n",
      "Epoch 23/100\n",
      "469/469 [==============================] - 3s 5ms/step - loss: 0.1004\n",
      "Epoch 24/100\n",
      "469/469 [==============================] - 2s 5ms/step - loss: 0.1002\n",
      "Epoch 25/100\n",
      "469/469 [==============================] - 3s 6ms/step - loss: 0.1000\n",
      "Epoch 26/100\n",
      "469/469 [==============================] - 3s 7ms/step - loss: 0.0999\n",
      "Epoch 27/100\n",
      "469/469 [==============================] - 3s 7ms/step - loss: 0.0997\n",
      "Epoch 28/100\n",
      "469/469 [==============================] - 2s 5ms/step - loss: 0.0996\n",
      "Epoch 29/100\n",
      "469/469 [==============================] - 3s 6ms/step - loss: 0.0995\n",
      "Epoch 30/100\n",
      "469/469 [==============================] - 3s 6ms/step - loss: 0.0994\n",
      "Epoch 31/100\n",
      "469/469 [==============================] - 3s 5ms/step - loss: 0.0993\n",
      "Epoch 32/100\n",
      "469/469 [==============================] - 2s 5ms/step - loss: 0.0992\n",
      "Epoch 33/100\n",
      "469/469 [==============================] - 2s 5ms/step - loss: 0.0990\n",
      "Epoch 34/100\n",
      "469/469 [==============================] - 3s 6ms/step - loss: 0.0990\n",
      "Epoch 35/100\n",
      "469/469 [==============================] - 3s 6ms/step - loss: 0.0989\n",
      "Epoch 36/100\n",
      "469/469 [==============================] - 2s 5ms/step - loss: 0.0988\n",
      "Epoch 37/100\n",
      "469/469 [==============================] - 3s 6ms/step - loss: 0.0987\n",
      "Epoch 38/100\n",
      "469/469 [==============================] - 3s 6ms/step - loss: 0.0986\n",
      "Epoch 39/100\n",
      "469/469 [==============================] - 3s 6ms/step - loss: 0.0985\n",
      "Epoch 40/100\n",
      "469/469 [==============================] - 3s 6ms/step - loss: 0.0984\n",
      "Epoch 41/100\n",
      "469/469 [==============================] - 2s 5ms/step - loss: 0.0984\n",
      "Epoch 42/100\n",
      "469/469 [==============================] - 3s 5ms/step - loss: 0.0983\n",
      "Epoch 43/100\n",
      "469/469 [==============================] - 3s 6ms/step - loss: 0.0982\n",
      "Epoch 44/100\n",
      "469/469 [==============================] - 3s 5ms/step - loss: 0.0982\n",
      "Epoch 45/100\n",
      "469/469 [==============================] - 3s 7ms/step - loss: 0.0981\n",
      "Epoch 46/100\n",
      "469/469 [==============================] - 3s 7ms/step - loss: 0.0980\n",
      "Epoch 47/100\n",
      "469/469 [==============================] - 3s 6ms/step - loss: 0.0980\n",
      "Epoch 48/100\n",
      "469/469 [==============================] - 3s 6ms/step - loss: 0.0979\n",
      "Epoch 49/100\n",
      "469/469 [==============================] - 2s 5ms/step - loss: 0.0979\n",
      "Epoch 50/100\n",
      "469/469 [==============================] - 2s 5ms/step - loss: 0.0978\n",
      "Epoch 51/100\n",
      "469/469 [==============================] - 2s 5ms/step - loss: 0.0978\n",
      "Epoch 52/100\n",
      "469/469 [==============================] - 3s 7ms/step - loss: 0.0977\n",
      "Epoch 53/100\n",
      "469/469 [==============================] - 3s 6ms/step - loss: 0.0977\n",
      "Epoch 54/100\n",
      "469/469 [==============================] - 2s 5ms/step - loss: 0.0976A: 0s - loss: 0.097 - ETA: 0s - loss: 0.097\n",
      "Epoch 55/100\n",
      "469/469 [==============================] - 2s 5ms/step - loss: 0.0976\n",
      "Epoch 56/100\n",
      "469/469 [==============================] - 3s 7ms/step - loss: 0.0975\n",
      "Epoch 57/100\n",
      "469/469 [==============================] - 3s 7ms/step - loss: 0.0975\n",
      "Epoch 58/100\n",
      "469/469 [==============================] - 3s 6ms/step - loss: 0.0974\n",
      "Epoch 59/100\n",
      "469/469 [==============================] - 3s 6ms/step - loss: 0.0974\n",
      "Epoch 60/100\n",
      "469/469 [==============================] - 3s 6ms/step - loss: 0.0974\n",
      "Epoch 61/100\n",
      "469/469 [==============================] - 3s 6ms/step - loss: 0.0973\n",
      "Epoch 62/100\n",
      "469/469 [==============================] - 3s 6ms/step - loss: 0.0973\n",
      "Epoch 63/100\n",
      "469/469 [==============================] - 2s 5ms/step - loss: 0.0972\n",
      "Epoch 64/100\n",
      "469/469 [==============================] - 3s 5ms/step - loss: 0.0972\n",
      "Epoch 65/100\n",
      "469/469 [==============================] - 3s 7ms/step - loss: 0.0972\n",
      "Epoch 66/100\n",
      "469/469 [==============================] - 4s 9ms/step - loss: 0.0971\n",
      "Epoch 67/100\n",
      "469/469 [==============================] - 3s 7ms/step - loss: 0.0971\n",
      "Epoch 68/100\n",
      "469/469 [==============================] - 3s 6ms/step - loss: 0.0971\n",
      "Epoch 69/100\n",
      "469/469 [==============================] - 2s 5ms/step - loss: 0.0970\n",
      "Epoch 70/100\n",
      "469/469 [==============================] - 2s 5ms/step - loss: 0.0970\n",
      "Epoch 71/100\n",
      "469/469 [==============================] - 2s 5ms/step - loss: 0.0969\n",
      "Epoch 72/100\n",
      "469/469 [==============================] - 3s 5ms/step - loss: 0.0969\n",
      "Epoch 73/100\n",
      "469/469 [==============================] - 3s 6ms/step - loss: 0.0969\n",
      "Epoch 74/100\n",
      "469/469 [==============================] - 3s 6ms/step - loss: 0.0968\n",
      "Epoch 75/100\n",
      "469/469 [==============================] - 3s 5ms/step - loss: 0.0968\n",
      "Epoch 76/100\n",
      "469/469 [==============================] - 2s 5ms/step - loss: 0.0968\n",
      "Epoch 77/100\n",
      "469/469 [==============================] - 2s 5ms/step - loss: 0.0968\n",
      "Epoch 78/100\n",
      "469/469 [==============================] - 2s 5ms/step - loss: 0.0967\n",
      "Epoch 79/100\n",
      "469/469 [==============================] - 2s 5ms/step - loss: 0.0967\n",
      "Epoch 80/100\n",
      "469/469 [==============================] - 2s 5ms/step - loss: 0.0967\n",
      "Epoch 81/100\n",
      "469/469 [==============================] - 2s 5ms/step - loss: 0.0966\n",
      "Epoch 82/100\n",
      "469/469 [==============================] - 2s 5ms/step - loss: 0.0966\n",
      "Epoch 83/100\n",
      "469/469 [==============================] - 2s 5ms/step - loss: 0.0966\n",
      "Epoch 84/100\n",
      "469/469 [==============================] - 3s 6ms/step - loss: 0.0966\n",
      "Epoch 85/100\n",
      "469/469 [==============================] - 2s 5ms/step - loss: 0.0965\n",
      "Epoch 86/100\n",
      "469/469 [==============================] - 2s 5ms/step - loss: 0.0965\n",
      "Epoch 87/100\n",
      "469/469 [==============================] - 2s 5ms/step - loss: 0.0965\n",
      "Epoch 88/100\n",
      "469/469 [==============================] - 3s 6ms/step - loss: 0.0964\n",
      "Epoch 89/100\n",
      "469/469 [==============================] - 3s 6ms/step - loss: 0.0964\n",
      "Epoch 90/100\n",
      "469/469 [==============================] - 3s 6ms/step - loss: 0.0964\n",
      "Epoch 91/100\n",
      "469/469 [==============================] - 3s 6ms/step - loss: 0.0964\n",
      "Epoch 92/100\n",
      "469/469 [==============================] - 3s 6ms/step - loss: 0.0963\n",
      "Epoch 93/100\n",
      "469/469 [==============================] - 3s 7ms/step - loss: 0.0963\n",
      "Epoch 94/100\n",
      "469/469 [==============================] - 2s 5ms/step - loss: 0.0963\n",
      "Epoch 95/100\n",
      "469/469 [==============================] - 3s 6ms/step - loss: 0.0963\n",
      "Epoch 96/100\n",
      "469/469 [==============================] - 3s 6ms/step - loss: 0.0963\n",
      "Epoch 97/100\n",
      "469/469 [==============================] - 2s 5ms/step - loss: 0.0962\n",
      "Epoch 98/100\n",
      "469/469 [==============================] - 2s 5ms/step - loss: 0.0962\n",
      "Epoch 99/100\n"
     ]
    },
    {
     "name": "stdout",
     "output_type": "stream",
     "text": [
      "469/469 [==============================] - 3s 6ms/step - loss: 0.0962\n",
      "Epoch 100/100\n",
      "469/469 [==============================] - 2s 5ms/step - loss: 0.0962\n"
     ]
    },
    {
     "data": {
      "text/plain": [
       "<tensorflow.python.keras.callbacks.History at 0x7ff3473a7cd0>"
      ]
     },
     "execution_count": 26,
     "metadata": {},
     "output_type": "execute_result"
    }
   ],
   "source": [
    "autoencoder.compile(loss='binary_crossentropy',optimizer='adam') \n",
    "autoencoder.fit(X_train,X_train, epochs=200, batch_size=128)"
   ]
  },
  {
   "cell_type": "code",
   "execution_count": 27,
   "metadata": {},
   "outputs": [
    {
     "data": {
      "text/plain": [
       "<matplotlib.image.AxesImage at 0x7ff34730cb50>"
      ]
     },
     "execution_count": 27,
     "metadata": {},
     "output_type": "execute_result"
    },
    {
     "data": {
      "image/png": "[encoded data removed]",
      "text/plain": [
       "<Figure size 432x288 with 1 Axes>"
      ]
     },
     "metadata": {
      "needs_background": "light"
     },
     "output_type": "display_data"
    }
   ],
   "source": [
    "import matplotlib.pyplot as plt\n",
    "plt.imshow(X_test[0].reshape(28,28))"
   ]
  },
  {
   "cell_type": "code",
   "execution_count": 28,
   "metadata": {},
   "outputs": [
    {
     "data": {
      "text/plain": [
       "<matplotlib.image.AxesImage at 0x7ff3465aeb50>"
      ]
     },
     "execution_count": 28,
     "metadata": {},
     "output_type": "execute_result"
    },
    {
     "data": {
      "image/png": "[encoded data removed]",
      "text/plain": [
       "<Figure size 432x288 with 1 Axes>"
      ]
     },
     "metadata": {
      "needs_background": "light"
     },
     "output_type": "display_data"
    }
   ],
   "source": [
    "plt.imshow(autoencoder(X_test[0][tf.newaxis]).numpy().reshape(28,28))"
   ]
  },
  {
   "cell_type": "markdown",
   "metadata": {},
   "source": [
    "- 200번 epoch 해서 더 실제 이미지와 가깝도록 해야함\n",
    "-  overfitting되야 더 실제 같음\n",
    "\n",
    "### Deep Auto-Encoder:\n",
    "- 여러개의 encoder, decoder를 쌓음stacking\n",
    "- 추상화 단계가 급격하지 않음\n",
    "- 딥하면 학습이 잘 안되어 데이터 많이 필요\n"
   ]
  },
  {
   "cell_type": "code",
   "execution_count": null,
   "metadata": {},
   "outputs": [],
   "source": [
    "import tensorflow as tf\n",
    "\n",
    "##함수형 패러다임 \n",
    "input_img = tf.keras.Input(shape=(784,))\n",
    "encoded1 = tf.keras.layers.Dense(256, activation='relu')(input_img)\n",
    "encoded2 = tf.keras.layers.Dense(128, activation='relu')(encoded1)\n",
    "encoded3 = tf.keras.layers.Dense(64, activation='relu')(encoded2)\n",
    "encoded4 = tf.keras.layers.Dense(32, activation='relu')(encoded3)\n",
    "encoded5 = tf.keras.layers.Dense(16, activation='relu')(encoded4)\n",
    "decoded1 = tf.keras.layers.Dense(32, activation='relu')(encoded4)\n",
    "decoded2 = tf.keras.layers.Dense(64, activation='relu')(decoded1)\n",
    "decoded3 = tf.keras.layers.Dense(128, activation='relu')(decoded2)\n",
    "decoded4 = tf.keras.layers.Dense(256, activation='relu')(decoded3)\n",
    "decoded5 = tf.keras.layers.Dense(784, activation='sigmoid')(decoded4)\n",
    "\n",
    "#multi-inputs,multi-outputs 지원\n",
    "autoencoder = tf.keras.Model(input_img, decoded)"
   ]
  },
  {
   "cell_type": "markdown",
   "metadata": {},
   "source": [
    "- 모델을 레이어로 만들면 유지보수 편함\n",
    "- 재활용 가능"
   ]
  },
  {
   "cell_type": "code",
   "execution_count": 29,
   "metadata": {},
   "outputs": [],
   "source": [
    "input_img = tf.keras.Input(shape=(28*28,))\n",
    "\n",
    "encoder=tf.keras.models.Sequential([\n",
    "tf.keras.layers.Dense(256, activation='relu'),\n",
    "tf.keras.layers.Dense(128, activation='relu'),\n",
    "tf.keras.layers.Dense(64, activation='relu'),\n",
    "tf.keras.layers.Dense(32, activation='relu'),\n",
    "tf.keras.layers.Dense(16, activation='relu'),\n",
    "])\n",
    "\n",
    "decoder=tf.keras.models.Sequential([\n",
    "    tf.keras.layers.Dense(32, activation='relu'),\n",
    "    tf.keras.layers.Dense(64, activation='relu'),\n",
    "    tf.keras.layers.Dense(128, activation='relu'),\n",
    "    tf.keras.layers.Dense(256, activation='relu'),\n",
    "    tf.keras.layers.Dense(784, activation='relu'),\n",
    "])"
   ]
  },
  {
   "cell_type": "markdown",
   "metadata": {},
   "source": [
    "- Model 상속\n",
    "- call : build, __call__ [closure technique ]\n",
    "- composition: 다른 클래스를 클래스 내부에 정의\n",
    "- 파이썬 객체지향: 접근제한자 없어서 외부에서 접근 가능\n",
    "\n",
    "\n",
    "- TensorFlow autoencoder(2019): https://www.tensorflow.org/tutorials/generative/autoencoder"
   ]
  },
  {
   "cell_type": "code",
   "execution_count": 32,
   "metadata": {},
   "outputs": [],
   "source": [
    "latent_dim = 64 \n",
    "\n",
    "class Autoencoder(tf.keras.Model):\n",
    "  def __init__(self, latent_dim):\n",
    "    super(Autoencoder, self).__init__()\n",
    "    #접근 가능\n",
    "    self.latent_dim = latent_dim   \n",
    "    self.encoder = tf.keras.Sequential([\n",
    "      tf.keras.layers.Flatten(),\n",
    "      tf.keras.layers.Dense(latent_dim, activation='relu'),\n",
    "    ])\n",
    "    self.decoder = tf.keras.Sequential([\n",
    "      tf.keras.layers.Dense(784, activation='sigmoid'),\n",
    "      tf.keras.layers.Reshape((28, 28))\n",
    "    ])\n",
    "\n",
    "  def call(self, x): \n",
    "    #접근 불가\n",
    "    encoded = self.encoder(x)\n",
    "    decoded = self.decoder(encoded)\n",
    "    return decoded #return self.decoder(self.encoder(x))\n",
    "\n",
    "autoencoder = Autoencoder(latent_dim)"
   ]
  },
  {
   "cell_type": "code",
   "execution_count": 34,
   "metadata": {},
   "outputs": [
    {
     "data": {
      "text/plain": [
       "<tensorflow.python.keras.engine.sequential.Sequential at 0x7ff345cc0f90>"
      ]
     },
     "execution_count": 34,
     "metadata": {},
     "output_type": "execute_result"
    }
   ],
   "source": [
    "autoencoder.encoder  #점근 가능"
   ]
  },
  {
   "cell_type": "code",
   "execution_count": 33,
   "metadata": {},
   "outputs": [
    {
     "ename": "AttributeError",
     "evalue": "'Autoencoder' object has no attribute 'encoded'",
     "output_type": "error",
     "traceback": [
      "\u001b[0;31m---------------------------------------------------------------------------\u001b[0m",
      "\u001b[0;31mAttributeError\u001b[0m                            Traceback (most recent call last)",
      "\u001b[0;32m<ipython-input-33-722e0d69bc31>\u001b[0m in \u001b[0;36m<module>\u001b[0;34m\u001b[0m\n\u001b[0;32m----> 1\u001b[0;31m \u001b[0mautoencoder\u001b[0m\u001b[0;34m.\u001b[0m\u001b[0mencoded\u001b[0m\u001b[0;34m\u001b[0m\u001b[0;34m\u001b[0m\u001b[0m\n\u001b[0m",
      "\u001b[0;31mAttributeError\u001b[0m: 'Autoencoder' object has no attribute 'encoded'"
     ]
    }
   ],
   "source": [
    "autoencoder.encoded"
   ]
  },
  {
   "cell_type": "code",
   "execution_count": 35,
   "metadata": {},
   "outputs": [],
   "source": [
    "autoencoder.compile(loss='mse',optimizer='adam')"
   ]
  },
  {
   "cell_type": "code",
   "execution_count": 37,
   "metadata": {},
   "outputs": [],
   "source": [
    "(x_train, _), (x_test, _) = tf.keras.datasets.fashion_mnist.load_data()\n",
    "\n",
    "x_train = x_train.astype('float32') / 255.\n",
    "x_test = x_test.astype('float32') / 255."
   ]
  },
  {
   "cell_type": "code",
   "execution_count": 38,
   "metadata": {},
   "outputs": [
    {
     "name": "stdout",
     "output_type": "stream",
     "text": [
      "Epoch 1/10\n",
      "1875/1875 [==============================] - 6s 3ms/step - loss: 0.0237 - val_loss: 0.0132\n",
      "Epoch 2/10\n",
      "1875/1875 [==============================] - 5s 3ms/step - loss: 0.0117 - val_loss: 0.0106\n",
      "Epoch 3/10\n",
      "1875/1875 [==============================] - 5s 3ms/step - loss: 0.0100 - val_loss: 0.0097\n",
      "Epoch 4/10\n",
      "1875/1875 [==============================] - 6s 3ms/step - loss: 0.0094 - val_loss: 0.0093\n",
      "Epoch 5/10\n",
      "1875/1875 [==============================] - 9s 5ms/step - loss: 0.0092 - val_loss: 0.0091\n",
      "Epoch 6/10\n",
      "1875/1875 [==============================] - 8s 4ms/step - loss: 0.0090 - val_loss: 0.0091\n",
      "Epoch 7/10\n",
      "1875/1875 [==============================] - 10s 5ms/step - loss: 0.0089 - val_loss: 0.0089\n",
      "Epoch 8/10\n",
      "1875/1875 [==============================] - 6s 3ms/step - loss: 0.0088 - val_loss: 0.0089\n",
      "Epoch 9/10\n",
      "1875/1875 [==============================] - 8s 4ms/step - loss: 0.0088 - val_loss: 0.0089\n",
      "Epoch 10/10\n",
      "1875/1875 [==============================] - 9s 5ms/step - loss: 0.0087 - val_loss: 0.0089\n"
     ]
    },
    {
     "data": {
      "text/plain": [
       "<tensorflow.python.keras.callbacks.History at 0x7ff346aa2590>"
      ]
     },
     "execution_count": 38,
     "metadata": {},
     "output_type": "execute_result"
    }
   ],
   "source": [
    "autoencoder.fit(x_train, x_train,\n",
    "                epochs=10,\n",
    "                shuffle=True,\n",
    "                validation_data=(x_test, x_test))"
   ]
  },
  {
   "cell_type": "code",
   "execution_count": 39,
   "metadata": {},
   "outputs": [
    {
     "data": {
      "text/plain": [
       "<tf.Tensor: shape=(10000, 64), dtype=float32, numpy=\n",
       "array([[0.3495953 , 2.057228  , 2.3667097 , ..., 1.0503961 , 0.06466138,\n",
       "        1.8933918 ],\n",
       "       [0.26482403, 1.6409382 , 0.        , ..., 1.3208687 , 2.3377743 ,\n",
       "        0.6832122 ],\n",
       "       [1.4499239 , 0.830654  , 0.79462796, ..., 1.7379441 , 0.90347135,\n",
       "        0.        ],\n",
       "       ...,\n",
       "       [0.45849693, 1.3039129 , 1.9537377 , ..., 0.873881  , 1.3125199 ,\n",
       "        2.1169553 ],\n",
       "       [1.7779619 , 0.        , 1.1596594 , ..., 4.7007704 , 1.0242424 ,\n",
       "        1.4215298 ],\n",
       "       [1.1136274 , 2.7019396 , 4.466265  , ..., 4.0341234 , 2.5870347 ,\n",
       "        4.4483013 ]], dtype=float32)>"
      ]
     },
     "execution_count": 39,
     "metadata": {},
     "output_type": "execute_result"
    }
   ],
   "source": [
    "autoencoder.encoder(X_test)"
   ]
  },
  {
   "cell_type": "markdown",
   "metadata": {},
   "source": [
    "### 이미지 denoising \n",
    "- 이미지의 noise를 제거"
   ]
  },
  {
   "cell_type": "code",
   "execution_count": 110,
   "metadata": {},
   "outputs": [
    {
     "data": {
      "text/plain": [
       "<matplotlib.image.AxesImage at 0x7ff342111450>"
      ]
     },
     "execution_count": 110,
     "metadata": {},
     "output_type": "execute_result"
    },
    {
     "data": {
      "image/png": "[encoded data removed]",
      "text/plain": [
       "<Figure size 432x288 with 1 Axes>"
      ]
     },
     "metadata": {
      "needs_background": "light"
     },
     "output_type": "display_data"
    }
   ],
   "source": [
    "x_train_noise=x_train +0.3 *tf.random.normal(shape=x_train.shape)\n",
    "plt.imshow(x_train_noise[0].numpy()) #noise 추가"
   ]
  },
  {
   "cell_type": "code",
   "execution_count": 49,
   "metadata": {
    "scrolled": true
   },
   "outputs": [
    {
     "data": {
      "text/plain": [
       "<matplotlib.image.AxesImage at 0x7ff33f37d2d0>"
      ]
     },
     "execution_count": 49,
     "metadata": {},
     "output_type": "execute_result"
    },
    {
     "data": {
      "image/png": "[encoded data removed]",
      "text/plain": [
       "<Figure size 432x288 with 1 Axes>"
      ]
     },
     "metadata": {
      "needs_background": "light"
     },
     "output_type": "display_data"
    }
   ],
   "source": [
    "t=autoencoder(x_train_noise[0].numpy()[tf.newaxis]).numpy()\n",
    "plt.imshow(t.reshape(28,28))"
   ]
  },
  {
   "cell_type": "markdown",
   "metadata": {},
   "source": [
    "noise 제거되어 나옴\n",
    "\n",
    "### DCautoencoder\n",
    "- Deep Convolution autoencoder\n",
    "    - Fully connected 를 convolution으로 교체\n",
    "\n",
    "- 성능이 압도적으로 좋음\n",
    "- pooling대신 strides\n",
    "- padding = valid, same\n",
    "- Conv2DTranspose :deconvolution 컨볼루션의 반대"
   ]
  },
  {
   "cell_type": "code",
   "execution_count": 74,
   "metadata": {},
   "outputs": [],
   "source": [
    "class DCAutoencoder(tf.keras.Model):\n",
    "  def __init__(self):\n",
    "    super( ).__init__()\n",
    "    \n",
    "    self.encoder = tf.keras.Sequential([\n",
    "        tf.keras.Input(shape=(28,28,1)), #build 에서 모양 미리 결정\n",
    "        tf.keras.layers.Conv2D(64,3,activation='relu',\n",
    "                              padding='same',strides=2),\n",
    "        tf.keras.layers.Conv2D(32,3,activation='relu',\n",
    "                               padding='same',strides=2)\n",
    "    ])\n",
    "    self.decoder = tf.keras.Sequential([\n",
    "        tf.keras.layers.Conv2DTranspose(32,3, padding='same',strides=2), \n",
    "        tf.keras.layers.Conv2DTranspose(64,6, padding='same',strides=2), \n",
    "        tf.keras.layers.Conv2D(1,3,activation='sigmoid',padding='same')\n",
    "    ])\n",
    "\n",
    "  def call(self, x): \n",
    "     return self.decoder(self.encoder(x))"
   ]
  },
  {
   "cell_type": "code",
   "execution_count": 83,
   "metadata": {},
   "outputs": [],
   "source": [
    "from tensorflow.keras import layers"
   ]
  },
  {
   "cell_type": "code",
   "execution_count": 88,
   "metadata": {},
   "outputs": [],
   "source": [
    "input_img = tf.keras.Input(shape=(28, 28, 1))\n",
    "\n",
    "x = layers.Conv2D(16, (3, 3), activation='relu', padding='same')(input_img)\n",
    "x = layers.MaxPooling2D((2, 2), padding='same')(x)\n",
    "x = layers.Conv2D(8, (3, 3), activation='relu', padding='same')(x)\n",
    "x = layers.MaxPooling2D((2, 2), padding='same')(x)\n",
    "x = layers.Conv2D(8, (3, 3), activation='relu', padding='same')(x)\n",
    "encoded = layers.MaxPooling2D((2, 2), padding='same')(x)\n",
    "\n",
    "\n",
    "x = layers.Conv2D(8, (3, 3), activation='relu', padding='same')(encoded)\n",
    "x = layers.UpSampling2D((2, 2))(x)\n",
    "x = layers.Conv2D(8, (3, 3), activation='relu', padding='same')(x)\n",
    "x = layers.UpSampling2D((2, 2))(x)\n",
    "x = layers.Conv2D(16, (3, 3), activation='relu')(x)\n",
    "x = layers.UpSampling2D((2, 2))(x)\n",
    "decoded = layers.Conv2D(1, (3, 3), activation='sigmoid', padding='same')(x)\n",
    "\n",
    "autoencoder = tf.keras.Model(input_img, decoded)"
   ]
  },
  {
   "cell_type": "code",
   "execution_count": 75,
   "metadata": {},
   "outputs": [],
   "source": [
    "dcautoencoder=DCAutoencoder()"
   ]
  },
  {
   "cell_type": "code",
   "execution_count": 76,
   "metadata": {},
   "outputs": [],
   "source": [
    "dcautoencoder.compile(loss='binary_crossentropy',optimizer='adam')"
   ]
  },
  {
   "cell_type": "code",
   "execution_count": 78,
   "metadata": {},
   "outputs": [],
   "source": [
    "X_train=X_train.reshape(-1,28,28,1)"
   ]
  },
  {
   "cell_type": "code",
   "execution_count": null,
   "metadata": {},
   "outputs": [],
   "source": [
    "dcautoencoder.fit(X_train, X_train, epochs=2)"
   ]
  },
  {
   "cell_type": "code",
   "execution_count": 81,
   "metadata": {},
   "outputs": [
    {
     "data": {
      "text/plain": [
       "<matplotlib.image.AxesImage at 0x7ff33faef990>"
      ]
     },
     "execution_count": 81,
     "metadata": {},
     "output_type": "execute_result"
    },
    {
     "data": {
      "image/png": "[encoded data removed]",
      "text/plain": [
       "<Figure size 432x288 with 1 Axes>"
      ]
     },
     "metadata": {
      "needs_background": "light"
     },
     "output_type": "display_data"
    }
   ],
   "source": [
    "t=dcautoencoder(x_train_noise[0].numpy()[tf.newaxis]).numpy()\n",
    "plt.imshow(t.reshape(28,28))"
   ]
  },
  {
   "cell_type": "markdown",
   "metadata": {},
   "source": [
    "### Convolutional VAE\n",
    "- 참고 : https://www.tensorflow.org/tutorials/generative/cvae\n",
    "    - VAE 추정 기법 사용해서 GAN과 같이 원하는 데이터 파라미터 조작해서 만듦\n"
   ]
  }
 ],
 "metadata": {
  "kernelspec": {
   "display_name": "Python 3",
   "language": "python",
   "name": "python3"
  },
  "language_info": {
   "codemirror_mode": {
    "name": "ipython",
    "version": 3
   },
   "file_extension": ".py",
   "mimetype": "text/x-python",
   "name": "python",
   "nbconvert_exporter": "python",
   "pygments_lexer": "ipython3",
   "version": "3.7.6"
  }
 },
 "nbformat": 4,
 "nbformat_minor": 4
}
