{
 "cells": [
  {
   "cell_type": "markdown",
   "metadata": {
    "id": "GlqiQp1_NlE2"
   },
   "source": [
    "# [AI Innovation Square 릴레이 온라인 특강: 시각] \n",
    "\n",
    "\n",
    "## 9. 생성모델2\n",
    "## GAN\n",
    "- generative adversarial Network\n",
    "> - 최근 10년간 머신러닝 분야에서 가장 혁신적인 아이디어 -얀르쿤-\n",
    "\n",
    "> - discriminant model vs generative model\n",
    "    - discriminant model: decision boundary 찾음\n",
    "    - generative model : 숨어있는 확률 분포를 찾아서 분포와 설질이 비슷한 데이터 생성\n",
    "    \n",
    "Adversarial\n",
    "- 적대적 경쟁 관계\n",
    "    - 어떻게 하면 진짜 와인과 가짜 와인을 구별해서 안 속을 까\n",
    "    속다가 안속게 되는 경우더 정교하게 속일려고\n",
    "    속이는 애와 탐지하는 애 \n",
    "    경쟁시켜서 가짜를 진짜에 가깝게 만들게됨\n",
    "- 학습이 잘 안되어서 학습테크닉 중요\n",
    "\n",
    "    \n",
    "\n",
    "\n",
    "- 임의의 분포 -> generator -> 가짜이미지 생성 -> Discriminator -> 진/가품\n",
    "    - 답에따라서 더 정교하게 학습\n",
    "    - zero-sum: generator 생성 능력 - discrimiantor 구별 능력\n",
    "- 확률 통계,선형대수\n",
    "\n",
    "\n",
    "pix2pix \n",
    "- 학습데이터가 짝을 이룸 \n",
    "- 학습 시간 단축\n",
    "- 높은 정확도\n",
    "- 데이터 구하기 어려움\n",
    "\n",
    "cycleGAN\n",
    "- 짝을 이루지 않아 현실적\n",
    "- 두개의 GAN모델\n",
    "- 예. 말 <> 얼룩말\n",
    "\n",
    "\n",
    "> Review DC Autoencoder\n",
    "    - encoder,decoder가 컨볼루션으로 이루어짐\n",
    "    - encoder에서 압축한 특징 기반으로 복원\n",
    "#### DCGAN\n",
    "- Deep Convolution generative adversarial Network 심층 합성곱 생성적 적대 신경망\n",
    "- encoder가 만든 특징맵 없음\n",
    "- 특징만 있으면 복원 가능\n",
    "- 적대적 관계를 통해 숨어있는 특징 찾음\n",
    "- GAN 참고:https://www.tensorflow.org/tutorials/generative/dcgan?hl=ko"
   ]
  },
  {
   "cell_type": "markdown",
   "metadata": {
    "id": "rIUzPK3JNlE_"
   },
   "source": [
    "### imageio\n",
    "- 이미지 input,output    "
   ]
  },
  {
   "cell_type": "code",
   "execution_count": null,
   "metadata": {
    "id": "pU0oelMCNlFA"
   },
   "outputs": [],
   "source": [
    "import imageio"
   ]
  },
  {
   "cell_type": "code",
   "execution_count": null,
   "metadata": {
    "id": "14Q-3VCCNlFB",
    "outputId": "e209f6d6-6f98-453b-ebe1-eaa989a3494e"
   },
   "outputs": [
    {
     "data": {
      "text/plain": [
       "['RETURN_BYTES',\n",
       " '__builtins__',\n",
       " '__cached__',\n",
       " '__doc__',\n",
       " '__file__',\n",
       " '__loader__',\n",
       " '__name__',\n",
       " '__package__',\n",
       " '__path__',\n",
       " '__spec__',\n",
       " '__version__',\n",
       " 'core',\n",
       " 'formats',\n",
       " 'get_reader',\n",
       " 'get_writer',\n",
       " 'help',\n",
       " 'imread',\n",
       " 'imsave',\n",
       " 'imwrite',\n",
       " 'mimread',\n",
       " 'mimsave',\n",
       " 'mimwrite',\n",
       " 'mvolread',\n",
       " 'mvolsave',\n",
       " 'mvolwrite',\n",
       " 'plugins',\n",
       " 'read',\n",
       " 'save',\n",
       " 'show_formats',\n",
       " 'volread',\n",
       " 'volsave',\n",
       " 'volwrite']"
      ]
     },
     "execution_count": 2,
     "metadata": {
      "tags": []
     },
     "output_type": "execute_result"
    }
   ],
   "source": [
    "dir(imageio) #imread"
   ]
  },
  {
   "cell_type": "markdown",
   "metadata": {
    "id": "M3aTajXvNlFD"
   },
   "source": [
    "- 이미지를 넘파이 형태로 "
   ]
  },
  {
   "cell_type": "code",
   "execution_count": null,
   "metadata": {
    "id": "pcj91y4bNlFD",
    "outputId": "d0870edf-fb60-4b9c-a397-dfb4686c217c"
   },
   "outputs": [
    {
     "data": {
      "text/plain": [
       "Array([[[198, 177, 158],\n",
       "        [199, 178, 159],\n",
       "        [201, 180, 161],\n",
       "        ...,\n",
       "        [186, 167, 150],\n",
       "        [184, 165, 148],\n",
       "        [182, 163, 146]],\n",
       "\n",
       "       [[199, 178, 159],\n",
       "        [200, 179, 160],\n",
       "        [201, 180, 161],\n",
       "        ...,\n",
       "        [185, 166, 149],\n",
       "        [183, 164, 147],\n",
       "        [182, 163, 146]],\n",
       "\n",
       "       [[199, 178, 159],\n",
       "        [200, 179, 160],\n",
       "        [200, 179, 160],\n",
       "        ...,\n",
       "        [184, 165, 148],\n",
       "        [183, 164, 147],\n",
       "        [182, 163, 146]],\n",
       "\n",
       "       ...,\n",
       "\n",
       "       [[202, 188, 177],\n",
       "        [202, 188, 177],\n",
       "        [201, 187, 176],\n",
       "        ...,\n",
       "        [158, 149, 134],\n",
       "        [159, 150, 135],\n",
       "        [159, 150, 135]],\n",
       "\n",
       "       [[203, 189, 178],\n",
       "        [202, 188, 177],\n",
       "        [200, 186, 175],\n",
       "        ...,\n",
       "        [158, 149, 134],\n",
       "        [158, 149, 134],\n",
       "        [158, 149, 134]],\n",
       "\n",
       "       [[203, 189, 178],\n",
       "        [202, 188, 177],\n",
       "        [200, 186, 175],\n",
       "        ...,\n",
       "        [158, 149, 134],\n",
       "        [158, 149, 134],\n",
       "        [157, 148, 133]]], dtype=uint8)"
      ]
     },
     "execution_count": 6,
     "metadata": {
      "tags": []
     },
     "output_type": "execute_result"
    }
   ],
   "source": [
    "v=imageio.imread('1.jpeg') #Array\n",
    "v"
   ]
  },
  {
   "cell_type": "code",
   "execution_count": null,
   "metadata": {
    "id": "uZA3M0OuNlFE",
    "outputId": "80cdb0d6-f6e1-44aa-9a4b-1866b0032799"
   },
   "outputs": [
    {
     "data": {
      "text/plain": [
       "imageio.core.util.Array"
      ]
     },
     "execution_count": 7,
     "metadata": {
      "tags": []
     },
     "output_type": "execute_result"
    }
   ],
   "source": [
    "type(v)"
   ]
  },
  {
   "cell_type": "code",
   "execution_count": null,
   "metadata": {
    "id": "_zdq6_lDNlFE",
    "outputId": "6670ac16-bdc9-4b89-c2b4-d7ed98b3ff69"
   },
   "outputs": [
    {
     "data": {
      "text/plain": [
       "(numpy.ndarray,)"
      ]
     },
     "execution_count": 8,
     "metadata": {
      "tags": []
     },
     "output_type": "execute_result"
    }
   ],
   "source": [
    "type(v).__bases__ #numpy.ndarray 상속 받음"
   ]
  },
  {
   "cell_type": "code",
   "execution_count": null,
   "metadata": {
    "id": "19hjQLoKNlFF",
    "outputId": "f33e1d6c-ac06-4ff0-f13a-836f6e4d82a0"
   },
   "outputs": [
    {
     "data": {
      "text/plain": [
       "array([1, 2, 3])"
      ]
     },
     "execution_count": 5,
     "metadata": {
      "tags": []
     },
     "output_type": "execute_result"
    }
   ],
   "source": [
    "import numpy as np\n",
    "np.array([1,2,3])"
   ]
  },
  {
   "cell_type": "code",
   "execution_count": null,
   "metadata": {
    "id": "sZlmZXTTNlFG",
    "outputId": "24f9f629-736f-4871-84ca-a8591a2a8803"
   },
   "outputs": [
    {
     "data": {
      "text/plain": [
       "array([[[198, 177, 158],\n",
       "        [199, 178, 159],\n",
       "        [201, 180, 161],\n",
       "        ...,\n",
       "        [186, 167, 150],\n",
       "        [184, 165, 148],\n",
       "        [182, 163, 146]],\n",
       "\n",
       "       [[199, 178, 159],\n",
       "        [200, 179, 160],\n",
       "        [201, 180, 161],\n",
       "        ...,\n",
       "        [185, 166, 149],\n",
       "        [183, 164, 147],\n",
       "        [182, 163, 146]],\n",
       "\n",
       "       [[199, 178, 159],\n",
       "        [200, 179, 160],\n",
       "        [200, 179, 160],\n",
       "        ...,\n",
       "        [184, 165, 148],\n",
       "        [183, 164, 147],\n",
       "        [182, 163, 146]],\n",
       "\n",
       "       ...,\n",
       "\n",
       "       [[202, 188, 177],\n",
       "        [202, 188, 177],\n",
       "        [201, 187, 176],\n",
       "        ...,\n",
       "        [158, 149, 134],\n",
       "        [159, 150, 135],\n",
       "        [159, 150, 135]],\n",
       "\n",
       "       [[203, 189, 178],\n",
       "        [202, 188, 177],\n",
       "        [200, 186, 175],\n",
       "        ...,\n",
       "        [158, 149, 134],\n",
       "        [158, 149, 134],\n",
       "        [158, 149, 134]],\n",
       "\n",
       "       [[203, 189, 178],\n",
       "        [202, 188, 177],\n",
       "        [200, 186, 175],\n",
       "        ...,\n",
       "        [158, 149, 134],\n",
       "        [158, 149, 134],\n",
       "        [157, 148, 133]]], dtype=uint8)"
      ]
     },
     "execution_count": 4,
     "metadata": {
      "tags": []
     },
     "output_type": "execute_result"
    }
   ],
   "source": [
    "import matplotlib.pyplot as plt\n",
    "plt.imread('1.jpeg')"
   ]
  },
  {
   "cell_type": "markdown",
   "metadata": {
    "id": "evCMHNw_NlFH"
   },
   "source": [
    "### Scipy\n",
    "-  Numpy기반으로 과학분야에서 많이 사용하는것을 모아둔 패키지\n",
    "- low level\n",
    "- scikit (Scipy Toolkit): 사용자가 쉽게 사용할 수 있도록 Scikit-learn, Scikit-image 제공"
   ]
  },
  {
   "cell_type": "code",
   "execution_count": null,
   "metadata": {
    "id": "o1R8iH7rNlFH",
    "outputId": "d81ba62c-b7eb-4fdd-b0d0-62921ae28969"
   },
   "outputs": [
    {
     "data": {
      "text/plain": [
       "<matplotlib.image.AxesImage at 0x7fc7fc621e90>"
      ]
     },
     "execution_count": 12,
     "metadata": {
      "tags": []
     },
     "output_type": "execute_result"
    },
    {
     "data": {
      "image/png": "[encoded data removed]",
      "text/plain": [
       "<Figure size 432x288 with 1 Axes>"
      ]
     },
     "metadata": {
      "needs_background": "light",
      "tags": []
     },
     "output_type": "display_data"
    }
   ],
   "source": [
    "from scipy.misc import face\n",
    "plt.imshow(face())"
   ]
  },
  {
   "cell_type": "code",
   "execution_count": null,
   "metadata": {
    "id": "G4EgmknZNlFI",
    "outputId": "90d09c1a-c779-4d93-fd1a-3a42abd35246"
   },
   "outputs": [
    {
     "name": "stdout",
     "output_type": "stream",
     "text": [
      "add(x1, x2, /, out=None, *, where=True, casting='same_kind', order='K', dtype=None, subok=True[, signature, extobj])\n",
      "\n",
      "Add arguments element-wise.\n",
      "\n",
      "Parameters\n",
      "----------\n",
      "x1, x2 : array_like\n",
      "    The arrays to be added. If ``x1.shape != x2.shape``, they must be broadcastable to a common shape (which becomes the shape of the output).\n",
      "out : ndarray, None, or tuple of ndarray and None, optional\n",
      "    A location into which the result is stored. If provided, it must have\n",
      "    a shape that the inputs broadcast to. If not provided or None,\n",
      "    a freshly-allocated array is returned. A tuple (possible only as a\n",
      "    keyword argument) must have length equal to the number of outputs.\n",
      "where : array_like, optional\n",
      "    This condition is broadcast over the input. At locations where the\n",
      "    condition is True, the `out` array will be set to the ufunc result.\n",
      "    Elsewhere, the `out` array will retain its original value.\n",
      "    Note that if an uninitialized `out` array is created via the default\n",
      "    ``out=None``, locations within it where the condition is False will\n",
      "    remain uninitialized.\n",
      "**kwargs\n",
      "    For other keyword-only arguments, see the\n",
      "    :ref:`ufunc docs <ufuncs.kwargs>`.\n",
      "\n",
      "Returns\n",
      "-------\n",
      "add : ndarray or scalar\n",
      "    The sum of `x1` and `x2`, element-wise.\n",
      "    This is a scalar if both `x1` and `x2` are scalars.\n",
      "\n",
      "Notes\n",
      "-----\n",
      "Equivalent to `x1` + `x2` in terms of array broadcasting.\n",
      "\n",
      "Examples\n",
      "--------\n",
      ">>> np.add(1.0, 4.0)\n",
      "5.0\n",
      ">>> x1 = np.arange(9.0).reshape((3, 3))\n",
      ">>> x2 = np.arange(3.0)\n",
      ">>> np.add(x1, x2)\n",
      "array([[  0.,   2.,   4.],\n",
      "       [  3.,   5.,   7.],\n",
      "       [  6.,   8.,  10.]])\n"
     ]
    }
   ],
   "source": [
    "import numpy as np\n",
    "np.info(np.add)"
   ]
  },
  {
   "cell_type": "code",
   "execution_count": null,
   "metadata": {
    "id": "iUsHwjD8NlFI",
    "outputId": "125b3249-10e1-40a9-df3a-881d038717ba"
   },
   "outputs": [
    {
     "name": "stdout",
     "output_type": "stream",
     "text": [
      "Search results for 'add'\n",
      "------------------------\n",
      "numpy.add\n",
      "    Add arguments element-wise.\n",
      "numpy.logaddexp\n",
      "    Logarithm of the sum of exponentiations of the inputs.\n",
      "numpy.add_newdoc\n",
      "    Add documentation to an existing object, typically one defined in C\n",
      "numpy.logaddexp2\n",
      "    Logarithm of the sum of exponentiations of the inputs in base-2.\n",
      "numpy.ma.add\n",
      "    Add arguments element-wise.\n",
      "numpy.add_docstring\n",
      "    Add a docstring to a built-in obj if possible.\n",
      "numpy.quantile\n",
      "    Compute the q-th quantile of the data along the specified axis.\n",
      "numpy.deprecate\n",
      "    Issues a DeprecationWarning, adds warning to `old_name`'s\n",
      "numpy._add_newdoc_ufunc\n",
      "    Replace the docstring for a ufunc with new_docstring.\n",
      "numpy.binary_repr\n",
      "    Return the binary representation of the input number as a string.\n",
      "numpy.ma.ids\n",
      "    ids(self)\n",
      "numpy.fft.test\n",
      "    Pytest test runner.\n",
      "numpy.ma.append\n",
      "    Append values to the end of an array.\n",
      "numpy.bytes0.ljust\n",
      "    Return B left justified in a string of length width. Padding is\n",
      "numpy.bytes0.rjust\n",
      "    Return B right justified in a string of length width. Padding is\n",
      "numpy.bytes0.center\n",
      "    Return B centered in a string of length width.  Padding is\n",
      "numpy.linalg.test\n",
      "    Pytest test runner.\n",
      "numpy.str0.ljust\n",
      "    Return a left-justified string of length width.\n",
      "numpy.str0.rjust\n",
      "    Return a right-justified string of length width.\n",
      "numpy.str0.center\n",
      "    Return a centered string of length width.\n",
      "numpy.distutils.test\n",
      "    Pytest test runner.\n",
      "numpy.polynomial.test\n",
      "    Pytest test runner.\n",
      "numpy.format_float_positional\n",
      "    Format a floating-point scalar as a decimal string in positional notation.\n",
      "numpy.format_float_scientific\n",
      "    Format a floating-point scalar as a decimal string in scientific notation.\n",
      "numpy.compat.npy_load_module\n",
      "    Load a module.\n",
      "numpy.ma.mrecords.addfield\n",
      "    Adds a new field to the masked record array\n",
      "numpy.ma.MaskedArray.__add__\n",
      "    Add self to other, and return a new masked array.\n",
      "numpy._pytesttester.PytestTester\n",
      "    Pytest test runner.\n",
      "numpy.ma.MaskedArray.__iadd__\n",
      "    Add other to self in-place.\n",
      "numpy.ma.MaskedArray.__radd__\n",
      "    Add other to self, and return a new masked array.\n",
      "numpy.polynomial.Hermite._add\n",
      "    Add one Hermite series to another.\n",
      "numpy.ma.MaskedArray.ids\n",
      "    Return the addresses of the data and mask areas.\n",
      "numpy.polynomial.HermiteE._add\n",
      "    Add one Hermite series to another.\n",
      "numpy.polynomial.Laguerre._add\n",
      "    Add one Laguerre series to another.\n",
      "numpy.polynomial.Legendre._add\n",
      "    Add one Legendre series to another.\n",
      "numpy.core._dtype._is_packed\n",
      "    Checks whether the structured data type in 'dtype'\n",
      "numpy.polynomial.Chebyshev._add\n",
      "    Add one Chebyshev series to another.\n",
      "numpy.compat.contextlib_nullcontext\n",
      "    Context manager that does no additional processing.\n",
      "numpy.polynomial.Polynomial._add\n",
      "    Add one polynomial to another.\n",
      "numpy.core._internal._copy_fields\n",
      "    Return copy of structured array with padding between fields removed.\n",
      "numpy.core._internal._add_trailing_padding\n",
      "    Inject the specified number of padding bytes at the end of a dtype\n",
      "numpy.polynomial.Chebyshev.degree\n",
      "    The degree of the series.\n",
      "numpy.polyadd\n",
      "    Find the sum of two polynomials.\n",
      "numpy.fv\n",
      "    Compute the future value.\n",
      "numpy.lib.recfunctions.append_fields\n",
      "    Add new fields to an existing array.\n",
      "numpy.all\n",
      "    Test whether all array elements along a given axis evaluate to True.\n",
      "numpy.any\n",
      "    Test whether any array element along a given axis evaluates to True.\n",
      "numpy.cov\n",
      "    Estimate a covariance matrix, given data and weights.\n",
      "numpy.eye\n",
      "    Return a 2-D array with ones on the diagonal and zeros elsewhere.\n",
      "numpy.irr\n",
      "    Return the Internal Rate of Return (IRR).\n",
      "numpy.npv\n",
      "    Returns the NPV (Net Present Value) of a cash flow series.\n",
      "numpy.pad\n",
      "    Pad an array.\n",
      "numpy.ptp\n",
      "    Range of values (maximum - minimum) along an axis.\n",
      "numpy.put\n",
      "    Replaces specified elements of an array with given values.\n",
      "numpy.std\n",
      "    Compute the standard deviation along the specified axis.\n",
      "numpy.sum\n",
      "    Sum of array elements over a given axis.\n",
      "numpy.var\n",
      "    Compute the variance along the specified axis.\n",
      "numpy.amax\n",
      "    Return the maximum of an array or maximum along an axis.\n",
      "numpy.amin\n",
      "    Return the minimum of an array or minimum along an axis.\n",
      "numpy.cbrt\n",
      "    Return the cube-root of an array, element-wise.\n",
      "numpy.clip\n",
      "    Clip (limit) the values in an array.\n",
      "numpy.diff\n",
      "    Calculate the n-th discrete difference along the given axis.\n",
      "numpy.exp2\n",
      "    Calculate `2**p` for all `p` in the input array.\n",
      "numpy.flip\n",
      "    Reverse the order of elements in an array along the given axis.\n",
      "numpy.fmax\n",
      "    Element-wise maximum of array elements.\n",
      "numpy.fmin\n",
      "    Element-wise minimum of array elements.\n",
      "numpy.in1d\n",
      "    Test whether each element of a 1-D array is also present in a second array.\n",
      "numpy.isin\n",
      "    Calculates `element in test_elements`, broadcasting over `element` only.\n",
      "numpy.log2\n",
      "    Base-2 logarithm of `x`.\n",
      "numpy.mean\n",
      "    Compute the arithmetic mean along the specified axis.\n",
      "numpy.prod\n",
      "    Return the product of array elements over a given axis.\n",
      "numpy.roll\n",
      "    Roll array elements along a given axis.\n",
      "numpy.sort\n",
      "    Return a sorted copy of an array.\n",
      "numpy.take\n",
      "    Take elements from an array along an axis.\n",
      "numpy.block\n",
      "    Assemble an nd-array from nested lists of blocks.\n",
      "numpy.cross\n",
      "    Return the cross product of two (arrays of) vectors.\n",
      "numpy.dtype\n",
      "    Create a data type object.\n",
      "numpy.inner\n",
      "    Inner product of two arrays.\n",
      "numpy.isnat\n",
      "    Test element-wise for NaT (not a time) and return result as a boolean array.\n",
      "numpy.outer\n",
      "    Compute the outer product of two vectors.\n",
      "numpy.rot90\n",
      "    Rotate an array by 90 degrees in the plane specified by axes.\n",
      "numpy.char.add\n",
      "    Return element-wise string concatenation for two arrays of str or unicode.\n",
      "numpy.stack\n",
      "    Join a sequence of arrays along a new axis.\n",
      "numpy.trunc\n",
      "    Return the truncated value of the input, element-wise.\n",
      "numpy.MachAr\n",
      "    Diagnosing machine parameters.\n",
      "numpy.copyto\n",
      "    Copies values from one array to another, broadcasting as necessary.\n",
      "numpy.divide\n",
      "    Returns a true division of the inputs, element-wise.\n",
      "numpy.divmod\n",
      "    Return element-wise quotient and remainder simultaneously.\n",
      "numpy.einsum\n",
      "    einsum(subscripts, *operands, out=None, dtype=None, order='K',\n",
      "numpy.insert\n",
      "    Insert values along the given axis before the given indices.\n",
      "numpy.interp\n",
      "    One-dimensional linear interpolation.\n",
      "numpy.polynomial.Chebyshev.has_samecoef\n",
      "    Check if coefficients match.\n",
      "numpy.polynomial.Chebyshev.has_sametype\n",
      "    Check if types match.\n",
      "numpy.matmul\n",
      "    Matrix product of two arrays.\n",
      "numpy.median\n",
      "    Compute the median along the specified axis.\n",
      "numpy.memmap\n",
      "    Create a memory-map to an array stored in a *binary* file on disk.\n",
      "numpy.nanmax\n",
      "    Return the maximum of an array or maximum along an axis, ignoring any\n",
      "numpy.testing.suppress_warnings.filter\n",
      "    Add a new suppressing filter or apply it if the state is entered.\n",
      "numpy.nanmin\n",
      "    Return minimum of an array or minimum along an axis, ignoring any NaNs.\n",
      "numpy.nanstd\n",
      "    Compute the standard deviation along the specified axis, while\n",
      "numpy.nansum\n",
      "    Return the sum of array elements over a given axis treating Not a\n",
      "numpy.nanvar\n",
      "    Compute the variance along the specified axis, while ignoring NaNs.\n",
      "numpy.nditer\n",
      "    Efficient multi-dimensional iterator object to iterate over arrays.\n",
      "numpy.poly1d\n",
      "    A one-dimensional polynomial class.\n",
      "numpy.lib.recfunctions.rec_append_fields\n",
      "    Add new fields to an existing array.\n",
      "numpy.unique\n",
      "    Find the unique elements of an array.\n",
      "numpy.vander\n",
      "    Generate a Vandermonde matrix.\n",
      "numpy.argsort\n",
      "    Returns the indices that would sort an array.\n",
      "numpy.average\n",
      "    Compute the weighted average along the specified axis.\n",
      "numpy.deg2rad\n",
      "    Convert angles from degrees to radians.\n",
      "numpy.indices\n",
      "    Return an array representing the indices of a grid.\n",
      "numpy.isclose\n",
      "    Returns a boolean array where two arrays are element-wise equal within a\n",
      "numpy.loadtxt\n",
      "    Load data from a text file.\n",
      "numpy.nanmean\n",
      "    Compute the arithmetic mean along the specified axis, ignoring NaNs.\n",
      "numpy.nanprod\n",
      "    Return the product of array elements over a given axis treating Not a\n",
      "numpy.polydiv\n",
      "    Returns the quotient and remainder of polynomial division.\n",
      "numpy.polyfit\n",
      "    Least squares polynomial fit.\n",
      "numpy.polymul\n",
      "    Find the product of two polynomials.\n",
      "numpy.polysub\n",
      "    Difference (subtraction) of two polynomials.\n",
      "numpy.polyval\n",
      "    Evaluate a polynomial at specific values.\n",
      "numpy.rad2deg\n",
      "    Convert angles from radians to degrees.\n",
      "numpy.savetxt\n",
      "    Save an array to a text file.\n",
      "numpy.squeeze\n",
      "    Remove single-dimensional entries from the shape of an array.\n",
      "numpy.allclose\n",
      "    Returns True if two arrays are element-wise equal within a tolerance.\n",
      "numpy.bincount\n",
      "    Count number of occurrences of each value in array of non-negative ints.\n",
      "numpy.blackman\n",
      "    Return the Blackman window.\n",
      "numpy.convolve\n",
      "    Returns the discrete, linear convolution of two one-dimensional sequences.\n",
      "numpy.corrcoef\n",
      "    Return Pearson product-moment correlation coefficients.\n",
      "numpy.digitize\n",
      "    Return the indices of the bins to which each value in input array belongs.\n",
      "numpy.fromfile\n",
      "    Construct an array from data in a text or binary file.\n",
      "numpy.gradient\n",
      "    Return the gradient of an N-dimensional array.\n",
      "numpy.core.overrides.array_function_dispatch\n",
      "    Decorator for adding dispatch with the __array_function__ protocol.\n",
      "numpy.polynomial.Chebyshev.has_samedomain\n",
      "    Check if domains match.\n",
      "numpy.polynomial.Chebyshev.has_samewindow\n",
      "    Check if windows match.\n",
      "numpy.linspace\n",
      "    Return evenly spaced numbers over a specified interval.\n",
      "numpy.logspace\n",
      "    Return numbers spaced evenly on a log scale.\n",
      "numpy.meshgrid\n",
      "    Return coordinate matrices from coordinate vectors.\n",
      "numpy.moveaxis\n",
      "    Move axes of an array to new positions.\n",
      "numpy.packbits\n",
      "    Packs the elements of a binary-valued array into bits in a uint8 array.\n",
      "numpy.positive\n",
      "    Numerical positive, element-wise.\n",
      "numpy.rollaxis\n",
      "    Roll the specified axis backwards, until it lies in a given position.\n",
      "numpy.base_repr\n",
      "    Return a string representation of a number in the given base system.\n",
      "numpy.broadcast\n",
      "    Produce an object that mimics broadcasting.\n",
      "numpy.chararray\n",
      "    chararray(shape, itemsize=1, unicode=False, buffer=None, offset=0,\n",
      "numpy.correlate\n",
      "    Cross-correlation of two 1-dimensional sequences.\n",
      "numpy.fromregex\n",
      "    Construct an array from a text file, using regular expression parsing.\n",
      "numpy.full_like\n",
      "    Return a full array with the same shape and type as a given array.\n",
      "numpy.geomspace\n",
      "    Return numbers spaced evenly on a log scale (a geometric progression).\n",
      "numpy.heaviside\n",
      "    Compute the Heaviside step function.\n",
      "numpy.histogram\n",
      "    Compute the histogram of a set of data.\n",
      "numpy.is_busday\n",
      "    Calculates which of the given dates are valid days, and which are not.\n",
      "numpy.nancumsum\n",
      "    Return the cumulative sum of array elements over a given axis treating Not a\n",
      "numpy.nanmedian\n",
      "    Compute the median along the specified axis, while ignoring NaNs.\n",
      "numpy.ones_like\n",
      "    Return an array of ones with the same shape and type as a given array.\n",
      "numpy.partition\n",
      "    Return a partitioned copy of an array.\n",
      "numpy.vectorize\n",
      "    vectorize(pyfunc, otypes=None, doc=None, excluded=None, cache=False,\n",
      "numpy.empty_like\n",
      "    Return a new array with the same shape and type as a given array.\n",
      "numpy.frompyfunc\n",
      "    Takes an arbitrary Python function and returns a NumPy ufunc.\n",
      "numpy.fromstring\n",
      "    A new 1-D array initialized from text data in a string.\n",
      "numpy.genfromtxt\n",
      "    Load data from a text file, with missing values handled as specified.\n",
      "numpy.nan_to_num\n",
      "    Replace NaN with zero and infinity with large finite numbers (default\n",
      "numpy.nancumprod\n",
      "    Return the cumulative product of array elements over a given axis treating Not a\n",
      "numpy.percentile\n",
      "    Compute the q-th percentile of the data along the specified axis.\n",
      "numpy.unpackbits\n",
      "    Unpacks elements of a uint8 array into a binary-valued output array.\n",
      "numpy.zeros_like\n",
      "    Return an array of zeros with the same shape and type as a given array.\n",
      "numpy.einsum_path\n",
      "    Evaluates the lowest cost contraction order for an einsum expression by\n",
      "numpy.float_power\n",
      "    First array elements raised to powers from second array, element-wise.\n",
      "numpy.histogram2d\n",
      "    Compute the bi-dimensional histogram of two data samples.\n",
      "numpy.core.tests.test_extint128.exc_iter\n",
      "    Iterate over Cartesian product of *args, and if an exception is raised,\n",
      "numpy.intersect1d\n",
      "    Find the intersection of two arrays.\n",
      "numpy.nanquantile\n",
      "    Compute the qth quantile of the data along the specified axis,\n",
      "numpy.result_type\n",
      "    result_type(*arrays_and_dtypes)\n",
      "numpy.fft.fft\n",
      "    Compute the one-dimensional discrete Fourier Transform.\n",
      "numpy.ma.cov\n",
      "    Estimate the covariance matrix.\n",
      "numpy.ma.dot\n",
      "    Return the dot product of two arrays.\n",
      "numpy.argpartition\n",
      "    Perform an indirect partition along the given axis using the\n",
      "numpy.array2string\n",
      "    Return a string representation of an array.\n",
      "numpy.broadcast_to\n",
      "    Broadcast an array to a new shape.\n",
      "numpy.busday_count\n",
      "    Counts the number of valid days between `begindates` and\n",
      "numpy.diag_indices\n",
      "    Return the indices to access the main diagonal of an array.\n",
      "numpy.ma.var\n",
      "    Compute the variance along the specified axis.\n",
      "numpy.mask_indices\n",
      "    Return the indices to access (n, n) arrays, given a masking function.\n",
      "numpy.searchsorted\n",
      "    Find indices where elements should be inserted to maintain order.\n",
      "numpy.tril_indices\n",
      "    Return the indices for the lower-triangle of an (n, m) array.\n",
      "numpy.triu_indices\n",
      "    Return the indices for the upper-triangle of an (n, m) array.\n",
      "numpy.fft.fft2\n",
      "    Compute the 2-dimensional discrete Fourier Transform\n",
      "numpy.fft.fftn\n",
      "    Compute the N-dimensional discrete Fourier Transform.\n",
      "numpy.fft.hfft\n",
      "    Compute the FFT of a signal that has Hermitian symmetry, i.e., a real\n",
      "numpy.fft.ifft\n",
      "    Compute the one-dimensional inverse discrete Fourier Transform.\n",
      "numpy.fft.rfft\n",
      "    Compute the one-dimensional discrete Fourier Transform for real input.\n",
      "numpy.ma.in1d\n",
      "    Test whether each element of an array is also present in a second\n",
      "numpy.ma.isin\n",
      "    Calculates `element in test_elements`, broadcasting over\n",
      "numpy.ma.log2\n",
      "    Base-2 logarithm of `x`.\n",
      "numpy.busday_offset\n",
      "    First adjusts the date to fall on a valid day according to\n",
      "numpy.count_nonzero\n",
      "    Counts the number of non-zero values in the array ``a``.\n",
      "numpy.fill_diagonal\n",
      "    Fill the main diagonal of the given array of any dimensionality.\n",
      "numpy.format_parser\n",
      "    Class to convert formats, names, titles description to a dtype.\n",
      "numpy.nanpercentile\n",
      "    Compute the qth percentile of the data along the specified axis,\n",
      "numpy.promote_types\n",
      "    Returns the data type with the smallest size and smallest scalar\n",
      "numpy.char.ljust\n",
      "    Return an array with the elements of `a` left-justified in a\n",
      "numpy.char.rjust\n",
      "    Return an array with the elements of `a` right-justified in a\n",
      "numpy.unravel_index\n",
      "    Converts a flat index or array of flat indices into a tuple\n",
      "numpy.ma.count\n",
      "    Count the non-masked elements of the array along the given axis.\n",
      "numpy.fft.ifft2\n",
      "    Compute the 2-dimensional inverse discrete Fourier Transform.\n",
      "numpy.fft.ifftn\n",
      "    Compute the N-dimensional inverse discrete Fourier Transform.\n",
      "numpy.fft.ihfft\n",
      "    Compute the inverse FFT of a signal that has Hermitian symmetry.\n",
      "numpy.fft.irfft\n",
      "    Compute the inverse of the n-point DFT for real input.\n",
      "numpy.fft.rfft2\n",
      "    Compute the 2-dimensional FFT of a real array.\n",
      "numpy.fft.rfftn\n",
      "    Compute the N-dimensional discrete Fourier Transform for real input.\n",
      "numpy.ma.inner\n",
      "    Inner product of two arrays.\n",
      "numpy.busdaycalendar\n",
      "    A business day calendar object that efficiently stores information\n",
      "numpy.ma.outer\n",
      "    Compute the outer product of two vectors.\n",
      "numpy.ma.stack\n",
      "    Join a sequence of arrays along a new axis.\n",
      "numpy.distutils.fcompiler.FCompiler.add_library\n",
      "    Add 'libname' to the list of libraries that will be included in\n",
      "numpy.put_along_axis\n",
      "    Put values into the destination array by matching 1d index and data slices.\n",
      "numpy.linalg.qr\n",
      "    Compute the qr factorization of a matrix.\n",
      "numpy.char.center\n",
      "    Return a copy of `a` with its elements centered in a string of\n",
      "numpy.chararray.__add__\n",
      "    Return (self + other), that is string concatenation,\n",
      "numpy.ma.divide\n",
      "    Returns a true division of the inputs, element-wise.\n",
      "numpy.fft.irfft2\n",
      "    Compute the 2-dimensional inverse FFT of a real array.\n",
      "numpy.fft.irfftn\n",
      "    Compute the inverse of the N-dimensional FFT of real input.\n",
      "numpy.ma.median\n",
      "    Compute the median along the specified axis.\n",
      "numpy.ufunc.at\n",
      "    Performs unbuffered in place operation on operand 'a' for elements\n",
      "numpy.ma.vander\n",
      "    Generate a Vandermonde matrix.\n",
      "numpy.min_scalar_type\n",
      "    min_scalar_type(a)\n",
      "numpy.linalg.det\n",
      "    Compute the determinant of an array.\n",
      "numpy.linalg.eig\n",
      "    Compute the eigenvalues and right eigenvectors of a square array.\n",
      "numpy.linalg.inv\n",
      "    Compute the (multiplicative) inverse of a matrix.\n",
      "numpy.linalg.svd\n",
      "    Singular Value Decomposition.\n",
      "numpy.set_numeric_ops\n",
      "    Set numerical operators for array objects.\n",
      "numpy.take_along_axis\n",
      "    Take values from the input array by matching 1d index and data slices.\n",
      "numpy.apply_along_axis\n",
      "    Apply a function to 1-D slices along the given axis.\n",
      "numpy.chararray.__radd__\n",
      "    Return (other + self), that is string concatenation,\n",
      "numpy.ma.polyfit\n",
      "    Least squares polynomial fit.\n",
      "numpy.matlib.eye\n",
      "    Return a matrix with ones on the diagonal and zeros elsewhere.\n",
      "numpy.linalg.eigh\n",
      "    Return the eigenvalues and eigenvectors of a complex Hermitian\n",
      "numpy.linalg.norm\n",
      "    Matrix or vector norm.\n",
      "numpy.linalg.pinv\n",
      "    Compute the (Moore-Penrose) pseudo-inverse of a matrix.\n",
      "numpy.set_printoptions\n",
      "    Set printing options.\n",
      "numpy.f2py.compile\n",
      "    Build extension module from a Fortran 77 source string with f2py.\n",
      "numpy.ma.corrcoef\n",
      "    Return Pearson product-moment correlation coefficients.\n",
      "numpy.diag_indices_from\n",
      "    Return the indices to access the main diagonal of an n-dimensional array.\n",
      "numpy.linalg.tests.test_linalg.apply_tag\n",
      "    Add the given tag (a string) to each of the cases (a list of LinalgCase\n",
      "numpy.ravel_multi_index\n",
      "    Converts a tuple of index arrays into an array of flat\n",
      "numpy.linalg.solve\n",
      "    Solve a linear matrix equation, or system of linear scalar equations.\n",
      "numpy.tril_indices_from\n",
      "    Return the indices for the lower-triangle of arr.\n",
      "numpy.triu_indices_from\n",
      "    Return the indices for the upper-triangle of arr.\n",
      "numpy.distutils.fcompiler.FCompiler.add_include_dir\n",
      "    Add 'dir' to the list of directories that will be searched for\n",
      "numpy.distutils.fcompiler.FCompiler.add_library_dir\n",
      "    Add 'dir' to the list of directories that will be searched for\n",
      "numpy.distutils.fcompiler.FCompiler.add_link_object\n",
      "    Add 'object' to the list of object files (or analogues, such as\n",
      "numpy.chararray.sort\n",
      "    Sort an array in-place. Refer to `numpy.sort` for full documentation.\n",
      "numpy.nditer.close\n",
      "    close()\n",
      "numpy.distutils.misc_util.Configuration.add_headers\n",
      "    Add installable headers to configuration.\n",
      "numpy.distutils.misc_util.Configuration.add_library\n",
      "    Add library to configuration.\n",
      "numpy.distutils.misc_util.Configuration.add_scripts\n",
      "    Add scripts to configuration.\n",
      "numpy.ma.empty_like\n",
      "    empty_like(prototype, dtype=None, order='K', subok=True, shape=None)\n",
      "numpy.ufunc.reduce\n",
      "    Reduces `a`'s dimension by one, by applying ufunc along one axis.\n",
      "numpy.linalg.eigvals\n",
      "    Compute the eigenvalues of a general matrix.\n",
      "numpy.linalg.slogdet\n",
      "    Compute the sign and (natural) logarithm of the determinant of an array.\n",
      "numpy.distutils.misc_util.Configuration._add_library\n",
      "    Common implementation for add_library and add_installed_library. Do\n",
      "numpy.distutils.misc_util.Configuration.add_data_dir\n",
      "    Recursively add files under data_path to data_files list.\n",
      "numpy.lib.tests.test_arraypad.TestEmptyArray\n",
      "    Check how padding behaves on arrays with an empty dimension.\n",
      "numpy.ma.true_divide\n",
      "    Returns a true division of the inputs, element-wise.\n",
      "numpy.chararray.tolist\n",
      "    a.tolist()\n",
      "numpy.linalg.cholesky\n",
      "    Cholesky decomposition.\n",
      "numpy.linalg.eigvalsh\n",
      "    Compute the eigenvalues of a complex Hermitian or real symmetric matrix.\n",
      "numpy.distutils.misc_util.Configuration.add_extension\n",
      "    Add extension to configuration.\n",
      "numpy.fft.tests.test_fft.TestFFT1D.addCleanup\n",
      "    Add a function, with arguments, to be called when the test is\n",
      "numpy.ma.clump_masked\n",
      "    Returns a list of slices corresponding to the masked clumps of a 1-D array.\n",
      "numpy.ufunc.reduceat\n",
      "    Performs a (local) reduce with specified slices over a single axis.\n",
      "numpy.chararray.tobytes\n",
      "    Construct Python bytes containing the raw data bytes in the array.\n",
      "numpy.distutils.misc_util.Configuration.add_data_files\n",
      "    Add data files to configuration data_files.\n",
      "numpy.distutils.misc_util.Configuration.add_subpackage\n",
      "    Add a sub-package to the current Configuration instance.\n",
      "numpy.testing.rundocs\n",
      "    Run doctests found in the given file.\n",
      "numpy.core.tests.test_numerictypes.normalize_descr\n",
      "    Normalize a description adding the platform byteorder.\n",
      "numpy.matrix.partition\n",
      "    Rearranges the elements in the array in such a way that the value of the\n",
      "numpy.random.Generator\n",
      "    Generator(bit_generator)\n",
      "numpy.lib.tests.test_io.TextIO.writelines\n",
      "    Write lines to the file.\n",
      "numpy.ma.clump_unmasked\n",
      "    Return list of slices corresponding to the unmasked clumps of a 1-D array.\n",
      "numpy.ufunc.accumulate\n",
      "    Accumulate the result of applying the operator to all elements.\n",
      "numpy.chararray.transpose\n",
      "    a.transpose(*axes)\n",
      "numpy.distutils.fcompiler.FCompiler.library_option\n",
      "    Return the compiler option to add 'lib' to the list of libraries\n",
      "numpy.linalg.matrix_rank\n",
      "    Return matrix rank of array using SVD method\n",
      "numpy.distutils.command.sdist.sdist.add_defaults\n",
      "    Add all the default files to self.filelist:\n",
      "numpy.distutils.misc_util.Configuration.add_include_dirs\n",
      "    Add paths to configuration include directories.\n",
      "numpy.polynomial.Hermite\n",
      "    An Hermite series class.\n",
      "numpy.random.RandomState\n",
      "    Container for the slow Mersenne Twister pseudo-random number generator.\n",
      "numpy.random.default_rng\n",
      "    Construct a new Generator with the default BitGenerator (PCG64).\n",
      "numpy.ma.apply_along_axis\n",
      "    Apply a function to 1-D slices along the given axis.\n",
      "numpy.distutils.misc_util.Configuration.add_define_macros\n",
      "    Add define macros to configuration\n",
      "numpy.lib._iotools.StringConverter.upgrade_mapper\n",
      "    Upgrade the mapper of a StringConverter by adding a new function and\n",
      "numpy.distutils.fcompiler.FCompiler.set_include_dirs\n",
      "    Set the list of directories that will be searched to 'dirs' (a\n",
      "numpy.polynomial.HermiteE\n",
      "    An HermiteE series class.\n",
      "numpy.polynomial.Laguerre\n",
      "    A Laguerre series class.\n",
      "numpy.polynomial.Legendre\n",
      "    A Legendre series class.\n",
      "numpy.tests.test_public_api.test_all_modules_are_expected\n",
      "    Test that we don't add anything that looks like a new public module by\n",
      "numpy.double.__set_format__\n",
      "    You probably don't want to use this function.\n",
      "numpy.chararray.argpartition\n",
      "    Returns the indices that would partition this array.\n",
      "numpy.distutils.fcompiler.FCompiler.add_runtime_library_dir\n",
      "    Add 'dir' to the list of directories that will be searched for\n",
      "numpy.polynomial.Chebyshev\n",
      "    A Chebyshev series class.\n",
      "numpy.testing.assert_warns\n",
      "    Fail unless the given callable throws the specified warning.\n",
      "numpy.distutils.fcompiler.FCompiler.library_dir_option\n",
      "    Return the compiler option to add 'dir' to the list of\n",
      "numpy.polynomial.Polynomial\n",
      "    A power series class.\n",
      "numpy.distutils.misc_util.Configuration.add_installed_library\n",
      "    Similar to add_library, but the specified library is installed.\n",
      "numpy.testing._private.noseclasses.NumpyDocTestCase\n",
      "    Overrides DocTestCase to\n",
      "numpy.fft.tests.test_fft.TestFFT1D.addTypeEqualityFunc\n",
      "    Add a type specific assertEqual style function to compare a type.\n",
      "numpy.distutils.msvccompiler.MSVCCompiler.library_option\n",
      "    Return the compiler option to add 'lib' to the list of libraries\n",
      "numpy.testing.assert_allclose\n",
      "    Raises an AssertionError if two objects are not equal up to desired\n",
      "numpy.testing.run_module_suite\n",
      "    Run a test module.\n",
      "numpy.ma.MaskedArray.dot\n",
      "    Masked dot product of two arrays. Note that `out` and `strict` are\n",
      "numpy.ma.MaskedArray.var\n",
      "    Compute the variance along the specified axis.\n",
      "numpy.distutils.command.sdist.sdist.write_manifest\n",
      "    Write the file list in 'self.filelist' (presumably as filled in\n",
      "numpy.testing.suppress_warnings\n",
      "    Context manager and decorator doing much the same as\n",
      "numpy.fft.tests.test_fft.TestFFT1D.assertWarnsRegex\n",
      "    Asserts that the message in a triggered warning matches a regexp.\n",
      "numpy.testing.assert_no_warnings\n",
      "    Fail if the given callable produces any warnings.\n",
      "numpy.ma.MaskedArray.count\n",
      "    Count the non-masked elements of the array along the given axis.\n",
      "numpy.distutils.intelccompiler.IntelCCompiler.library_option\n",
      "    Return the compiler option to add 'lib' to the list of libraries\n",
      "numpy.distutils.command.develop.develop.create_index.add\n",
      "    Add `dist` if we ``can_add()`` it and it has not already been added\n",
      "numpy.distutils.msvccompiler.MSVCCompiler.library_dir_option\n",
      "    Return the compiler option to add 'dir' to the list of\n",
      "numpy.testing.assert_no_gc_cycles\n",
      "    Fail if the given callable produces any reference cycles.\n",
      "numpy.testing.assert_raises_regex\n",
      "    assert_raises_regex(exception_class, expected_regexp, callable, *args,\n",
      "numpy.ma.MaskedArray.tobytes\n",
      "    Return the array data as a string containing the raw bytes in the array.\n",
      "numpy.distutils.fcompiler.FCompiler.runtime_library_dir_option\n",
      "    Return the compiler option to add 'dir' to the list of\n",
      "numpy.polynomial.Hermite.fit\n",
      "    Least squares fit to data.\n",
      "numpy.polynomial.Hermite._der\n",
      "    Differentiate a Hermite series.\n",
      "numpy.polynomial.Hermite._div\n",
      "    Divide one Hermite series by another.\n",
      "numpy.polynomial.Hermite._int\n",
      "    Integrate a Hermite series.\n",
      "numpy.polynomial.Hermite._mul\n",
      "    Multiply one Hermite series by another.\n",
      "numpy.polynomial.Hermite._pow\n",
      "    Raise a Hermite series to a power.\n",
      "numpy.polynomial.Hermite._sub\n",
      "    Subtract one Hermite series from another.\n",
      "numpy.polynomial.Hermite._val\n",
      "    Evaluate an Hermite series at points x.\n",
      "numpy.polynomial.Hermite.cast\n",
      "    Convert series to series of this class.\n",
      "numpy.polynomial.HermiteE.fit\n",
      "    Least squares fit to data.\n",
      "numpy.polynomial.Laguerre.fit\n",
      "    Least squares fit to data.\n",
      "numpy.polynomial.Legendre.fit\n",
      "    Least squares fit to data.\n",
      "numpy.ma.MaskedArray.partition\n",
      "    Rearranges the elements in the array in such a way that the value of the\n",
      "numpy.random.Generator.pareto\n",
      "    Draw samples from a Pareto II or Lomax distribution with\n",
      "numpy.random.Generator.random\n",
      "    Return random floats in the half-open interval [0.0, 1.0).\n",
      "numpy.ma.MaskedArray.transpose\n",
      "    a.transpose(*axes)\n",
      "numpy.polynomial.Chebyshev.fit\n",
      "    Least squares fit to data.\n",
      "numpy.polynomial.Hermite.basis\n",
      "    Series basis polynomial of degree `deg`.\n",
      "numpy.polynomial.HermiteE._der\n",
      "    Differentiate a Hermite_e series.\n",
      "numpy.polynomial.HermiteE._div\n",
      "    Divide one Hermite series by another.\n",
      "numpy.polynomial.HermiteE._int\n",
      "    Integrate a Hermite_e series.\n",
      "numpy.polynomial.HermiteE._mul\n",
      "    Multiply one Hermite series by another.\n",
      "numpy.polynomial.HermiteE._pow\n",
      "    Raise a Hermite series to a power.\n",
      "numpy.polynomial.HermiteE._sub\n",
      "    Subtract one Hermite series from another.\n",
      "numpy.polynomial.HermiteE._val\n",
      "    Evaluate an HermiteE series at points x.\n",
      "numpy.polynomial.HermiteE.cast\n",
      "    Convert series to series of this class.\n",
      "numpy.polynomial.Laguerre._der\n",
      "    Differentiate a Laguerre series.\n",
      "numpy.polynomial.Laguerre._div\n",
      "    Divide one Laguerre series by another.\n",
      "numpy.polynomial.Laguerre._int\n",
      "    Integrate a Laguerre series.\n",
      "numpy.polynomial.Laguerre._mul\n",
      "    Multiply one Laguerre series by another.\n",
      "numpy.polynomial.Laguerre._pow\n",
      "    Raise a Laguerre series to a power.\n",
      "numpy.polynomial.Laguerre._sub\n",
      "    Subtract one Laguerre series from another.\n",
      "numpy.polynomial.Laguerre._val\n",
      "    Evaluate a Laguerre series at points x.\n",
      "numpy.polynomial.Laguerre.cast\n",
      "    Convert series to series of this class.\n",
      "numpy.lib._version.NumpyVersion\n",
      "    Parse and compare numpy version strings.\n",
      "numpy.polynomial.Legendre._der\n",
      "    Differentiate a Legendre series.\n",
      "numpy.polynomial.Legendre._div\n",
      "    Divide one Legendre series by another.\n",
      "numpy.polynomial.Legendre._fit\n",
      "    Least squares fit of Legendre series to data.\n",
      "numpy.polynomial.Legendre._int\n",
      "    Integrate a Legendre series.\n",
      "numpy.polynomial.Legendre._mul\n",
      "    Multiply one Legendre series by another.\n",
      "numpy.polynomial.Legendre._pow\n",
      "    Raise a Legendre series to a power.\n",
      "numpy.polynomial.Legendre._sub\n",
      "    Subtract one Legendre series from another.\n",
      "numpy.polynomial.Legendre._val\n",
      "    Evaluate a Legendre series at points x.\n",
      "numpy.polynomial.Legendre.cast\n",
      "    Convert series to series of this class.\n",
      "numpy.distutils.intelccompiler.IntelCCompiler.library_dir_option\n",
      "    Return the compiler option to add 'dir' to the list of\n",
      "numpy.distutils.command.develop.develop.create_index.__add__\n",
      "    Add an environment or distribution to an environment\n",
      "numpy.core._multiarray_umath.inner\n",
      "    Inner product of two arrays.\n",
      "numpy.polynomial.Chebyshev._der\n",
      "    Differentiate a Chebyshev series.\n",
      "numpy.polynomial.Chebyshev._div\n",
      "    Divide one Chebyshev series by another.\n",
      "numpy.polynomial.Chebyshev._fit\n",
      "    Least squares fit of Chebyshev series to data.\n",
      "numpy.polynomial.Chebyshev._int\n",
      "    Integrate a Chebyshev series.\n",
      "numpy.polynomial.Chebyshev._mul\n",
      "    Multiply one Chebyshev series by another.\n",
      "numpy.polynomial.Chebyshev._pow\n",
      "    Raise a Chebyshev series to a power.\n",
      "numpy.polynomial.Chebyshev._sub\n",
      "    Subtract one Chebyshev series from another.\n",
      "numpy.polynomial.Chebyshev._val\n",
      "    Evaluate a Chebyshev series at points x.\n",
      "numpy.polynomial.Chebyshev.cast\n",
      "    Convert series to series of this class.\n",
      "numpy.polynomial.HermiteE.basis\n",
      "    Series basis polynomial of degree `deg`.\n",
      "numpy.polynomial.Laguerre.basis\n",
      "    Series basis polynomial of degree `deg`.\n",
      "numpy.polynomial.Legendre.basis\n",
      "    Series basis polynomial of degree `deg`.\n",
      "numpy.polynomial.Polynomial.fit\n",
      "    Least squares fit to data.\n",
      "numpy.distutils.command.develop.develop.create_index.__iadd__\n",
      "    In-place addition of a distribution or environment\n",
      "numpy.lib.tests.test_format.BytesIOSRandomSize.writelines\n",
      "    Write lines to the file.\n",
      "numpy.distutils.command.build_ext.build_ext.get_libraries\n",
      "    Return the list of libraries to link against when building a\n",
      "numpy.testing.clear_and_catch_warnings\n",
      "    Context manager that resets warning registry for catching warnings\n",
      "numpy.distutils.misc_util.get_info\n",
      "    Return an info dict for a given C library.\n",
      "numpy.core._multiarray_umath.copyto\n",
      "    Copies values from one array to another, broadcasting as necessary.\n",
      "numpy.random.RandomState.choice\n",
      "    Generates a random sample from a given 1-D array\n",
      "numpy.random.RandomState.pareto\n",
      "    Draw samples from a Pareto II or Lomax distribution with\n",
      "numpy.polynomial.Chebyshev.basis\n",
      "    Series basis polynomial of degree `deg`.\n",
      "numpy.polynomial.Polynomial._der\n",
      "    Differentiate a polynomial.\n",
      "numpy.polynomial.Polynomial._div\n",
      "    Divide one polynomial by another.\n",
      "numpy.polynomial.Polynomial._fit\n",
      "    Least-squares fit of a polynomial to data.\n",
      "numpy.polynomial.Polynomial._int\n",
      "    Integrate a polynomial.\n",
      "numpy.polynomial.Polynomial._mul\n",
      "    Multiply one polynomial by another.\n",
      "numpy.polynomial.Polynomial._pow\n",
      "    Raise a polynomial to a power.\n",
      "numpy.polynomial.Polynomial._sub\n",
      "    Subtract one polynomial from another.\n",
      "numpy.polynomial.Polynomial._val\n",
      "    Evaluate a polynomial at points x.\n",
      "numpy.polynomial.Polynomial.cast\n",
      "    Convert series to series of this class.\n",
      "numpy.distutils.mingw32ccompiler.Mingw32CCompiler.object_filenames\n",
      "    Adds supports for rc and res files.\n",
      "numpy.core._dtype._construction_repr\n",
      "    Creates a string repr of the dtype, excluding the 'dtype()' part\n",
      "numpy.testing._private.noseclasses.NumpyDoctest.suiteClass\n",
      "    Doctest suites are parallelizable at the module or file level only,\n",
      "numpy.testing._private.noseclasses.FPUModeCheckPlugin.addOptions\n",
      "    Add command-line options for this plugin.\n",
      "numpy.ma.MaskedArray.argpartition\n",
      "    Returns the indices that would partition this array.\n",
      "numpy.random.RandomState.randint\n",
      "    Return random integers from `low` (inclusive) to `high` (exclusive).\n",
      "numpy.polynomial.Chebyshev.cutdeg\n",
      "    Truncate series to the given degree.\n",
      "numpy.polynomial.Polynomial.basis\n",
      "    Series basis polynomial of degree `deg`.\n",
      "numpy.polynomial.hermite.hermmulx\n",
      "    Multiply a Hermite series by x.\n",
      "numpy.polynomial.laguerre.lagmulx\n",
      "    Multiply a Laguerre series by x.\n",
      "numpy.distutils.command.develop.develop.create_index.scan\n",
      "    Scan `search_path` for distributions usable in this environment\n",
      "numpy.testing._private.noseclasses.NumpyDocTestFinder._find\n",
      "    Find tests for the given object and any contained objects, and\n",
      "numpy.polynomial.legendre.legmulx\n",
      "    Multiply a Legendre series by x.\n",
      "numpy.core._multiarray_umath.bincount\n",
      "    Count number of occurrences of each value in array of non-negative ints.\n",
      "numpy.core._multiarray_umath.c_einsum\n",
      "    c_einsum(subscripts, *operands, out=None, dtype=None, order='K',\n",
      "numpy.core._multiarray_umath.packbits\n",
      "    Packs the elements of a binary-valued array into bits in a uint8 array.\n",
      "numpy.polynomial.hermite.hermgauss\n",
      "    Gauss-Hermite quadrature.\n",
      "numpy.polynomial.hermite.hermval2d\n",
      "    Evaluate a 2-D Hermite series at points (x, y).\n",
      "numpy.polynomial.hermite.hermval3d\n",
      "    Evaluate a 3-D Hermite series at points (x, y, z).\n",
      "numpy.polynomial.laguerre.laggauss\n",
      "    Gauss-Laguerre quadrature.\n",
      "numpy.polynomial.laguerre.lagval2d\n",
      "    Evaluate a 2-D Laguerre series at points (x, y).\n",
      "numpy.distutils.command.develop.develop._set_fetcher_options\n",
      "    When easy_install is about to run bdist_egg on a source dist, that\n",
      "numpy.distutils.command.build_ext.build_ext.get_ext_fullname\n",
      "    Returns the fullname of a given extension name.\n",
      "numpy.core.tests.test_records.TestRecord.test_nested_dtype_padding\n",
      "    test that trailing padding is preserved\n",
      "numpy.polynomial.laguerre.lagval3d\n",
      "    Evaluate a 3-D Laguerre series at points (x, y, z).\n",
      "numpy.polynomial.legendre.leggauss\n",
      "    Gauss-Legendre quadrature.\n",
      "numpy.polynomial.legendre.legval2d\n",
      "    Evaluate a 2-D Legendre series at points (x, y).\n",
      "numpy.polynomial.legendre.legval3d\n",
      "    Evaluate a 3-D Legendre series at points (x, y, z).\n",
      "numpy.distutils.msvccompiler.MSVCCompiler.runtime_library_dir_option\n",
      "    Return the compiler option to add 'dir' to the list of\n",
      "numpy.core._multiarray_umath.is_busday\n",
      "    Calculates which of the given dates are valid days, and which are not.\n",
      "numpy.polynomial.Chebyshev.linspace\n",
      "    Return x, y values at equally spaced points in domain.\n",
      "numpy.tests.test_matlib.pytestmark\n",
      "    A decorator for test functions and test classes.  When applied\n",
      "numpy.lib.recfunctions.repack_fields\n",
      "    Re-pack the fields of a structured array or dtype in memory.\n",
      "numpy.polynomial.chebyshev.chebmulx\n",
      "    Multiply a Chebyshev series by x.\n",
      "numpy.polynomial.chebyshev.chebpts1\n",
      "    Chebyshev points of the first kind.\n",
      "numpy.polynomial.chebyshev.chebpts2\n",
      "    Chebyshev points of the second kind.\n",
      "numpy.polynomial.hermite.hermgrid2d\n",
      "    Evaluate a 2-D Hermite series on the Cartesian product of x and y.\n",
      "numpy.polynomial.hermite.hermgrid3d\n",
      "    Evaluate a 3-D Hermite series on the Cartesian product of x, y, and z.\n",
      "numpy.polynomial.hermite.hermweight\n",
      "    Weight function of the Hermite polynomials.\n",
      "numpy.polynomial.laguerre.laggrid2d\n",
      "    Evaluate a 2-D Laguerre series on the Cartesian product of x and y.\n",
      "numpy.polynomial.laguerre.laggrid3d\n",
      "    Evaluate a 3-D Laguerre series on the Cartesian product of x, y, and z.\n",
      "numpy.polynomial.laguerre.lagweight\n",
      "    Weight function of the Laguerre polynomials.\n",
      "numpy.polynomial.legendre.leggrid2d\n",
      "    Evaluate a 2-D Legendre series on the Cartesian product of x and y.\n",
      "numpy.polynomial.legendre.leggrid3d\n",
      "    Evaluate a 3-D Legendre series on the Cartesian product of x, y, and z.\n",
      "numpy.polynomial.legendre.legweight\n",
      "    Weight function of the Legendre polynomials.\n",
      "numpy.distutils.misc_util.get_pkg_info\n",
      "    Return library info for the given package.\n",
      "numpy.core._multiarray_umath.empty_like\n",
      "    Return a new array with the same shape and type as a given array.\n",
      "numpy.core._multiarray_umath.unpackbits\n",
      "    Unpacks elements of a uint8 array into a binary-valued output array.\n",
      "numpy.tests.test_warnings.FindFuncs\n",
      "    A node visitor base class that walks the abstract syntax tree and calls a\n",
      "numpy.tests.test_warnings.ParseCall\n",
      "    A node visitor base class that walks the abstract syntax tree and calls a\n",
      "numpy.polynomial.chebyshev.chebgauss\n",
      "    Gauss-Chebyshev quadrature.\n",
      "numpy.polynomial.chebyshev.chebval2d\n",
      "    Evaluate a 2-D Chebyshev series at points (x, y).\n",
      "numpy.polynomial.chebyshev.chebval3d\n",
      "    Evaluate a 3-D Chebyshev series at points (x, y, z).\n",
      "numpy.polynomial.polynomial.polymulx\n",
      "    Multiply a polynomial by x.\n",
      "numpy.core._multiarray_umath.result_type\n",
      "    result_type(*arrays_and_dtypes)\n",
      "numpy.lib.mixins.NDArrayOperatorsMixin\n",
      "    Mixin defining all operator special methods using __array_ufunc__.\n",
      "numpy.polynomial.chebyshev.chebgrid2d\n",
      "    Evaluate a 2-D Chebyshev series on the Cartesian product of x and y.\n",
      "numpy.polynomial.chebyshev.chebgrid3d\n",
      "    Evaluate a 3-D Chebyshev series on the Cartesian product of x, y, and z.\n",
      "numpy.polynomial.chebyshev.chebweight\n",
      "    The weight function of the Chebyshev polynomials.\n",
      "numpy.polynomial.hermite.hermvander2d\n",
      "    Pseudo-Vandermonde matrix of given degrees.\n",
      "numpy.polynomial.hermite.hermvander3d\n",
      "    Pseudo-Vandermonde matrix of given degrees.\n",
      "numpy.polynomial.hermite_e.hermegauss\n",
      "    Gauss-HermiteE quadrature.\n",
      "numpy.polynomial.hermite_e.hermeval2d\n",
      "    Evaluate a 2-D HermiteE series at points (x, y).\n",
      "numpy.polynomial.hermite_e.hermeval3d\n",
      "    Evaluate a 3-D Hermite_e series at points (x, y, z).\n",
      "numpy.distutils.command.develop.develop.create_index.add_find_links\n",
      "    Add `urls` to the list that will be prescanned for searches\n",
      "numpy.distutils.command.develop.develop.create_index.__init__\n",
      "    Snapshot distributions available on a search path\n",
      "numpy.distutils.fcompiler.absoft.AbsoftFCompiler.library_option\n",
      "    Return the compiler option to add 'lib' to the list of libraries\n",
      "numpy.polynomial.laguerre.lagvander2d\n",
      "    Pseudo-Vandermonde matrix of given degrees.\n",
      "numpy.polynomial.laguerre.lagvander3d\n",
      "    Pseudo-Vandermonde matrix of given degrees.\n",
      "numpy.polynomial.legendre.legvander2d\n",
      "    Pseudo-Vandermonde matrix of given degrees.\n",
      "numpy.polynomial.legendre.legvander3d\n",
      "    Pseudo-Vandermonde matrix of given degrees.\n",
      "numpy.polynomial.polynomial.polyval2d\n",
      "    Evaluate a 2-D polynomial at points (x, y).\n",
      "numpy.polynomial.polynomial.polyval3d\n",
      "    Evaluate a 3-D polynomial at points (x, y, z).\n",
      "numpy.core._multiarray_umath.busday_count\n",
      "    Counts the number of valid days between `begindates` and\n",
      "numpy.polynomial.Chebyshev.interpolate\n",
      "    Interpolate a function at the Chebyshev points of the first kind.\n",
      "numpy.distutils.intelccompiler.IntelCCompiler.runtime_library_dir_option\n",
      "    Return the compiler option to add 'dir' to the list of\n",
      "numpy.polynomial._polybase.ABCPolyBase\n",
      "    An abstract base class for immutable series classes.\n",
      "numpy.distutils.ccompiler.CCompiler_spawn\n",
      "    Execute a command in a sub-process.\n",
      "numpy.polynomial.hermite.hermcompanion\n",
      "    Return the scaled companion matrix of c.\n",
      "numpy.polynomial.hermite_e.hermegrid2d\n",
      "    Evaluate a 2-D HermiteE series on the Cartesian product of x and y.\n",
      "numpy.polynomial.hermite_e.hermegrid3d\n",
      "    Evaluate a 3-D HermiteE series on the Cartesian product of x, y, and z.\n",
      "numpy.polynomial.hermite_e.hermeweight\n",
      "    Weight function of the Hermite_e polynomials.\n",
      "numpy.polynomial.laguerre.lagcompanion\n",
      "    Return the companion matrix of c.\n",
      "numpy.polynomial.legendre.legcompanion\n",
      "    Return the scaled companion matrix of c.\n",
      "numpy.polynomial.polynomial.polygrid2d\n",
      "    Evaluate a 2-D polynomial on the Cartesian product of x and y.\n",
      "numpy.polynomial.polynomial.polygrid3d\n",
      "    Evaluate a 3-D polynomial on the Cartesian product of x, y and z.\n",
      "numpy.random.Generator.standard_normal\n",
      "    Draw samples from a standard Normal distribution (mean=0, stdev=1).\n",
      "numpy.core._multiarray_umath.busday_offset\n",
      "    First adjusts the date to fall on a valid day according to\n",
      "numpy.core._multiarray_umath.unravel_index\n",
      "    Converts a flat index or array of flat indices into a tuple\n",
      "numpy.random.RandomState.random_sample\n",
      "    Return random floats in the half-open interval [0.0, 1.0).\n",
      "numpy.testing.suppress_warnings.record\n",
      "    Append a new recording filter or apply it if the state is entered.\n",
      "numpy.polynomial.chebyshev.chebvander2d\n",
      "    Pseudo-Vandermonde matrix of given degrees.\n",
      "numpy.polynomial.chebyshev.chebvander3d\n",
      "    Pseudo-Vandermonde matrix of given degrees.\n",
      "numpy.distutils.ccompiler.CCompiler_compile\n",
      "    Compile one or more source files.\n",
      "numpy.polynomial.chebyshev.chebcompanion\n",
      "    Return the scaled companion matrix of c.\n",
      "numpy.polynomial.hermite_e.hermevander2d\n",
      "    Pseudo-Vandermonde matrix of given degrees.\n",
      "numpy.polynomial.hermite_e.hermevander3d\n",
      "    Pseudo-Vandermonde matrix of given degrees.\n",
      "numpy.polynomial.polynomial.polyvander3d\n",
      "    Pseudo-Vandermonde matrix of given degrees.\n",
      "numpy.core._multiarray_umath.min_scalar_type\n",
      "    min_scalar_type(a)\n",
      "numpy.random.RandomState.standard_normal\n",
      "    Draw samples from a standard Normal distribution (mean=0, stdev=1).\n",
      "numpy.polynomial.hermite_e.hermecompanion\n",
      "    Return the scaled companion matrix of c.\n",
      "numpy.distutils.fcompiler.absoft.AbsoftFCompiler.library_dir_option\n",
      "    Return the compiler option to add 'dir' to the list of\n",
      "numpy.fft.tests.test_fft.TestFFT1D\n",
      "    A class whose instances are single test cases.\n",
      "numpy.fft.tests.test_fft.TestFFTND\n",
      "    A class whose instances are single test cases.\n",
      "numpy.polynomial.chebyshev.chebinterpolate\n",
      "    Interpolate a function at the Chebyshev points of the first kind.\n",
      "numpy.random.Generator.multivariate_normal\n",
      "    Draw random samples from a multivariate normal distribution.\n",
      "numpy.core._multiarray_umath.ravel_multi_index\n",
      "    Converts a tuple of index arrays into an array of flat\n",
      "numpy.distutils.fcompiler.sun.SunFCompiler.runtime_library_dir_option\n",
      "    Return the compiler option to add 'dir' to the list of\n",
      "numpy.polynomial.Chebyshev._get_coefficients\n",
      "    Interpret other as polynomial coefficients.\n",
      "numpy.polynomial.polynomial.polyvalfromroots\n",
      "    Evaluate a polynomial specified by its roots at points x.\n",
      "numpy.distutils.fcompiler.pg.PGroupFCompiler.runtime_library_dir_option\n",
      "    Return the compiler option to add 'dir' to the list of\n",
      "numpy.distutils.fcompiler.gnu.Gnu95FCompiler.runtime_library_dir_option\n",
      "    Return the compiler option to add 'dir' to the list of\n",
      "numpy.core._multiarray_umath.normalize_axis_index\n",
      "    Normalizes an axis index, `axis`, such that is a valid positive index into\n",
      "numpy.distutils.fcompiler.FCompiler.link\n",
      "    Link a bunch of stuff together to create an executable or\n",
      "numpy.lib.tests.test_mixins.ArrayLike\n",
      "    Mixin defining all operator special methods using __array_ufunc__.\n",
      "numpy.testing.tests.test_utils.my_cacw\n",
      "    Context manager that resets warning registry for catching warnings\n",
      "numpy.lib.tests.test_histograms.TestHistogramOptimBinNums.test_simple_range\n",
      "    Straightforward testing with a mixture of linspace data (for\n",
      "numpy.distutils.fcompiler.pg.PGroupFlangCompiler.runtime_library_dir_option\n",
      "    Return the compiler option to add 'dir' to the list of\n",
      "numpy.random.Generator.multivariate_hypergeometric\n",
      "    multivariate_hypergeometric(colors, nsample, size=None,\n",
      "numpy.distutils.fcompiler.intel.BaseIntelFCompiler.runtime_library_dir_option\n",
      "    Return the compiler option to add 'dir' to the list of\n",
      "numpy.distutils.fcompiler.FCompiler.preprocess\n",
      "    Preprocess a single C/C++ source file, named in 'source'.\n",
      "numpy.distutils.msvccompiler.MSVCCompiler.link\n",
      "    Link a bunch of stuff together to create an executable or\n",
      "numpy.core.tests._locales.CommaDecimalPointLocale\n",
      "    Sets LC_NUMERIC to a locale with comma as decimal point.\n",
      "numpy.core.tests.test_umath_complex.platform_skip\n",
      "    A decorator for test functions and test classes.  When applied\n",
      "numpy.testing._private.nosetester.NoseTester\n",
      "    Nose test runner.\n",
      "numpy.core.tests.test_umath_accuracy.platform_skip\n",
      "    A decorator for test functions and test classes.  When applied\n",
      "numpy.distutils.intelccompiler.IntelCCompiler.link\n",
      "    Link a bunch of stuff together to create an executable or\n",
      "numpy.distutils.fcompiler.intel.IntelEM64VisualFCompiler.runtime_library_dir_option\n",
      "    Return the compiler option to add 'dir' to the list of\n",
      "numpy.distutils.misc_util.Configuration.add_npy_pkg_config\n",
      "    Generate and install a npy-pkg config file from a template.\n",
      "numpy.distutils.fcompiler.FCompiler.create_static_lib\n",
      "    Link a bunch of stuff together to create a static library file.\n",
      "numpy.distutils.system_info.blas_info.get_cblas_libs\n",
      "    Check whether we can link with CBLAS interface\n",
      "numpy.core.tests.test_overrides.requires_array_function\n",
      "    A decorator for test functions and test classes.  When applied\n",
      "numpy.core.tests.test_print.TestCommaDecimalPointLocale\n",
      "    Sets LC_NUMERIC to a locale with comma as decimal point.\n",
      "numpy.testing._private.parameterized.parameterized\n",
      "    Parameterize a test case::\n",
      "numpy.testing._private.noseclasses.NumpyTestProgram\n",
      "    Collect and run tests, returning success or failure.\n",
      "numpy.distutils.intelccompiler.IntelCCompiler.preprocess\n",
      "    Preprocess a single C/C++ source file, named in 'source'.\n",
      "numpy.random.tests.test_random.TestRandint.rfunc\n",
      "    Return random integers from `low` (inclusive) to `high` (exclusive).\n",
      "numpy.core.tests.test_deprecations.TestNumericStyleTypecodes\n",
      "    Deprecate the old numeric-style dtypes, which are especially\n",
      "numpy.core.tests.test_longdouble.TestCommaDecimalPointLocale\n",
      "    Sets LC_NUMERIC to a locale with comma as decimal point.\n",
      "numpy.distutils.msvccompiler.MSVCCompiler.create_static_lib\n",
      "    Link a bunch of stuff together to create a static library file.\n",
      "numpy.core.tests.test_ufunc.TestUfunc.test_all_ufunc\n",
      "    Try to check presence and results of all ufuncs.\n",
      "numpy.core.tests.test_scalarinherit.D.__set_format__\n",
      "    You probably don't want to use this function.\n",
      "numpy.core.tests.test_scalarinherit.C.__set_format__\n",
      "    You probably don't want to use this function.\n",
      "numpy.core.tests.test_scalarinherit.B.__set_format__\n",
      "    You probably don't want to use this function.\n",
      "numpy.ma.tests.test_core.suppress_copy_mask_on_assignment\n",
      "    Context manager and decorator doing much the same as\n",
      "numpy.core.tests.test_scalarinherit.C0.__set_format__\n",
      "    You probably don't want to use this function.\n",
      "numpy.core.tests.test_scalarinherit.B0.__set_format__\n",
      "    You probably don't want to use this function.\n",
      "numpy.core.tests.test_function_base.PhysicalQuantity.__set_format__\n",
      "    You probably don't want to use this function.\n",
      "numpy.testing._private.parameterized.parameterized_argument_value_pairs\n",
      "    Return tuples of parameterized arguments and their values."
     ]
    }
   ],
   "source": [
    "np.lookfor('add') "
   ]
  },
  {
   "cell_type": "markdown",
   "metadata": {
    "id": "jDK7eIDsNlFJ"
   },
   "source": [
    "### opencv\n",
    "- python으로 포팅되면서 내부 구조는 C"
   ]
  },
  {
   "cell_type": "code",
   "execution_count": null,
   "metadata": {
    "id": "HGmquHs3NlFK"
   },
   "outputs": [],
   "source": [
    "import cv2"
   ]
  },
  {
   "cell_type": "code",
   "execution_count": null,
   "metadata": {
    "id": "ebdGPZY_NlFK",
    "outputId": "db03f3f5-9462-4ead-c232-395033aa30c2"
   },
   "outputs": [
    {
     "data": {
      "text/plain": [
       "array([[[158, 177, 198],\n",
       "        [159, 178, 199],\n",
       "        [161, 180, 201],\n",
       "        ...,\n",
       "        [150, 167, 186],\n",
       "        [148, 165, 184],\n",
       "        [146, 163, 182]],\n",
       "\n",
       "       [[159, 178, 199],\n",
       "        [160, 179, 200],\n",
       "        [161, 180, 201],\n",
       "        ...,\n",
       "        [149, 166, 185],\n",
       "        [147, 164, 183],\n",
       "        [146, 163, 182]],\n",
       "\n",
       "       [[159, 178, 199],\n",
       "        [160, 179, 200],\n",
       "        [160, 179, 200],\n",
       "        ...,\n",
       "        [148, 165, 184],\n",
       "        [147, 164, 183],\n",
       "        [146, 163, 182]],\n",
       "\n",
       "       ...,\n",
       "\n",
       "       [[177, 188, 202],\n",
       "        [177, 188, 202],\n",
       "        [176, 187, 201],\n",
       "        ...,\n",
       "        [134, 149, 158],\n",
       "        [135, 150, 159],\n",
       "        [135, 150, 159]],\n",
       "\n",
       "       [[178, 189, 203],\n",
       "        [177, 188, 202],\n",
       "        [175, 186, 200],\n",
       "        ...,\n",
       "        [134, 149, 158],\n",
       "        [134, 149, 158],\n",
       "        [134, 149, 158]],\n",
       "\n",
       "       [[178, 189, 203],\n",
       "        [177, 188, 202],\n",
       "        [175, 186, 200],\n",
       "        ...,\n",
       "        [134, 149, 158],\n",
       "        [134, 149, 158],\n",
       "        [133, 148, 157]]], dtype=uint8)"
      ]
     },
     "execution_count": 15,
     "metadata": {
      "tags": []
     },
     "output_type": "execute_result"
    }
   ],
   "source": [
    "cv2.imread('1.jpeg')"
   ]
  },
  {
   "cell_type": "markdown",
   "metadata": {
    "id": "93Z0ZKZoNlFK"
   },
   "source": [
    "### PIL\n",
    "- tensorflow,pytorch 에서 기본적으로 PIL 기반\n",
    "- python기반"
   ]
  },
  {
   "cell_type": "code",
   "execution_count": null,
   "metadata": {
    "id": "BieduR3VNlFL"
   },
   "outputs": [],
   "source": [
    "import PIL"
   ]
  },
  {
   "cell_type": "code",
   "execution_count": null,
   "metadata": {
    "id": "SxajlvIhNlFL"
   },
   "outputs": [],
   "source": [
    "from PIL import Image"
   ]
  },
  {
   "cell_type": "code",
   "execution_count": null,
   "metadata": {
    "id": "cahBSaY4NlFM"
   },
   "outputs": [],
   "source": [
    "x=Image.open('1.jpeg')"
   ]
  },
  {
   "cell_type": "code",
   "execution_count": null,
   "metadata": {
    "id": "U_6SOMQWNlFM",
    "outputId": "bf9d221c-1365-4a30-bddc-3d863a73526c",
    "scrolled": false
   },
   "outputs": [
    {
     "data": {
      "text/plain": [
       "['_Image__transformer',\n",
       " '__array_interface__',\n",
       " '__class__',\n",
       " '__copy__',\n",
       " '__delattr__',\n",
       " '__dict__',\n",
       " '__dir__',\n",
       " '__doc__',\n",
       " '__enter__',\n",
       " '__eq__',\n",
       " '__exit__',\n",
       " '__format__',\n",
       " '__ge__',\n",
       " '__getattribute__',\n",
       " '__getstate__',\n",
       " '__gt__',\n",
       " '__hash__',\n",
       " '__init__',\n",
       " '__init_subclass__',\n",
       " '__le__',\n",
       " '__lt__',\n",
       " '__module__',\n",
       " '__ne__',\n",
       " '__new__',\n",
       " '__reduce__',\n",
       " '__reduce_ex__',\n",
       " '__repr__',\n",
       " '__setattr__',\n",
       " '__setstate__',\n",
       " '__sizeof__',\n",
       " '__str__',\n",
       " '__subclasshook__',\n",
       " '__weakref__',\n",
       " '_close_exclusive_fp_after_loading',\n",
       " '_copy',\n",
       " '_crop',\n",
       " '_dump',\n",
       " '_ensure_mutable',\n",
       " '_exclusive_fp',\n",
       " '_exif',\n",
       " '_expand',\n",
       " '_get_safe_box',\n",
       " '_getexif',\n",
       " '_getmp',\n",
       " '_min_frame',\n",
       " '_new',\n",
       " '_open',\n",
       " '_repr_png_',\n",
       " '_seek_check',\n",
       " '_size',\n",
       " 'alpha_composite',\n",
       " 'app',\n",
       " 'applist',\n",
       " 'bits',\n",
       " 'category',\n",
       " 'close',\n",
       " 'convert',\n",
       " 'copy',\n",
       " 'crop',\n",
       " 'custom_mimetype',\n",
       " 'decoderconfig',\n",
       " 'decodermaxblock',\n",
       " 'draft',\n",
       " 'effect_spread',\n",
       " 'entropy',\n",
       " 'filename',\n",
       " 'filter',\n",
       " 'format',\n",
       " 'format_description',\n",
       " 'fp',\n",
       " 'frombytes',\n",
       " 'fromstring',\n",
       " 'get_format_mimetype',\n",
       " 'getbands',\n",
       " 'getbbox',\n",
       " 'getchannel',\n",
       " 'getcolors',\n",
       " 'getdata',\n",
       " 'getexif',\n",
       " 'getextrema',\n",
       " 'getim',\n",
       " 'getpalette',\n",
       " 'getpixel',\n",
       " 'getprojection',\n",
       " 'height',\n",
       " 'histogram',\n",
       " 'huffman_ac',\n",
       " 'huffman_dc',\n",
       " 'icclist',\n",
       " 'im',\n",
       " 'info',\n",
       " 'layer',\n",
       " 'layers',\n",
       " 'load',\n",
       " 'load_djpeg',\n",
       " 'load_end',\n",
       " 'load_prepare',\n",
       " 'load_read',\n",
       " 'mode',\n",
       " 'offset',\n",
       " 'palette',\n",
       " 'paste',\n",
       " 'point',\n",
       " 'putalpha',\n",
       " 'putdata',\n",
       " 'putpalette',\n",
       " 'putpixel',\n",
       " 'pyaccess',\n",
       " 'quantization',\n",
       " 'quantize',\n",
       " 'readonly',\n",
       " 'reduce',\n",
       " 'remap_palette',\n",
       " 'resize',\n",
       " 'rotate',\n",
       " 'save',\n",
       " 'seek',\n",
       " 'show',\n",
       " 'size',\n",
       " 'split',\n",
       " 'tell',\n",
       " 'thumbnail',\n",
       " 'tile',\n",
       " 'tobitmap',\n",
       " 'tobytes',\n",
       " 'toqimage',\n",
       " 'toqpixmap',\n",
       " 'tostring',\n",
       " 'transform',\n",
       " 'transpose',\n",
       " 'verify',\n",
       " 'width']"
      ]
     },
     "execution_count": 19,
     "metadata": {
      "tags": []
     },
     "output_type": "execute_result"
    }
   ],
   "source": [
    "dir(x) #__array_interface__"
   ]
  },
  {
   "cell_type": "markdown",
   "metadata": {
    "id": "2XamrnhmNlFM"
   },
   "source": [
    "---\n",
    "### DCGAN\n",
    "- Deep Convolution generative adversarial Network 심층 합성곱 생성적 적대 신경망\n",
    "\n",
    "\n",
    "- GAN 참고:https://www.tensorflow.org/tutorials/generative/dcgan?hl=ko"
   ]
  },
  {
   "cell_type": "code",
   "execution_count": 7,
   "metadata": {
    "id": "FdI5UxlCNlFN"
   },
   "outputs": [],
   "source": [
    "import tensorflow as tf \n",
    "\n",
    "import glob     #디렉토리파일 관리 \n",
    "import imageio\n",
    "import matplotlib.pyplot as plt\n",
    "import numpy as np\n",
    "import os\n",
    "import PIL   #파이썬 기반으로 기본적 이미지 변환\n",
    "from tensorflow.keras import layers\n",
    "import time\n",
    "\n",
    "from IPython import display"
   ]
  },
  {
   "cell_type": "code",
   "execution_count": 12,
   "metadata": {
    "id": "HxaprUngNlFN"
   },
   "outputs": [],
   "source": [
    "#test데이터 가져오지 않음\n",
    "(train_images, train_labels), (_, _) = tf.keras.datasets.mnist.load_data()"
   ]
  },
  {
   "cell_type": "code",
   "execution_count": 13,
   "metadata": {
    "id": "2vDY-NWlNlFN"
   },
   "outputs": [],
   "source": [
    "#3차원으로 변경, Tensroflow 기본 데이터 포맷 float32\n",
    "train_images = train_images.reshape(train_images.shape[0], 28, 28, 1).astype('float32')\n",
    "\n",
    "# zero-centered : 이미지를 [-1, 1]로 정규화하여 학습이 더 잘 됨\n",
    "train_images = (train_images - 127.5) / 127.5 "
   ]
  },
  {
   "cell_type": "markdown",
   "metadata": {
    "id": "QuNFEbbLNlFO"
   },
   "source": [
    "sigmoid ziazag현상 \n",
    "- 0~1사이로 항상 양수값만 나옴\n",
    "\n",
    "- zero-centered, tanh 이용해서 학습이 더 잘되도록 함\n",
    "    - search space 2배"
   ]
  },
  {
   "cell_type": "code",
   "execution_count": 14,
   "metadata": {
    "colab": {
     "base_uri": "https://localhost:8080/"
    },
    "id": "vg0ZcLlRNlFO",
    "outputId": "1a28c645-8dd1-45f8-821f-44243b1a5306"
   },
   "outputs": [
    {
     "data": {
      "text/plain": [
       "3.0"
      ]
     },
     "execution_count": 14,
     "metadata": {
      "tags": []
     },
     "output_type": "execute_result"
    }
   ],
   "source": [
    "3."
   ]
  },
  {
   "cell_type": "code",
   "execution_count": 15,
   "metadata": {
    "colab": {
     "base_uri": "https://localhost:8080/"
    },
    "id": "vF7XXGBdNlFO",
    "outputId": "464ef108-ed10-4e26-f19d-08387dd6816a"
   },
   "outputs": [
    {
     "data": {
      "text/plain": [
       "3"
      ]
     },
     "execution_count": 15,
     "metadata": {
      "tags": []
     },
     "output_type": "execute_result"
    }
   ],
   "source": [
    "int(3.) #객체 생성"
   ]
  },
  {
   "cell_type": "code",
   "execution_count": 16,
   "metadata": {
    "colab": {
     "base_uri": "https://localhost:8080/"
    },
    "id": "nBB1z5E3NlFP",
    "outputId": "e23ed48d-136c-476f-9c29-5f555489d210"
   },
   "outputs": [
    {
     "data": {
      "text/plain": [
       "dtype('int64')"
      ]
     },
     "execution_count": 16,
     "metadata": {
      "tags": []
     },
     "output_type": "execute_result"
    }
   ],
   "source": [
    "x=np.array([1,2,3])\n",
    "x.dtype"
   ]
  },
  {
   "cell_type": "code",
   "execution_count": 17,
   "metadata": {
    "colab": {
     "base_uri": "https://localhost:8080/"
    },
    "id": "wIvwIt45NlFP",
    "outputId": "62942378-a14b-4ae5-b649-b056cbf979dd"
   },
   "outputs": [
    {
     "data": {
      "text/plain": [
       "array([1., 2., 3.], dtype=float32)"
      ]
     },
     "execution_count": 17,
     "metadata": {
      "tags": []
     },
     "output_type": "execute_result"
    }
   ],
   "source": [
    "x.astype('f4') #f4 타입 변경"
   ]
  },
  {
   "cell_type": "code",
   "execution_count": 18,
   "metadata": {
    "colab": {
     "base_uri": "https://localhost:8080/"
    },
    "id": "PF2q7iz4NlFQ",
    "outputId": "e1f2ef91-3315-4687-9710-6134343b4a8f"
   },
   "outputs": [
    {
     "data": {
      "text/plain": [
       "array([1., 2., 3.])"
      ]
     },
     "execution_count": 18,
     "metadata": {
      "tags": []
     },
     "output_type": "execute_result"
    }
   ],
   "source": [
    "np.asfarray(x) #float변경"
   ]
  },
  {
   "cell_type": "markdown",
   "metadata": {
    "id": "69rKEbZXNlFQ"
   },
   "source": [
    "tensorflow\n",
    "- coercion지원하지 않아서 연산시 주의"
   ]
  },
  {
   "cell_type": "code",
   "execution_count": 19,
   "metadata": {
    "colab": {
     "base_uri": "https://localhost:8080/"
    },
    "id": "rPyDi_B2NlFQ",
    "outputId": "da7e92ea-4cc1-4242-b9ec-0560378bb9f1"
   },
   "outputs": [
    {
     "data": {
      "text/plain": [
       "<tf.Tensor: shape=(3,), dtype=float32, numpy=array([1., 2., 3.], dtype=float32)>"
      ]
     },
     "execution_count": 19,
     "metadata": {
      "tags": []
     },
     "output_type": "execute_result"
    }
   ],
   "source": [
    "import tensorflow as tf \n",
    "tf.cast(x,tf.float32) #새로운 타입으로 만듦"
   ]
  },
  {
   "cell_type": "code",
   "execution_count": 20,
   "metadata": {
    "colab": {
     "base_uri": "https://localhost:8080/"
    },
    "id": "n6KbFAVaNlFR",
    "outputId": "9afc8e0e-7ccf-403a-a7e4-8c6d3b1c6045"
   },
   "outputs": [
    {
     "data": {
      "text/plain": [
       "<tf.Tensor: shape=(3,), dtype=int32, numpy=array([2, 3, 4], dtype=int32)>"
      ]
     },
     "execution_count": 20,
     "metadata": {
      "tags": []
     },
     "output_type": "execute_result"
    }
   ],
   "source": [
    "tf.constant([2,3,4])"
   ]
  },
  {
   "cell_type": "code",
   "execution_count": 21,
   "metadata": {
    "id": "3FH9657pNlFR"
   },
   "outputs": [],
   "source": [
    "BUFFER_SIZE = 60000\n",
    "BATCH_SIZE = 256\n",
    "#256 batch\n",
    "train_dataset = tf.data.Dataset.from_tensor_slices(train_images).shuffle(BUFFER_SIZE).batch(BATCH_SIZE)"
   ]
  },
  {
   "cell_type": "markdown",
   "metadata": {
    "id": "r4YONkHRNlFR"
   },
   "source": [
    "- from_tensor_slices,from_tensors 상황에 따라 사용"
   ]
  },
  {
   "cell_type": "code",
   "execution_count": 22,
   "metadata": {
    "colab": {
     "base_uri": "https://localhost:8080/"
    },
    "id": "WwbBDIa-NlFR",
    "outputId": "61275099-4531-45b0-c763-86c56e34b311"
   },
   "outputs": [
    {
     "data": {
      "text/plain": [
       "<TensorSliceDataset shapes: (28, 28, 1), types: tf.float32>"
      ]
     },
     "execution_count": 22,
     "metadata": {
      "tags": []
     },
     "output_type": "execute_result"
    }
   ],
   "source": [
    "s=tf.data.Dataset.from_tensor_slices(train_images)\n",
    "s # 2차원 : 모델에 사용에 편이"
   ]
  },
  {
   "cell_type": "code",
   "execution_count": 23,
   "metadata": {
    "colab": {
     "base_uri": "https://localhost:8080/"
    },
    "id": "3fsHwbdJNlFS",
    "outputId": "ea1e9f6d-73a2-4c3b-eb5a-bba978e58be9"
   },
   "outputs": [
    {
     "data": {
      "text/plain": [
       "<TensorDataset shapes: (60000, 28, 28, 1), types: tf.float32>"
      ]
     },
     "execution_count": 23,
     "metadata": {
      "tags": []
     },
     "output_type": "execute_result"
    }
   ],
   "source": [
    "t=tf.data.Dataset.from_tensors(train_images)\n",
    "t# 3차원 #데이터 관리에 편이"
   ]
  },
  {
   "cell_type": "markdown",
   "metadata": {
    "id": "d1cSO0v3NlFS"
   },
   "source": [
    "활성화 함수를 레이어로 따로 구성해서 사용 가능"
   ]
  },
  {
   "cell_type": "code",
   "execution_count": 24,
   "metadata": {
    "id": "UJXVMpwFNlFS"
   },
   "outputs": [],
   "source": [
    "model=tf.keras.models.Sequential([\n",
    "    tf.keras.layers.Dense(32,input_shape=(4,)),\n",
    "    tf.keras.layers.Activation('relu')\n",
    "])"
   ]
  },
  {
   "cell_type": "code",
   "execution_count": 25,
   "metadata": {
    "colab": {
     "base_uri": "https://localhost:8080/"
    },
    "id": "M1GhkyI2NlFT",
    "outputId": "c21e67fd-207a-4b92-89c6-a14ce3d2b9bb"
   },
   "outputs": [
    {
     "name": "stdout",
     "output_type": "stream",
     "text": [
      "Model: \"sequential\"\n",
      "_________________________________________________________________\n",
      "Layer (type)                 Output Shape              Param #   \n",
      "=================================================================\n",
      "dense (Dense)                (None, 32)                160       \n",
      "_________________________________________________________________\n",
      "activation (Activation)      (None, 32)                0         \n",
      "=================================================================\n",
      "Total params: 160\n",
      "Trainable params: 160\n",
      "Non-trainable params: 0\n",
      "_________________________________________________________________\n"
     ]
    }
   ],
   "source": [
    "model.summary()"
   ]
  },
  {
   "cell_type": "code",
   "execution_count": 26,
   "metadata": {
    "id": "dh03kkkfNlFT"
   },
   "outputs": [],
   "source": [
    "model=tf.keras.models.Sequential([\n",
    "    tf.keras.layers.Dense(32,input_shape=(4,),activation='relu'),\n",
    "])"
   ]
  },
  {
   "cell_type": "code",
   "execution_count": 27,
   "metadata": {
    "colab": {
     "base_uri": "https://localhost:8080/"
    },
    "id": "ouWwSrAbNlFT",
    "outputId": "fbfef73f-a17a-40cc-a02b-f3b9c6447fc4"
   },
   "outputs": [
    {
     "name": "stdout",
     "output_type": "stream",
     "text": [
      "Model: \"sequential_1\"\n",
      "_________________________________________________________________\n",
      "Layer (type)                 Output Shape              Param #   \n",
      "=================================================================\n",
      "dense_1 (Dense)              (None, 32)                160       \n",
      "=================================================================\n",
      "Total params: 160\n",
      "Trainable params: 160\n",
      "Non-trainable params: 0\n",
      "_________________________________________________________________\n"
     ]
    }
   ],
   "source": [
    "model.summary()"
   ]
  },
  {
   "cell_type": "markdown",
   "metadata": {
    "id": "LtP0ICZkNlFU"
   },
   "source": [
    "### generator\n",
    "\n",
    "- bias 사용하지 않아 더 간단한 모델\n",
    "- BatchNormalization 학습이 잘 되기 위해서 activation 이전에 사용\n",
    "    - Resnet(2015) 레이어가 깊어질수록 학습이 안 되는 현상\n",
    "        - batch 나눈거만큼 normalization 해서 152layers 학습\n",
    "- LeakyReLU\n",
    "    - ReLU 값 발산, gradient vanishing문제와 비슷 \n",
    "    - 0 보다 작은 경우 1/100x로 변경\n",
    "    - activity regularizer "
   ]
  },
  {
   "cell_type": "code",
   "execution_count": 28,
   "metadata": {
    "id": "AzW_K3N2NlFU"
   },
   "outputs": [],
   "source": [
    "def make_generator_model():\n",
    "    model = tf.keras.Sequential()\n",
    "    model.add(layers.Dense(7*7*256, use_bias=False, input_shape=(100,)))\n",
    "    model.add(layers.BatchNormalization())\n",
    "    model.add(layers.LeakyReLU())\n",
    "\n",
    "    model.add(layers.Reshape((7, 7, 256)))\n",
    "    assert model.output_shape == (None, 7, 7, 256) # 주목: 배치사이즈로 None이 주어집니다.\n",
    "\n",
    "    model.add(layers.Conv2DTranspose(128, (5, 5), strides=(1, 1), padding='same', use_bias=False))\n",
    "    assert model.output_shape == (None, 7, 7, 128)\n",
    "    model.add(layers.BatchNormalization())\n",
    "    model.add(layers.LeakyReLU())\n",
    "\n",
    "    model.add(layers.Conv2DTranspose(64, (5, 5), strides=(2, 2), padding='same', use_bias=False))\n",
    "    assert model.output_shape == (None, 14, 14, 64)\n",
    "    model.add(layers.BatchNormalization())\n",
    "    model.add(layers.LeakyReLU())\n",
    "\n",
    "    model.add(layers.Conv2DTranspose(1, (5, 5), strides=(2, 2), padding='same', use_bias=False, activation='tanh'))\n",
    "    assert model.output_shape == (None, 28, 28, 1)\n",
    "\n",
    "    return model"
   ]
  },
  {
   "cell_type": "markdown",
   "metadata": {
    "id": "wS9tBtElNlFU"
   },
   "source": [
    "파이썬은 EAFP"
   ]
  },
  {
   "cell_type": "code",
   "execution_count": null,
   "metadata": {
    "id": "33PF6vW7NlFV",
    "outputId": "0e0d8310-f28c-47b6-9ea2-25f7c4a16fc3"
   },
   "outputs": [
    {
     "ename": "AssertionError",
     "evalue": "",
     "output_type": "error",
     "traceback": [
      "\u001b[0;31m---------------------------------------------------------------------------\u001b[0m",
      "\u001b[0;31mAssertionError\u001b[0m                            Traceback (most recent call last)",
      "\u001b[0;32m<ipython-input-42-c2dc8ac80f3f>\u001b[0m in \u001b[0;36m<module>\u001b[0;34m\u001b[0m\n\u001b[1;32m      1\u001b[0m \u001b[0ma\u001b[0m\u001b[0;34m=\u001b[0m\u001b[0;36m1\u001b[0m\u001b[0;34m\u001b[0m\u001b[0;34m\u001b[0m\u001b[0m\n\u001b[0;32m----> 2\u001b[0;31m \u001b[0;32massert\u001b[0m \u001b[0ma\u001b[0m\u001b[0;34m==\u001b[0m\u001b[0;36m2\u001b[0m\u001b[0;34m\u001b[0m\u001b[0;34m\u001b[0m\u001b[0m\n\u001b[0m",
      "\u001b[0;31mAssertionError\u001b[0m: "
     ]
    }
   ],
   "source": [
    "a=1\n",
    "assert a==2 "
   ]
  },
  {
   "cell_type": "markdown",
   "metadata": {
    "id": "j1Yg37gJNlFV"
   },
   "source": [
    "훈련이 되지않은 generator 이용해 이미지를 생성"
   ]
  },
  {
   "cell_type": "code",
   "execution_count": 29,
   "metadata": {
    "colab": {
     "base_uri": "https://localhost:8080/",
     "height": 281
    },
    "id": "hsozuvVmNlFV",
    "outputId": "3b024e8f-8a6f-45b4-f69d-0d706692df64"
   },
   "outputs": [
    {
     "data": {
      "text/plain": [
       "<matplotlib.image.AxesImage at 0x7f03680547f0>"
      ]
     },
     "execution_count": 29,
     "metadata": {
      "tags": []
     },
     "output_type": "execute_result"
    },
    {
     "data": {
      "image/png": "[encoded data removed]",
      "text/plain": [
       "<Figure size 432x288 with 1 Axes>"
      ]
     },
     "metadata": {
      "needs_background": "light",
      "tags": []
     },
     "output_type": "display_data"
    }
   ],
   "source": [
    "generator = make_generator_model()\n",
    "\n",
    "noise = tf.random.normal([1, 100])\n",
    "generated_image = generator(noise, training=False)\n",
    "\n",
    "plt.imshow(generated_image[0, :, :, 0], cmap='gray')"
   ]
  },
  {
   "cell_type": "markdown",
   "metadata": {
    "id": "BS6eXqMdNlFW"
   },
   "source": [
    "### discriminator\n",
    "- convolution 기반 분류기"
   ]
  },
  {
   "cell_type": "code",
   "execution_count": 30,
   "metadata": {
    "id": "n5vuj0daNlFW"
   },
   "outputs": [],
   "source": [
    "def make_discriminator_model():\n",
    "    model = tf.keras.Sequential()\n",
    "    model.add(layers.Conv2D(64, (5, 5), strides=(2, 2), padding='same',\n",
    "                                     input_shape=[28, 28, 1]))\n",
    "    model.add(layers.LeakyReLU())\n",
    "    model.add(layers.Dropout(0.3))\n",
    "\n",
    "    model.add(layers.Conv2D(128, (5, 5), strides=(2, 2), padding='same'))\n",
    "    model.add(layers.LeakyReLU())\n",
    "    model.add(layers.Dropout(0.3))\n",
    "\n",
    "    model.add(layers.Flatten())\n",
    "    model.add(layers.Dense(1))\n",
    "\n",
    "    return model"
   ]
  },
  {
   "cell_type": "markdown",
   "metadata": {
    "id": "RaoHo6V3NlFW"
   },
   "source": [
    "훈련이 되지않은 discriminator 이용해 이미지를 진짜 + /가짜 - 감별"
   ]
  },
  {
   "cell_type": "code",
   "execution_count": 31,
   "metadata": {
    "colab": {
     "base_uri": "https://localhost:8080/"
    },
    "id": "_-RRFSCnNlFW",
    "outputId": "c263d6c5-4dcd-40a4-a013-8826632a3e11"
   },
   "outputs": [
    {
     "name": "stdout",
     "output_type": "stream",
     "text": [
      "tf.Tensor([[0.00081873]], shape=(1, 1), dtype=float32)\n"
     ]
    }
   ],
   "source": [
    "discriminator = make_discriminator_model()\n",
    "decision = discriminator(generated_image)\n",
    "print (decision)"
   ]
  },
  {
   "cell_type": "markdown",
   "metadata": {
    "id": "VvfVk1NjNlFW"
   },
   "source": [
    "### 손실함수\n",
    "\n",
    "### discriminator 손실함수\n",
    "- multi-loss 어려움\n",
    "    - 전체 loss에서 trade-off 관계 주의\n",
    "    > Style Transfer에서 다시 다룰 예정!\n",
    "> 컨볼루션은 성질을 공유해서 그나마 성능 좋음"
   ]
  },
  {
   "cell_type": "code",
   "execution_count": 32,
   "metadata": {
    "id": "qP5uYTueNlFX"
   },
   "outputs": [],
   "source": [
    "# 이 메서드는 크로스 엔트로피 손실함수 (cross entropy loss)를 계산하기 위해 헬퍼 (helper) 함수를 반환합니다.\n",
    "cross_entropy = tf.keras.losses.BinaryCrossentropy(from_logits=True)"
   ]
  },
  {
   "cell_type": "code",
   "execution_count": 33,
   "metadata": {
    "id": "xO8vSnRWNlFX"
   },
   "outputs": [],
   "source": [
    "def discriminator_loss(real_output, fake_output):\n",
    "    #cross_entropy 함수처럼 사용; 진짜 1 가짜 0으로 이루어진 행렬\n",
    "    real_loss = cross_entropy(tf.ones_like(real_output), real_output)\n",
    "    fake_loss = cross_entropy(tf.zeros_like(fake_output), fake_output)\n",
    "    total_loss = real_loss + fake_loss\n",
    "    return total_loss"
   ]
  },
  {
   "cell_type": "code",
   "execution_count": 36,
   "metadata": {
    "colab": {
     "base_uri": "https://localhost:8080/"
    },
    "id": "BLfA5tacNlFX",
    "outputId": "3e187eea-6b40-4836-bde8-41bea6574fe5"
   },
   "outputs": [
    {
     "data": {
      "text/plain": [
       "<function tensorflow.python.ops.array_ops.ones_like_v2>"
      ]
     },
     "execution_count": 36,
     "metadata": {
      "tags": []
     },
     "output_type": "execute_result"
    }
   ],
   "source": [
    "tf.zeros_like\n",
    "tf.ones_like"
   ]
  },
  {
   "cell_type": "markdown",
   "metadata": {
    "id": "4M2Bv5kCNlFY"
   },
   "source": [
    "### generator 손실함수\n",
    "- 가짜데이터를 얼마나 실제데이터와 비슷한지( discriminator를 얼마나 잘 속였는지) 수치화"
   ]
  },
  {
   "cell_type": "code",
   "execution_count": 37,
   "metadata": {
    "id": "tIlm8_e5NlFY"
   },
   "outputs": [],
   "source": [
    "def generator_loss(fake_output):\n",
    "    return cross_entropy(tf.ones_like(fake_output), fake_output)"
   ]
  },
  {
   "cell_type": "code",
   "execution_count": 39,
   "metadata": {
    "id": "UIT54tYeONve"
   },
   "outputs": [],
   "source": [
    "generator_optimizer = tf.keras.optimizers.Adam(1e-4)\n",
    "discriminator_optimizer = tf.keras.optimizers.Adam(1e-4)"
   ]
  },
  {
   "cell_type": "markdown",
   "metadata": {
    "id": "N6rxZ0Y0NlFZ"
   },
   "source": [
    "### checkpoint\n",
    "- 모든 학습 결과값 저장\n",
    "- keras Tensorboard에 유용"
   ]
  },
  {
   "cell_type": "code",
   "execution_count": 40,
   "metadata": {
    "id": "1AKbPqA0NlFZ"
   },
   "outputs": [],
   "source": [
    "checkpoint_dir = './training_checkpoints'\n",
    "checkpoint_prefix = os.path.join(checkpoint_dir, \"ckpt\")\n",
    "checkpoint = tf.train.Checkpoint(generator_optimizer=generator_optimizer,\n",
    "                                 discriminator_optimizer=discriminator_optimizer,\n",
    "                                 generator=generator,\n",
    "                                 discriminator=discriminator)"
   ]
  },
  {
   "cell_type": "markdown",
   "metadata": {
    "id": "ATC7630fNlFZ"
   },
   "source": [
    "#### callbacks 테크닉\n",
    "-  tf.keras.callbacks 학습 보조"
   ]
  },
  {
   "cell_type": "code",
   "execution_count": null,
   "metadata": {
    "id": "Twyei5OANlFZ"
   },
   "outputs": [],
   "source": [
    "tf.keras.callbacks.TensorBoard "
   ]
  },
  {
   "cell_type": "markdown",
   "metadata": {
    "id": "wxIWhtuSNlFa"
   },
   "source": [
    "epoch , batch한번 돌때마다 기록함"
   ]
  },
  {
   "cell_type": "code",
   "execution_count": null,
   "metadata": {
    "id": "jbXKCyNTNlFa",
    "outputId": "aa226f71-edd2-4af1-c3e1-fa72fa4cec75"
   },
   "outputs": [
    {
     "data": {
      "text/plain": [
       "['__class__',\n",
       " '__delattr__',\n",
       " '__dict__',\n",
       " '__dir__',\n",
       " '__doc__',\n",
       " '__eq__',\n",
       " '__format__',\n",
       " '__ge__',\n",
       " '__getattribute__',\n",
       " '__gt__',\n",
       " '__hash__',\n",
       " '__init__',\n",
       " '__init_subclass__',\n",
       " '__le__',\n",
       " '__lt__',\n",
       " '__module__',\n",
       " '__ne__',\n",
       " '__new__',\n",
       " '__reduce__',\n",
       " '__reduce_ex__',\n",
       " '__repr__',\n",
       " '__setattr__',\n",
       " '__sizeof__',\n",
       " '__str__',\n",
       " '__subclasshook__',\n",
       " '__weakref__',\n",
       " '_implements_predict_batch_hooks',\n",
       " '_implements_test_batch_hooks',\n",
       " '_implements_train_batch_hooks',\n",
       " '_keras_api_names',\n",
       " '_keras_api_names_v1',\n",
       " 'on_batch_begin',\n",
       " 'on_batch_end',\n",
       " 'on_epoch_begin',\n",
       " 'on_epoch_end',\n",
       " 'on_predict_batch_begin',\n",
       " 'on_predict_batch_end',\n",
       " 'on_predict_begin',\n",
       " 'on_predict_end',\n",
       " 'on_test_batch_begin',\n",
       " 'on_test_batch_end',\n",
       " 'on_test_begin',\n",
       " 'on_test_end',\n",
       " 'on_train_batch_begin',\n",
       " 'on_train_batch_end',\n",
       " 'on_train_begin',\n",
       " 'on_train_end',\n",
       " 'set_model',\n",
       " 'set_params']"
      ]
     },
     "execution_count": 48,
     "metadata": {
      "tags": []
     },
     "output_type": "execute_result"
    }
   ],
   "source": [
    "dir(tf.keras.callbacks.Callback) #오버라이딩"
   ]
  },
  {
   "cell_type": "code",
   "execution_count": null,
   "metadata": {
    "id": "rxvi3xRTNlFa",
    "outputId": "8dab5c64-39af-4e0e-ceac-b8f2da23daf2"
   },
   "outputs": [
    {
     "data": {
      "text/plain": [
       "<function tensorflow.python.keras.callbacks.Callback.on_batch_end(self, batch, logs=None)>"
      ]
     },
     "execution_count": 50,
     "metadata": {
      "tags": []
     },
     "output_type": "execute_result"
    }
   ],
   "source": [
    "tf.keras.callbacks.Callback.on_batch_begin\n",
    "tf.keras.callbacks.Callback.on_batch_end"
   ]
  },
  {
   "cell_type": "code",
   "execution_count": null,
   "metadata": {
    "id": "x12a1uAgNlFa"
   },
   "outputs": [],
   "source": [
    "class MyCallBack(tf.keras.callbacks.Callback):\n",
    "    def on_epoch_begin(self,epoch,logs=None):\n",
    "        print('eoch start -------')\n",
    "        print(epoch,'++++++++++')"
   ]
  },
  {
   "cell_type": "code",
   "execution_count": null,
   "metadata": {
    "id": "569VuZlMNlFb",
    "outputId": "5417c6c8-0123-4b95-90ef-bc233a15da3e"
   },
   "outputs": [
    {
     "name": "stdout",
     "output_type": "stream",
     "text": [
      "eoch start -------\n",
      "0 ++++++++++\n",
      "Epoch 1/3\n",
      "1875/1875 [==============================] - 4s 2ms/step - loss: 0.8535\n",
      "eoch start -------\n",
      "1 ++++++++++\n",
      "Epoch 2/3\n",
      "1875/1875 [==============================] - 5s 2ms/step - loss: 0.7955\n",
      "eoch start -------\n",
      "2 ++++++++++\n",
      "Epoch 3/3\n",
      "1875/1875 [==============================] - 4s 2ms/step - loss: 0.7695\n"
     ]
    }
   ],
   "source": [
    "(X_train, y_train), (X_test,y_test) = tf.keras.datasets.mnist.load_data()\n",
    "model=tf.keras.models.Sequential([\n",
    "    tf.keras.layers.Flatten(input_shape=(28,28)),\n",
    "    tf.keras.layers.Dense(16,activation='relu'),\n",
    "    tf.keras.layers.Dense(10,activation='softmax')\n",
    "\n",
    "])\n",
    "model.compile(loss='sparse_categorical_crossentropy')\n",
    "his=model.fit(X_train,y_train,epochs=3,callbacks=[MyCallBack()])"
   ]
  },
  {
   "cell_type": "markdown",
   "metadata": {
    "id": "4ZKkondcNlFb"
   },
   "source": [
    "### 학습\n",
    "- tf.GradientTape 은 loss 새로 만드는것은 학습 \n",
    "> - fit, fit_generator,train_on_batch, train 기존의 정의된 loss 사용\n"
   ]
  },
  {
   "cell_type": "markdown",
   "metadata": {
    "id": "RxOgf14TNlFb"
   },
   "source": [
    "### tf.GradientTape\n",
    "- 자동미분하는 방법 중 하나\n",
    "- 테이프 기록장치에 미분값을 저장\n",
    "\n",
    "- with context manager \n",
    "    - __enter__ , __exit__ 정의됨\n",
    "    - with 중첩 가능\n",
    "    - 기존 프레임워크에서 제공하는 loss 가 아닌경우, 확장 하고 싶은 경우 자동미분 제공\n",
    "\n",
    "> - Automatic Difference in Pytorch\n",
    "    - No tape\n",
    "\n",
    "> - Automatic Difference in ML\n",
    "    - tape\n",
    "\n",
    "\n",
    "- https://www.tensorflow.org/guide/autodiff?hl=ko"
   ]
  },
  {
   "cell_type": "code",
   "execution_count": null,
   "metadata": {
    "id": "YViAtM1rNlFb"
   },
   "outputs": [],
   "source": [
    "x = tf.Variable((1., 2, 3))\n",
    "\n",
    "with tf.GradientTape() as tape:\n",
    "    y=x**2\n",
    "    zz=tape.gradient(y,x) "
   ]
  },
  {
   "cell_type": "code",
   "execution_count": null,
   "metadata": {
    "id": "rIj6oDrDNlFc",
    "outputId": "dd22440a-3f2b-4909-c62d-7bce8431cb1a"
   },
   "outputs": [
    {
     "data": {
      "text/plain": [
       "<tf.Tensor: shape=(3,), dtype=float32, numpy=array([2., 4., 6.], dtype=float32)>"
      ]
     },
     "execution_count": 72,
     "metadata": {
      "tags": []
     },
     "output_type": "execute_result"
    }
   ],
   "source": [
    "zz"
   ]
  },
  {
   "cell_type": "markdown",
   "metadata": {
    "id": "ry2cG7xANlFc"
   },
   "source": [
    "함수의 미분값을 GradientTape에 저장\n"
   ]
  },
  {
   "cell_type": "code",
   "execution_count": null,
   "metadata": {
    "id": "f8CVlNY_NlFd",
    "outputId": "8678a573-7ae9-4e88-a308-0ba95fdcc299"
   },
   "outputs": [
    {
     "data": {
      "text/plain": [
       "<tf.Tensor: shape=(3,), dtype=float32, numpy=array([2., 4., 6.], dtype=float32)>"
      ]
     },
     "execution_count": 73,
     "metadata": {
      "tags": []
     },
     "output_type": "execute_result"
    }
   ],
   "source": [
    "x = tf.Variable((1., 2, 3))\n",
    "\n",
    "with tf.GradientTape() as tape:\n",
    "    y=x**2  # 2x -> 2,4,6\n",
    "z=tape.gradient(y,x) \n",
    "z #2,4,6"
   ]
  },
  {
   "cell_type": "code",
   "execution_count": null,
   "metadata": {
    "id": "MfTzBq7jNlFd"
   },
   "outputs": [],
   "source": [
    "class X:\n",
    "    def __enter__(self): #실행\n",
    "        print('enter')\n",
    "    def __exit__(self): #구문 벗어날때\n",
    "        print('exit')"
   ]
  },
  {
   "cell_type": "code",
   "execution_count": null,
   "metadata": {
    "id": "5D3KlLVwNlFd",
    "outputId": "49b991e8-78be-4896-8a69-914d3de58733"
   },
   "outputs": [
    {
     "ename": "AttributeError",
     "evalue": "__enter__",
     "output_type": "error",
     "traceback": [
      "\u001b[0;31m---------------------------------------------------------------------------\u001b[0m",
      "\u001b[0;31mAttributeError\u001b[0m                            Traceback (most recent call last)",
      "\u001b[0;32m<ipython-input-75-008e967386ea>\u001b[0m in \u001b[0;36m<module>\u001b[0;34m\u001b[0m\n\u001b[0;32m----> 1\u001b[0;31m \u001b[0;32mwith\u001b[0m \u001b[0mint\u001b[0m\u001b[0;34m(\u001b[0m\u001b[0;34m)\u001b[0m\u001b[0;34m:\u001b[0m\u001b[0;34m\u001b[0m\u001b[0;34m\u001b[0m\u001b[0m\n\u001b[0m\u001b[1;32m      2\u001b[0m     \u001b[0mprint\u001b[0m\u001b[0;34m(\u001b[0m\u001b[0;34m'a'\u001b[0m\u001b[0;34m)\u001b[0m\u001b[0;34m\u001b[0m\u001b[0;34m\u001b[0m\u001b[0m\n",
      "\u001b[0;31mAttributeError\u001b[0m: __enter__"
     ]
    }
   ],
   "source": [
    "with int():\n",
    "    print('a') #__enter__ 가 클래스에 정의되지않아 사용 못함"
   ]
  },
  {
   "cell_type": "code",
   "execution_count": null,
   "metadata": {
    "id": "a21dFVlqNlFd",
    "outputId": "d9313aef-a89a-4b65-eca2-faa633fd31aa"
   },
   "outputs": [
    {
     "name": "stdout",
     "output_type": "stream",
     "text": [
      "enter\n",
      "a\n"
     ]
    },
    {
     "ename": "TypeError",
     "evalue": "__exit__() takes 1 positional argument but 4 were given",
     "output_type": "error",
     "traceback": [
      "\u001b[0;31m---------------------------------------------------------------------------\u001b[0m",
      "\u001b[0;31mTypeError\u001b[0m                                 Traceback (most recent call last)",
      "\u001b[0;32m<ipython-input-77-bf44c3567217>\u001b[0m in \u001b[0;36m<module>\u001b[0;34m\u001b[0m\n\u001b[1;32m      1\u001b[0m \u001b[0;32mwith\u001b[0m \u001b[0mX\u001b[0m\u001b[0;34m(\u001b[0m\u001b[0;34m)\u001b[0m\u001b[0;34m:\u001b[0m\u001b[0;34m\u001b[0m\u001b[0;34m\u001b[0m\u001b[0m\n\u001b[0;32m----> 2\u001b[0;31m     \u001b[0mprint\u001b[0m\u001b[0;34m(\u001b[0m\u001b[0;34m'a'\u001b[0m\u001b[0;34m)\u001b[0m\u001b[0;34m\u001b[0m\u001b[0;34m\u001b[0m\u001b[0m\n\u001b[0m",
      "\u001b[0;31mTypeError\u001b[0m: __exit__() takes 1 positional argument but 4 were given"
     ]
    }
   ],
   "source": [
    "with X():\n",
    "    print('a') "
   ]
  },
  {
   "cell_type": "code",
   "execution_count": null,
   "metadata": {
    "id": "fSrWxJexNlFe"
   },
   "outputs": [],
   "source": [
    "with X() as f: #인스턴스\n",
    "    print('a') "
   ]
  },
  {
   "cell_type": "code",
   "execution_count": null,
   "metadata": {
    "id": "B5I45fZdNlFe",
    "outputId": "313209f3-19b5-4d99-d3ae-26d30d714409"
   },
   "outputs": [
    {
     "name": "stdout",
     "output_type": "stream",
     "text": [
      "Writing a.txt\n"
     ]
    }
   ],
   "source": [
    "%%writefile a.txt\n",
    "asdf\n",
    "asdf\n",
    "asf"
   ]
  },
  {
   "cell_type": "code",
   "execution_count": null,
   "metadata": {
    "id": "FMSIpeomNlFe",
    "outputId": "31be4968-ef0b-4dd6-9733-943d09259b49"
   },
   "outputs": [
    {
     "name": "stdout",
     "output_type": "stream",
     "text": [
      "a\n"
     ]
    }
   ],
   "source": [
    "with open('a.txt') as f:\n",
    "    print('a')"
   ]
  },
  {
   "cell_type": "markdown",
   "metadata": {
    "id": "KrSE8VNUNlFf"
   },
   "source": [
    "model.trainable=False\n",
    "\n",
    "- 전체 파라미터 그대로 \n",
    "- 학습 가능한 파라미터 0\n",
    "    - weight, bias 업데이트 못 함"
   ]
  },
  {
   "cell_type": "code",
   "execution_count": null,
   "metadata": {
    "id": "jkNfA4UjNlFf",
    "outputId": "46a1db76-0b20-4379-bd9a-ae94eb943c51"
   },
   "outputs": [
    {
     "name": "stdout",
     "output_type": "stream",
     "text": [
      "Model: \"sequential_4\"\n",
      "_________________________________________________________________\n",
      "Layer (type)                 Output Shape              Param #   \n",
      "=================================================================\n",
      "flatten_2 (Flatten)          (None, 784)               0         \n",
      "_________________________________________________________________\n",
      "dense_9 (Dense)              (None, 16)                12560     \n",
      "_________________________________________________________________\n",
      "dense_10 (Dense)             (None, 10)                170       \n",
      "=================================================================\n",
      "Total params: 12,730\n",
      "Trainable params: 0\n",
      "Non-trainable params: 12,730\n",
      "_________________________________________________________________\n"
     ]
    }
   ],
   "source": [
    "model.trainable=False\n",
    "model.summary() "
   ]
  },
  {
   "cell_type": "code",
   "execution_count": null,
   "metadata": {
    "id": "m2NgpcEpNlFf",
    "outputId": "96423103-e023-48bf-b646-c462a1f5ac7b"
   },
   "outputs": [
    {
     "name": "stdout",
     "output_type": "stream",
     "text": [
      "Model: \"sequential_4\"\n",
      "_________________________________________________________________\n",
      "Layer (type)                 Output Shape              Param #   \n",
      "=================================================================\n",
      "flatten_2 (Flatten)          (None, 784)               0         \n",
      "_________________________________________________________________\n",
      "dense_9 (Dense)              (None, 16)                12560     \n",
      "_________________________________________________________________\n",
      "dense_10 (Dense)             (None, 10)                170       \n",
      "=================================================================\n",
      "Total params: 12,730\n",
      "Trainable params: 170\n",
      "Non-trainable params: 12,560\n",
      "_________________________________________________________________\n"
     ]
    }
   ],
   "source": [
    "model.trainable=True\n",
    "model.layers[1].trainable=False\n",
    "model.summary()"
   ]
  },
  {
   "cell_type": "markdown",
   "metadata": {
    "id": "SHJ1iVajNlFf"
   },
   "source": [
    "- 위조범과 판별사가 두개를 동시에 학습하면 잘 안됨\n",
    "\n",
    "1. 판별사 학습통해 능력 향상 \n",
    "2. 위조범 학습시켜서 판별사 속일 수 있을 만큼 학습시킴\n",
    "3. 번갈아가면서 학습하기위해서 trainable/training  변경\n",
    "\n",
    "\n",
    "@tf.function\n",
    "- JIT(Just in Time) 내부적으로 속도 향상 시켜줌\n",
    "  - script 언어를 미리 컴파일(인터프리터보다 속도향상)\n",
    "- 항상 좋지 않고 작은 연산에 최적화"
   ]
  },
  {
   "cell_type": "code",
   "execution_count": 41,
   "metadata": {
    "id": "VZsfwWloNlFg"
   },
   "outputs": [],
   "source": [
    "EPOCHS = 50\n",
    "noise_dim = 100\n",
    "num_examples_to_generate = 16\n",
    "\n",
    "# (GIF 애니메이션에서 진전 내용을 시각화하는데 쉽기 때문입니다.) \n",
    "seed = tf.random.normal([num_examples_to_generate, noise_dim])"
   ]
  },
  {
   "cell_type": "code",
   "execution_count": 42,
   "metadata": {
    "id": "0A4WEhD_NlFg"
   },
   "outputs": [],
   "source": [
    "@tf.function\n",
    "def train_step(images):\n",
    "    noise = tf.random.normal([BATCH_SIZE, noise_dim])\n",
    "    \n",
    "  #disc_tape -> gen_tape 순서로 학습 \n",
    "    with tf.GradientTape() as gen_tape, tf.GradientTape() as disc_tape:\n",
    "      generated_images = generator(noise, training=True)\n",
    "\n",
    "      real_output = discriminator(images, training=True)\n",
    "      fake_output = discriminator(generated_images, training=True)\n",
    "#loss함수를 w,b로 편미분\n",
    "      gen_loss = generator_loss(fake_output)\n",
    "      disc_loss = discriminator_loss(real_output, fake_output)\n",
    "\n",
    "    gradients_of_generator = gen_tape.gradient(gen_loss, generator.trainable_variables)\n",
    "    gradients_of_discriminator = disc_tape.gradient(disc_loss, discriminator.trainable_variables)\n",
    "#optimizer 적용 : zip으로 묶어줌  \n",
    "    generator_optimizer.apply_gradients(zip(gradients_of_generator, generator.trainable_variables))\n",
    "    discriminator_optimizer.apply_gradients(zip(gradients_of_discriminator, discriminator.trainable_variables))"
   ]
  },
  {
   "cell_type": "code",
   "execution_count": 43,
   "metadata": {
    "id": "8wm3eLxrNlFg"
   },
   "outputs": [],
   "source": [
    "from itertools import zip_longest"
   ]
  },
  {
   "cell_type": "code",
   "execution_count": null,
   "metadata": {
    "id": "qKj82ToMNlFh"
   },
   "outputs": [],
   "source": [
    "a=zip([1,2,3,4],[4,5,6])\n",
    "b=zip_longest([1,2,3,4],[4,5,6])"
   ]
  },
  {
   "cell_type": "code",
   "execution_count": null,
   "metadata": {
    "id": "G0kkDzneNlFh",
    "outputId": "ddb31da2-e6cf-4845-fbcd-be5be8d5301e"
   },
   "outputs": [
    {
     "data": {
      "text/plain": [
       "[(1, 4), (2, 5), (3, 6)]"
      ]
     },
     "execution_count": 87,
     "metadata": {
      "tags": []
     },
     "output_type": "execute_result"
    }
   ],
   "source": [
    "list(a) #짧은 리스트 기준 원소 묶음"
   ]
  },
  {
   "cell_type": "code",
   "execution_count": null,
   "metadata": {
    "id": "Enh3vOHkNlFh",
    "outputId": "dde924d2-b013-4d72-cd9f-8a245004d8d7"
   },
   "outputs": [
    {
     "data": {
      "text/plain": [
       "[(1, 4), (2, 5), (3, 6), (4, None)]"
      ]
     },
     "execution_count": 88,
     "metadata": {
      "tags": []
     },
     "output_type": "execute_result"
    }
   ],
   "source": [
    "list(b) #가장 긴 리스트 기준 원소 묶음"
   ]
  },
  {
   "cell_type": "code",
   "execution_count": 46,
   "metadata": {
    "id": "BXQZKRQyNlFh"
   },
   "outputs": [],
   "source": [
    "def train(dataset, epochs):\n",
    "  for epoch in range(epochs):\n",
    "    start = time.time()\n",
    "\n",
    "    for image_batch in dataset:\n",
    "      train_step(image_batch)\n",
    "\n",
    "    # GIF를 위한 이미지를 바로 생성합니다.\n",
    "    display.clear_output(wait=True)\n",
    "    generate_and_save_images(generator,\n",
    "                             epoch + 1,\n",
    "                             seed)\n",
    "\n",
    "    # 15 에포크 마다 모델을 저장\n",
    "    if (epoch + 1) % 15 == 0:\n",
    "      checkpoint.save(file_prefix = checkpoint_prefix)\n",
    "\n",
    "    # 에포크마다 얼마나 걸렸는지\n",
    "    print ('Time for epoch {} is {} sec'.format(epoch + 1, time.time()-start))\n",
    "\n",
    "  # 마지막 에포크가 끝난 후 생성\n",
    "  display.clear_output(wait=True)\n",
    "  generate_and_save_images(generator,\n",
    "                           epochs,\n",
    "                           seed)"
   ]
  },
  {
   "cell_type": "code",
   "execution_count": null,
   "metadata": {
    "id": "u4Ly4rGUO6rW"
   },
   "outputs": [],
   "source": [
    "def generate_and_save_images(model, epoch, test_input):\n",
    "  predictions = model(test_input, training=False) #추론\n",
    "\n",
    "  fig = plt.figure(figsize=(4,4))\n",
    "\n",
    "  for i in range(predictions.shape[0]):\n",
    "      plt.subplot(4, 4, i+1)\n",
    "      plt.imshow(predictions[i, :, :, 0] * 127.5 + 127.5, cmap='gray')\n",
    "      plt.axis('off')\n",
    "\n",
    "  plt.savefig('image_at_epoch_{:04d}.png'.format(epoch))\n",
    "  plt.show()\n"
   ]
  },
  {
   "cell_type": "code",
   "execution_count": 48,
   "metadata": {
    "colab": {
     "base_uri": "https://localhost:8080/",
     "height": 247
    },
    "id": "BOMVc8DrNlFi",
    "outputId": "30a49e70-f5aa-4326-b373-53ca8eae92db"
   },
   "outputs": [
    {
     "data": {
      "image/png": "[encoded data removed]",
      "text/plain": [
       "<Figure size 288x288 with 16 Axes>"
      ]
     },
     "metadata": {
      "needs_background": "light",
      "tags": []
     },
     "output_type": "display_data"
    }
   ],
   "source": [
    "#점점 숫자의 형태를 갖춰가고 있음\n",
    "train(train_dataset, EPOCHS)"
   ]
  },
  {
   "cell_type": "code",
   "execution_count": 49,
   "metadata": {
    "colab": {
     "base_uri": "https://localhost:8080/"
    },
    "id": "z805H6l-O9gx",
    "outputId": "10921206-cc02-445e-c02b-e4ca206097bb"
   },
   "outputs": [
    {
     "data": {
      "text/plain": [
       "<tensorflow.python.training.tracking.util.CheckpointLoadStatus at 0x7f03602d7f98>"
      ]
     },
     "execution_count": 49,
     "metadata": {
      "tags": []
     },
     "output_type": "execute_result"
    }
   ],
   "source": [
    "checkpoint.restore(tf.train.latest_checkpoint(checkpoint_dir)) #체크포인트 복구"
   ]
  },
  {
   "cell_type": "code",
   "execution_count": 50,
   "metadata": {
    "id": "Tuf8qQDuO_0B"
   },
   "outputs": [],
   "source": [
    "def display_image(epoch_no):\n",
    "  return PIL.Image.open('image_at_epoch_{:04d}.png'.format(epoch_no))"
   ]
  },
  {
   "cell_type": "code",
   "execution_count": 51,
   "metadata": {
    "colab": {
     "base_uri": "https://localhost:8080/",
     "height": 305
    },
    "id": "KuiTUooKPBUc",
    "outputId": "3cdaecd5-4a12-4a71-9fb9-960fb0e55b46"
   },
   "outputs": [
    {
     "data": {
      "image/png": "[encoded data removed]",
      "text/plain": [
       "<PIL.PngImagePlugin.PngImageFile image mode=RGBA size=288x288 at 0x7F03616923C8>"
      ]
     },
     "execution_count": 51,
     "metadata": {
      "tags": []
     },
     "output_type": "execute_result"
    }
   ],
   "source": [
    "display_image(EPOCHS)"
   ]
  }
 ],
 "metadata": {
  "accelerator": "GPU",
  "colab": {
   "name": "201229_릴레이_시각.ipynb",
   "provenance": []
  },
  "kernelspec": {
   "display_name": "Python 3",
   "language": "python",
   "name": "python3"
  },
  "language_info": {
   "codemirror_mode": {
    "name": "ipython",
    "version": 3
   },
   "file_extension": ".py",
   "mimetype": "text/x-python",
   "name": "python",
   "nbconvert_exporter": "python",
   "pygments_lexer": "ipython3",
   "version": "3.7.6"
  }
 },
 "nbformat": 4,
 "nbformat_minor": 1
}
