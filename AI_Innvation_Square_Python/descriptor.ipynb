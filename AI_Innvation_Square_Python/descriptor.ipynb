{
 "cells": [
  {
   "cell_type": "markdown",
   "metadata": {},
   "source": [
    "### 디스크립터 .\n",
    "이용한 모든 방법을 바꿀수 있음\n",
    "\n",
    "* delegation & composition 구분!!!!!  < - special method 지원하니 \n",
    "1. composition\n",
    "    - class\n",
    "     - 남의 클래스의 초기값을 자기가 원하는 값으로 사용 \n",
    "     - __getattr__  attribute없으면 다른데에서 씀\n",
    "2. property  객체 사용-> callable 안됨 \n",
    "     -\n",
    "3. property decorator 사용\n",
    "    -함수\n",
    "    * __get__() : 가져오기\n",
    "    * __set__() : 설정\n",
    "    * __delete__() :삭제\n",
    "    https://docs.python.org/ko/3/howto/descriptor.html\n",
    "mixin technique\n",
    "python에서는 지원 안 함\n",
    "\n",
    " -> descriptor\n",
    "OOP\n",
    ".  의 기능도 바꿀수 이씅ㅁ\n",
    "descriptor composition하여 사용 -duck typing \n",
    "__class__  type\n",
    "__dict__ vars\n",
    "__mro__ mro\n",
    "__dir__ dir\n",
    "__getattr__\n",
    "getattr( x.s )  x.s ^^^^^^"
   ]
  },
  {
   "cell_type": "code",
   "execution_count": null,
   "metadata": {},
   "outputs": [],
   "source": [
    "class D: \n",
    "    x=1\n",
    "d=D()"
   ]
  },
  {
   "cell_type": "code",
   "execution_count": null,
   "metadata": {},
   "outputs": [],
   "source": [
    "d.x #d.x > d.__class__ .x"
   ]
  },
  {
   "cell_type": "code",
   "execution_count": null,
   "metadata": {},
   "outputs": [],
   "source": [
    "d.__dict__"
   ]
  },
  {
   "cell_type": "code",
   "execution_count": null,
   "metadata": {},
   "outputs": [],
   "source": [
    "### (1)composition\n",
    "\n",
    "- class1 을 다른 클래스에서 초기화하여 사용\n",
    "- 다른 클래스의 값으로 들어감 \n",
    "    -예.  딥러닝 모델안에 레이어 안에 값 들어감\n",
    "ㅋ\\ㅌ]\\\\\\\\\\나같은 쩌리짱 ㅠㅠㅠ은몰라\n"
   ]
  },
  {
   "cell_type": "code",
   "execution_count": null,
   "metadata": {},
   "outputs": [],
   "source": [
    "class Value:\n",
    "    def __init__ (self,x):\n",
    "        self.x =x\n",
    "    def __get__(self):\n",
    "        print('get')\n",
    "        return self.x\n",
    "    def __set__(self,x):\n",
    "        print('set')\n",
    "        self.x=x"
   ]
  },
  {
   "cell_type": "code",
   "execution_count": null,
   "metadata": {},
   "outputs": [],
   "source": [
    "class Myclass:\n",
    "    t= Value(1)"
   ]
  },
  {
   "cell_type": "code",
   "execution_count": null,
   "metadata": {},
   "outputs": [],
   "source": [
    "Myclass.t"
   ]
  },
  {
   "cell_type": "code",
   "execution_count": null,
   "metadata": {},
   "outputs": [],
   "source": [
    "class Myclass:\n",
    "    t= Value(2,3)"
   ]
  },
  {
   "cell_type": "code",
   "execution_count": null,
   "metadata": {},
   "outputs": [],
   "source": [
    "Myclass.t"
   ]
  },
  {
   "cell_type": "markdown",
   "metadata": {},
   "source": [
    "overriding 상속받은거 원래 인자까지 맞춰야함\n",
    "overloading -인자를 다르게 하면다른 함수로  지원 안함 똑같은걸로 간주\n",
    "\n",
    "get "
   ]
  },
  {
   "cell_type": "code",
   "execution_count": null,
   "metadata": {},
   "outputs": [],
   "source": [
    "class Value:\n",
    "    def __init__ (self,x):\n",
    "        self.x =x\n",
    "    def __get__(self,a,b):  # get: . \n",
    "        print('get')\n",
    "        return self.x +100\n",
    "    def __set__(self,x):\n",
    "        print('set')\n",
    "        self.x=x"
   ]
  },
  {
   "cell_type": "code",
   "execution_count": null,
   "metadata": {},
   "outputs": [],
   "source": [
    "class Myclass:\n",
    "    t= Value(1)"
   ]
  },
  {
   "cell_type": "code",
   "execution_count": null,
   "metadata": {},
   "outputs": [],
   "source": [
    "Myclass.t      #get"
   ]
  },
  {
   "cell_type": "code",
   "execution_count": null,
   "metadata": {},
   "outputs": [],
   "source": [
    "Myclass.t=3  #set\n",
    "Myclass.t"
   ]
  },
  {
   "cell_type": "code",
   "execution_count": null,
   "metadata": {},
   "outputs": [],
   "source": [
    "del Myclass.t #delete"
   ]
  },
  {
   "cell_type": "markdown",
   "metadata": {},
   "source": [
    "property()\n",
    "\n"
   ]
  },
  {
   "cell_type": "code",
   "execution_count": 41,
   "metadata": {},
   "outputs": [],
   "source": [
    "# 1. \n",
    "class C :\n",
    "    def __init__ (self,x):\n",
    "        self.x =x\n",
    "    def getx(self): \n",
    "        return self.__x\n",
    "    def setx(self, value): \n",
    "        print('값 줄수 없음')\n",
    "        self.__x = value\n",
    "    def delx(self): del self.__x\n",
    "    x = property(getx, setx, delx, \"I'm the 'x' property.\")"
   ]
  },
  {
   "cell_type": "code",
   "execution_count": 42,
   "metadata": {},
   "outputs": [
    {
     "name": "stdout",
     "output_type": "stream",
     "text": [
      "값 줄수 없음\n"
     ]
    }
   ],
   "source": [
    "cc=C(5)"
   ]
  },
  {
   "cell_type": "code",
   "execution_count": 43,
   "metadata": {},
   "outputs": [
    {
     "name": "stdout",
     "output_type": "stream",
     "text": [
      "값 줄수 없음\n"
     ]
    }
   ],
   "source": [
    "cc.x=3"
   ]
  },
  {
   "cell_type": "markdown",
   "metadata": {},
   "source": [
    "### Mangling\n",
    "- 사용자가 추가 할 수없도록 정보도 감출수 있음\n",
    "\n"
   ]
  },
  {
   "cell_type": "code",
   "execution_count": 15,
   "metadata": {},
   "outputs": [],
   "source": [
    "class T:\n",
    "    __a =1"
   ]
  },
  {
   "cell_type": "code",
   "execution_count": 16,
   "metadata": {},
   "outputs": [
    {
     "ename": "AttributeError",
     "evalue": "type object 'T' has no attribute '__a'",
     "output_type": "error",
     "traceback": [
      "\u001b[0;31m---------------------------------------------------------------------------\u001b[0m",
      "\u001b[0;31mAttributeError\u001b[0m                            Traceback (most recent call last)",
      "\u001b[0;32m<ipython-input-16-c5bf5289274f>\u001b[0m in \u001b[0;36m<module>\u001b[0;34m\u001b[0m\n\u001b[0;32m----> 1\u001b[0;31m \u001b[0mT\u001b[0m\u001b[0;34m.\u001b[0m\u001b[0m__a\u001b[0m\u001b[0;34m\u001b[0m\u001b[0;34m\u001b[0m\u001b[0m\n\u001b[0m",
      "\u001b[0;31mAttributeError\u001b[0m: type object 'T' has no attribute '__a'"
     ]
    }
   ],
   "source": [
    "T.__a"
   ]
  },
  {
   "cell_type": "code",
   "execution_count": 18,
   "metadata": {},
   "outputs": [
    {
     "data": {
      "text/plain": [
       "1"
      ]
     },
     "execution_count": 18,
     "metadata": {},
     "output_type": "execute_result"
    }
   ],
   "source": [
    "T._T__a # __ "
   ]
  },
  {
   "cell_type": "markdown",
   "metadata": {},
   "source": [
    " class, static , property method"
   ]
  },
  {
   "cell_type": "code",
   "execution_count": 47,
   "metadata": {},
   "outputs": [],
   "source": [
    "class D:\n",
    "    @property\n",
    "    def x(self):\n",
    "        print('xxx')"
   ]
  },
  {
   "cell_type": "code",
   "execution_count": 49,
   "metadata": {},
   "outputs": [
    {
     "name": "stdout",
     "output_type": "stream",
     "text": [
      "xxx\n"
     ]
    }
   ],
   "source": [
    "d=D()\n",
    "d.x"
   ]
  },
  {
   "cell_type": "code",
   "execution_count": 51,
   "metadata": {},
   "outputs": [],
   "source": [
    "#decorator 방식\n",
    "class D:\n",
    "    def __init__ (self,x):\n",
    "        self.__x=x\n",
    "    @property\n",
    "    def x(self):\n",
    "        print('xxx')\n",
    "        \n",
    "    @x.setter\n",
    "    def x (self,x):\n",
    "        print('set')\n",
    "        self.x=x"
   ]
  },
  {
   "cell_type": "markdown",
   "metadata": {},
   "source": [
    "descriptor 가  callabledㅏ닌 애로 변경시킴\n",
    "함수 오버로딩 지원하지않기 때문에 property 데코레이터가 내부적으로 다르게 처리하기 때문에 이름이 같아도 \n",
    "consenting adult ->  기본적으로 변경할수 있게 해놓음^^^^^^^^왜그랬습니까!!!..귀도씨 \n",
    "descriptor 로 set막을면 값을 변경못하게 막음 ->p"
   ]
  },
  {
   "cell_type": "code",
   "execution_count": 52,
   "metadata": {},
   "outputs": [
    {
     "name": "stdout",
     "output_type": "stream",
     "text": [
      "xxx\n"
     ]
    }
   ],
   "source": [
    "d=D(3)\n",
    "d.x  #사용자는 x 쓴거같지만 __x사용한것임\n"
   ]
  },
  {
   "cell_type": "markdown",
   "metadata": {},
   "source": [
    "### underbar\n"
   ]
  },
  {
   "cell_type": "code",
   "execution_count": 55,
   "metadata": {},
   "outputs": [
    {
     "data": {
      "text/plain": [
       "'1'"
      ]
     },
     "execution_count": 55,
     "metadata": {},
     "output_type": "execute_result"
    }
   ],
   "source": [
    "'1'"
   ]
  },
  {
   "cell_type": "code",
   "execution_count": 56,
   "metadata": {},
   "outputs": [
    {
     "data": {
      "text/plain": [
       "'1'"
      ]
     },
     "execution_count": 56,
     "metadata": {},
     "output_type": "execute_result"
    }
   ],
   "source": [
    "_"
   ]
  },
  {
   "cell_type": "code",
   "execution_count": 57,
   "metadata": {},
   "outputs": [
    {
     "data": {
      "text/plain": [
       "10000"
      ]
     },
     "execution_count": 57,
     "metadata": {},
     "output_type": "execute_result"
    }
   ],
   "source": [
    "100_00   # 구분자"
   ]
  },
  {
   "cell_type": "code",
   "execution_count": 58,
   "metadata": {},
   "outputs": [
    {
     "ename": "SyntaxError",
     "evalue": "invalid syntax (<ipython-input-58-1ee163ec6d2d>, line 1)",
     "output_type": "error",
     "traceback": [
      "\u001b[0;36m  File \u001b[0;32m\"<ipython-input-58-1ee163ec6d2d>\"\u001b[0;36m, line \u001b[0;32m1\u001b[0m\n\u001b[0;31m    from import *\u001b[0m\n\u001b[0m              ^\u001b[0m\n\u001b[0;31mSyntaxError\u001b[0m\u001b[0;31m:\u001b[0m invalid syntax\n"
     ]
    }
   ],
   "source": [
    "from  import * # __ 메소드 안불러옴 ->mangling   __  __이름앞에 붙음"
   ]
  },
  {
   "cell_type": "code",
   "execution_count": null,
   "metadata": {},
   "outputs": [],
   "source": [
    "dunder( double underbar, magic, special )\n",
    "__init__:"
   ]
  },
  {
   "cell_type": "code",
   "execution_count": 59,
   "metadata": {},
   "outputs": [],
   "source": [
    "_, b= 3,4"
   ]
  },
  {
   "cell_type": "code",
   "execution_count": 60,
   "metadata": {},
   "outputs": [
    {
     "data": {
      "text/plain": [
       "3"
      ]
     },
     "execution_count": 60,
     "metadata": {},
     "output_type": "execute_result"
    }
   ],
   "source": [
    "_"
   ]
  },
  {
   "cell_type": "code",
   "execution_count": null,
   "metadata": {},
   "outputs": [],
   "source": [
    "isin_ # 유사한 기능을 제공해줌"
   ]
  },
  {
   "cell_type": "markdown",
   "metadata": {},
   "source": [
    "국제 I18N\n",
    "식별자 예약 영역\n",
    "https://docs.python.org/ko/3/reference/lexical_analysis.html#literals"
   ]
  },
  {
   "cell_type": "markdown",
   "metadata": {},
   "source": [
    "__getattr__\n",
    "\n",
    "class A:\n",
    "    def __getattr__(self)\n",
    "    \n",
    "composition을 완전 상속처럼 사용하기 위해서     \n",
    "상속 안 받고 composition초기화 \n",
    "상속하고자 하는 타 클래스 \n",
    "overriding  gksms qnqnsaks zheld.\n"
   ]
  },
  {
   "cell_type": "code",
   "execution_count": 62,
   "metadata": {},
   "outputs": [],
   "source": [
    "class S:\n",
    "    x=1\n",
    "    def __getattribut__(self, a):  #읻스크립터로 정의 하지않느경우 \n",
    "        print(a)"
   ]
  },
  {
   "cell_type": "code",
   "execution_count": 63,
   "metadata": {},
   "outputs": [
    {
     "data": {
      "text/plain": [
       "1"
      ]
     },
     "execution_count": 63,
     "metadata": {},
     "output_type": "execute_result"
    }
   ],
   "source": [
    "s=S()\n",
    "s.x"
   ]
  },
  {
   "cell_type": "markdown",
   "metadata": {},
   "source": [
    "OOP_4_Polymorphism.ipynb"
   ]
  },
  {
   "cell_type": "code",
   "execution_count": 66,
   "metadata": {},
   "outputs": [],
   "source": [
    "#클래스 만들기 \n",
    "type(int)\n",
    "t=type('int2', (int,),{})"
   ]
  },
  {
   "cell_type": "code",
   "execution_count": 67,
   "metadata": {},
   "outputs": [
    {
     "data": {
      "text/plain": [
       "True"
      ]
     },
     "execution_count": 67,
     "metadata": {},
     "output_type": "execute_result"
    }
   ],
   "source": [
    "type(t)\n",
    "issubclass(t,int)"
   ]
  },
  {
   "cell_type": "code",
   "execution_count": 68,
   "metadata": {},
   "outputs": [
    {
     "data": {
      "text/plain": [
       "13"
      ]
     },
     "execution_count": 68,
     "metadata": {},
     "output_type": "execute_result"
    }
   ],
   "source": [
    "t(3)+ t(10)\n"
   ]
  },
  {
   "cell_type": "code",
   "execution_count": 69,
   "metadata": {},
   "outputs": [
    {
     "name": "stdout",
     "output_type": "stream",
     "text": [
      "Class definitions\n",
      "*****************\n",
      "\n",
      "A class definition defines a class object (see section The standard\n",
      "type hierarchy):\n",
      "\n",
      "   classdef    ::= [decorators] \"class\" classname [inheritance] \":\" suite\n",
      "   inheritance ::= \"(\" [argument_list] \")\"\n",
      "   classname   ::= identifier\n",
      "\n",
      "A class definition is an executable statement.  The inheritance list\n",
      "usually gives a list of base classes (see Metaclasses for more\n",
      "advanced uses), so each item in the list should evaluate to a class\n",
      "object which allows subclassing.  Classes without an inheritance list\n",
      "inherit, by default, from the base class \"object\"; hence,\n",
      "\n",
      "   class Foo:\n",
      "       pass\n",
      "\n",
      "is equivalent to\n",
      "\n",
      "   class Foo(object):\n",
      "       pass\n",
      "\n",
      "The class’s suite is then executed in a new execution frame (see\n",
      "Naming and binding), using a newly created local namespace and the\n",
      "original global namespace. (Usually, the suite contains mostly\n",
      "function definitions.)  When the class’s suite finishes execution, its\n",
      "execution frame is discarded but its local namespace is saved. [3] A\n",
      "class object is then created using the inheritance list for the base\n",
      "classes and the saved local namespace for the attribute dictionary.\n",
      "The class name is bound to this class object in the original local\n",
      "namespace.\n",
      "\n",
      "The order in which attributes are defined in the class body is\n",
      "preserved in the new class’s \"__dict__\".  Note that this is reliable\n",
      "only right after the class is created and only for classes that were\n",
      "defined using the definition syntax.\n",
      "\n",
      "Class creation can be customized heavily using metaclasses.\n",
      "\n",
      "Classes can also be decorated: just like when decorating functions,\n",
      "\n",
      "   @f1(arg)\n",
      "   @f2\n",
      "   class Foo: pass\n",
      "\n",
      "is roughly equivalent to\n",
      "\n",
      "   class Foo: pass\n",
      "   Foo = f1(arg)(f2(Foo))\n",
      "\n",
      "The evaluation rules for the decorator expressions are the same as for\n",
      "function decorators.  The result is then bound to the class name.\n",
      "\n",
      "**Programmer’s note:** Variables defined in the class definition are\n",
      "class attributes; they are shared by instances.  Instance attributes\n",
      "can be set in a method with \"self.name = value\".  Both class and\n",
      "instance attributes are accessible through the notation “\"self.name\"”,\n",
      "and an instance attribute hides a class attribute with the same name\n",
      "when accessed in this way.  Class attributes can be used as defaults\n",
      "for instance attributes, but using mutable values there can lead to\n",
      "unexpected results.  Descriptors can be used to create instance\n",
      "variables with different implementation details.\n",
      "\n",
      "See also:\n",
      "\n",
      "  **PEP 3115** - Metaclasses in Python 3000\n",
      "     The proposal that changed the declaration of metaclasses to the\n",
      "     current syntax, and the semantics for how classes with\n",
      "     metaclasses are constructed.\n",
      "\n",
      "  **PEP 3129** - Class Decorators\n",
      "     The proposal that added class decorators.  Function and method\n",
      "     decorators were introduced in **PEP 318**.\n",
      "\n",
      "Related help topics: CLASSES, SPECIALMETHODS\n",
      "\n"
     ]
    }
   ],
   "source": [
    "help('class')"
   ]
  },
  {
   "cell_type": "markdown",
   "metadata": {},
   "source": [
    "type 이라는 메타클래스 (클래스의 클래스)\n",
    "- 클래스의 행동방식을 지정/제약\n",
    "\n",
    "instance무한개.."
   ]
  },
  {
   "cell_type": "code",
   "execution_count": 70,
   "metadata": {},
   "outputs": [
    {
     "data": {
      "text/plain": [
       "(object,)"
      ]
     },
     "execution_count": 70,
     "metadata": {},
     "output_type": "execute_result"
    }
   ],
   "source": [
    "a=int\n",
    "a.__class__.__bases__"
   ]
  },
  {
   "cell_type": "code",
   "execution_count": 72,
   "metadata": {},
   "outputs": [
    {
     "data": {
      "text/plain": [
       "()"
      ]
     },
     "execution_count": 72,
     "metadata": {},
     "output_type": "execute_result"
    }
   ],
   "source": [
    "object.__bases__"
   ]
  },
  {
   "cell_type": "markdown",
   "metadata": {},
   "source": [
    " object에게 기능을 물려받고\n",
    "metaclass 활용 낮음 "
   ]
  },
  {
   "cell_type": "code",
   "execution_count": 73,
   "metadata": {},
   "outputs": [
    {
     "ename": "NameError",
     "evalue": "name 'mytype' is not defined",
     "output_type": "error",
     "traceback": [
      "\u001b[0;31m---------------------------------------------------------------------------\u001b[0m",
      "\u001b[0;31mNameError\u001b[0m                                 Traceback (most recent call last)",
      "\u001b[0;32m<ipython-input-73-1c8902cb3aea>\u001b[0m in \u001b[0;36m<module>\u001b[0;34m\u001b[0m\n\u001b[1;32m      1\u001b[0m \u001b[0;32mclass\u001b[0m \u001b[0mMytype\u001b[0m\u001b[0;34m:\u001b[0m\u001b[0;34m\u001b[0m\u001b[0;34m\u001b[0m\u001b[0m\n\u001b[1;32m      2\u001b[0m     \u001b[0;32mpass\u001b[0m\u001b[0;34m\u001b[0m\u001b[0;34m\u001b[0m\u001b[0m\n\u001b[0;32m----> 3\u001b[0;31m \u001b[0;32mclass\u001b[0m \u001b[0mmysoecialclass\u001b[0m\u001b[0;34m(\u001b[0m\u001b[0mmeataclass\u001b[0m\u001b[0;34m=\u001b[0m\u001b[0mmytype\u001b[0m\u001b[0;34m)\u001b[0m\u001b[0;34m:\u001b[0m\u001b[0;34m\u001b[0m\u001b[0;34m\u001b[0m\u001b[0m\n\u001b[0m\u001b[1;32m      4\u001b[0m     \u001b[0;32mpass\u001b[0m\u001b[0;34m\u001b[0m\u001b[0;34m\u001b[0m\u001b[0m\n",
      "\u001b[0;31mNameError\u001b[0m: name 'mytype' is not defined"
     ]
    }
   ],
   "source": [
    "class Mytype:\n",
    "    pass\n",
    "class mysoecialclass(meataclass=mytype):\n",
    "    pass"
   ]
  },
  {
   "cell_type": "code",
   "execution_count": 74,
   "metadata": {},
   "outputs": [],
   "source": [
    "from sklearn.neighbors import KNeighborsClassifier"
   ]
  },
  {
   "cell_type": "markdown",
   "metadata": {},
   "source": [
    "metaclass는 클래스의 기능을 바꿈\n",
    "instance =class,\n",
    "상속은 오브젝트로부터 받고 \n",
    "싱글톤이 행동을 제약 \n",
    "인스턴스화할떄 인스턴스 있으면 none 이면 반환\n",
    "인스턴스를 하나만 만들도록 제약해놓음\n",
    "\n",
    "Singleton기법"
   ]
  },
  {
   "cell_type": "code",
   "execution_count": 75,
   "metadata": {},
   "outputs": [],
   "source": [
    "class Singleton(type):\n",
    "    instance = None\n",
    "    def __call__(cls, *args, **kw):\n",
    "        if not cls.instance:\n",
    "             cls.instance = super(Singleton, cls).__call__(*args, **kw)\n",
    "        return cls.instance"
   ]
  },
  {
   "cell_type": "code",
   "execution_count": 77,
   "metadata": {},
   "outputs": [],
   "source": [
    "class ASingleton(metaclass=Singleton):\n",
    "    pass"
   ]
  },
  {
   "cell_type": "code",
   "execution_count": 79,
   "metadata": {},
   "outputs": [
    {
     "data": {
      "text/plain": [
       "True"
      ]
     },
     "execution_count": 79,
     "metadata": {},
     "output_type": "execute_result"
    }
   ],
   "source": [
    "a = ASingleton()\n",
    "b = ASingleton()\n",
    "a is b                 #같다"
   ]
  },
  {
   "cell_type": "code",
   "execution_count": 81,
   "metadata": {},
   "outputs": [
    {
     "data": {
      "text/plain": [
       "1"
      ]
     },
     "execution_count": 81,
     "metadata": {},
     "output_type": "execute_result"
    }
   ],
   "source": [
    "a.x=1\n",
    "b.x # a is b"
   ]
  },
  {
   "cell_type": "markdown",
   "metadata": {},
   "source": [
    "메타클래스가 관리하기때문에 dir로도 다 안나옴 - **class 의 class **확인 \n",
    "dir( ) ;__dict__\n",
    "참고 https://docs.python.org/3/tutorial/modules.html#the-dir-function"
   ]
  },
  {
   "cell_type": "code",
   "execution_count": 83,
   "metadata": {},
   "outputs": [],
   "source": [
    "#파이선에서의 다형성\n",
    "class A:\n",
    "    def f(self):\n",
    "        pass\n",
    "class B(A):\n",
    "    def f(self):\n",
    "        print('B')\n",
    "        return'B'\n",
    "class C(A):\n",
    "     def f(self):\n",
    "        print('C')\n",
    "        return'C'\n",
    "class D:\n",
    "    pass\n",
    "class E: \n",
    "     def f(self):\n",
    "        print('E')\n",
    "        return'E'"
   ]
  },
  {
   "cell_type": "code",
   "execution_count": 87,
   "metadata": {},
   "outputs": [],
   "source": [
    "def x(obj):\n",
    "    if 'f ' in dir(obj):\n",
    "        print('A') #같은 메소드를 갖는 집합체(이름 같은애., 실제로는 다름 )"
   ]
  },
  {
   "cell_type": "code",
   "execution_count": 88,
   "metadata": {},
   "outputs": [
    {
     "data": {
      "text/plain": [
       "__main__.ASingleton"
      ]
     },
     "execution_count": 88,
     "metadata": {},
     "output_type": "execute_result"
    }
   ],
   "source": [
    "x(D)\n",
    "type(a)"
   ]
  },
  {
   "cell_type": "code",
   "execution_count": 89,
   "metadata": {},
   "outputs": [],
   "source": [
    "x(E)"
   ]
  },
  {
   "cell_type": "code",
   "execution_count": 90,
   "metadata": {},
   "outputs": [
    {
     "data": {
      "text/plain": [
       "__main__.ASingleton"
      ]
     },
     "execution_count": 90,
     "metadata": {},
     "output_type": "execute_result"
    }
   ],
   "source": [
    "type(a)"
   ]
  },
  {
   "cell_type": "code",
   "execution_count": 91,
   "metadata": {},
   "outputs": [
    {
     "data": {
      "text/plain": [
       "type"
      ]
     },
     "execution_count": 91,
     "metadata": {},
     "output_type": "execute_result"
    }
   ],
   "source": [
    "type(int)"
   ]
  },
  {
   "cell_type": "markdown",
   "metadata": {},
   "source": [
    "참고 6"
   ]
  },
  {
   "cell_type": "code",
   "execution_count": null,
   "metadata": {},
   "outputs": [],
   "source": [
    "from collections.abc import Iterator, Iterable"
   ]
  },
  {
   "cell_type": "code",
   "execution_count": 92,
   "metadata": {},
   "outputs": [],
   "source": [
    "class A:\n",
    "    def __init__(self):\n",
    "        self.x ='A'\n",
    "        print('A')\n",
    "class B:\n",
    "      def __init__(self):\n",
    "        self.x ='A'\n",
    "        super().__init__()\n",
    "        print('A')\n",
    "        \n",
    "        #not implemented type,error  "
   ]
  },
  {
   "cell_type": "code",
   "execution_count": 93,
   "metadata": {},
   "outputs": [
    {
     "data": {
      "text/plain": [
       "NotImplemented"
      ]
     },
     "execution_count": 93,
     "metadata": {},
     "output_type": "execute_result"
    }
   ],
   "source": [
    "NotImplemented"
   ]
  },
  {
   "cell_type": "code",
   "execution_count": 98,
   "metadata": {},
   "outputs": [
    {
     "ename": "SyntaxError",
     "evalue": "invalid syntax (<ipython-input-98-6b8dd2168f97>, line 1)",
     "output_type": "error",
     "traceback": [
      "\u001b[0;36m  File \u001b[0;32m\"<ipython-input-98-6b8dd2168f97>\"\u001b[0;36m, line \u001b[0;32m1\u001b[0m\n\u001b[0;31m    import numpy a np\u001b[0m\n\u001b[0m                 ^\u001b[0m\n\u001b[0;31mSyntaxError\u001b[0m\u001b[0;31m:\u001b[0m invalid syntax\n"
     ]
    }
   ],
   "source": [
    "import numpy a np\n",
    "type(...)\n"
   ]
  },
  {
   "cell_type": "code",
   "execution_count": 99,
   "metadata": {},
   "outputs": [
    {
     "name": "stdout",
     "output_type": "stream",
     "text": [
      "Downloading data from https://storage.googleapis.com/tensorflow/tf-keras-datasets/mnist.npz\n",
      "11493376/11490434 [==============================] - 1s 0us/step\n"
     ]
    }
   ],
   "source": [
    "from tensorflow.keras.datasets import mnist\n",
    "(x_train,y_train),(x_test,y_test)=mnist.load_data()"
   ]
  },
  {
   "cell_type": "code",
   "execution_count": 100,
   "metadata": {},
   "outputs": [
    {
     "data": {
      "text/plain": [
       "ellipsis"
      ]
     },
     "execution_count": 100,
     "metadata": {},
     "output_type": "execute_result"
    }
   ],
   "source": [
    "(...).__class__"
   ]
  },
  {
   "cell_type": "code",
   "execution_count": 102,
   "metadata": {},
   "outputs": [
    {
     "ename": "SyntaxError",
     "evalue": "invalid syntax (<ipython-input-102-c8ea40dd8641>, line 3)",
     "output_type": "error",
     "traceback": [
      "\u001b[0;36m  File \u001b[0;32m\"<ipython-input-102-c8ea40dd8641>\"\u001b[0;36m, line \u001b[0;32m3\u001b[0m\n\u001b[0;31m    from pprint imprt pprint\u001b[0m\n\u001b[0m                    ^\u001b[0m\n\u001b[0;31mSyntaxError\u001b[0m\u001b[0;31m:\u001b[0m invalid syntax\n"
     ]
    }
   ],
   "source": [
    "print(...) #생략\n",
    "import keyword\n",
    "from pprint imprt pprint\n"
   ]
  },
  {
   "cell_type": "code",
   "execution_count": 106,
   "metadata": {},
   "outputs": [
    {
     "data": {
      "text/plain": [
       "35"
      ]
     },
     "execution_count": 106,
     "metadata": {},
     "output_type": "execute_result"
    }
   ],
   "source": [
    "import keyword\n",
    "from pprint import pprint\n",
    "len(keyword.kwlist) #35개 키워드\n",
    "\n",
    "에러처리 : as, assert, else ,try, finally, from, raise,try...\n",
    "    EAFP : 허락보다 용서가 더 쉽다. 에러처리가 관련 키워드 많음\n",
    "__getattr__  :에러 발생 시키거나 막음\n",
    "    \n",
    "abstract bases class(ABC, 추상메타 클래스) - 지금은 구현은 않하나 상속받는 애는 구현 안했으면 에러 강제로 발생"
   ]
  },
  {
   "cell_type": "code",
   "execution_count": null,
   "metadata": {},
   "outputs": [],
   "source": [
    "내클래스에 메타클래스를 넣으면 메타클래스의 기준에 따라 행동(다르다)\n",
    "정하는 순간 우리가 아는 방식이 아닌 다른 무엇인가 존재"
   ]
  },
  {
   "cell_type": "code",
   "execution_count": 107,
   "metadata": {},
   "outputs": [
    {
     "ename": "ImportError",
     "evalue": "cannot import name 'MLPClassfier' from 'sklearn.neural_network' (/anaconda3/lib/python3.7/site-packages/sklearn/neural_network/__init__.py)",
     "output_type": "error",
     "traceback": [
      "\u001b[0;31m---------------------------------------------------------------------------\u001b[0m",
      "\u001b[0;31mImportError\u001b[0m                               Traceback (most recent call last)",
      "\u001b[0;32m<ipython-input-107-22dd9e03c89a>\u001b[0m in \u001b[0;36m<module>\u001b[0;34m\u001b[0m\n\u001b[0;32m----> 1\u001b[0;31m \u001b[0;32mfrom\u001b[0m \u001b[0msklearn\u001b[0m\u001b[0;34m.\u001b[0m\u001b[0mneural_network\u001b[0m \u001b[0;32mimport\u001b[0m \u001b[0mMLPClassfier\u001b[0m\u001b[0;34m\u001b[0m\u001b[0;34m\u001b[0m\u001b[0m\n\u001b[0m\u001b[1;32m      2\u001b[0m \u001b[0mml\u001b[0m\u001b[0;34m=\u001b[0m \u001b[0mMLPClassifier\u001b[0m\u001b[0;34m(\u001b[0m\u001b[0;34m)\u001b[0m\u001b[0;34m\u001b[0m\u001b[0;34m\u001b[0m\u001b[0m\n\u001b[1;32m      3\u001b[0m \u001b[0mdir\u001b[0m\u001b[0;34m(\u001b[0m\u001b[0mml\u001b[0m\u001b[0;34m)\u001b[0m\u001b[0;34m\u001b[0m\u001b[0;34m\u001b[0m\u001b[0m\n",
      "\u001b[0;31mImportError\u001b[0m: cannot import name 'MLPClassfier' from 'sklearn.neural_network' (/anaconda3/lib/python3.7/site-packages/sklearn/neural_network/__init__.py)"
     ]
    }
   ],
   "source": [
    "dir - abstract method"
   ]
  },
  {
   "cell_type": "code",
   "execution_count": null,
   "metadata": {},
   "outputs": [],
   "source": [
    "# testing\n",
    "- 연속성을 위해서  가장 중요\n",
    "- 유닛 테스닝\n",
    "https://docs.python.org/ko/3/library/index.html\n",
    "function aㅏ다 assert를 달아놓으면 효율적으로 함\n",
    "기능 너무 단순"
   ]
  },
  {
   "cell_type": "code",
   "execution_count": 108,
   "metadata": {},
   "outputs": [
    {
     "ename": "AssertionError",
     "evalue": "",
     "output_type": "error",
     "traceback": [
      "\u001b[0;31m---------------------------------------------------------------------------\u001b[0m",
      "\u001b[0;31mAssertionError\u001b[0m                            Traceback (most recent call last)",
      "\u001b[0;32m<ipython-input-108-705300bc4fb1>\u001b[0m in \u001b[0;36m<module>\u001b[0;34m\u001b[0m\n\u001b[1;32m      1\u001b[0m \u001b[0;31m## assert\u001b[0m\u001b[0;34m\u001b[0m\u001b[0;34m\u001b[0m\u001b[0;34m\u001b[0m\u001b[0m\n\u001b[1;32m      2\u001b[0m \u001b[0ma\u001b[0m\u001b[0;34m=\u001b[0m\u001b[0;36m1\u001b[0m\u001b[0;34m\u001b[0m\u001b[0;34m\u001b[0m\u001b[0m\n\u001b[0;32m----> 3\u001b[0;31m \u001b[0;32massert\u001b[0m \u001b[0ma\u001b[0m\u001b[0;34m!=\u001b[0m\u001b[0;36m1\u001b[0m\u001b[0;34m\u001b[0m\u001b[0;34m\u001b[0m\u001b[0m\n\u001b[0m",
      "\u001b[0;31mAssertionError\u001b[0m: "
     ]
    }
   ],
   "source": [
    "## assert \n",
    "\n",
    "a=1\n",
    "assert a!=1"
   ]
  },
  {
   "cell_type": "code",
   "execution_count": 109,
   "metadata": {},
   "outputs": [],
   "source": [
    "assert sum([1,2,3])==6, \"6\""
   ]
  },
  {
   "cell_type": "code",
   "execution_count": 111,
   "metadata": {},
   "outputs": [
    {
     "ename": "AssertionError",
     "evalue": "합이 6 아님",
     "output_type": "error",
     "traceback": [
      "\u001b[0;31m---------------------------------------------------------------------------\u001b[0m",
      "\u001b[0;31mAssertionError\u001b[0m                            Traceback (most recent call last)",
      "\u001b[0;32m<ipython-input-111-148bac97bcbe>\u001b[0m in \u001b[0;36m<module>\u001b[0;34m\u001b[0m\n\u001b[0;32m----> 1\u001b[0;31m \u001b[0;32massert\u001b[0m \u001b[0msum\u001b[0m\u001b[0;34m(\u001b[0m\u001b[0;34m[\u001b[0m\u001b[0;36m1\u001b[0m\u001b[0;34m,\u001b[0m\u001b[0;36m1\u001b[0m\u001b[0;34m,\u001b[0m\u001b[0;36m1\u001b[0m\u001b[0;34m]\u001b[0m\u001b[0;34m)\u001b[0m\u001b[0;34m==\u001b[0m\u001b[0;36m6\u001b[0m\u001b[0;34m,\u001b[0m \u001b[0;34m\"합이 6 아님\"\u001b[0m  \u001b[0;31m# 에러 주석 달리\u001b[0m\u001b[0;34m\u001b[0m\u001b[0;34m\u001b[0m\u001b[0m\n\u001b[0m",
      "\u001b[0;31mAssertionError\u001b[0m: 합이 6 아님"
     ]
    }
   ],
   "source": [
    "assert sum([1,1,1])==6, \"합이 6 아님\"  # 에러 주석 달리"
   ]
  },
  {
   "cell_type": "markdown",
   "metadata": {},
   "source": [
    "j unit\n",
    "java 의 기능을 가져옴\n",
    "\n",
    "함수형 패러다임을 이용해서 \n",
    "객체지향 방법으로 테스트함->\n",
    "대규모 프로그래밍 유지 보수에 최적화\n",
    "모든 경우의수 따지기 힘듦\n"
   ]
  },
  {
   "cell_type": "markdown",
   "metadata": {},
   "source": [
    "test case"
   ]
  },
  {
   "cell_type": "code",
   "execution_count": 112,
   "metadata": {},
   "outputs": [],
   "source": [
    "class A:\n",
    "    x=1"
   ]
  },
  {
   "cell_type": "code",
   "execution_count": 114,
   "metadata": {},
   "outputs": [
    {
     "data": {
      "text/plain": [
       "__main__.A"
      ]
     },
     "execution_count": 114,
     "metadata": {},
     "output_type": "execute_result"
    }
   ],
   "source": [
    "A"
   ]
  },
  {
   "cell_type": "code",
   "execution_count": 113,
   "metadata": {},
   "outputs": [
    {
     "data": {
      "text/plain": [
       "'__main__'"
      ]
     },
     "execution_count": 113,
     "metadata": {},
     "output_type": "execute_result"
    }
   ],
   "source": [
    "__name__  #function방식 -instance 가 없으므로 현재 작업하고 있는애 기준으로 체크"
   ]
  },
  {
   "cell_type": "code",
   "execution_count": 120,
   "metadata": {},
   "outputs": [
    {
     "name": "stderr",
     "output_type": "stream",
     "text": [
      "UsageError: Line magic function `%%writefile` not found.\n"
     ]
    }
   ],
   "source": [
    "#testing  자동화 -코드를 파일로 만들어서 테스팅\n",
    "%%writefile sun.py\n",
    "def test_sum():\n",
    "    assert sum([1,2,3])==6, \"6 \"\n",
    "    \n",
    "def test_sum_tuple():\n",
    "    assert sum((1,2,2))==6, \"6\"\n",
    "\n",
    "if __name__==\"__main__\":\n",
    "    test_sum()\n",
    "    test_sum_tuple()  #에러 발생 실제로 6 아님\n",
    "    print('ok')\n",
    "# import시 실행 안되지만 직접 모듈시작시 있음"
   ]
  },
  {
   "cell_type": "code",
   "execution_count": 121,
   "metadata": {},
   "outputs": [
    {
     "name": "stdout",
     "output_type": "stream",
     "text": [
      "  File \"sun.py\", line 3\r\n",
      "    def\r\n",
      "      ^\r\n",
      "SyntaxError: invalid syntax\r\n"
     ]
    }
   ],
   "source": [
    "!python sun.py"
   ]
  },
  {
   "cell_type": "code",
   "execution_count": 122,
   "metadata": {},
   "outputs": [
    {
     "ename": "NameError",
     "evalue": "name 'sun' is not defined",
     "output_type": "error",
     "traceback": [
      "\u001b[0;31m---------------------------------------------------------------------------\u001b[0m",
      "\u001b[0;31mNameError\u001b[0m                                 Traceback (most recent call last)",
      "\u001b[0;32m<ipython-input-122-77e2325cc0fb>\u001b[0m in \u001b[0;36m<module>\u001b[0;34m\u001b[0m\n\u001b[0;32m----> 1\u001b[0;31m \u001b[0mdir\u001b[0m\u001b[0;34m(\u001b[0m\u001b[0msun\u001b[0m \u001b[0;34m)\u001b[0m\u001b[0;34m\u001b[0m\u001b[0;34m\u001b[0m\u001b[0m\n\u001b[0m",
      "\u001b[0;31mNameError\u001b[0m: name 'sun' is not defined"
     ]
    }
   ],
   "source": [
    "dir(sun )"
   ]
  },
  {
   "cell_type": "markdown",
   "metadata": {},
   "source": [
    "Unit test\n",
    "- 하나하나 조각을 테스트하는 방법론적 의미\n",
    "- java에서 사용한것을 가져옴 (J unit)\n",
    "- 파이썬 방식과 어울리지 않음\n",
    "- 파이썬 라이브러리 unittest\n",
    "- 파이썬에서는 모듈도 객체\n",
    "- 객체지향 언어 - 클래스 생성, \n",
    "        - 상속을 이용생성된 클래스를 가져다 쓸수 있고 추가/수정/삭제 가능\n",
    "        - class: -camel방식 "
   ]
  },
  {
   "cell_type": "code",
   "execution_count": 123,
   "metadata": {},
   "outputs": [],
   "source": [
    "import unittest"
   ]
  },
  {
   "cell_type": "code",
   "execution_count": 124,
   "metadata": {},
   "outputs": [
    {
     "data": {
      "text/plain": [
       "module"
      ]
     },
     "execution_count": 124,
     "metadata": {},
     "output_type": "execute_result"
    }
   ],
   "source": [
    "type(unittest)"
   ]
  },
  {
   "cell_type": "code",
   "execution_count": 125,
   "metadata": {},
   "outputs": [
    {
     "data": {
      "text/plain": [
       "['BaseTestSuite',\n",
       " 'FunctionTestCase',\n",
       " 'SkipTest',\n",
       " 'TestCase',\n",
       " 'TestLoader',\n",
       " 'TestProgram',\n",
       " 'TestResult',\n",
       " 'TestSuite',\n",
       " 'TextTestResult',\n",
       " 'TextTestRunner',\n",
       " '_TextTestResult',\n",
       " '__all__',\n",
       " '__builtins__',\n",
       " '__cached__',\n",
       " '__doc__',\n",
       " '__file__',\n",
       " '__loader__',\n",
       " '__name__',\n",
       " '__package__',\n",
       " '__path__',\n",
       " '__spec__',\n",
       " '__unittest',\n",
       " 'case',\n",
       " 'defaultTestLoader',\n",
       " 'expectedFailure',\n",
       " 'findTestCases',\n",
       " 'getTestCaseNames',\n",
       " 'installHandler',\n",
       " 'load_tests',\n",
       " 'loader',\n",
       " 'main',\n",
       " 'makeSuite',\n",
       " 'mock',\n",
       " 'registerResult',\n",
       " 'removeHandler',\n",
       " 'removeResult',\n",
       " 'result',\n",
       " 'runner',\n",
       " 'signals',\n",
       " 'skip',\n",
       " 'skipIf',\n",
       " 'skipUnless',\n",
       " 'suite',\n",
       " 'util']"
      ]
     },
     "execution_count": 125,
     "metadata": {},
     "output_type": "execute_result"
    }
   ],
   "source": [
    "dir(unittest)"
   ]
  },
  {
   "cell_type": "code",
   "execution_count": 130,
   "metadata": {},
   "outputs": [],
   "source": [
    "from unittest import TestCase,FunctionTestCase"
   ]
  },
  {
   "cell_type": "code",
   "execution_count": 131,
   "metadata": {},
   "outputs": [
    {
     "data": {
      "text/plain": [
       "True"
      ]
     },
     "execution_count": 131,
     "metadata": {},
     "output_type": "execute_result"
    }
   ],
   "source": [
    "issubclass(FunctionTestCase , TestCase)"
   ]
  },
  {
   "cell_type": "markdown",
   "metadata": {},
   "source": [
    " #assert 다양한 경우를 지원  assert sum([1,2,3)] ==6\n",
    "#파일 생성\n",
    "#알아서 실행-> 주피터 노트북에서는 다른 처리 필요\n",
    "    - 내부에 주석쓰면 에러뜸 ㅠㅠascii코드 는지원안해욧\n",
    "    \n",
    "    \n"
   ]
  },
  {
   "cell_type": "markdown",
   "metadata": {},
   "source": [
    "파일에서 테스트 하는방식 \n",
    "- 쉬움 # java차용"
   ]
  },
  {
   "cell_type": "code",
   "execution_count": 170,
   "metadata": {},
   "outputs": [
    {
     "name": "stdout",
     "output_type": "stream",
     "text": [
      "Overwriting moon.py\n"
     ]
    }
   ],
   "source": [
    "%%writefile moon.py\n",
    "import unittest\n",
    "class TestSum(unittest.TestCase):\n",
    "    def test_sum(self):\n",
    "        self.assertEqual( sum([1,2,3]), 6,\"6\") \n",
    "    def test_sum2(self):\n",
    "        self.assertEqual( sum([1,2,2]), 6,\"6\") \n",
    "if __name__ == '__main__':  \n",
    "    unittest.main( )  "
   ]
  },
  {
   "cell_type": "code",
   "execution_count": 171,
   "metadata": {},
   "outputs": [
    {
     "name": "stdout",
     "output_type": "stream",
     "text": [
      ".F\r\n",
      "======================================================================\r\n",
      "FAIL: test_sum2 (__main__.TestSum)\r\n",
      "----------------------------------------------------------------------\r\n",
      "Traceback (most recent call last):\r\n",
      "  File \"moon.py\", line 6, in test_sum2\r\n",
      "    self.assertEqual( sum([1,2,2]), 6,\"6\")\r\n",
      "AssertionError: 6\r\n",
      "\r\n",
      "----------------------------------------------------------------------\r\n",
      "Ran 2 tests in 0.000s\r\n",
      "\r\n",
      "FAILED (failures=1)\r\n"
     ]
    }
   ],
   "source": [
    "!python moon.py  #테스트 통과 여부 보여줌"
   ]
  },
  {
   "cell_type": "code",
   "execution_count": 162,
   "metadata": {},
   "outputs": [],
   "source": [
    "class TestSum(unittest.TestCase):\n",
    "    def test_sum(self):\n",
    "        self.assertEqual( sum([1,2,3]), 6) "
   ]
  },
  {
   "cell_type": "markdown",
   "metadata": {},
   "source": [
    "Jupyter notbook(분석용): __name__대신 아래와 같이 사용해야함"
   ]
  },
  {
   "cell_type": "code",
   "execution_count": 165,
   "metadata": {},
   "outputs": [
    {
     "name": "stderr",
     "output_type": "stream",
     "text": [
      "----------------------------------------------------------------------\n",
      "Ran 1 test in 0.000s\n",
      "\n",
      "OK\n"
     ]
    },
    {
     "data": {
      "text/plain": [
       "<unittest.runner.TextTestResult run=1 errors=0 failures=0>"
      ]
     },
     "execution_count": 165,
     "metadata": {},
     "output_type": "execute_result"
    }
   ],
   "source": [
    "import sys \n",
    "s= unittest.TestLoader().loadTestsFromTestCase(TestSum) #testsum테스트\n",
    "unittest.TextTestRunner(verbosity=0, stream=sys.stderr).run(s)"
   ]
  },
  {
   "cell_type": "markdown",
   "metadata": {},
   "source": [
    "#실제 예제 -간단한 식 생성\n",
    "- 코드 자동화 \n",
    ".__ 내부적으로만 사용"
   ]
  },
  {
   "cell_type": "code",
   "execution_count": 174,
   "metadata": {},
   "outputs": [],
   "source": [
    "class Book:\n",
    "    def __init__(self, name):\n",
    "        self.name=name\n",
    "        self.__genre ='raomantic'  \n",
    "        self.__world=\"dark\"\n",
    "        \n",
    "    def can_read(self, person): \n",
    "        if person.role == 'can':\n",
    "            return True\n",
    "        else :\n",
    "            return False\n",
    "        "
   ]
  },
  {
   "cell_type": "code",
   "execution_count": 175,
   "metadata": {},
   "outputs": [],
   "source": [
    "class Person:\n",
    "    def __init__(self, role):\n",
    "        self.role = role"
   ]
  },
  {
   "cell_type": "code",
   "execution_count": 177,
   "metadata": {},
   "outputs": [],
   "source": [
    "#자동화 -기본 모형\n",
    "class TestBook(unittest.TestCase):\n",
    "    pass"
   ]
  },
  {
   "cell_type": "code",
   "execution_count": 178,
   "metadata": {},
   "outputs": [],
   "source": [
    "#벙용적 방법\n",
    "class TestBook(unittest.TestCase):\n",
    "    def setUp(self):\n",
    "        self.book=Book('SSS') #오버라이딩 : 자바방식세팅\n"
   ]
  },
  {
   "cell_type": "code",
   "execution_count": 179,
   "metadata": {},
   "outputs": [
    {
     "name": "stderr",
     "output_type": "stream",
     "text": [
      "----------------------------------------------------------------------\n",
      "Ran 0 tests in 0.000s\n",
      "\n",
      "OK\n"
     ]
    },
    {
     "data": {
      "text/plain": [
       "<unittest.runner.TextTestResult run=0 errors=0 failures=0>"
      ]
     },
     "execution_count": 179,
     "metadata": {},
     "output_type": "execute_result"
    }
   ],
   "source": [
    "s= unittest.TestLoader().loadTestsFromTestCase(TestBook) #testsum테스트\n",
    "unittest.TextTestRunner(verbosity=0, stream=sys.stderr).run(s)"
   ]
  },
  {
   "cell_type": "markdown",
   "metadata": {},
   "source": [
    "setUp-사전설정\n",
    "어떻게 실행하는지 체크하기 때문에 사전설정은 체크 안함\n",
    "    - 이 부분에서 에러 발생하는지 주의해야함\n",
    "어썰트 없음"
   ]
  },
  {
   "cell_type": "code",
   "execution_count": 180,
   "metadata": {},
   "outputs": [
    {
     "name": "stderr",
     "output_type": "stream",
     "text": [
      "----------------------------------------------------------------------\n",
      "Ran 0 tests in 0.000s\n",
      "\n",
      "OK\n"
     ]
    },
    {
     "data": {
      "text/plain": [
       "<unittest.runner.TextTestResult run=0 errors=0 failures=0>"
      ]
     },
     "execution_count": 180,
     "metadata": {},
     "output_type": "execute_result"
    }
   ],
   "source": [
    "#벙용적 방법\n",
    "class TestBook(unittest.TestCase):\n",
    "    def setUp(self):     #오버라이딩 : 자바방식세팅\n",
    "        self.book=Book('') \n",
    "\n",
    "s= unittest.TestLoader().loadTestsFromTestCase(TestBook) #testsum테스트\n",
    "unittest.TextTestRunner(verbosity=0, stream=sys.stderr).run(s)"
   ]
  },
  {
   "cell_type": "code",
   "execution_count": 184,
   "metadata": {},
   "outputs": [
    {
     "name": "stderr",
     "output_type": "stream",
     "text": [
      "======================================================================\n",
      "FAIL: test_can_read (__main__.TestBook)\n",
      "----------------------------------------------------------------------\n",
      "Traceback (most recent call last):\n",
      "  File \"<ipython-input-184-797df73b143b>\", line 8, in test_can_read\n",
      "    self.assertTrue(self.book.can_read(person))   #T 체크\n",
      "AssertionError: False is not true\n",
      "\n",
      "----------------------------------------------------------------------\n",
      "Ran 1 test in 0.002s\n",
      "\n",
      "FAILED (failures=1)\n"
     ]
    },
    {
     "data": {
      "text/plain": [
       "<unittest.runner.TextTestResult run=1 errors=0 failures=1>"
      ]
     },
     "execution_count": 184,
     "metadata": {},
     "output_type": "execute_result"
    }
   ],
   "source": [
    "#\n",
    "class TestBook(unittest.TestCase):\n",
    "    def setUp(self):\n",
    "        self.book=Book('sun') #오버라이딩 : 자바방식세팅\n",
    "    def test_can_read(self):\n",
    "        person= Person('can1') # can =T else F  (can1= F,)\n",
    "        self.assertFalse(self.book.can_read(person))   #F 체크\n",
    "#       self.assertTrue(self.book.can_read(person))   #T 체크\n",
    "\n",
    "s= unittest.TestLoader().loadTestsFromTestCase(TestBook) #testsum테스트\n",
    "unittest.TextTestRunner(verbosity=0, stream=sys.stderr).run(s)"
   ]
  },
  {
   "cell_type": "code",
   "execution_count": null,
   "metadata": {},
   "outputs": [],
   "source": [
    "#setup( )  시작, teardown( ) 끝\n",
    "class TestBook(unittest.TestCase):\n",
    "    def setUp(self):\n",
    "        self.book=Book('sun') #오버라이딩 : 자바방식세팅\n",
    "    def test_can_read(self):\n",
    "        print('test1')\n",
    "        self.book=Book('a')\n",
    "        person= Person('can1') # can =T else F  (can1= F,)\n",
    "        self.assertFalse(self.book.can_read(person))   #F 체크\n",
    "#       self.assertTrue(self.book.can_read(person))   #T 체크\n",
    "\n",
    "s= unittest.TestLoader().loadTestsFromTestCase(TestBook) #testsum테스트\n",
    "unittest.TextTestRunner(verbosity=0, stream=sys.stderr).run(s)"
   ]
  }
 ],
 "metadata": {
  "kernelspec": {
   "display_name": "Python 3",
   "language": "python",
   "name": "python3"
  },
  "language_info": {
   "codemirror_mode": {
    "name": "ipython",
    "version": 3
   },
   "file_extension": ".py",
   "mimetype": "text/x-python",
   "name": "python",
   "nbconvert_exporter": "python",
   "pygments_lexer": "ipython3",
   "version": "3.7.6"
  }
 },
 "nbformat": 4,
 "nbformat_minor": 2
}
