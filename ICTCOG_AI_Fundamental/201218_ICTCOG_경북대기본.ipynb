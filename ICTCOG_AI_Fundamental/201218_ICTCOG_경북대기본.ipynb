{
 "cells": [
  {
   "cell_type": "markdown",
   "metadata": {},
   "source": [
    "# [ICTCOG] 4기 경북대 기본반\n",
    "\n",
    "## 딥러닝 (2)\n",
    "\n",
    "### Neural Network \n",
    "- 레이어, activation function\n",
    "\n",
    "- input layer : feature 수 만큼\n",
    "- output layer : 클래스 갯수만큼 노드 갯수 설정\n",
    "\n",
    "\n",
    "- epoch : 전체 데이터 1번 학습\n",
    "> 문제 10문제 풀고 답보기 vs 1문제 풀고 답보기\n",
    "- bach size: 전체 데이터를 크기 만큼 나눔\n",
    "    - 클수록 학습 속도가 빨라짐\n",
    "    - 작을수록 학습 정확도가 높음\n",
    "\n",
    "\n",
    "### gradient descent\n",
    "- 경사하강법 최적화 알고리즘 \n",
    "    1. 랜덤하게 가중치,bias 설정 \n",
    "        - bias 각각의 민감도\n",
    "    - 각 지점에서 **기울기**를 구함 (미분)\n",
    "        - 양의 기울기 : 음의 방향으로 이동\n",
    "        - 음의 기울기 : 양의 방향으로 이동\n",
    "    - learning rate\n",
    "        - 보폭, 움직이는 정도 \n",
    "    - 최소값 방향으로 이동하면서 최소값에서 멈춤\n",
    "\n",
    "\n",
    "\n",
    "- **학습: 실제값 & 예측값 차이 최소화**\n",
    "        > - km를 mile로 변환하는 예시\n",
    "    -backpropagation cost function 최소화하도록 W,b 업데이트\n",
    "\n",
    "예. Iris 150개 문제  batch size 30, epoch 3회\n",
    "- 1번째 batch  30개 넣어서 정답과 예측 차이를 최소화하고 gradient descent 방식으로 최소값 구해서 파라미터 업데이트\n",
    "- 2번째~ 5번째 batch  30개 넣어서  실제와 예측 차이를 최소화하고 gradient descent 방식으로 최소값 구해서 파라미터 업데이트\n",
    "- 1 epoch 끝나고 그 다음 epoch 을 위처럼 반복 (총 15번 업데이트) "
   ]
  },
  {
   "cell_type": "raw",
   "metadata": {},
   "source": [
    "!pip install tensorflow #설치"
   ]
  },
  {
   "cell_type": "code",
   "execution_count": 1,
   "metadata": {},
   "outputs": [],
   "source": [
    "import tensorflow as tf"
   ]
  },
  {
   "cell_type": "code",
   "execution_count": 2,
   "metadata": {},
   "outputs": [
    {
     "data": {
      "text/plain": [
       "'2.3.0'"
      ]
     },
     "execution_count": 2,
     "metadata": {},
     "output_type": "execute_result"
    }
   ],
   "source": [
    "# keras 하위 모듈 기반\n",
    "tf.__version__ #2 이상 버전!"
   ]
  },
  {
   "cell_type": "markdown",
   "metadata": {},
   "source": [
    "5가지\n",
    "1. tf.keras.modelsSequential\n",
    "    - 순차적 진행\n",
    "2. tf.keras.models.Model\n",
    "3.  OOP + Functional Programming\n",
    "4. tf.estimate\n",
    "5. tf.nn\n",
    "\n",
    "\n",
    "### Dense\n",
    "- input_shape 데이터 하나의 모양\n",
    "    - iris 4가지 features"
   ]
  },
  {
   "cell_type": "code",
   "execution_count": 4,
   "metadata": {},
   "outputs": [],
   "source": [
    "import pandas as pd\n",
    "from sklearn.datasets import load_iris\n",
    "data=load_iris()\n",
    "iris=pd.DataFrame(data.data, columns=data.feature_names)\n",
    "iris['target']=data.target"
   ]
  },
  {
   "cell_type": "code",
   "execution_count": 7,
   "metadata": {},
   "outputs": [],
   "source": [
    "model= tf.keras.models.Sequential([\n",
    "    tf.keras.layers.Dense( 6,input_shape=(4,) ,activation='relu') ,#6개 perceptron\n",
    "    tf.keras.layers.Dense(3)\n",
    "])"
   ]
  },
  {
   "cell_type": "code",
   "execution_count": 8,
   "metadata": {},
   "outputs": [
    {
     "name": "stdout",
     "output_type": "stream",
     "text": [
      "Model: \"sequential\"\n",
      "_________________________________________________________________\n",
      "Layer (type)                 Output Shape              Param #   \n",
      "=================================================================\n",
      "dense (Dense)                (None, 6)                 30        \n",
      "_________________________________________________________________\n",
      "dense_1 (Dense)              (None, 3)                 21        \n",
      "=================================================================\n",
      "Total params: 51\n",
      "Trainable params: 51\n",
      "Non-trainable params: 0\n",
      "_________________________________________________________________\n"
     ]
    }
   ],
   "source": [
    "model.summary() #None batch size 현재 미정"
   ]
  },
  {
   "cell_type": "code",
   "execution_count": 9,
   "metadata": {},
   "outputs": [
    {
     "data": {
      "text/plain": [
       "30"
      ]
     },
     "execution_count": 9,
     "metadata": {},
     "output_type": "execute_result"
    }
   ],
   "source": [
    "#W,b parameter 30 \n",
    "6*4+6"
   ]
  },
  {
   "cell_type": "markdown",
   "metadata": {},
   "source": [
    "### compile\n",
    "학습 전략\n",
    "- loss :실제와 예측값간의 차이를 함수로 표현\n",
    "> decision tree 의 cross entropy\n",
    "    - label encoding sparse_categorical_crossentropy\n",
    "    - one-hot encoding: categorical_crossentropy\n",
    "- optimizer : gradient descent 방식\n",
    "- metrics: 측정 지표"
   ]
  },
  {
   "cell_type": "code",
   "execution_count": 12,
   "metadata": {},
   "outputs": [
    {
     "data": {
      "text/plain": [
       "0      0\n",
       "1      0\n",
       "2      0\n",
       "3      0\n",
       "4      0\n",
       "      ..\n",
       "145    2\n",
       "146    2\n",
       "147    2\n",
       "148    2\n",
       "149    2\n",
       "Name: target, Length: 150, dtype: int64"
      ]
     },
     "execution_count": 12,
     "metadata": {},
     "output_type": "execute_result"
    }
   ],
   "source": [
    "iris.target"
   ]
  },
  {
   "cell_type": "code",
   "execution_count": 13,
   "metadata": {},
   "outputs": [],
   "source": [
    "model.compile(loss='sparse_categorical_crossentropy',\n",
    "             optimizer ='adam',\n",
    "             metrics =['accuracy'] )"
   ]
  },
  {
   "cell_type": "code",
   "execution_count": 14,
   "metadata": {},
   "outputs": [
    {
     "name": "stdout",
     "output_type": "stream",
     "text": [
      "Epoch 1/5\n",
      "5/5 [==============================] - 0s 4ms/step - loss: 1.3004 - accuracy: 0.3333\n",
      "Epoch 2/5\n",
      "5/5 [==============================] - 0s 8ms/step - loss: 1.2742 - accuracy: 0.3333\n",
      "Epoch 3/5\n",
      "5/5 [==============================] - 0s 3ms/step - loss: 1.2504 - accuracy: 0.3333\n",
      "Epoch 4/5\n",
      "5/5 [==============================] - 0s 3ms/step - loss: 1.2320 - accuracy: 0.3333\n",
      "Epoch 5/5\n",
      "5/5 [==============================] - 0s 5ms/step - loss: 1.2142 - accuracy: 0.3333\n"
     ]
    },
    {
     "data": {
      "text/plain": [
       "<tensorflow.python.keras.callbacks.History at 0x7fa5e362ab50>"
      ]
     },
     "execution_count": 14,
     "metadata": {},
     "output_type": "execute_result"
    }
   ],
   "source": [
    "model.fit(iris.iloc[:,:-1],iris.target, epochs=5)"
   ]
  },
  {
   "cell_type": "code",
   "execution_count": 15,
   "metadata": {},
   "outputs": [],
   "source": [
    "from sklearn.datasets import load_wine"
   ]
  },
  {
   "cell_type": "code",
   "execution_count": 28,
   "metadata": {},
   "outputs": [],
   "source": [
    "data=load_wine()\n",
    "wine=pd.DataFrame(data.data, columns=data.feature_names)\n",
    "wine['target']=data.target"
   ]
  },
  {
   "cell_type": "code",
   "execution_count": 31,
   "metadata": {},
   "outputs": [
    {
     "name": "stdout",
     "output_type": "stream",
     "text": [
      "<class 'pandas.core.frame.DataFrame'>\n",
      "RangeIndex: 178 entries, 0 to 177\n",
      "Data columns (total 14 columns):\n",
      " #   Column                        Non-Null Count  Dtype  \n",
      "---  ------                        --------------  -----  \n",
      " 0   alcohol                       178 non-null    float64\n",
      " 1   malic_acid                    178 non-null    float64\n",
      " 2   ash                           178 non-null    float64\n",
      " 3   alcalinity_of_ash             178 non-null    float64\n",
      " 4   magnesium                     178 non-null    float64\n",
      " 5   total_phenols                 178 non-null    float64\n",
      " 6   flavanoids                    178 non-null    float64\n",
      " 7   nonflavanoid_phenols          178 non-null    float64\n",
      " 8   proanthocyanins               178 non-null    float64\n",
      " 9   color_intensity               178 non-null    float64\n",
      " 10  hue                           178 non-null    float64\n",
      " 11  od280/od315_of_diluted_wines  178 non-null    float64\n",
      " 12  proline                       178 non-null    float64\n",
      " 13  target                        178 non-null    int64  \n",
      "dtypes: float64(13), int64(1)\n",
      "memory usage: 19.6 KB\n"
     ]
    }
   ],
   "source": [
    "wine.info()"
   ]
  },
  {
   "cell_type": "markdown",
   "metadata": {},
   "source": [
    "학습이 안 되었음"
   ]
  },
  {
   "cell_type": "code",
   "execution_count": 32,
   "metadata": {},
   "outputs": [],
   "source": [
    "model=tf.keras.models.Sequential([\n",
    "    tf.keras.layers.Dense(16,input_shape=(13,), activation='relu'),\n",
    "    tf.keras.layers.Dense(16, activation='relu'),\n",
    "    tf.keras.layers.Dense(3)\n",
    "])"
   ]
  },
  {
   "cell_type": "code",
   "execution_count": 33,
   "metadata": {},
   "outputs": [
    {
     "name": "stdout",
     "output_type": "stream",
     "text": [
      "Model: \"sequential_2\"\n",
      "_________________________________________________________________\n",
      "Layer (type)                 Output Shape              Param #   \n",
      "=================================================================\n",
      "dense_5 (Dense)              (None, 16)                224       \n",
      "_________________________________________________________________\n",
      "dense_6 (Dense)              (None, 16)                272       \n",
      "_________________________________________________________________\n",
      "dense_7 (Dense)              (None, 3)                 51        \n",
      "=================================================================\n",
      "Total params: 547\n",
      "Trainable params: 547\n",
      "Non-trainable params: 0\n",
      "_________________________________________________________________\n"
     ]
    }
   ],
   "source": [
    "model.summary()"
   ]
  },
  {
   "cell_type": "code",
   "execution_count": 34,
   "metadata": {},
   "outputs": [],
   "source": [
    "model.compile(loss='sparse_categorical_crossentropy',\n",
    "             optimizer='adam',\n",
    "             metrics=['acc'])"
   ]
  },
  {
   "cell_type": "code",
   "execution_count": 35,
   "metadata": {},
   "outputs": [
    {
     "name": "stdout",
     "output_type": "stream",
     "text": [
      "Epoch 1/6\n",
      "6/6 [==============================] - 0s 4ms/step - loss: 10.7756 - acc: 0.3315\n",
      "Epoch 2/6\n",
      "6/6 [==============================] - 0s 3ms/step - loss: 10.7756 - acc: 0.3315\n",
      "Epoch 3/6\n",
      "6/6 [==============================] - 0s 3ms/step - loss: 10.7756 - acc: 0.3315\n",
      "Epoch 4/6\n",
      "6/6 [==============================] - 0s 3ms/step - loss: 10.7756 - acc: 0.3315\n",
      "Epoch 5/6\n",
      "6/6 [==============================] - 0s 3ms/step - loss: 10.7756 - acc: 0.3315\n",
      "Epoch 6/6\n",
      "6/6 [==============================] - 0s 3ms/step - loss: 10.7756 - acc: 0.3315\n"
     ]
    },
    {
     "data": {
      "text/plain": [
       "<tensorflow.python.keras.callbacks.History at 0x7fa5e4d72510>"
      ]
     },
     "execution_count": 35,
     "metadata": {},
     "output_type": "execute_result"
    }
   ],
   "source": [
    "model.fit(wine.iloc[:,:-1],wine.target, epochs=6) #정확도 33%(무변) -학습 안 됨"
   ]
  },
  {
   "cell_type": "code",
   "execution_count": 36,
   "metadata": {},
   "outputs": [],
   "source": [
    "model=tf.keras.models.Sequential([\n",
    "    tf.keras.layers.Dense(16,input_shape=(13,), activation='relu'),\n",
    "    tf.keras.layers.Dense(16, activation='relu'),\n",
    "    tf.keras.layers.Dense(3,'softmax') #마지막 레이어에 함수 \n",
    "])"
   ]
  },
  {
   "cell_type": "code",
   "execution_count": 37,
   "metadata": {},
   "outputs": [
    {
     "name": "stdout",
     "output_type": "stream",
     "text": [
      "Epoch 1/6\n",
      "6/6 [==============================] - 0s 3ms/step - loss: 5.2162 - acc: 0.3483\n",
      "Epoch 2/6\n",
      "6/6 [==============================] - 0s 2ms/step - loss: 2.3983 - acc: 0.3315\n",
      "Epoch 3/6\n",
      "6/6 [==============================] - 0s 3ms/step - loss: 1.6596 - acc: 0.3090\n",
      "Epoch 4/6\n",
      "6/6 [==============================] - 0s 5ms/step - loss: 1.1834 - acc: 0.3427\n",
      "Epoch 5/6\n",
      "6/6 [==============================] - 0s 2ms/step - loss: 1.1301 - acc: 0.3539\n",
      "Epoch 6/6\n",
      "6/6 [==============================] - 0s 4ms/step - loss: 1.1372 - acc: 0.3933\n"
     ]
    },
    {
     "data": {
      "text/plain": [
       "<tensorflow.python.keras.callbacks.History at 0x7fa5e4d79450>"
      ]
     },
     "execution_count": 37,
     "metadata": {},
     "output_type": "execute_result"
    }
   ],
   "source": [
    "model.compile(loss='sparse_categorical_crossentropy',\n",
    "             optimizer='adam',\n",
    "             metrics=['acc'])\n",
    "model.fit(wine.iloc[:,:-1],wine.target, epochs=6)  #loss줄어들고 있음 "
   ]
  },
  {
   "cell_type": "code",
   "execution_count": 38,
   "metadata": {},
   "outputs": [
    {
     "name": "stdout",
     "output_type": "stream",
     "text": [
      "Epoch 1/10\n",
      "6/6 [==============================] - 0s 2ms/step - loss: 1.0967 - acc: 0.4101\n",
      "Epoch 2/10\n",
      "6/6 [==============================] - 0s 4ms/step - loss: 1.0372 - acc: 0.4382\n",
      "Epoch 3/10\n",
      "6/6 [==============================] - 0s 3ms/step - loss: 1.0311 - acc: 0.5112\n",
      "Epoch 4/10\n",
      "6/6 [==============================] - 0s 3ms/step - loss: 1.0327 - acc: 0.5337\n",
      "Epoch 5/10\n",
      "6/6 [==============================] - 0s 3ms/step - loss: 1.0173 - acc: 0.5281\n",
      "Epoch 6/10\n",
      "6/6 [==============================] - 0s 3ms/step - loss: 1.0133 - acc: 0.5000\n",
      "Epoch 7/10\n",
      "6/6 [==============================] - 0s 2ms/step - loss: 1.0016 - acc: 0.5000\n",
      "Epoch 8/10\n",
      "6/6 [==============================] - 0s 3ms/step - loss: 1.0007 - acc: 0.5112\n",
      "Epoch 9/10\n",
      "6/6 [==============================] - 0s 3ms/step - loss: 0.9900 - acc: 0.5169\n",
      "Epoch 10/10\n",
      "6/6 [==============================] - 0s 2ms/step - loss: 0.9910 - acc: 0.5674\n"
     ]
    },
    {
     "data": {
      "text/plain": [
       "<tensorflow.python.keras.callbacks.History at 0x7fa5e3c81310>"
      ]
     },
     "execution_count": 38,
     "metadata": {},
     "output_type": "execute_result"
    }
   ],
   "source": [
    "model.fit(wine.iloc[:,:-1],wine.target, epochs=10)  #loss줄어들고 정확도 증가"
   ]
  },
  {
   "cell_type": "markdown",
   "metadata": {},
   "source": [
    "### activaiton function "
   ]
  },
  {
   "cell_type": "markdown",
   "metadata": {},
   "source": [
    "##### sigmoid\n",
    "- 항상 양의 값\n",
    "- 층이 깊어질수록 0 가까운 값이 전달되는 gradient vanishing 발생 ,underfitting \n",
    "\n",
    "##### tanh\n",
    "- hyperbolic tangent\n",
    "- sigmoid와 비슷한 형태로 음의 값도 갖음\n",
    "\n",
    "##### relu\n",
    "- Rectified Linear Unit\n",
    "- 0보다 크면 값 그대로, 작으면 0\n",
    "- 레이어가 깊어도 학습 가능해짐\n",
    "\n",
    "##### softmax\n",
    "- 각각의 값을 확률로 바꾸어 (0~1사이 값, 모든 합은 1 ) 비교가 쉬움"
   ]
  },
  {
   "cell_type": "code",
   "execution_count": 39,
   "metadata": {},
   "outputs": [
    {
     "name": "stdout",
     "output_type": "stream",
     "text": [
      "Epoch 1/6\n",
      "6/6 [==============================] - 0s 2ms/step - loss: 1.2047 - acc: 0.3315\n",
      "Epoch 2/6\n",
      "6/6 [==============================] - 0s 3ms/step - loss: 1.1603 - acc: 0.3315\n",
      "Epoch 3/6\n",
      "6/6 [==============================] - 0s 2ms/step - loss: 1.1298 - acc: 0.3315\n",
      "Epoch 4/6\n",
      "6/6 [==============================] - 0s 3ms/step - loss: 1.1077 - acc: 0.3315\n",
      "Epoch 5/6\n",
      "6/6 [==============================] - 0s 2ms/step - loss: 1.0887 - acc: 0.3764\n",
      "Epoch 6/6\n",
      "6/6 [==============================] - 0s 3ms/step - loss: 1.0745 - acc: 0.6573\n"
     ]
    },
    {
     "data": {
      "text/plain": [
       "<tensorflow.python.keras.callbacks.History at 0x7fa5e5375910>"
      ]
     },
     "execution_count": 39,
     "metadata": {},
     "output_type": "execute_result"
    }
   ],
   "source": [
    "model=tf.keras.models.Sequential([\n",
    "    tf.keras.layers.Dense(16,input_shape=(13,), activation='sigmoid'),\n",
    "    tf.keras.layers.Dense(16, activation='sigmoid'),\n",
    "    tf.keras.layers.Dense(3,'softmax') #마지막 레이어에 함수 \n",
    "])\n",
    "model.compile(loss='sparse_categorical_crossentropy',\n",
    "             optimizer='adam',\n",
    "             metrics=['acc'])\n",
    "model.fit(wine.iloc[:,:-1],wine.target, epochs=6)  #loss줄어들고 있음 "
   ]
  },
  {
   "cell_type": "markdown",
   "metadata": {},
   "source": [
    "##### cross entropy \n",
    "-  $- \\sum y log p$\n",
    "- 각 클래스의 차이를 구하기 위해 확률적 개념 도입\n",
    "\n",
    "\n",
    "### Regression\n",
    "- output layer node 1개\n",
    "- loss MSE(mean squared error) 실제값과 예측값 차이의 제곱의 평균"
   ]
  },
  {
   "cell_type": "code",
   "execution_count": 41,
   "metadata": {},
   "outputs": [],
   "source": [
    "model=tf.keras.models.Sequential([\n",
    "    tf.keras.layers.Dense(16,input_shape=(13,), activation='relu'),\n",
    "    tf.keras.layers.Dense(16, activation='relu'),\n",
    "    tf.keras.layers.Dense(1) \n",
    "])\n",
    "model.compile(loss='mse',\n",
    "             optimizer='adam',\n",
    "             metrics=['acc'])"
   ]
  }
 ],
 "metadata": {
  "kernelspec": {
   "display_name": "Python 3",
   "language": "python",
   "name": "python3"
  },
  "language_info": {
   "codemirror_mode": {
    "name": "ipython",
    "version": 3
   },
   "file_extension": ".py",
   "mimetype": "text/x-python",
   "name": "python",
   "nbconvert_exporter": "python",
   "pygments_lexer": "ipython3",
   "version": "3.7.6"
  }
 },
 "nbformat": 4,
 "nbformat_minor": 4
}
