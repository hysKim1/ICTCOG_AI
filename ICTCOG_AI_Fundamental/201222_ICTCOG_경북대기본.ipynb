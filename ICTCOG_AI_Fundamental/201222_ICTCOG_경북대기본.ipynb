{
 "cells": [
  {
   "cell_type": "markdown",
   "metadata": {},
   "source": [
    "# [ICTCOG] 4기 경북대 기본반\n",
    "\n",
    "## 딥러닝 (5)\n",
    "\n",
    "### Overfitting\n",
    "\n",
    "참고: https://www.tensorflow.org/tutorials/keras/overfit_and_underfit?hl=ko"
   ]
  },
  {
   "cell_type": "code",
   "execution_count": 1,
   "metadata": {},
   "outputs": [],
   "source": [
    "from sklearn.datasets import load_digits"
   ]
  },
  {
   "cell_type": "code",
   "execution_count": 2,
   "metadata": {},
   "outputs": [],
   "source": [
    "data=load_digits()"
   ]
  },
  {
   "cell_type": "code",
   "execution_count": 3,
   "metadata": {},
   "outputs": [
    {
     "data": {
      "text/plain": [
       "['DESCR', 'data', 'feature_names', 'frame', 'images', 'target', 'target_names']"
      ]
     },
     "execution_count": 3,
     "metadata": {},
     "output_type": "execute_result"
    }
   ],
   "source": [
    "dir(data)"
   ]
  },
  {
   "cell_type": "code",
   "execution_count": 4,
   "metadata": {},
   "outputs": [
    {
     "data": {
      "text/plain": [
       "(1797, 8, 8)"
      ]
     },
     "execution_count": 4,
     "metadata": {},
     "output_type": "execute_result"
    }
   ],
   "source": [
    "data.images.shape"
   ]
  },
  {
   "cell_type": "code",
   "execution_count": 5,
   "metadata": {},
   "outputs": [],
   "source": [
    "import matplotlib.pyplot as plt"
   ]
  },
  {
   "cell_type": "code",
   "execution_count": 9,
   "metadata": {},
   "outputs": [
    {
     "data": {
      "text/plain": [
       "<matplotlib.image.AxesImage at 0x7fbe9b258350>"
      ]
     },
     "execution_count": 9,
     "metadata": {},
     "output_type": "execute_result"
    },
    {
     "data": {
      "image/png": "[encoded data removed]",
      "text/plain": [
       "<Figure size 432x288 with 1 Axes>"
      ]
     },
     "metadata": {
      "needs_background": "light"
     },
     "output_type": "display_data"
    }
   ],
   "source": [
    "plt.imshow(data.images[0],cmap='gray')"
   ]
  },
  {
   "cell_type": "markdown",
   "metadata": {},
   "source": [
    "- pandas에 넣는것은 의미가 없음\n",
    "- 이미지는 비정형 데이터\n",
    "     순서"
   ]
  },
  {
   "cell_type": "code",
   "execution_count": 11,
   "metadata": {},
   "outputs": [
    {
     "data": {
      "text/plain": [
       "(1797, 64)"
      ]
     },
     "execution_count": 11,
     "metadata": {},
     "output_type": "execute_result"
    }
   ],
   "source": [
    "data.images.reshape(-1,8*8).shape"
   ]
  },
  {
   "cell_type": "code",
   "execution_count": 13,
   "metadata": {},
   "outputs": [
    {
     "data": {
      "text/plain": [
       "array([[ 0.,  0.,  5., ...,  0.,  0.,  0.],\n",
       "       [ 0.,  0.,  0., ..., 10.,  0.,  0.],\n",
       "       [ 0.,  0.,  0., ..., 16.,  9.,  0.],\n",
       "       ...,\n",
       "       [ 0.,  0.,  1., ...,  6.,  0.,  0.],\n",
       "       [ 0.,  0.,  2., ..., 12.,  0.,  0.],\n",
       "       [ 0.,  0., 10., ..., 12.,  1.,  0.]])"
      ]
     },
     "execution_count": 13,
     "metadata": {},
     "output_type": "execute_result"
    }
   ],
   "source": [
    "digit=data.images.reshape(-1,8*8)\n",
    "digit"
   ]
  },
  {
   "cell_type": "code",
   "execution_count": 14,
   "metadata": {},
   "outputs": [],
   "source": [
    "from sklearn.model_selection import train_test_split"
   ]
  },
  {
   "cell_type": "code",
   "execution_count": 69,
   "metadata": {},
   "outputs": [],
   "source": [
    "X_train,X_test, y_train,y_test = train_test_split(digit, data.target)"
   ]
  },
  {
   "cell_type": "code",
   "execution_count": 16,
   "metadata": {},
   "outputs": [],
   "source": [
    "import tensorflow as tf"
   ]
  },
  {
   "cell_type": "code",
   "execution_count": 27,
   "metadata": {},
   "outputs": [],
   "source": [
    "model=tf.keras.models.Sequential([\n",
    "    tf.keras.layers.Dense(16, input_shape=(64,),activation='relu'),\n",
    "    tf.keras.layers.Dense(16, activation='relu'),\n",
    "    tf.keras.layers.Dense(10, activation='softmax')\n",
    "])"
   ]
  },
  {
   "cell_type": "code",
   "execution_count": 17,
   "metadata": {},
   "outputs": [],
   "source": [
    "import numpy as np"
   ]
  },
  {
   "cell_type": "code",
   "execution_count": 19,
   "metadata": {},
   "outputs": [
    {
     "data": {
      "text/plain": [
       "(array([0, 1, 2, 3, 4, 5, 6, 7, 8, 9]),\n",
       " array([132, 133, 133, 139, 132, 138, 137, 141, 133, 129]))"
      ]
     },
     "execution_count": 19,
     "metadata": {},
     "output_type": "execute_result"
    }
   ],
   "source": [
    "np.unique(y_train, return_counts=True) #balanced dataset"
   ]
  },
  {
   "cell_type": "markdown",
   "metadata": {},
   "source": [
    "stratification "
   ]
  },
  {
   "cell_type": "code",
   "execution_count": 20,
   "metadata": {},
   "outputs": [],
   "source": [
    "import mglearn"
   ]
  },
  {
   "cell_type": "code",
   "execution_count": 21,
   "metadata": {},
   "outputs": [
    {
     "data": {
      "image/png": "[encoded data removed]",
      "text/plain": [
       "<Figure size 864x360 with 2 Axes>"
      ]
     },
     "metadata": {
      "needs_background": "light"
     },
     "output_type": "display_data"
    }
   ],
   "source": [
    "mglearn.plot_cross_validation.plot_stratified_cross_validation()"
   ]
  },
  {
   "cell_type": "code",
   "execution_count": 22,
   "metadata": {},
   "outputs": [],
   "source": [
    "from tensorflow.keras.utils import plot_model"
   ]
  },
  {
   "cell_type": "code",
   "execution_count": 28,
   "metadata": {},
   "outputs": [
    {
     "data": {
      "image/png": "[encoded data removed]",
      "text/plain": [
       "<IPython.core.display.Image object>"
      ]
     },
     "execution_count": 28,
     "metadata": {},
     "output_type": "execute_result"
    }
   ],
   "source": [
    "plot_model(model) "
   ]
  },
  {
   "cell_type": "code",
   "execution_count": 38,
   "metadata": {},
   "outputs": [],
   "source": [
    "model=tf.keras.models.Sequential([\n",
    "    tf.keras.layers.Dense(16, input_shape=(64,),activation='relu',\n",
    "                         name='Start'),\n",
    "    tf.keras.layers.Dense(16, activation='relu'),\n",
    "    tf.keras.layers.Dense(10, activation='softmax')\n",
    "\n",
    "    \n",
    "], name='classification_model')"
   ]
  },
  {
   "cell_type": "code",
   "execution_count": 39,
   "metadata": {},
   "outputs": [
    {
     "data": {
      "image/png": "[encoded data removed]",
      "text/plain": [
       "<IPython.core.display.Image object>"
      ]
     },
     "execution_count": 39,
     "metadata": {},
     "output_type": "execute_result"
    }
   ],
   "source": [
    "plot_model(model) "
   ]
  },
  {
   "cell_type": "code",
   "execution_count": 40,
   "metadata": {},
   "outputs": [
    {
     "name": "stdout",
     "output_type": "stream",
     "text": [
      "Model: \"classification_model\"\n",
      "_________________________________________________________________\n",
      "Layer (type)                 Output Shape              Param #   \n",
      "=================================================================\n",
      "Start (Dense)                (None, 16)                1040      \n",
      "_________________________________________________________________\n",
      "dense_13 (Dense)             (None, 16)                272       \n",
      "_________________________________________________________________\n",
      "dense_14 (Dense)             (None, 10)                170       \n",
      "=================================================================\n",
      "Total params: 1,482\n",
      "Trainable params: 1,482\n",
      "Non-trainable params: 0\n",
      "_________________________________________________________________\n"
     ]
    }
   ],
   "source": [
    "model.summary()"
   ]
  },
  {
   "cell_type": "code",
   "execution_count": null,
   "metadata": {},
   "outputs": [],
   "source": [
    "model.compile(loss=tf.keras.losses.sparse_categorical_crossentropy)"
   ]
  },
  {
   "cell_type": "markdown",
   "metadata": {},
   "source": [
    "### one-hot encoding\n",
    "- to_categorical"
   ]
  },
  {
   "cell_type": "code",
   "execution_count": 70,
   "metadata": {},
   "outputs": [],
   "source": [
    "y_train=tf.keras.utils.to_categorical(y_train) \n",
    "y_train#\n",
    "y_test=tf.keras.utils.to_categorical(y_test) "
   ]
  },
  {
   "cell_type": "markdown",
   "metadata": {},
   "source": [
    "- string, function , class 섞어 씀\n",
    "- 정확도 acc, accuracy"
   ]
  },
  {
   "cell_type": "code",
   "execution_count": 47,
   "metadata": {},
   "outputs": [],
   "source": [
    "model.compile(loss=tf.keras.losses.categorical_crossentropy,\n",
    "             optimizer='adam',\n",
    "             metrics=['acc'])"
   ]
  },
  {
   "cell_type": "markdown",
   "metadata": {},
   "source": [
    "정확도 0"
   ]
  },
  {
   "cell_type": "code",
   "execution_count": 48,
   "metadata": {},
   "outputs": [
    {
     "name": "stdout",
     "output_type": "stream",
     "text": [
      "Epoch 1/10\n",
      "43/43 [==============================] - 0s 2ms/step - loss: 0.3337 - acc: 0.9117\n",
      "Epoch 2/10\n",
      "43/43 [==============================] - 0s 2ms/step - loss: 0.2897 - acc: 0.9169\n",
      "Epoch 3/10\n",
      "43/43 [==============================] - 0s 2ms/step - loss: 0.2536 - acc: 0.9310\n",
      "Epoch 4/10\n",
      "43/43 [==============================] - 0s 2ms/step - loss: 0.2349 - acc: 0.9310\n",
      "Epoch 5/10\n",
      "43/43 [==============================] - 0s 2ms/step - loss: 0.2188 - acc: 0.9414\n",
      "Epoch 6/10\n",
      "43/43 [==============================] - 0s 2ms/step - loss: 0.1949 - acc: 0.9436\n",
      "Epoch 7/10\n",
      "43/43 [==============================] - 0s 2ms/step - loss: 0.1758 - acc: 0.9495\n",
      "Epoch 8/10\n",
      "43/43 [==============================] - 0s 2ms/step - loss: 0.1712 - acc: 0.9495\n",
      "Epoch 9/10\n",
      "43/43 [==============================] - 0s 2ms/step - loss: 0.1522 - acc: 0.9599\n",
      "Epoch 10/10\n",
      "43/43 [==============================] - 0s 2ms/step - loss: 0.1408 - acc: 0.9614\n"
     ]
    },
    {
     "data": {
      "text/plain": [
       "<tensorflow.python.keras.callbacks.History at 0x7fbe85ffebd0>"
      ]
     },
     "execution_count": 48,
     "metadata": {},
     "output_type": "execute_result"
    }
   ],
   "source": [
    "model.fit(X_train,y_train, epochs=10)"
   ]
  },
  {
   "cell_type": "markdown",
   "metadata": {},
   "source": [
    "- callbacks `out[]: <tensorflow.python.keras.callbacks.History at 0x7fbe85ffeb0>`\n",
    "\n"
   ]
  },
  {
   "cell_type": "code",
   "execution_count": 49,
   "metadata": {},
   "outputs": [
    {
     "data": {
      "text/plain": [
       "0.30000000000000004"
      ]
     },
     "execution_count": 49,
     "metadata": {},
     "output_type": "execute_result"
    }
   ],
   "source": [
    "0.1+0.1+0.1 #부동소수점이 너무 작으면 정확이 못함"
   ]
  },
  {
   "cell_type": "code",
   "execution_count": 51,
   "metadata": {},
   "outputs": [
    {
     "name": "stdout",
     "output_type": "stream",
     "text": [
      "Epoch 1/10\n",
      "43/43 [==============================] - 0s 2ms/step - loss: 0.1297 - acc: 0.9651\n",
      "Epoch 2/10\n",
      "43/43 [==============================] - 0s 2ms/step - loss: 0.1219 - acc: 0.9673\n",
      "Epoch 3/10\n",
      "43/43 [==============================] - 0s 2ms/step - loss: 0.1124 - acc: 0.9703\n",
      "Epoch 4/10\n",
      "43/43 [==============================] - 0s 3ms/step - loss: 0.1048 - acc: 0.9718\n",
      "Epoch 5/10\n",
      "43/43 [==============================] - 0s 3ms/step - loss: 0.1053 - acc: 0.9703\n",
      "Epoch 6/10\n",
      "43/43 [==============================] - 0s 3ms/step - loss: 0.0925 - acc: 0.9733\n",
      "Epoch 7/10\n",
      "43/43 [==============================] - 0s 3ms/step - loss: 0.0857 - acc: 0.9755\n",
      "Epoch 8/10\n",
      "43/43 [==============================] - 0s 2ms/step - loss: 0.0814 - acc: 0.9777\n",
      "Epoch 9/10\n",
      "43/43 [==============================] - 0s 3ms/step - loss: 0.0778 - acc: 0.9800\n",
      "Epoch 10/10\n",
      "43/43 [==============================] - 0s 3ms/step - loss: 0.0715 - acc: 0.9852\n"
     ]
    }
   ],
   "source": [
    "output=model.fit(X_train,y_train, epochs=10)"
   ]
  },
  {
   "cell_type": "code",
   "execution_count": 52,
   "metadata": {},
   "outputs": [
    {
     "data": {
      "text/plain": [
       "['__class__',\n",
       " '__delattr__',\n",
       " '__dict__',\n",
       " '__dir__',\n",
       " '__doc__',\n",
       " '__eq__',\n",
       " '__format__',\n",
       " '__ge__',\n",
       " '__getattribute__',\n",
       " '__gt__',\n",
       " '__hash__',\n",
       " '__init__',\n",
       " '__init_subclass__',\n",
       " '__le__',\n",
       " '__lt__',\n",
       " '__module__',\n",
       " '__ne__',\n",
       " '__new__',\n",
       " '__reduce__',\n",
       " '__reduce_ex__',\n",
       " '__repr__',\n",
       " '__setattr__',\n",
       " '__sizeof__',\n",
       " '__str__',\n",
       " '__subclasshook__',\n",
       " '__weakref__',\n",
       " '_chief_worker_only',\n",
       " '_implements_predict_batch_hooks',\n",
       " '_implements_test_batch_hooks',\n",
       " '_implements_train_batch_hooks',\n",
       " '_keras_api_names',\n",
       " '_keras_api_names_v1',\n",
       " '_supports_tf_logs',\n",
       " 'epoch',\n",
       " 'history',\n",
       " 'model',\n",
       " 'on_batch_begin',\n",
       " 'on_batch_end',\n",
       " 'on_epoch_begin',\n",
       " 'on_epoch_end',\n",
       " 'on_predict_batch_begin',\n",
       " 'on_predict_batch_end',\n",
       " 'on_predict_begin',\n",
       " 'on_predict_end',\n",
       " 'on_test_batch_begin',\n",
       " 'on_test_batch_end',\n",
       " 'on_test_begin',\n",
       " 'on_test_end',\n",
       " 'on_train_batch_begin',\n",
       " 'on_train_batch_end',\n",
       " 'on_train_begin',\n",
       " 'on_train_end',\n",
       " 'params',\n",
       " 'set_model',\n",
       " 'set_params',\n",
       " 'validation_data']"
      ]
     },
     "execution_count": 52,
     "metadata": {},
     "output_type": "execute_result"
    }
   ],
   "source": [
    "dir(output)"
   ]
  },
  {
   "cell_type": "markdown",
   "metadata": {},
   "source": [
    "history \n",
    "- loss 기본, metrics에 지정된 기준 포함\n",
    "- loss,acc 값 저장됨"
   ]
  },
  {
   "cell_type": "code",
   "execution_count": 53,
   "metadata": {},
   "outputs": [
    {
     "data": {
      "text/plain": [
       "{'loss': [0.12974093854427338,\n",
       "  0.12189016491174698,\n",
       "  0.11242817342281342,\n",
       "  0.10480349510908127,\n",
       "  0.1053435206413269,\n",
       "  0.09251584857702255,\n",
       "  0.08569823950529099,\n",
       "  0.08144153654575348,\n",
       "  0.07775504142045975,\n",
       "  0.07153461873531342],\n",
       " 'acc': [0.9651076197624207,\n",
       "  0.9673348069190979,\n",
       "  0.9703043699264526,\n",
       "  0.9717891812324524,\n",
       "  0.9703043699264526,\n",
       "  0.9732739329338074,\n",
       "  0.9755011200904846,\n",
       "  0.9777283072471619,\n",
       "  0.9799554347991943,\n",
       "  0.9851521849632263]}"
      ]
     },
     "execution_count": 53,
     "metadata": {},
     "output_type": "execute_result"
    }
   ],
   "source": [
    "output.history "
   ]
  },
  {
   "cell_type": "markdown",
   "metadata": {},
   "source": [
    "누적 학습되어서 정확도 1에 가까워짐"
   ]
  },
  {
   "cell_type": "code",
   "execution_count": 55,
   "metadata": {},
   "outputs": [
    {
     "name": "stdout",
     "output_type": "stream",
     "text": [
      "Epoch 1/10\n",
      "43/43 [==============================] - 0s 2ms/step - loss: 0.0716 - acc: 0.9792 - precision_3: 0.9850\n",
      "Epoch 2/10\n",
      "43/43 [==============================] - 0s 2ms/step - loss: 0.0646 - acc: 0.9837 - precision_3: 0.9888\n",
      "Epoch 3/10\n",
      "43/43 [==============================] - 0s 2ms/step - loss: 0.0606 - acc: 0.9814 - precision_3: 0.9851\n",
      "Epoch 4/10\n",
      "43/43 [==============================] - 0s 3ms/step - loss: 0.0552 - acc: 0.9866 - precision_3: 0.9888\n",
      "Epoch 5/10\n",
      "43/43 [==============================] - 0s 3ms/step - loss: 0.0536 - acc: 0.9859 - precision_3: 0.9895\n",
      "Epoch 6/10\n",
      "43/43 [==============================] - 0s 3ms/step - loss: 0.0481 - acc: 0.9866 - precision_3: 0.9903\n",
      "Epoch 7/10\n",
      "43/43 [==============================] - 0s 3ms/step - loss: 0.0437 - acc: 0.9874 - precision_3: 0.9888\n",
      "Epoch 8/10\n",
      "43/43 [==============================] - 0s 3ms/step - loss: 0.0475 - acc: 0.9837 - precision_3: 0.9873\n",
      "Epoch 9/10\n",
      "43/43 [==============================] - 0s 3ms/step - loss: 0.0364 - acc: 0.9903 - precision_3: 0.9925\n",
      "Epoch 10/10\n",
      "43/43 [==============================] - 0s 4ms/step - loss: 0.0309 - acc: 0.9941 - precision_3: 0.9955\n"
     ]
    }
   ],
   "source": [
    "model.compile(loss=tf.keras.losses.categorical_crossentropy,\n",
    "             optimizer='adam',\n",
    "             metrics=['acc', tf.keras.metrics.Precision()])\n",
    "\n",
    "output=model.fit(X_train,y_train, epochs=10)"
   ]
  },
  {
   "cell_type": "code",
   "execution_count": 56,
   "metadata": {},
   "outputs": [
    {
     "data": {
      "text/plain": [
       "{'loss': [0.0715562030673027,\n",
       "  0.06463948637247086,\n",
       "  0.060552000999450684,\n",
       "  0.055181145668029785,\n",
       "  0.05364129692316055,\n",
       "  0.048117849975824356,\n",
       "  0.04367369785904884,\n",
       "  0.047528788447380066,\n",
       "  0.036354247480630875,\n",
       "  0.03088371455669403],\n",
       " 'acc': [0.9792130589485168,\n",
       "  0.9836674332618713,\n",
       "  0.9814402461051941,\n",
       "  0.9866369962692261,\n",
       "  0.9858945608139038,\n",
       "  0.9866369962692261,\n",
       "  0.9873793721199036,\n",
       "  0.9836674332618713,\n",
       "  0.9903489351272583,\n",
       "  0.9940608739852905],\n",
       " 'precision_3': [0.985029935836792,\n",
       "  0.9887808561325073,\n",
       "  0.9850746393203735,\n",
       "  0.9888226389884949,\n",
       "  0.9895287752151489,\n",
       "  0.9902985095977783,\n",
       "  0.9888392686843872,\n",
       "  0.9872944951057434,\n",
       "  0.992548406124115,\n",
       "  0.995529055595398]}"
      ]
     },
     "execution_count": 56,
     "metadata": {},
     "output_type": "execute_result"
    }
   ],
   "source": [
    "output.history"
   ]
  },
  {
   "cell_type": "markdown",
   "metadata": {},
   "source": [
    "### overfitting\n",
    "- epoch을 많이 돌리는 경우"
   ]
  },
  {
   "cell_type": "code",
   "execution_count": 57,
   "metadata": {
    "collapsed": true
   },
   "outputs": [
    {
     "name": "stdout",
     "output_type": "stream",
     "text": [
      "Epoch 1/10\n",
      "43/43 [==============================] - 0s 2ms/step - loss: 0.0304 - acc: 0.9918 - precision_3: 0.9955\n",
      "Epoch 2/10\n",
      "43/43 [==============================] - 0s 2ms/step - loss: 0.0251 - acc: 0.9955 - precision_3: 0.9970\n",
      "Epoch 3/10\n",
      "43/43 [==============================] - 0s 2ms/step - loss: 0.0239 - acc: 0.9963 - precision_3: 0.9970\n",
      "Epoch 4/10\n",
      "43/43 [==============================] - 0s 2ms/step - loss: 0.0236 - acc: 0.9963 - precision_3: 0.9978\n",
      "Epoch 5/10\n",
      "43/43 [==============================] - 0s 3ms/step - loss: 0.0210 - acc: 0.9955 - precision_3: 0.9955\n",
      "Epoch 6/10\n",
      "43/43 [==============================] - 0s 2ms/step - loss: 0.0176 - acc: 0.9978 - precision_3: 0.9978\n",
      "Epoch 7/10\n",
      "43/43 [==============================] - 0s 2ms/step - loss: 0.0153 - acc: 0.9993 - precision_3: 0.9993\n",
      "Epoch 8/10\n",
      "43/43 [==============================] - 0s 2ms/step - loss: 0.0151 - acc: 0.9978 - precision_3: 0.9985\n",
      "Epoch 9/10\n",
      "43/43 [==============================] - 0s 2ms/step - loss: 0.0138 - acc: 0.9985 - precision_3: 0.9985\n",
      "Epoch 10/10\n",
      "43/43 [==============================] - 0s 2ms/step - loss: 0.0127 - acc: 0.9985 - precision_3: 0.9993\n"
     ]
    }
   ],
   "source": [
    "output=model.fit(X_train,y_train, epochs=10)"
   ]
  },
  {
   "cell_type": "markdown",
   "metadata": {},
   "source": [
    "긱 레이어, 모델에 이름 지정 가능"
   ]
  },
  {
   "cell_type": "code",
   "execution_count": 62,
   "metadata": {
    "collapsed": true
   },
   "outputs": [
    {
     "name": "stdout",
     "output_type": "stream",
     "text": [
      "Epoch 1/10\n",
      "43/43 [==============================] - 0s 4ms/step - loss: 6.2348 - acc: 0.1121\n",
      "Epoch 2/10\n",
      "43/43 [==============================] - 0s 2ms/step - loss: 2.4312 - acc: 0.1908\n",
      "Epoch 3/10\n",
      "43/43 [==============================] - 0s 2ms/step - loss: 1.9841 - acc: 0.3289\n",
      "Epoch 4/10\n",
      "43/43 [==============================] - 0s 3ms/step - loss: 1.7447 - acc: 0.4439\n",
      "Epoch 5/10\n",
      "43/43 [==============================] - 0s 2ms/step - loss: 1.4617 - acc: 0.5286\n",
      "Epoch 6/10\n",
      "43/43 [==============================] - 0s 2ms/step - loss: 1.2298 - acc: 0.6028\n",
      "Epoch 7/10\n",
      "43/43 [==============================] - 0s 2ms/step - loss: 1.0167 - acc: 0.6711\n",
      "Epoch 8/10\n",
      "43/43 [==============================] - 0s 2ms/step - loss: 0.8489 - acc: 0.7246\n",
      "Epoch 9/10\n",
      "43/43 [==============================] - 0s 2ms/step - loss: 0.6978 - acc: 0.7721\n",
      "Epoch 10/10\n",
      "43/43 [==============================] - 0s 2ms/step - loss: 0.5499 - acc: 0.8285\n"
     ]
    }
   ],
   "source": [
    "def build_model():\n",
    "    model=tf.keras.models.Sequential([\n",
    "    tf.keras.layers.Dense(16, input_shape=(64,),activation='relu',\n",
    "                         name='Start'),\n",
    "    tf.keras.layers.Dense(16, activation='relu'),\n",
    "    tf.keras.layers.Dense(10, activation='softmax')\n",
    "], name='classification_model')\n",
    "    model.compile(loss=tf.keras.losses.categorical_crossentropy,\n",
    "             optimizer='adam',\n",
    "             metrics=['acc'])\n",
    "    return model\n",
    "model=build_model()\n",
    "output=model.fit(X_train,y_train, epochs=10)"
   ]
  },
  {
   "cell_type": "code",
   "execution_count": 63,
   "metadata": {
    "scrolled": false
   },
   "outputs": [
    {
     "data": {
      "text/plain": [
       "{'loss': [6.234816551208496,\n",
       "  2.4312238693237305,\n",
       "  1.9841344356536865,\n",
       "  1.7446550130844116,\n",
       "  1.4616918563842773,\n",
       "  1.2298015356063843,\n",
       "  1.0166774988174438,\n",
       "  0.8489134907722473,\n",
       "  0.6978368759155273,\n",
       "  0.5498645305633545],\n",
       " 'acc': [0.11210096627473831,\n",
       "  0.19079436361789703,\n",
       "  0.3288789987564087,\n",
       "  0.44394952058792114,\n",
       "  0.5285820364952087,\n",
       "  0.6028211116790771,\n",
       "  0.6711210012435913,\n",
       "  0.7245731353759766,\n",
       "  0.7720861434936523,\n",
       "  0.8285077810287476]}"
      ]
     },
     "execution_count": 63,
     "metadata": {},
     "output_type": "execute_result"
    }
   ],
   "source": [
    "output.history"
   ]
  },
  {
   "cell_type": "code",
   "execution_count": 64,
   "metadata": {},
   "outputs": [
    {
     "data": {
      "text/html": [
       "<div>\n",
       "<style scoped>\n",
       "    .dataframe tbody tr th:only-of-type {\n",
       "        vertical-align: middle;\n",
       "    }\n",
       "\n",
       "    .dataframe tbody tr th {\n",
       "        vertical-align: top;\n",
       "    }\n",
       "\n",
       "    .dataframe thead th {\n",
       "        text-align: right;\n",
       "    }\n",
       "</style>\n",
       "<table border=\"1\" class=\"dataframe\">\n",
       "  <thead>\n",
       "    <tr style=\"text-align: right;\">\n",
       "      <th></th>\n",
       "      <th>loss</th>\n",
       "      <th>acc</th>\n",
       "    </tr>\n",
       "  </thead>\n",
       "  <tbody>\n",
       "    <tr>\n",
       "      <th>0</th>\n",
       "      <td>6.234817</td>\n",
       "      <td>0.112101</td>\n",
       "    </tr>\n",
       "    <tr>\n",
       "      <th>1</th>\n",
       "      <td>2.431224</td>\n",
       "      <td>0.190794</td>\n",
       "    </tr>\n",
       "    <tr>\n",
       "      <th>2</th>\n",
       "      <td>1.984134</td>\n",
       "      <td>0.328879</td>\n",
       "    </tr>\n",
       "    <tr>\n",
       "      <th>3</th>\n",
       "      <td>1.744655</td>\n",
       "      <td>0.443950</td>\n",
       "    </tr>\n",
       "    <tr>\n",
       "      <th>4</th>\n",
       "      <td>1.461692</td>\n",
       "      <td>0.528582</td>\n",
       "    </tr>\n",
       "    <tr>\n",
       "      <th>5</th>\n",
       "      <td>1.229802</td>\n",
       "      <td>0.602821</td>\n",
       "    </tr>\n",
       "    <tr>\n",
       "      <th>6</th>\n",
       "      <td>1.016677</td>\n",
       "      <td>0.671121</td>\n",
       "    </tr>\n",
       "    <tr>\n",
       "      <th>7</th>\n",
       "      <td>0.848913</td>\n",
       "      <td>0.724573</td>\n",
       "    </tr>\n",
       "    <tr>\n",
       "      <th>8</th>\n",
       "      <td>0.697837</td>\n",
       "      <td>0.772086</td>\n",
       "    </tr>\n",
       "    <tr>\n",
       "      <th>9</th>\n",
       "      <td>0.549865</td>\n",
       "      <td>0.828508</td>\n",
       "    </tr>\n",
       "  </tbody>\n",
       "</table>\n",
       "</div>"
      ],
      "text/plain": [
       "       loss       acc\n",
       "0  6.234817  0.112101\n",
       "1  2.431224  0.190794\n",
       "2  1.984134  0.328879\n",
       "3  1.744655  0.443950\n",
       "4  1.461692  0.528582\n",
       "5  1.229802  0.602821\n",
       "6  1.016677  0.671121\n",
       "7  0.848913  0.724573\n",
       "8  0.697837  0.772086\n",
       "9  0.549865  0.828508"
      ]
     },
     "execution_count": 64,
     "metadata": {},
     "output_type": "execute_result"
    }
   ],
   "source": [
    "import pandas as pd\n",
    "pd.DataFrame(output.history)"
   ]
  },
  {
   "cell_type": "markdown",
   "metadata": {},
   "source": [
    "training accuracy, loss 만으로는 overfitting인지 알 수 없음"
   ]
  },
  {
   "cell_type": "code",
   "execution_count": 66,
   "metadata": {},
   "outputs": [
    {
     "data": {
      "text/plain": [
       "<AxesSubplot:>"
      ]
     },
     "execution_count": 66,
     "metadata": {},
     "output_type": "execute_result"
    },
    {
     "data": {
      "image/png": "[encoded data removed]",
      "text/plain": [
       "<Figure size 432x288 with 1 Axes>"
      ]
     },
     "metadata": {
      "needs_background": "light"
     },
     "output_type": "display_data"
    }
   ],
   "source": [
    "pd.DataFrame(output.history).plot.line()"
   ]
  },
  {
   "cell_type": "code",
   "execution_count": 67,
   "metadata": {
    "scrolled": true
   },
   "outputs": [
    {
     "name": "stdout",
     "output_type": "stream",
     "text": [
      "Epoch 1/10\n",
      "34/34 [==============================] - 1s 36ms/step - loss: 4.5582 - acc: 0.0891 - val_loss: 2.6870 - val_acc: 0.1630\n",
      "Epoch 2/10\n",
      "34/34 [==============================] - 0s 4ms/step - loss: 2.3553 - acc: 0.1968 - val_loss: 1.9449 - val_acc: 0.3148\n",
      "Epoch 3/10\n",
      "34/34 [==============================] - 0s 3ms/step - loss: 1.8491 - acc: 0.3565 - val_loss: 1.6443 - val_acc: 0.4185\n",
      "Epoch 4/10\n",
      "34/34 [==============================] - 0s 6ms/step - loss: 1.5081 - acc: 0.4726 - val_loss: 1.3634 - val_acc: 0.5222\n",
      "Epoch 5/10\n",
      "34/34 [==============================] - 0s 3ms/step - loss: 1.2282 - acc: 0.5859 - val_loss: 1.0933 - val_acc: 0.6481\n",
      "Epoch 6/10\n",
      "34/34 [==============================] - 0s 3ms/step - loss: 0.9843 - acc: 0.6778 - val_loss: 0.9198 - val_acc: 0.7037\n",
      "Epoch 7/10\n",
      "34/34 [==============================] - 0s 3ms/step - loss: 0.8095 - acc: 0.7372 - val_loss: 0.7856 - val_acc: 0.7630\n",
      "Epoch 8/10\n",
      "34/34 [==============================] - 0s 3ms/step - loss: 0.6700 - acc: 0.7902 - val_loss: 0.6813 - val_acc: 0.7852\n",
      "Epoch 9/10\n",
      "34/34 [==============================] - 0s 3ms/step - loss: 0.5679 - acc: 0.8152 - val_loss: 0.6000 - val_acc: 0.8074\n",
      "Epoch 10/10\n",
      "34/34 [==============================] - 0s 3ms/step - loss: 0.4952 - acc: 0.8459 - val_loss: 0.5454 - val_acc: 0.8296\n"
     ]
    }
   ],
   "source": [
    "model=build_model()\n",
    "output=model.fit(X_train,y_train, epochs=10,validation_split=0.2)"
   ]
  },
  {
   "cell_type": "code",
   "execution_count": 68,
   "metadata": {},
   "outputs": [
    {
     "data": {
      "text/plain": [
       "<AxesSubplot:>"
      ]
     },
     "execution_count": 68,
     "metadata": {},
     "output_type": "execute_result"
    },
    {
     "data": {
      "image/png": "[encoded data removed]",
      "text/plain": [
       "<Figure size 432x288 with 1 Axes>"
      ]
     },
     "metadata": {
      "needs_background": "light"
     },
     "output_type": "display_data"
    }
   ],
   "source": [
    "pd.DataFrame(output.history).plot.line()"
   ]
  },
  {
   "cell_type": "code",
   "execution_count": 71,
   "metadata": {},
   "outputs": [
    {
     "name": "stdout",
     "output_type": "stream",
     "text": [
      "15/15 [==============================] - 0s 2ms/step - loss: 0.4859 - acc: 0.8422\n"
     ]
    },
    {
     "data": {
      "text/plain": [
       "[0.4858657419681549, 0.8422222137451172]"
      ]
     },
     "execution_count": 71,
     "metadata": {},
     "output_type": "execute_result"
    }
   ],
   "source": [
    "model.evaluate(X_test,y_test)"
   ]
  },
  {
   "cell_type": "markdown",
   "metadata": {},
   "source": [
    "- perceptron의 노드 크기를 늘림"
   ]
  },
  {
   "cell_type": "code",
   "execution_count": 83,
   "metadata": {},
   "outputs": [
    {
     "name": "stdout",
     "output_type": "stream",
     "text": [
      "Epoch 1/10\n",
      "34/34 [==============================] - 1s 15ms/step - loss: 0.8847 - acc: 0.7669 - val_loss: 0.3924 - val_acc: 0.8778\n",
      "Epoch 2/10\n",
      "34/34 [==============================] - 0s 8ms/step - loss: 0.1552 - acc: 0.9536 - val_loss: 0.1311 - val_acc: 0.9556\n",
      "Epoch 3/10\n",
      "34/34 [==============================] - 0s 8ms/step - loss: 0.0424 - acc: 0.9898 - val_loss: 0.1168 - val_acc: 0.9667\n",
      "Epoch 4/10\n",
      "34/34 [==============================] - 0s 7ms/step - loss: 0.0173 - acc: 0.9972 - val_loss: 0.0905 - val_acc: 0.9778\n",
      "Epoch 5/10\n",
      "34/34 [==============================] - 0s 8ms/step - loss: 0.0112 - acc: 0.9991 - val_loss: 0.0722 - val_acc: 0.9852\n",
      "Epoch 6/10\n",
      "34/34 [==============================] - 0s 7ms/step - loss: 0.0071 - acc: 0.9981 - val_loss: 0.0861 - val_acc: 0.9778\n",
      "Epoch 7/10\n",
      "34/34 [==============================] - 0s 9ms/step - loss: 0.0058 - acc: 1.0000 - val_loss: 0.0797 - val_acc: 0.9741\n",
      "Epoch 8/10\n",
      "34/34 [==============================] - 0s 8ms/step - loss: 0.0021 - acc: 1.0000 - val_loss: 0.0646 - val_acc: 0.9852\n",
      "Epoch 9/10\n",
      "34/34 [==============================] - 0s 10ms/step - loss: 0.0015 - acc: 1.0000 - val_loss: 0.0641 - val_acc: 0.9889\n",
      "Epoch 10/10\n",
      "34/34 [==============================] - 0s 9ms/step - loss: 0.0011 - acc: 1.0000 - val_loss: 0.0663 - val_acc: 0.9889\n"
     ]
    }
   ],
   "source": [
    "def build_model():\n",
    "    model=tf.keras.models.Sequential([\n",
    "    tf.keras.layers.Dense(512, input_shape=(64,),activation='relu',\n",
    "                         name='Start'),\n",
    "    tf.keras.layers.Dense(512, activation='relu'),\n",
    "    tf.keras.layers.Dense(10, activation='softmax')\n",
    "\n",
    "    \n",
    "], name='classification_model')\n",
    "    model.compile(loss=tf.keras.losses.categorical_crossentropy,\n",
    "             optimizer='adam',\n",
    "             metrics=['acc'])\n",
    "    return model\n",
    "model=build_model()\n",
    "output=model.fit(X_train,y_train, epochs=10,validation_split=0.2)"
   ]
  },
  {
   "cell_type": "code",
   "execution_count": 84,
   "metadata": {},
   "outputs": [
    {
     "data": {
      "text/html": [
       "<div>\n",
       "<style scoped>\n",
       "    .dataframe tbody tr th:only-of-type {\n",
       "        vertical-align: middle;\n",
       "    }\n",
       "\n",
       "    .dataframe tbody tr th {\n",
       "        vertical-align: top;\n",
       "    }\n",
       "\n",
       "    .dataframe thead th {\n",
       "        text-align: right;\n",
       "    }\n",
       "</style>\n",
       "<table border=\"1\" class=\"dataframe\">\n",
       "  <thead>\n",
       "    <tr style=\"text-align: right;\">\n",
       "      <th></th>\n",
       "      <th>loss</th>\n",
       "      <th>acc</th>\n",
       "      <th>val_loss</th>\n",
       "      <th>val_acc</th>\n",
       "    </tr>\n",
       "  </thead>\n",
       "  <tbody>\n",
       "    <tr>\n",
       "      <th>0</th>\n",
       "      <td>0.884685</td>\n",
       "      <td>0.766945</td>\n",
       "      <td>0.392438</td>\n",
       "      <td>0.877778</td>\n",
       "    </tr>\n",
       "    <tr>\n",
       "      <th>1</th>\n",
       "      <td>0.155162</td>\n",
       "      <td>0.953575</td>\n",
       "      <td>0.131125</td>\n",
       "      <td>0.955556</td>\n",
       "    </tr>\n",
       "    <tr>\n",
       "      <th>2</th>\n",
       "      <td>0.042381</td>\n",
       "      <td>0.989786</td>\n",
       "      <td>0.116789</td>\n",
       "      <td>0.966667</td>\n",
       "    </tr>\n",
       "    <tr>\n",
       "      <th>3</th>\n",
       "      <td>0.017332</td>\n",
       "      <td>0.997214</td>\n",
       "      <td>0.090499</td>\n",
       "      <td>0.977778</td>\n",
       "    </tr>\n",
       "    <tr>\n",
       "      <th>4</th>\n",
       "      <td>0.011154</td>\n",
       "      <td>0.999071</td>\n",
       "      <td>0.072156</td>\n",
       "      <td>0.985185</td>\n",
       "    </tr>\n",
       "    <tr>\n",
       "      <th>5</th>\n",
       "      <td>0.007053</td>\n",
       "      <td>0.998143</td>\n",
       "      <td>0.086143</td>\n",
       "      <td>0.977778</td>\n",
       "    </tr>\n",
       "    <tr>\n",
       "      <th>6</th>\n",
       "      <td>0.005805</td>\n",
       "      <td>1.000000</td>\n",
       "      <td>0.079673</td>\n",
       "      <td>0.974074</td>\n",
       "    </tr>\n",
       "    <tr>\n",
       "      <th>7</th>\n",
       "      <td>0.002118</td>\n",
       "      <td>1.000000</td>\n",
       "      <td>0.064577</td>\n",
       "      <td>0.985185</td>\n",
       "    </tr>\n",
       "    <tr>\n",
       "      <th>8</th>\n",
       "      <td>0.001473</td>\n",
       "      <td>1.000000</td>\n",
       "      <td>0.064131</td>\n",
       "      <td>0.988889</td>\n",
       "    </tr>\n",
       "    <tr>\n",
       "      <th>9</th>\n",
       "      <td>0.001103</td>\n",
       "      <td>1.000000</td>\n",
       "      <td>0.066260</td>\n",
       "      <td>0.988889</td>\n",
       "    </tr>\n",
       "  </tbody>\n",
       "</table>\n",
       "</div>"
      ],
      "text/plain": [
       "       loss       acc  val_loss   val_acc\n",
       "0  0.884685  0.766945  0.392438  0.877778\n",
       "1  0.155162  0.953575  0.131125  0.955556\n",
       "2  0.042381  0.989786  0.116789  0.966667\n",
       "3  0.017332  0.997214  0.090499  0.977778\n",
       "4  0.011154  0.999071  0.072156  0.985185\n",
       "5  0.007053  0.998143  0.086143  0.977778\n",
       "6  0.005805  1.000000  0.079673  0.974074\n",
       "7  0.002118  1.000000  0.064577  0.985185\n",
       "8  0.001473  1.000000  0.064131  0.988889\n",
       "9  0.001103  1.000000  0.066260  0.988889"
      ]
     },
     "execution_count": 84,
     "metadata": {},
     "output_type": "execute_result"
    }
   ],
   "source": [
    "pd.DataFrame(output.history)"
   ]
  },
  {
   "cell_type": "code",
   "execution_count": 85,
   "metadata": {},
   "outputs": [
    {
     "data": {
      "text/plain": [
       "<AxesSubplot:>"
      ]
     },
     "execution_count": 85,
     "metadata": {},
     "output_type": "execute_result"
    },
    {
     "data": {
      "image/png": "[encoded data removed]",
      "text/plain": [
       "<Figure size 432x288 with 1 Axes>"
      ]
     },
     "metadata": {
      "needs_background": "light"
     },
     "output_type": "display_data"
    }
   ],
   "source": [
    "pd.DataFrame(output.history).plot.line()"
   ]
  },
  {
   "cell_type": "code",
   "execution_count": 86,
   "metadata": {
    "scrolled": true
   },
   "outputs": [
    {
     "name": "stdout",
     "output_type": "stream",
     "text": [
      "15/15 [==============================] - 0s 4ms/step - loss: 0.0728 - acc: 0.9800\n"
     ]
    },
    {
     "data": {
      "text/plain": [
       "[0.07283001393079758, 0.9800000190734863]"
      ]
     },
     "execution_count": 86,
     "metadata": {},
     "output_type": "execute_result"
    }
   ],
   "source": [
    "model.evaluate(X_test,y_test)"
   ]
  },
  {
   "cell_type": "markdown",
   "metadata": {},
   "source": [
    "레이어 추가"
   ]
  },
  {
   "cell_type": "markdown",
   "metadata": {},
   "source": [
    "- 성능향상은 perceptron 갯수보다 레이어 늘리는게 더 효과 있음\n",
    "- activaiton function의 비선형성 증가"
   ]
  },
  {
   "cell_type": "code",
   "execution_count": 87,
   "metadata": {},
   "outputs": [
    {
     "name": "stdout",
     "output_type": "stream",
     "text": [
      "Epoch 1/10\n",
      "34/34 [==============================] - 1s 20ms/step - loss: 0.7709 - acc: 0.7976 - val_loss: 0.1801 - val_acc: 0.9407\n",
      "Epoch 2/10\n",
      "34/34 [==============================] - 0s 12ms/step - loss: 0.1112 - acc: 0.9647 - val_loss: 0.0864 - val_acc: 0.9741\n",
      "Epoch 3/10\n",
      "34/34 [==============================] - 0s 11ms/step - loss: 0.0564 - acc: 0.9796 - val_loss: 0.0633 - val_acc: 0.9815\n",
      "Epoch 4/10\n",
      "34/34 [==============================] - 0s 11ms/step - loss: 0.0330 - acc: 0.9907 - val_loss: 0.0707 - val_acc: 0.9778\n",
      "Epoch 5/10\n",
      "34/34 [==============================] - 0s 14ms/step - loss: 0.0084 - acc: 0.9991 - val_loss: 0.0434 - val_acc: 0.9889\n",
      "Epoch 6/10\n",
      "34/34 [==============================] - 1s 15ms/step - loss: 0.0101 - acc: 0.9972 - val_loss: 0.0699 - val_acc: 0.9704\n",
      "Epoch 7/10\n",
      "34/34 [==============================] - 0s 11ms/step - loss: 0.0042 - acc: 0.9991 - val_loss: 0.0633 - val_acc: 0.9741\n",
      "Epoch 8/10\n",
      "34/34 [==============================] - 0s 12ms/step - loss: 0.0058 - acc: 0.9991 - val_loss: 0.0701 - val_acc: 0.9815\n",
      "Epoch 9/10\n",
      "34/34 [==============================] - 0s 13ms/step - loss: 0.0021 - acc: 1.0000 - val_loss: 0.0809 - val_acc: 0.9852\n",
      "Epoch 10/10\n",
      "34/34 [==============================] - 0s 13ms/step - loss: 6.8365e-04 - acc: 1.0000 - val_loss: 0.0694 - val_acc: 0.9852\n"
     ]
    }
   ],
   "source": [
    "def build_model():\n",
    "    model=tf.keras.models.Sequential([\n",
    "    tf.keras.layers.Dense(512, input_shape=(64,),activation='relu',\n",
    "                         name='Start'),\n",
    "    tf.keras.layers.Dense(512, activation='relu'),\n",
    "    tf.keras.layers.Dense(512, activation='relu'),\n",
    "    tf.keras.layers.Dense(10, activation='softmax')\n",
    "\n",
    "    \n",
    "], name='classification_model')\n",
    "    model.compile(loss=tf.keras.losses.categorical_crossentropy,\n",
    "             optimizer='adam',\n",
    "             metrics=['acc'])\n",
    "    return model\n",
    "model=build_model()\n",
    "output=model.fit(X_train,y_train, epochs=10,validation_split=0.2)"
   ]
  },
  {
   "cell_type": "code",
   "execution_count": 88,
   "metadata": {},
   "outputs": [
    {
     "data": {
      "text/html": [
       "<div>\n",
       "<style scoped>\n",
       "    .dataframe tbody tr th:only-of-type {\n",
       "        vertical-align: middle;\n",
       "    }\n",
       "\n",
       "    .dataframe tbody tr th {\n",
       "        vertical-align: top;\n",
       "    }\n",
       "\n",
       "    .dataframe thead th {\n",
       "        text-align: right;\n",
       "    }\n",
       "</style>\n",
       "<table border=\"1\" class=\"dataframe\">\n",
       "  <thead>\n",
       "    <tr style=\"text-align: right;\">\n",
       "      <th></th>\n",
       "      <th>loss</th>\n",
       "      <th>acc</th>\n",
       "      <th>val_loss</th>\n",
       "      <th>val_acc</th>\n",
       "    </tr>\n",
       "  </thead>\n",
       "  <tbody>\n",
       "    <tr>\n",
       "      <th>0</th>\n",
       "      <td>0.770873</td>\n",
       "      <td>0.797586</td>\n",
       "      <td>0.180095</td>\n",
       "      <td>0.940741</td>\n",
       "    </tr>\n",
       "    <tr>\n",
       "      <th>1</th>\n",
       "      <td>0.111178</td>\n",
       "      <td>0.964717</td>\n",
       "      <td>0.086430</td>\n",
       "      <td>0.974074</td>\n",
       "    </tr>\n",
       "    <tr>\n",
       "      <th>2</th>\n",
       "      <td>0.056362</td>\n",
       "      <td>0.979573</td>\n",
       "      <td>0.063258</td>\n",
       "      <td>0.981481</td>\n",
       "    </tr>\n",
       "    <tr>\n",
       "      <th>3</th>\n",
       "      <td>0.032957</td>\n",
       "      <td>0.990715</td>\n",
       "      <td>0.070693</td>\n",
       "      <td>0.977778</td>\n",
       "    </tr>\n",
       "    <tr>\n",
       "      <th>4</th>\n",
       "      <td>0.008366</td>\n",
       "      <td>0.999071</td>\n",
       "      <td>0.043432</td>\n",
       "      <td>0.988889</td>\n",
       "    </tr>\n",
       "    <tr>\n",
       "      <th>5</th>\n",
       "      <td>0.010094</td>\n",
       "      <td>0.997214</td>\n",
       "      <td>0.069914</td>\n",
       "      <td>0.970370</td>\n",
       "    </tr>\n",
       "    <tr>\n",
       "      <th>6</th>\n",
       "      <td>0.004239</td>\n",
       "      <td>0.999071</td>\n",
       "      <td>0.063310</td>\n",
       "      <td>0.974074</td>\n",
       "    </tr>\n",
       "    <tr>\n",
       "      <th>7</th>\n",
       "      <td>0.005786</td>\n",
       "      <td>0.999071</td>\n",
       "      <td>0.070148</td>\n",
       "      <td>0.981481</td>\n",
       "    </tr>\n",
       "    <tr>\n",
       "      <th>8</th>\n",
       "      <td>0.002083</td>\n",
       "      <td>1.000000</td>\n",
       "      <td>0.080871</td>\n",
       "      <td>0.985185</td>\n",
       "    </tr>\n",
       "    <tr>\n",
       "      <th>9</th>\n",
       "      <td>0.000684</td>\n",
       "      <td>1.000000</td>\n",
       "      <td>0.069383</td>\n",
       "      <td>0.985185</td>\n",
       "    </tr>\n",
       "  </tbody>\n",
       "</table>\n",
       "</div>"
      ],
      "text/plain": [
       "       loss       acc  val_loss   val_acc\n",
       "0  0.770873  0.797586  0.180095  0.940741\n",
       "1  0.111178  0.964717  0.086430  0.974074\n",
       "2  0.056362  0.979573  0.063258  0.981481\n",
       "3  0.032957  0.990715  0.070693  0.977778\n",
       "4  0.008366  0.999071  0.043432  0.988889\n",
       "5  0.010094  0.997214  0.069914  0.970370\n",
       "6  0.004239  0.999071  0.063310  0.974074\n",
       "7  0.005786  0.999071  0.070148  0.981481\n",
       "8  0.002083  1.000000  0.080871  0.985185\n",
       "9  0.000684  1.000000  0.069383  0.985185"
      ]
     },
     "execution_count": 88,
     "metadata": {},
     "output_type": "execute_result"
    }
   ],
   "source": [
    "pd.DataFrame(output.history)"
   ]
  },
  {
   "cell_type": "code",
   "execution_count": 89,
   "metadata": {},
   "outputs": [
    {
     "data": {
      "text/plain": [
       "<AxesSubplot:>"
      ]
     },
     "execution_count": 89,
     "metadata": {},
     "output_type": "execute_result"
    },
    {
     "data": {
      "image/png": "[encoded data removed]",
      "text/plain": [
       "<Figure size 432x288 with 1 Axes>"
      ]
     },
     "metadata": {
      "needs_background": "light"
     },
     "output_type": "display_data"
    }
   ],
   "source": [
    "pd.DataFrame(output.history).plot.line()"
   ]
  },
  {
   "cell_type": "code",
   "execution_count": 90,
   "metadata": {
    "scrolled": true
   },
   "outputs": [
    {
     "name": "stdout",
     "output_type": "stream",
     "text": [
      "15/15 [==============================] - 0s 3ms/step - loss: 0.0694 - acc: 0.9822\n"
     ]
    },
    {
     "data": {
      "text/plain": [
       "[0.06941625475883484, 0.9822221994400024]"
      ]
     },
     "execution_count": 90,
     "metadata": {},
     "output_type": "execute_result"
    }
   ],
   "source": [
    "model.evaluate(X_test,y_test)"
   ]
  },
  {
   "cell_type": "code",
   "execution_count": 95,
   "metadata": {},
   "outputs": [
    {
     "name": "stdout",
     "output_type": "stream",
     "text": [
      "Epoch 1/10\n",
      "34/34 [==============================] - 0s 8ms/step - loss: 8.9658e-04 - acc: 1.0000 - val_loss: 0.0537 - val_acc: 0.9852\n",
      "Epoch 2/10\n",
      "34/34 [==============================] - 0s 6ms/step - loss: 7.6082e-04 - acc: 1.0000 - val_loss: 0.0574 - val_acc: 0.9815\n",
      "Epoch 3/10\n",
      "34/34 [==============================] - 0s 9ms/step - loss: 7.0631e-04 - acc: 1.0000 - val_loss: 0.0540 - val_acc: 0.9852\n",
      "Epoch 4/10\n",
      "34/34 [==============================] - 0s 8ms/step - loss: 6.0202e-04 - acc: 1.0000 - val_loss: 0.0519 - val_acc: 0.9852\n",
      "Epoch 5/10\n",
      "34/34 [==============================] - 0s 12ms/step - loss: 5.6165e-04 - acc: 1.0000 - val_loss: 0.0558 - val_acc: 0.9815\n",
      "Epoch 6/10\n",
      "34/34 [==============================] - 0s 8ms/step - loss: 5.0332e-04 - acc: 1.0000 - val_loss: 0.0536 - val_acc: 0.9852\n",
      "Epoch 7/10\n",
      "34/34 [==============================] - 0s 11ms/step - loss: 4.4738e-04 - acc: 1.0000 - val_loss: 0.0530 - val_acc: 0.9815\n",
      "Epoch 8/10\n",
      "34/34 [==============================] - 0s 9ms/step - loss: 4.0148e-04 - acc: 1.0000 - val_loss: 0.0535 - val_acc: 0.9852\n",
      "Epoch 9/10\n",
      "34/34 [==============================] - 0s 8ms/step - loss: 3.6195e-04 - acc: 1.0000 - val_loss: 0.0529 - val_acc: 0.9889\n",
      "Epoch 10/10\n",
      "34/34 [==============================] - 0s 7ms/step - loss: 3.4610e-04 - acc: 1.0000 - val_loss: 0.0511 - val_acc: 0.9889\n"
     ]
    },
    {
     "data": {
      "text/plain": [
       "<AxesSubplot:>"
      ]
     },
     "execution_count": 95,
     "metadata": {},
     "output_type": "execute_result"
    },
    {
     "data": {
      "image/png": "[encoded data removed]",
      "text/plain": [
       "<Figure size 432x288 with 1 Axes>"
      ]
     },
     "metadata": {
      "needs_background": "light"
     },
     "output_type": "display_data"
    }
   ],
   "source": [
    "output=model.fit(X_train,y_train, epochs=10,validation_split=0.2)\n",
    "pd.DataFrame(output.history).plot.line()"
   ]
  },
  {
   "cell_type": "markdown",
   "metadata": {},
   "source": [
    "### EarlyStopping \n",
    "callback이용해서 overfitting 방지\n",
    "- validation loss의 변화가 크지않으면 epoch이 다 돌지 않더라고 미리 종료 시킴"
   ]
  },
  {
   "cell_type": "code",
   "execution_count": null,
   "metadata": {},
   "outputs": [],
   "source": [
    "tf.keras.callbacks.EarlyStopping"
   ]
  },
  {
   "cell_type": "code",
   "execution_count": 96,
   "metadata": {},
   "outputs": [
    {
     "name": "stdout",
     "output_type": "stream",
     "text": [
      "Epoch 1/100\n",
      "34/34 [==============================] - 0s 8ms/step - loss: 3.0598e-04 - acc: 1.0000 - val_loss: 0.0526 - val_acc: 0.9889\n",
      "Epoch 2/100\n",
      "34/34 [==============================] - 0s 9ms/step - loss: 2.7816e-04 - acc: 1.0000 - val_loss: 0.0518 - val_acc: 0.9889\n",
      "Epoch 3/100\n",
      "34/34 [==============================] - 0s 7ms/step - loss: 2.5670e-04 - acc: 1.0000 - val_loss: 0.0535 - val_acc: 0.9889\n"
     ]
    }
   ],
   "source": [
    "output=model.fit(X_train,y_train, epochs=100,\n",
    "                 callbacks=[tf.keras.callbacks.EarlyStopping()],\n",
    "                 validation_split=0.2)\n",
    "#3번째에 끝남"
   ]
  },
  {
   "cell_type": "markdown",
   "metadata": {},
   "source": [
    " ### model "
   ]
  },
  {
   "cell_type": "code",
   "execution_count": 97,
   "metadata": {},
   "outputs": [
    {
     "data": {
      "text/plain": [
       "[<tf.Variable 'Start/kernel:0' shape=(64, 512) dtype=float32, numpy=\n",
       " array([[ 0.07522076, -0.0028543 ,  0.0630039 , ..., -0.03261586,\n",
       "         -0.06845564, -0.08198256],\n",
       "        [ 0.08972901,  0.02173909,  0.07108444, ...,  0.00164415,\n",
       "         -0.04945736,  0.03130922],\n",
       "        [-0.00331162, -0.08826502, -0.05673114, ..., -0.00900054,\n",
       "         -0.11149822, -0.0761652 ],\n",
       "        ...,\n",
       "        [-0.05948605, -0.05653155,  0.08638254, ...,  0.03720778,\n",
       "          0.11040892,  0.10657255],\n",
       "        [ 0.06511578, -0.00302147, -0.07125143, ...,  0.05700338,\n",
       "          0.07436255, -0.02284284],\n",
       "        [ 0.02321933,  0.04218322,  0.03489282, ...,  0.04827485,\n",
       "         -0.07482266, -0.04359617]], dtype=float32)>,\n",
       " <tf.Variable 'Start/bias:0' shape=(512,) dtype=float32, numpy=\n",
       " array([ 0.00000000e+00, -1.13827046e-02,  1.67666227e-02, -5.11324313e-03,\n",
       "         1.54776312e-03,  8.20553768e-03,  6.36478793e-03, -1.50804920e-03,\n",
       "         3.44332284e-03, -6.47032913e-03, -2.26484123e-03, -4.14832449e-03,\n",
       "         1.59327174e-03, -6.73431205e-04,  7.18814880e-03, -3.98924574e-04,\n",
       "         9.79226269e-03,  1.13703692e-02, -7.03728350e-04, -3.83170019e-03,\n",
       "         1.43233861e-03,  1.28973359e-02, -1.50991094e-04,  3.67280263e-05,\n",
       "        -6.31689839e-03,  1.37204432e-03, -2.49701738e-03,  8.67564045e-03,\n",
       "        -6.62985258e-03, -5.83949173e-03,  1.55190661e-04, -1.44069758e-03,\n",
       "         5.67732845e-03, -9.34376207e-04, -1.55801303e-03, -4.32528602e-03,\n",
       "        -6.56417618e-03,  2.43505137e-03, -1.04832631e-02,  6.21340191e-03,\n",
       "        -1.24446545e-02, -8.47392064e-03,  2.26090476e-03, -3.56045016e-03,\n",
       "        -3.55853559e-03, -3.79842403e-03, -9.99455526e-03,  5.67055354e-03,\n",
       "        -6.10834500e-03,  7.94690009e-03, -3.47918831e-03, -7.54383672e-03,\n",
       "        -1.19231257e-03,  2.12615984e-03, -6.25018403e-03, -2.94743618e-03,\n",
       "        -1.73809994e-02,  2.20672414e-03,  5.20188222e-03, -4.85516060e-03,\n",
       "         2.25932850e-03, -4.20969632e-03,  8.28191917e-03, -4.76816250e-03,\n",
       "        -7.82416295e-03, -8.18773918e-03, -2.88293138e-03,  2.15201173e-03,\n",
       "        -4.34045447e-03, -2.39881407e-03,  1.11478020e-03,  6.00821991e-03,\n",
       "        -4.17875079e-03, -6.83109043e-03, -2.65953108e-03, -4.90009785e-03,\n",
       "         6.79583475e-03, -1.79833919e-03, -6.16373774e-03, -7.74899847e-04,\n",
       "        -2.46052048e-03, -4.13947832e-03,  7.05396617e-03, -1.94271293e-03,\n",
       "        -2.67585041e-03,  1.33842858e-03,  9.20722610e-04,  3.01460526e-03,\n",
       "        -1.09494701e-02,  2.19651731e-03, -4.73572314e-03, -2.97261472e-03,\n",
       "         7.87320721e-04, -1.54772925e-03, -6.54194411e-03, -3.21642263e-03,\n",
       "        -5.10762120e-03,  8.14300403e-03, -6.60092523e-03,  5.06527862e-03,\n",
       "         2.01334176e-03, -5.12056891e-03, -2.32398813e-03, -1.14553550e-03,\n",
       "        -3.38716968e-03, -9.61769652e-03,  9.19543440e-04, -4.79913410e-03,\n",
       "        -1.06301773e-02,  0.00000000e+00, -4.05733613e-03, -3.03408341e-03,\n",
       "        -2.27183872e-03, -3.88152059e-03, -6.24096079e-04, -9.39997029e-04,\n",
       "         4.53921687e-03,  5.34070330e-03,  2.07090139e-04,  2.44011846e-03,\n",
       "        -1.31703792e-02, -2.31691240e-03,  5.51391765e-03, -6.26214920e-03,\n",
       "        -3.49602220e-03, -3.53777013e-03,  2.55761924e-03, -7.40262738e-04,\n",
       "        -5.30503737e-03,  8.09925795e-03, -4.37201466e-03, -3.79719143e-03,\n",
       "         1.77369686e-03, -6.62021991e-03, -8.88624415e-03, -1.87347585e-03,\n",
       "         8.38719425e-04,  8.35619681e-03,  3.36419768e-03,  9.43200663e-03,\n",
       "         1.34365987e-02, -1.52473310e-02,  3.47324880e-03, -1.04828656e-03,\n",
       "         9.25148185e-03, -9.32814926e-03,  2.42849486e-03, -4.35026176e-03,\n",
       "        -2.77367653e-03, -1.31951896e-02,  7.29552412e-04,  3.89115652e-03,\n",
       "         4.25823266e-03, -2.88208527e-03, -7.47483363e-03, -7.13680126e-03,\n",
       "         1.11441556e-02,  1.60866452e-03, -5.95779344e-03, -6.20457926e-04,\n",
       "        -4.86974698e-03, -4.84074233e-03,  8.92177038e-03, -8.80207960e-03,\n",
       "        -5.26155345e-04,  7.13298214e-04,  2.83791893e-03,  2.58615823e-03,\n",
       "        -4.70494619e-03, -4.52113757e-03, -6.40288787e-03, -1.14369753e-03,\n",
       "         1.41636166e-03, -7.70764751e-03, -2.43096016e-04, -3.89950303e-03,\n",
       "         8.78286175e-03,  4.63105040e-03, -2.47379020e-03, -6.64805062e-03,\n",
       "        -2.68442184e-03,  8.20823014e-03, -5.06041385e-03, -5.12663554e-03,\n",
       "         4.45238361e-03, -5.81673626e-03,  4.22627712e-03, -5.36526460e-03,\n",
       "         7.19674630e-03, -4.43910249e-03, -3.64157348e-03, -4.98277880e-03,\n",
       "         5.13883191e-04,  4.79821814e-03,  2.60222965e-04, -2.37186230e-03,\n",
       "        -7.86368921e-03, -3.09686409e-03,  1.07146567e-04,  8.98815808e-04,\n",
       "        -6.21570554e-03,  8.84846132e-03, -2.94423499e-03, -1.01267127e-02,\n",
       "        -1.87694153e-03, -4.22795955e-03, -5.93285309e-03, -8.18206649e-03,\n",
       "        -1.12805637e-02,  2.12207600e-03, -6.50403276e-03, -1.26052904e-03,\n",
       "        -6.60201814e-03, -9.46075364e-04, -7.34097417e-03,  2.87026516e-03,\n",
       "        -7.04763969e-03,  1.64565220e-02,  0.00000000e+00, -5.60743874e-03,\n",
       "        -7.90284947e-04, -1.07458513e-03,  4.22010291e-03, -1.05393294e-03,\n",
       "        -8.68673529e-03, -4.89419419e-03, -1.15212100e-03, -4.28709993e-03,\n",
       "        -2.96355993e-03, -8.02801515e-04,  4.94509563e-03,  8.70108977e-03,\n",
       "        -1.06284140e-04, -7.65797496e-03,  4.15543187e-03, -4.46314551e-03,\n",
       "        -2.61114235e-03, -2.75687454e-03, -1.71526553e-04,  1.16629396e-02,\n",
       "        -1.60632730e-02, -2.49412144e-03,  2.35982850e-04, -4.43624007e-03,\n",
       "        -8.05873831e-04, -5.21272654e-03,  2.43643927e-03, -5.68157411e-04,\n",
       "        -5.52340271e-03, -1.30473275e-03, -4.35605692e-03,  9.85839404e-03,\n",
       "         1.04970373e-02, -6.14171103e-03, -5.81372203e-03,  5.73752401e-03,\n",
       "        -3.48638976e-03, -8.51884391e-03,  1.67242382e-02,  8.89233314e-03,\n",
       "         2.82919686e-03, -1.42197346e-03,  5.64823672e-03, -4.92814183e-03,\n",
       "         1.04870824e-02,  2.65706349e-02, -3.01667070e-03, -1.86829199e-03,\n",
       "        -2.14134250e-03,  8.20987858e-03, -7.65702315e-03, -6.38573384e-03,\n",
       "        -2.71555921e-03,  8.85367021e-03,  6.93311449e-04, -1.00717936e-02,\n",
       "         1.94206357e-03,  0.00000000e+00,  4.09250800e-03,  1.09259700e-02,\n",
       "        -3.65445460e-03, -4.63934802e-03,  3.43820243e-03,  9.95710585e-03,\n",
       "        -9.78943426e-03, -7.82797171e-04, -5.75388269e-03,  1.76683810e-04,\n",
       "         5.33807790e-03, -5.11129014e-03,  4.62577865e-03,  3.70000460e-04,\n",
       "        -3.59274587e-03, -7.43312528e-03, -1.28942879e-03, -1.47056964e-03,\n",
       "        -4.06574411e-03,  8.29479471e-03, -3.15718539e-03, -4.38598916e-03,\n",
       "         5.48298983e-03, -7.26298476e-03, -2.04969663e-03,  1.77779817e-03,\n",
       "        -2.02806923e-03, -5.45597216e-03, -7.21133407e-03, -4.48040292e-03,\n",
       "        -5.96447149e-04, -3.88782634e-03, -2.12733075e-03, -1.08665470e-02,\n",
       "         9.02106054e-03, -3.45884101e-03, -1.74568850e-03,  1.92863448e-03,\n",
       "        -5.39217517e-03, -1.34974124e-03,  1.28641911e-02,  2.06921645e-03,\n",
       "         3.72684165e-03, -1.02258660e-03,  0.00000000e+00,  9.90081392e-03,\n",
       "         1.24402728e-03,  1.93421345e-03, -8.26293137e-03, -8.14939197e-03,\n",
       "        -1.29925192e-03,  3.62126762e-03,  6.75853295e-03,  5.71177434e-03,\n",
       "        -2.61113676e-03, -5.50208194e-03,  8.87148920e-03, -4.95611597e-03,\n",
       "        -9.65947006e-03, -5.77995833e-03,  1.01503627e-02,  4.86512342e-03,\n",
       "        -1.14121912e-02,  1.62495428e-03,  5.61637935e-05, -5.14289225e-03,\n",
       "        -2.34943535e-03, -5.07701887e-03, -1.71309151e-03,  8.05744552e-04,\n",
       "         6.68415334e-03,  3.71106807e-03, -8.53929727e-04,  1.11042950e-02,\n",
       "        -5.75690623e-03,  9.56709613e-04,  4.43817535e-03, -4.66812542e-03,\n",
       "         2.81865965e-03, -4.90726251e-03, -5.05079981e-03,  4.61236807e-03,\n",
       "        -3.98926623e-03,  0.00000000e+00, -7.90874066e-04, -7.60257302e-04,\n",
       "         1.52935013e-02,  6.43865555e-04,  1.42022746e-03, -6.05385704e-03,\n",
       "        -6.44419575e-03, -6.36064215e-03, -6.51948433e-03, -4.63132281e-03,\n",
       "        -4.24842024e-03,  5.60182799e-03, -1.56004517e-03, -9.90497135e-03,\n",
       "        -2.90906732e-03, -1.61293242e-03,  8.50689132e-03,  7.20530003e-03,\n",
       "         0.00000000e+00,  5.51433675e-03, -1.55418133e-03, -8.86571780e-03,\n",
       "         2.50209053e-03, -6.52820943e-03, -2.38463026e-03,  1.01421298e-02,\n",
       "         9.53056198e-03,  3.79743688e-02,  1.28975948e-02, -4.15874599e-03,\n",
       "         8.69714841e-03, -6.96983282e-03, -1.01404879e-02,  1.51245072e-02,\n",
       "        -7.27406610e-03, -9.34105180e-03, -4.62649064e-03, -1.80319436e-02,\n",
       "        -7.74758263e-03, -5.12945047e-03,  3.80900688e-03, -7.54358713e-03,\n",
       "        -5.83045883e-03, -6.10387465e-03,  3.83595517e-03, -8.12307233e-04,\n",
       "        -5.33273024e-03,  6.38156850e-03, -3.25697800e-03, -3.38756363e-03,\n",
       "         8.74686334e-03,  4.91417805e-03, -1.19129021e-03, -9.10678599e-03,\n",
       "        -3.59213399e-03, -6.46652607e-03, -9.22532380e-03, -4.25364310e-03,\n",
       "        -7.00356686e-05,  6.91014982e-04, -5.69262216e-03,  6.10245019e-03,\n",
       "        -2.97836517e-03, -3.42486659e-03, -4.86747641e-03, -1.95301732e-03,\n",
       "         3.17106326e-03,  2.21840790e-04,  2.82300333e-03, -4.94647585e-03,\n",
       "         5.72484406e-03,  4.34677844e-04, -3.89621896e-03,  1.96350086e-02,\n",
       "         1.46728125e-03,  5.09323087e-03, -3.49872443e-03, -6.75886590e-03,\n",
       "         1.83082223e-02, -1.92801736e-03, -4.49809013e-03,  5.38812857e-03,\n",
       "        -3.10673658e-03, -1.03359274e-03,  1.52902608e-03, -4.52473614e-04,\n",
       "         1.12374953e-03, -1.27193620e-02, -2.84615974e-03, -4.93395422e-03,\n",
       "         6.30441913e-03, -4.71964711e-04,  3.41281504e-03,  6.58463221e-04,\n",
       "         9.14983451e-03,  1.11310370e-02, -2.36245734e-03, -7.17656082e-03,\n",
       "         4.66897211e-04,  1.81872007e-02, -4.49955557e-03, -8.48228205e-03,\n",
       "        -3.12818261e-03, -2.52303830e-03,  4.71913535e-03, -3.45629291e-04,\n",
       "        -2.71028001e-03,  4.34065412e-04,  8.09366815e-03,  1.40747381e-02,\n",
       "         0.00000000e+00, -1.53816799e-02, -9.45396256e-03,  2.16794177e-03,\n",
       "         1.02074770e-02,  3.73731484e-03,  8.03723640e-04, -1.45127135e-03,\n",
       "        -6.48740167e-03,  1.19106630e-02, -6.74762158e-03, -1.78611733e-03,\n",
       "         1.00769196e-02, -7.47682946e-03,  5.68178855e-03,  4.37989831e-03,\n",
       "         7.07569020e-03,  8.17720592e-03,  1.02002677e-02, -7.32090743e-03,\n",
       "         4.90010343e-03,  1.77997642e-03,  3.83907929e-03,  6.95263327e-04,\n",
       "         4.49800445e-03,  5.11982664e-03, -4.20802785e-03, -6.58430485e-03,\n",
       "         0.00000000e+00,  6.72443723e-03, -5.95231820e-03, -5.38397115e-04,\n",
       "         1.35046626e-02, -4.17286716e-03, -8.65341257e-03,  4.21969313e-03,\n",
       "        -5.91059914e-03, -4.75150254e-03,  5.37211774e-03,  6.93874806e-03],\n",
       "       dtype=float32)>,\n",
       " <tf.Variable 'dense_30/kernel:0' shape=(512, 512) dtype=float32, numpy=\n",
       " array([[ 0.00346057,  0.01427197, -0.07001229, ..., -0.05269365,\n",
       "          0.00657827,  0.01426413],\n",
       "        [ 0.04271969,  0.02385044,  0.06268105, ..., -0.05547774,\n",
       "          0.03717859,  0.00055845],\n",
       "        [ 0.01039063, -0.04367892,  0.06100439, ..., -0.06569814,\n",
       "          0.0599386 ,  0.02306134],\n",
       "        ...,\n",
       "        [ 0.02639593, -0.06482048,  0.01652607, ..., -0.04305252,\n",
       "         -0.06292505, -0.01776698],\n",
       "        [ 0.06195116, -0.01784921,  0.04134425, ...,  0.01508154,\n",
       "          0.01847859,  0.04811129],\n",
       "        [-0.02448987,  0.05938966, -0.01218847, ..., -0.02943877,\n",
       "          0.07035292, -0.01011207]], dtype=float32)>,\n",
       " <tf.Variable 'dense_30/bias:0' shape=(512,) dtype=float32, numpy=\n",
       " array([ 1.70861441e-03, -2.08390364e-03,  4.75632586e-03, -2.20722309e-03,\n",
       "        -5.65540139e-03, -2.38564773e-03, -8.23528785e-03,  5.31843351e-03,\n",
       "        -2.55866069e-03, -6.92757266e-03, -6.81579579e-04, -8.02244991e-03,\n",
       "         1.50079362e-03, -1.65337184e-03, -4.71309666e-03,  3.71807069e-03,\n",
       "         1.30761997e-03,  2.98337429e-03,  1.56988972e-03,  7.20532751e-03,\n",
       "        -4.48094960e-03,  2.29212295e-04,  1.00997305e-02,  5.12088125e-04,\n",
       "         4.47450532e-03, -9.81746591e-04, -5.32919448e-03, -5.08832838e-03,\n",
       "        -5.65944519e-03,  0.00000000e+00,  2.83439504e-03,  2.44236924e-03,\n",
       "         1.03957718e-03, -5.97966369e-03, -6.71364041e-03, -6.60484377e-03,\n",
       "        -7.09452853e-03, -1.65558513e-03, -3.18887504e-03, -9.54852221e-05,\n",
       "        -8.50812998e-03, -6.52751885e-03,  4.31723520e-03, -2.67459545e-03,\n",
       "        -6.50701753e-04, -9.73498682e-05, -6.97922835e-04, -8.79899249e-04,\n",
       "        -1.02439849e-03, -4.03628248e-04, -6.51084632e-03,  2.91328249e-03,\n",
       "        -1.33238256e-03,  5.26379852e-04,  2.06846642e-04,  3.99263948e-03,\n",
       "        -1.04633598e-02, -5.20235859e-03, -3.17394896e-03, -8.02249834e-03,\n",
       "        -1.43827754e-03,  7.26273516e-04, -2.11726222e-03, -3.23940045e-03,\n",
       "        -2.00627767e-03,  1.74320943e-03,  2.04688101e-03, -6.00860128e-03,\n",
       "        -7.61771202e-03, -4.53657610e-03,  1.27864972e-04, -1.44262658e-03,\n",
       "        -1.20584678e-03, -2.32414948e-03, -5.99155994e-03, -6.58575911e-04,\n",
       "         1.85741112e-03, -2.04724795e-03,  4.52613737e-03, -1.15281949e-03,\n",
       "        -4.03319660e-04, -1.26044732e-03, -2.87623145e-03, -6.00150274e-03,\n",
       "        -6.00411231e-03, -6.60908362e-03, -1.46464899e-03, -6.71815732e-03,\n",
       "         4.30443557e-03, -1.87595678e-03,  2.21516332e-03,  8.53901170e-03,\n",
       "         3.50411097e-03,  6.30536058e-04, -7.21612526e-03, -8.98278435e-04,\n",
       "         8.00701044e-03,  3.07836890e-04,  3.42833018e-03, -8.21999833e-03,\n",
       "         1.56415266e-03, -4.95312386e-04, -2.37426604e-03, -1.42045043e-04,\n",
       "         1.80826976e-03, -7.92914361e-04,  2.59858696e-03, -4.77860309e-03,\n",
       "        -5.55211119e-03, -4.33883304e-03,  2.66136229e-03,  1.66501093e-03,\n",
       "         2.65954668e-03, -4.34967782e-03,  5.65689581e-04,  2.80126260e-04,\n",
       "         4.48891055e-03, -7.43198069e-03, -6.02401700e-03,  2.92020175e-03,\n",
       "        -1.99520797e-03,  3.07253445e-03, -4.11392283e-03, -1.85529076e-04,\n",
       "        -6.87742839e-03,  2.83477973e-04, -4.95382810e-05,  1.85567094e-03,\n",
       "         2.51950626e-03,  7.60010662e-05,  1.92892621e-03, -1.40624994e-03,\n",
       "        -5.84026893e-05,  6.93728158e-04,  2.17979564e-03, -1.21770392e-03,\n",
       "         1.00160556e-04, -5.40778553e-03, -2.09617382e-03,  4.84253559e-03,\n",
       "         2.81838875e-04, -1.41959439e-03,  1.30897539e-03,  6.36696292e-04,\n",
       "        -2.88865902e-03,  1.20996255e-02, -8.94052791e-05, -5.64859074e-04,\n",
       "        -3.84065136e-03, -2.51547317e-03, -7.32915336e-03,  1.74922775e-03,\n",
       "         2.96099763e-03, -1.69444317e-03,  2.87034037e-03, -6.07035914e-03,\n",
       "         8.80813866e-04,  3.58884665e-03,  2.78696185e-03, -1.73174878e-04,\n",
       "        -5.18999901e-03, -7.98939378e-04, -1.72031473e-03,  7.45036930e-04,\n",
       "        -9.02309641e-03, -3.35509103e-04, -5.12013026e-03,  1.12127315e-03,\n",
       "         2.36169435e-03, -8.19858257e-03, -3.04952916e-03, -9.41990688e-03,\n",
       "        -7.10050529e-03, -1.62505487e-03, -5.65087982e-03, -4.46162559e-03,\n",
       "        -2.56406399e-03, -3.82846827e-03,  2.38358811e-03,  3.35012774e-05,\n",
       "         8.47636984e-05, -2.18667883e-05,  2.76198960e-04, -5.04462607e-03,\n",
       "         2.29720911e-03, -5.99432364e-03,  1.12587982e-03, -5.05894329e-03,\n",
       "        -5.99358045e-03, -8.10174644e-03, -7.17101432e-03, -8.38425010e-03,\n",
       "        -9.53456562e-04,  0.00000000e+00,  0.00000000e+00, -5.05788857e-03,\n",
       "        -4.56487574e-03,  1.46444340e-03,  7.70827231e-04, -5.99651504e-03,\n",
       "        -1.68182177e-03, -3.23342829e-04,  7.61585194e-04,  1.26883888e-03,\n",
       "         1.23053358e-03, -7.72523927e-04, -1.09876339e-04, -3.54614411e-03,\n",
       "         1.85337116e-03, -5.91860386e-03, -3.40892863e-03,  3.79710000e-05,\n",
       "        -1.98609591e-03,  3.90061783e-03, -9.59854151e-05, -8.59341957e-03,\n",
       "        -3.29026312e-04, -2.61610287e-04, -2.08417681e-04, -7.12290220e-03,\n",
       "        -6.49199681e-03, -1.66746113e-03, -3.88813531e-03,  1.57889258e-03,\n",
       "        -2.53444631e-03,  2.61585927e-04,  4.23000602e-04, -6.11757627e-03,\n",
       "        -2.54284660e-03, -2.83668836e-04, -5.58625674e-04, -7.06804264e-03,\n",
       "        -2.40345355e-04, -2.20180271e-04, -2.85514211e-03,  1.21603522e-03,\n",
       "         1.26666424e-03, -6.68876991e-03, -8.26426130e-03, -3.51805822e-04,\n",
       "         8.65117239e-04, -2.20575696e-03, -1.37116490e-02,  1.39172003e-03,\n",
       "         3.35313519e-03,  2.93415552e-03,  9.51026101e-04, -2.97024823e-03,\n",
       "        -2.11590552e-03,  6.97532669e-04, -8.33751354e-03,  1.62283739e-03,\n",
       "        -5.34312974e-04, -3.09675024e-03,  1.46241684e-03,  4.68595186e-03,\n",
       "        -1.70708739e-03,  2.59265723e-03, -3.17595177e-03, -7.06206262e-03,\n",
       "        -3.65322316e-03, -7.29843136e-03, -1.31508487e-03, -5.54698170e-04,\n",
       "         9.66348627e-04,  1.56829634e-03,  1.05584587e-03, -3.10507952e-03,\n",
       "         9.46747488e-04, -3.26291029e-03, -8.93357862e-03,  2.95647362e-04,\n",
       "        -7.10814353e-03,  3.64084123e-03, -1.18898193e-03, -1.55550835e-04,\n",
       "         5.37530519e-03, -3.61389806e-03, -8.46392848e-03,  1.51078438e-03,\n",
       "        -6.31926907e-03, -4.54118196e-03, -1.24868506e-03,  2.90768541e-04,\n",
       "         1.51855382e-03,  5.29446267e-03, -1.42958423e-03,  2.00631167e-03,\n",
       "        -5.07378113e-03, -6.00034138e-03, -6.00428460e-03, -4.57112957e-03,\n",
       "         1.04547056e-04, -1.49100053e-03,  3.78892990e-03, -6.05464308e-03,\n",
       "         1.88275590e-03,  2.14541121e-03,  6.99596887e-04, -7.38443853e-03,\n",
       "         1.28423411e-03, -4.43998398e-03, -2.62724189e-03,  4.09367494e-03,\n",
       "        -1.90195418e-03,  3.16669163e-03, -4.82522929e-03, -4.04313533e-03,\n",
       "        -1.11301211e-04,  6.23606393e-05,  3.42161930e-03,  2.50903680e-03,\n",
       "        -3.82472703e-04, -2.72216927e-03,  4.93676343e-04, -4.55687009e-03,\n",
       "        -6.83784811e-03, -7.71667855e-03, -1.71992939e-03,  3.22544621e-03,\n",
       "        -5.47193736e-03,  2.59642582e-03, -9.95992334e-04, -5.33427624e-03,\n",
       "        -7.55468663e-03, -8.83640908e-03, -3.24854045e-03, -5.70274983e-03,\n",
       "        -9.36079305e-03, -2.29004351e-03,  7.24355923e-03, -5.63218258e-03,\n",
       "        -6.00280566e-03, -5.99121815e-03,  1.38107850e-03,  1.63317972e-03,\n",
       "        -6.52005151e-03,  9.66547523e-04, -1.64369773e-03,  3.14823672e-04,\n",
       "        -7.29070511e-03, -5.55097964e-03, -7.84707081e-04,  5.73808327e-04,\n",
       "        -1.20525376e-03, -5.55658131e-04, -1.71066553e-03, -9.99733340e-03,\n",
       "        -3.81231401e-03, -8.29434767e-03, -2.32872949e-03, -2.08461960e-03,\n",
       "        -2.66200863e-03, -2.01683631e-03,  5.47075004e-04, -4.34499094e-03,\n",
       "         1.24352972e-03,  1.94673601e-03, -8.55924748e-03, -3.89779615e-03,\n",
       "        -7.26186158e-03, -8.80674273e-03, -1.07105414e-03, -1.31874986e-03,\n",
       "         4.98399022e-04,  5.68762305e-04, -4.99149365e-03,  3.20558366e-03,\n",
       "         1.87478203e-04,  2.84584385e-04, -3.03260610e-03,  3.64885107e-03,\n",
       "        -5.10885753e-03, -1.05506813e-04,  8.90117604e-03, -8.22320522e-04,\n",
       "         6.01590320e-04,  9.35379975e-03, -9.61586833e-04, -4.47814446e-03,\n",
       "        -3.82484728e-03,  2.22161005e-04,  4.71532221e-05, -1.78788730e-03,\n",
       "         1.48716359e-03,  2.40250234e-03,  4.09478508e-03, -9.34758782e-03,\n",
       "         6.25462097e-04,  7.34468165e-04, -7.20442133e-03,  1.14828021e-04,\n",
       "         1.62307860e-03, -1.69870642e-03, -8.03315081e-03,  2.02154717e-03,\n",
       "        -1.77594437e-03,  3.84213403e-03, -6.59872545e-03, -2.21029995e-03,\n",
       "        -5.98593988e-03,  2.42557912e-03, -1.72972656e-03,  4.91172215e-03,\n",
       "         6.34281721e-04,  3.36476858e-03, -5.26289362e-03, -7.72023434e-03,\n",
       "         1.92262453e-03,  1.54077553e-03, -1.67832500e-03, -5.61529910e-03,\n",
       "        -7.50676915e-03,  2.01629172e-03,  1.21206034e-03, -2.47671036e-04,\n",
       "         3.74912098e-03, -2.43384019e-03,  1.75960318e-04,  1.33385696e-03,\n",
       "        -3.97937652e-03,  1.89511757e-03,  2.69758981e-04,  4.17372026e-03,\n",
       "        -5.54691581e-03, -4.86502703e-03,  4.99404408e-03,  7.61792879e-04,\n",
       "        -1.60374644e-03, -9.69380978e-03,  1.97639177e-03,  8.44295602e-03,\n",
       "        -1.96345197e-03,  3.27871158e-03,  2.79334025e-03, -2.81271571e-03,\n",
       "         6.57690165e-04, -5.10685472e-03,  3.57473292e-03, -3.39887594e-03,\n",
       "        -8.26045289e-04, -1.85351761e-03,  5.00770472e-03,  1.41578214e-03,\n",
       "         5.01761970e-04, -6.02512294e-03, -3.80330556e-03,  9.42481123e-03,\n",
       "        -2.91535328e-03,  3.60520207e-03,  3.40041029e-03, -2.02336916e-04,\n",
       "        -7.70694483e-03, -6.33080350e-03,  5.76737104e-03,  2.78821005e-03,\n",
       "        -7.65509671e-03, -8.15301761e-03, -6.34354353e-03,  3.20985913e-03,\n",
       "        -2.65190238e-03, -7.09068449e-03, -3.92082613e-03, -5.42869384e-05,\n",
       "        -2.22588913e-03, -1.12007605e-03,  9.11598280e-03,  2.22145091e-03,\n",
       "        -7.92360958e-03, -2.02006334e-03,  9.01607424e-03, -5.62536006e-04,\n",
       "        -7.04376632e-03, -4.38935449e-03, -6.27773488e-03, -2.18269357e-04,\n",
       "         1.75186794e-03,  1.23525038e-03,  0.00000000e+00, -5.99780679e-03,\n",
       "         2.56480474e-04, -1.11430266e-03,  6.55253069e-04,  2.39073951e-03,\n",
       "        -5.97014278e-03, -5.76279638e-03, -8.93826305e-04, -5.98981883e-03,\n",
       "         7.42101402e-04,  6.88662520e-03,  2.08083831e-04, -1.01139620e-02,\n",
       "         3.98887694e-03,  3.35990917e-03,  7.15974299e-03, -4.04815190e-03,\n",
       "        -5.04980050e-03, -5.52295847e-03,  4.69365250e-03, -1.44680263e-03,\n",
       "        -6.49444107e-03, -6.76606502e-03,  1.85611116e-05,  4.36578318e-03,\n",
       "        -5.10250730e-03,  1.15110748e-03,  8.63243826e-03, -3.01833800e-03,\n",
       "        -2.18003499e-03,  2.35982472e-03, -4.47687600e-03, -4.38354770e-03],\n",
       "       dtype=float32)>,\n",
       " <tf.Variable 'dense_31/kernel:0' shape=(512, 10) dtype=float32, numpy=\n",
       " array([[ 0.07492288, -0.11475594,  0.07690629, ..., -0.04876013,\n",
       "          0.07097925,  0.0939546 ],\n",
       "        [ 0.06949538,  0.04727261, -0.10883714, ...,  0.04396488,\n",
       "          0.0078758 ,  0.11026663],\n",
       "        [-0.1050786 ,  0.03134857,  0.01990838, ...,  0.09195113,\n",
       "          0.04625453, -0.029421  ],\n",
       "        ...,\n",
       "        [-0.02174416,  0.02559675, -0.00593789, ...,  0.01919   ,\n",
       "          0.04633736, -0.11672032],\n",
       "        [-0.07670324,  0.00471815, -0.07119452, ...,  0.071823  ,\n",
       "          0.05834616,  0.03568487],\n",
       "        [ 0.06703912,  0.06328613,  0.02268014, ...,  0.09621943,\n",
       "         -0.05950505,  0.0397689 ]], dtype=float32)>,\n",
       " <tf.Variable 'dense_31/bias:0' shape=(10,) dtype=float32, numpy=\n",
       " array([-0.00080542, -0.00086267,  0.00236511, -0.00031071,  0.00239965,\n",
       "         0.00301484, -0.00080403, -0.00053903,  0.00256955,  0.00013896],\n",
       "       dtype=float32)>]"
      ]
     },
     "execution_count": 97,
     "metadata": {},
     "output_type": "execute_result"
    }
   ],
   "source": [
    "model.weights #kernel w, bias b"
   ]
  },
  {
   "cell_type": "code",
   "execution_count": 98,
   "metadata": {},
   "outputs": [
    {
     "data": {
      "text/plain": [
       "[<tensorflow.python.keras.layers.core.Dense at 0x7fbe8b96b690>,\n",
       " <tensorflow.python.keras.layers.core.Dense at 0x7fbe8b96ba10>,\n",
       " <tensorflow.python.keras.layers.core.Dense at 0x7fbe8b96be50>]"
      ]
     },
     "execution_count": 98,
     "metadata": {},
     "output_type": "execute_result"
    }
   ],
   "source": [
    "model.layers #list"
   ]
  },
  {
   "cell_type": "code",
   "execution_count": 100,
   "metadata": {},
   "outputs": [
    {
     "data": {
      "text/plain": [
       "(64,)"
      ]
     },
     "execution_count": 100,
     "metadata": {},
     "output_type": "execute_result"
    }
   ],
   "source": [
    "X_test[0].shape"
   ]
  },
  {
   "cell_type": "code",
   "execution_count": 105,
   "metadata": {},
   "outputs": [
    {
     "data": {
      "text/plain": [
       "(1347, 64)"
      ]
     },
     "execution_count": 105,
     "metadata": {},
     "output_type": "execute_result"
    }
   ],
   "source": [
    "X_train.shape"
   ]
  },
  {
   "cell_type": "code",
   "execution_count": 110,
   "metadata": {},
   "outputs": [
    {
     "data": {
      "text/plain": [
       "(1, 64)"
      ]
     },
     "execution_count": 110,
     "metadata": {},
     "output_type": "execute_result"
    }
   ],
   "source": [
    "X_test[0][tf.newaxis].shape"
   ]
  },
  {
   "cell_type": "code",
   "execution_count": 108,
   "metadata": {},
   "outputs": [
    {
     "data": {
      "text/plain": [
       "TensorShape([1, 64])"
      ]
     },
     "execution_count": 108,
     "metadata": {},
     "output_type": "execute_result"
    }
   ],
   "source": [
    "tf.expand_dims(X_test[0],axis=0).shape"
   ]
  },
  {
   "cell_type": "code",
   "execution_count": 112,
   "metadata": {},
   "outputs": [
    {
     "data": {
      "text/plain": [
       "array([[ 0.,  0.,  9., 15., 13.,  3.,  0.,  0.,  0.,  2., 14.,  2.,  6.,\n",
       "         5.,  0.,  0.,  0.,  4.,  9.,  0.,  0., 15.,  4.,  0.,  0.,  1.,\n",
       "        13.,  5.,  7., 16.,  6.,  0.,  0.,  0.,  2.,  7.,  7., 14.,  3.,\n",
       "         0.,  0.,  0.,  0.,  0.,  1., 14.,  1.,  0.,  0.,  0.,  3.,  1.,\n",
       "        10.,  9.,  0.,  0.,  0.,  0., 11., 15.,  9.,  1.,  0.,  0.]])"
      ]
     },
     "execution_count": 112,
     "metadata": {},
     "output_type": "execute_result"
    }
   ],
   "source": [
    "X_test[0].reshape(1,-1)"
   ]
  },
  {
   "cell_type": "code",
   "execution_count": 104,
   "metadata": {},
   "outputs": [
    {
     "data": {
      "text/plain": [
       "array([[2.0591682e-04, 4.2728905e-09, 1.6881270e-07, 2.3712648e-05,\n",
       "        1.4397812e-06, 1.1360009e-03, 1.8451265e-09, 2.2643226e-06,\n",
       "        2.2157279e-05, 9.9860841e-01]], dtype=float32)"
      ]
     },
     "execution_count": 104,
     "metadata": {},
     "output_type": "execute_result"
    }
   ],
   "source": [
    "model.predict(X_test[0][tf.newaxis])"
   ]
  },
  {
   "cell_type": "code",
   "execution_count": 103,
   "metadata": {},
   "outputs": [
    {
     "name": "stdout",
     "output_type": "stream",
     "text": [
      "Model: \"classification_model\"\n",
      "_________________________________________________________________\n",
      "Layer (type)                 Output Shape              Param #   \n",
      "=================================================================\n",
      "Start (Dense)                (None, 512)               33280     \n",
      "_________________________________________________________________\n",
      "dense_30 (Dense)             (None, 512)               262656    \n",
      "_________________________________________________________________\n",
      "dense_31 (Dense)             (None, 10)                5130      \n",
      "=================================================================\n",
      "Total params: 301,066\n",
      "Trainable params: 301,066\n",
      "Non-trainable params: 0\n",
      "_________________________________________________________________\n"
     ]
    }
   ],
   "source": [
    "model.summary()"
   ]
  },
  {
   "cell_type": "code",
   "execution_count": 113,
   "metadata": {},
   "outputs": [
    {
     "data": {
      "text/plain": [
       "tensorflow.python.keras.engine.sequential.Sequential"
      ]
     },
     "execution_count": 113,
     "metadata": {},
     "output_type": "execute_result"
    }
   ],
   "source": [
    "type(model)"
   ]
  },
  {
   "cell_type": "markdown",
   "metadata": {},
   "source": [
    "함수형 패러다임\n",
    "- 행렬 연산을 위해서 함수처럼 사용\n",
    "- __call__ 정의됨 \n",
    "\n",
    "이해용"
   ]
  },
  {
   "cell_type": "code",
   "execution_count": 114,
   "metadata": {},
   "outputs": [],
   "source": [
    "class X:\n",
    "    def __init__(self):\n",
    "        print('init')\n",
    "    def __call__(self):\n",
    "        print('call')        "
   ]
  },
  {
   "cell_type": "code",
   "execution_count": 115,
   "metadata": {},
   "outputs": [
    {
     "name": "stdout",
     "output_type": "stream",
     "text": [
      "init\n"
     ]
    }
   ],
   "source": [
    "x=X()"
   ]
  },
  {
   "cell_type": "code",
   "execution_count": 116,
   "metadata": {},
   "outputs": [
    {
     "name": "stdout",
     "output_type": "stream",
     "text": [
      "call\n"
     ]
    }
   ],
   "source": [
    "x()"
   ]
  },
  {
   "cell_type": "code",
   "execution_count": 118,
   "metadata": {},
   "outputs": [
    {
     "data": {
      "text/plain": [
       "<tensorflow.python.keras.layers.core.Dense at 0x7fbe8b96b690>"
      ]
     },
     "execution_count": 118,
     "metadata": {},
     "output_type": "execute_result"
    }
   ],
   "source": [
    "model.layers[0]"
   ]
  },
  {
   "cell_type": "code",
   "execution_count": 119,
   "metadata": {},
   "outputs": [],
   "source": [
    "model= tf.keras.models.Sequential([\n",
    "    tf.keras.layers.Dense(1,input_shape=(3,),use_bias=False)\n",
    "])"
   ]
  },
  {
   "cell_type": "code",
   "execution_count": 123,
   "metadata": {},
   "outputs": [],
   "source": [
    "import numpy as np\n",
    "x=np.array([[1,2,3]])"
   ]
  },
  {
   "cell_type": "code",
   "execution_count": 124,
   "metadata": {},
   "outputs": [
    {
     "data": {
      "text/plain": [
       "<tf.Tensor: shape=(1, 1), dtype=float32, numpy=array([[0.5597379]], dtype=float32)>"
      ]
     },
     "execution_count": 124,
     "metadata": {},
     "output_type": "execute_result"
    }
   ],
   "source": [
    "model(x) #결과 1개 0.5597379"
   ]
  },
  {
   "cell_type": "code",
   "execution_count": 125,
   "metadata": {},
   "outputs": [
    {
     "data": {
      "text/plain": [
       "[<tf.Variable 'dense_32/kernel:0' shape=(3, 1) dtype=float32, numpy=\n",
       " array([[ 1.0118102],\n",
       "        [ 0.9262997],\n",
       "        [-0.7682238]], dtype=float32)>,\n",
       " <tf.Variable 'dense_32/bias:0' shape=(1,) dtype=float32, numpy=array([0.], dtype=float32)>]"
      ]
     },
     "execution_count": 125,
     "metadata": {},
     "output_type": "execute_result"
    }
   ],
   "source": [
    "model.weights"
   ]
  },
  {
   "cell_type": "code",
   "execution_count": 127,
   "metadata": {},
   "outputs": [
    {
     "data": {
      "text/plain": [
       "array([[0.5597382]])"
      ]
     },
     "execution_count": 127,
     "metadata": {},
     "output_type": "execute_result"
    }
   ],
   "source": [
    "x @ np.array([[ 1.0118102],\n",
    "        [ 0.9262997],\n",
    "        [-0.7682238]])"
   ]
  },
  {
   "cell_type": "code",
   "execution_count": 131,
   "metadata": {},
   "outputs": [
    {
     "data": {
      "text/plain": [
       "array([[1., 1., 1., 1.],\n",
       "       [1., 1., 1., 1.],\n",
       "       [1., 1., 1., 1.]])"
      ]
     },
     "execution_count": 131,
     "metadata": {},
     "output_type": "execute_result"
    }
   ],
   "source": [
    "np.ones([3,4])"
   ]
  },
  {
   "cell_type": "code",
   "execution_count": 145,
   "metadata": {},
   "outputs": [],
   "source": [
    "model= tf.keras.models.Sequential([\n",
    "    tf.keras.layers.Dense(2,input_shape=(4,),\n",
    "                          kernel_initializer= 'ones',use_bias=True)\n",
    "])"
   ]
  },
  {
   "cell_type": "code",
   "execution_count": 146,
   "metadata": {},
   "outputs": [
    {
     "data": {
      "text/plain": [
       "<tf.Tensor: shape=(2, 2), dtype=float32, numpy=\n",
       "array([[10., 10.],\n",
       "       [10., 10.]], dtype=float32)>"
      ]
     },
     "execution_count": 146,
     "metadata": {},
     "output_type": "execute_result"
    }
   ],
   "source": [
    "x=np.array([[1,2,3,4],[1,2,3,4]])\n",
    "model(x)"
   ]
  },
  {
   "cell_type": "code",
   "execution_count": 147,
   "metadata": {},
   "outputs": [],
   "source": [
    "model= tf.keras.models.Sequential([\n",
    "    tf.keras.layers.Dense(2,input_shape=(4,),\n",
    "                          kernel_initializer= 'ones',use_bias=True,\n",
    "                         activation='relu')\n",
    "])"
   ]
  },
  {
   "cell_type": "code",
   "execution_count": 148,
   "metadata": {},
   "outputs": [
    {
     "data": {
      "text/plain": [
       "<tf.Tensor: shape=(2, 2), dtype=float32, numpy=\n",
       "array([[0., 0.],\n",
       "       [2., 2.]], dtype=float32)>"
      ]
     },
     "execution_count": 148,
     "metadata": {},
     "output_type": "execute_result"
    }
   ],
   "source": [
    "x=np.array([[1,-2,3,-4],[-1,2,-3,4]])\n",
    "model(x)"
   ]
  },
  {
   "cell_type": "code",
   "execution_count": 155,
   "metadata": {},
   "outputs": [
    {
     "data": {
      "text/plain": [
       "array([[-2., -2.],\n",
       "       [ 2.,  2.]])"
      ]
     },
     "execution_count": 155,
     "metadata": {},
     "output_type": "execute_result"
    }
   ],
   "source": [
    "x@np.ones((4,2)) #relu는 - 인경우 0 , 양수는 그값 그대로"
   ]
  },
  {
   "cell_type": "code",
   "execution_count": 157,
   "metadata": {},
   "outputs": [],
   "source": [
    "model= tf.keras.models.Sequential([\n",
    "    tf.keras.layers.Dense(2,input_shape=(4,),\n",
    "                          kernel_initializer= 'ones',use_bias=True),\n",
    "    tf.keras.layers.BatchNormalization(),\n",
    "    tf.keras.layers.Activation('relu')\n",
    "  \n",
    "])"
   ]
  },
  {
   "cell_type": "markdown",
   "metadata": {},
   "source": [
    "Sequential \n",
    "- 단반향\n",
    "- Model로 부터 상속받음\n",
    "- Input 써머리에 나오지 않음"
   ]
  },
  {
   "cell_type": "code",
   "execution_count": 170,
   "metadata": {},
   "outputs": [
    {
     "name": "stdout",
     "output_type": "stream",
     "text": [
      "Model: \"sequential_13\"\n",
      "_________________________________________________________________\n",
      "Layer (type)                 Output Shape              Param #   \n",
      "=================================================================\n",
      "dense_68 (Dense)             (None, 512)               33280     \n",
      "_________________________________________________________________\n",
      "dense_69 (Dense)             (None, 512)               262656    \n",
      "_________________________________________________________________\n",
      "dense_70 (Dense)             (None, 512)               262656    \n",
      "_________________________________________________________________\n",
      "dense_71 (Dense)             (None, 512)               262656    \n",
      "_________________________________________________________________\n",
      "dense_72 (Dense)             (None, 10)                5130      \n",
      "=================================================================\n",
      "Total params: 826,378\n",
      "Trainable params: 826,378\n",
      "Non-trainable params: 0\n",
      "_________________________________________________________________\n"
     ]
    }
   ],
   "source": [
    "model=tf.keras.models.Sequential([\n",
    "    tf.keras.layers.Input(shape=(64,)),\n",
    "    tf.keras.layers.Dense(512, activation='relu'),\n",
    "    tf.keras.layers.Dense(512, activation='relu'),\n",
    "    tf.keras.layers.Dense(512, activation='relu'),\n",
    "    tf.keras.layers.Dense(512, activation='relu'),    \n",
    "    tf.keras.layers.Dense(10, activation='softmax')\n",
    "\n",
    "    \n",
    "])\n",
    "model.summary()"
   ]
  },
  {
   "cell_type": "code",
   "execution_count": 159,
   "metadata": {},
   "outputs": [
    {
     "data": {
      "text/plain": [
       "True"
      ]
     },
     "execution_count": 159,
     "metadata": {},
     "output_type": "execute_result"
    }
   ],
   "source": [
    "issubclass(tf.keras.models.Sequential , tf.keras.models.Model)"
   ]
  },
  {
   "cell_type": "code",
   "execution_count": 160,
   "metadata": {},
   "outputs": [
    {
     "data": {
      "text/plain": [
       "(tensorflow.python.keras.engine.functional.Functional,)"
      ]
     },
     "execution_count": 160,
     "metadata": {},
     "output_type": "execute_result"
    }
   ],
   "source": [
    "tf.keras.models.Sequential.__bases__"
   ]
  },
  {
   "cell_type": "markdown",
   "metadata": {},
   "source": [
    "Model\n",
    "- 다중 inputs,outputs으로 복잡한 구조를 만들 수 있음\n",
    "- 함수형 패러다임 `__call__`\n",
    "\n",
    "- Input 레이어에 output shape [] list "
   ]
  },
  {
   "cell_type": "code",
   "execution_count": 163,
   "metadata": {},
   "outputs": [],
   "source": [
    "inputs=tf.keras.layers.Input(shape=(64,))\n",
    "x= tf.keras.layers.Dense(512,activation='relu')(inputs)\n",
    "x= tf.keras.layers.Dense(512,activation='relu')(x)\n",
    "x= tf.keras.layers.Dense(512,activation='relu')(x)\n",
    "x= tf.keras.layers.Dense(512,activation='relu')(x)\n",
    "outputs=tf.keras.layers.Dense(10)(x)\n",
    "\n",
    "model2=tf.keras.models.Model(inputs=inputs, outputs=outputs)\n"
   ]
  },
  {
   "cell_type": "code",
   "execution_count": 164,
   "metadata": {},
   "outputs": [
    {
     "name": "stdout",
     "output_type": "stream",
     "text": [
      "Model: \"functional_3\"\n",
      "_________________________________________________________________\n",
      "Layer (type)                 Output Shape              Param #   \n",
      "=================================================================\n",
      "input_2 (InputLayer)         [(None, 64)]              0         \n",
      "_________________________________________________________________\n",
      "dense_48 (Dense)             (None, 512)               33280     \n",
      "_________________________________________________________________\n",
      "dense_49 (Dense)             (None, 512)               262656    \n",
      "_________________________________________________________________\n",
      "dense_50 (Dense)             (None, 512)               262656    \n",
      "_________________________________________________________________\n",
      "dense_51 (Dense)             (None, 512)               262656    \n",
      "_________________________________________________________________\n",
      "dense_52 (Dense)             (None, 10)                5130      \n",
      "=================================================================\n",
      "Total params: 826,378\n",
      "Trainable params: 826,378\n",
      "Non-trainable params: 0\n",
      "_________________________________________________________________\n"
     ]
    }
   ],
   "source": [
    "model2.summary()"
   ]
  },
  {
   "cell_type": "markdown",
   "metadata": {},
   "source": [
    "dense 는 2개를 받지 못함"
   ]
  },
  {
   "cell_type": "code",
   "execution_count": 168,
   "metadata": {},
   "outputs": [],
   "source": [
    "inputs_1=tf.keras.layers.Input(shape=(64,))\n",
    "inputs_2=tf.keras.layers.Input(shape=(64,))\n",
    "\n",
    "x= tf.keras.layers.Concatenate()([inputs_1,inputs_2])\n",
    "x= tf.keras.layers.Dense(512,activation='relu')(x)\n",
    "x= tf.keras.layers.Dense(512,activation='relu')(x)\n",
    "x= tf.keras.layers.Dense(512,activation='relu')(x)\n",
    "x= tf.keras.layers.Dense(512,activation='relu')(x)\n",
    "outputs=tf.keras.layers.Dense(10)(x)\n"
   ]
  },
  {
   "cell_type": "markdown",
   "metadata": {},
   "source": [
    "연습\n",
    "- Sequential에서 3개\n",
    "\n",
    "- 참고 :https://www.tensorflow.org/tutorials/keras/regression"
   ]
  },
  {
   "cell_type": "code",
   "execution_count": null,
   "metadata": {},
   "outputs": [],
   "source": [
    "inputs=tf.keras.layers.Input(shape=(64,))\n",
    "x= tf.keras.layers.Dense(64,activation='relu')(inputs)\n",
    "x= tf.keras.layers.Dense(64,activation='relu')(x)\n",
    "outputs=tf.keras.layers.Dense(1)(x)"
   ]
  },
  {
   "cell_type": "code",
   "execution_count": null,
   "metadata": {},
   "outputs": [],
   "source": [
    "복잡한 모델은 Model로 시작"
   ]
  },
  {
   "cell_type": "code",
   "execution_count": null,
   "metadata": {},
   "outputs": [],
   "source": [
    "m=tf.keras.applications.mobilenet_v2\n",
    "from tensorflow.keras.utils import plot_model\n",
    "plot_model(m)"
   ]
  },
  {
   "cell_type": "code",
   "execution_count": null,
   "metadata": {},
   "outputs": [],
   "source": [
    "m.summary() #Connected to"
   ]
  },
  {
   "cell_type": "markdown",
   "metadata": {},
   "source": [
    "나중에는 모델을 서브클래싱 해야함"
   ]
  },
  {
   "cell_type": "code",
   "execution_count": null,
   "metadata": {},
   "outputs": [],
   "source": [
    "class MyModel(Model):\n",
    "  def __init__(self):\n",
    "    super(MyModel, self).__init__()\n",
    "    self.conv1 = Conv2D(32, 3, activation='relu')\n",
    "    self.flatten = Flatten()\n",
    "    self.d1 = Dense(128, activation='relu')\n",
    "    self.d2 = Dense(10, activation='softmax')\n",
    "\n",
    "  def call(self, x):\n",
    "    x = self.conv1(x)\n",
    "    x = self.flatten(x)\n",
    "    x = self.d1(x)\n",
    "    return self.d2(x)\n",
    "\n",
    "model = MyModel()"
   ]
  }
 ],
 "metadata": {
  "kernelspec": {
   "display_name": "Python 3",
   "language": "python",
   "name": "python3"
  },
  "language_info": {
   "codemirror_mode": {
    "name": "ipython",
    "version": 3
   },
   "file_extension": ".py",
   "mimetype": "text/x-python",
   "name": "python",
   "nbconvert_exporter": "python",
   "pygments_lexer": "ipython3",
   "version": "3.7.6"
  }
 },
 "nbformat": 4,
 "nbformat_minor": 4
}
